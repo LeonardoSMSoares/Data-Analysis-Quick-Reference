{
 "cells": [
  {
   "cell_type": "markdown",
   "id": "3070bf27-d8a8-4c33-b6f7-cd71953ea78b",
   "metadata": {},
   "source": [
    "# Chapter 4 - The Measure of All Things - Statistics"
   ]
  },
  {
   "cell_type": "code",
   "execution_count": 2,
   "id": "578c2e88-3027-4372-9acc-706ffd4e465a",
   "metadata": {},
   "outputs": [],
   "source": [
    "import numpy as np\n",
    "import pandas as pd\n",
    "\n",
    "import seaborn as sns\n",
    "import matplotlib.pyplot as plt\n",
    "%matplotlib inline"
   ]
  },
  {
   "cell_type": "markdown",
   "id": "2d7e9a30-1d65-40ea-8c7e-989199c7c7a7",
   "metadata": {},
   "source": [
    "## Basic Statistics"
   ]
  },
  {
   "cell_type": "markdown",
   "id": "d86498c4-1ee7-4bf4-adda-7394a8a4c076",
   "metadata": {},
   "source": [
    "### Mode"
   ]
  },
  {
   "cell_type": "code",
   "execution_count": 5,
   "id": "ab5cca3a-1562-44f8-90ac-3b615f9b3f50",
   "metadata": {},
   "outputs": [
    {
     "data": {
      "text/plain": [
       "ModeResult(mode=array([ 8. , 10. ,  3.5]), count=array([2., 2., 1.]))"
      ]
     },
     "execution_count": 5,
     "metadata": {},
     "output_type": "execute_result"
    }
   ],
   "source": [
    "from scipy import stats\n",
    "\n",
    "marks = np.array([[8, 9 ,7],\n",
    "                  [4.5, 6, 3.5],\n",
    "                  [8.5, 10, 9],\n",
    "                  [8, 6.5, 9.5],\n",
    "                  [9, 10, 7.5]])\n",
    "\n",
    "stats.mode(marks)"
   ]
  },
  {
   "cell_type": "code",
   "execution_count": 6,
   "id": "7d2df783-70ff-464a-9abd-1521e62656d5",
   "metadata": {},
   "outputs": [
    {
     "data": {
      "text/html": [
       "<div>\n",
       "<style scoped>\n",
       "    .dataframe tbody tr th:only-of-type {\n",
       "        vertical-align: middle;\n",
       "    }\n",
       "\n",
       "    .dataframe tbody tr th {\n",
       "        vertical-align: top;\n",
       "    }\n",
       "\n",
       "    .dataframe thead th {\n",
       "        text-align: right;\n",
       "    }\n",
       "</style>\n",
       "<table border=\"1\" class=\"dataframe\">\n",
       "  <thead>\n",
       "    <tr style=\"text-align: right;\">\n",
       "      <th></th>\n",
       "      <th>model</th>\n",
       "      <th>mpg</th>\n",
       "      <th>cyl</th>\n",
       "      <th>disp</th>\n",
       "      <th>hp</th>\n",
       "      <th>drat</th>\n",
       "      <th>wt</th>\n",
       "      <th>qsec</th>\n",
       "      <th>vs</th>\n",
       "      <th>am</th>\n",
       "      <th>gear</th>\n",
       "      <th>carb</th>\n",
       "    </tr>\n",
       "  </thead>\n",
       "  <tbody>\n",
       "    <tr>\n",
       "      <th>0</th>\n",
       "      <td>Mazda RX4</td>\n",
       "      <td>21.0</td>\n",
       "      <td>6</td>\n",
       "      <td>160.0</td>\n",
       "      <td>110</td>\n",
       "      <td>3.90</td>\n",
       "      <td>2.620</td>\n",
       "      <td>16.46</td>\n",
       "      <td>0</td>\n",
       "      <td>1</td>\n",
       "      <td>4</td>\n",
       "      <td>4</td>\n",
       "    </tr>\n",
       "    <tr>\n",
       "      <th>1</th>\n",
       "      <td>Mazda RX4 Wag</td>\n",
       "      <td>21.0</td>\n",
       "      <td>6</td>\n",
       "      <td>160.0</td>\n",
       "      <td>110</td>\n",
       "      <td>3.90</td>\n",
       "      <td>2.875</td>\n",
       "      <td>17.02</td>\n",
       "      <td>0</td>\n",
       "      <td>1</td>\n",
       "      <td>4</td>\n",
       "      <td>4</td>\n",
       "    </tr>\n",
       "    <tr>\n",
       "      <th>2</th>\n",
       "      <td>Datsun 710</td>\n",
       "      <td>22.8</td>\n",
       "      <td>4</td>\n",
       "      <td>108.0</td>\n",
       "      <td>93</td>\n",
       "      <td>3.85</td>\n",
       "      <td>2.320</td>\n",
       "      <td>18.61</td>\n",
       "      <td>1</td>\n",
       "      <td>1</td>\n",
       "      <td>4</td>\n",
       "      <td>1</td>\n",
       "    </tr>\n",
       "    <tr>\n",
       "      <th>3</th>\n",
       "      <td>Hornet 4 Drive</td>\n",
       "      <td>21.4</td>\n",
       "      <td>6</td>\n",
       "      <td>258.0</td>\n",
       "      <td>110</td>\n",
       "      <td>3.08</td>\n",
       "      <td>3.215</td>\n",
       "      <td>19.44</td>\n",
       "      <td>1</td>\n",
       "      <td>0</td>\n",
       "      <td>3</td>\n",
       "      <td>1</td>\n",
       "    </tr>\n",
       "    <tr>\n",
       "      <th>4</th>\n",
       "      <td>Hornet Sportabout</td>\n",
       "      <td>18.7</td>\n",
       "      <td>8</td>\n",
       "      <td>360.0</td>\n",
       "      <td>175</td>\n",
       "      <td>3.15</td>\n",
       "      <td>3.440</td>\n",
       "      <td>17.02</td>\n",
       "      <td>0</td>\n",
       "      <td>0</td>\n",
       "      <td>3</td>\n",
       "      <td>2</td>\n",
       "    </tr>\n",
       "  </tbody>\n",
       "</table>\n",
       "</div>"
      ],
      "text/plain": [
       "               model   mpg  cyl   disp   hp  drat     wt   qsec  vs  am  gear  \\\n",
       "0          Mazda RX4  21.0    6  160.0  110  3.90  2.620  16.46   0   1     4   \n",
       "1      Mazda RX4 Wag  21.0    6  160.0  110  3.90  2.875  17.02   0   1     4   \n",
       "2         Datsun 710  22.8    4  108.0   93  3.85  2.320  18.61   1   1     4   \n",
       "3     Hornet 4 Drive  21.4    6  258.0  110  3.08  3.215  19.44   1   0     3   \n",
       "4  Hornet Sportabout  18.7    8  360.0  175  3.15  3.440  17.02   0   0     3   \n",
       "\n",
       "   carb  \n",
       "0     4  \n",
       "1     4  \n",
       "2     1  \n",
       "3     1  \n",
       "4     2  "
      ]
     },
     "execution_count": 6,
     "metadata": {},
     "output_type": "execute_result"
    }
   ],
   "source": [
    "url1 = ('https://gist.githubusercontent.com/seankross/a412dfbd88b3db70b74b/raw/5f23f993cd87c283ce766e7ac6b329ee7cc2e1d1/mtcars.csv')\n",
    "\n",
    "cars = pd.read_csv(url1)\n",
    "\n",
    "cars.head()"
   ]
  },
  {
   "cell_type": "code",
   "execution_count": 7,
   "id": "1ea4c721-1ff4-47ae-b9f7-308c94464efe",
   "metadata": {},
   "outputs": [
    {
     "data": {
      "text/plain": [
       "0    10.4\n",
       "1    15.2\n",
       "2    19.2\n",
       "3    21.0\n",
       "4    21.4\n",
       "5    22.8\n",
       "6    30.4\n",
       "Name: mpg, dtype: float64"
      ]
     },
     "execution_count": 7,
     "metadata": {},
     "output_type": "execute_result"
    }
   ],
   "source": [
    " # Select all rows and the 'mpg' column, then find the modes\n",
    "cars.loc[:, 'mpg'].mode()"
   ]
  },
  {
   "cell_type": "markdown",
   "id": "0e986b4a-0394-4901-ba3a-c7e49fccc176",
   "metadata": {},
   "source": [
    "We may want to see the mode of fuel consumption for each of the cars with automatic (0) and manual (1) transmissions."
   ]
  },
  {
   "cell_type": "code",
   "execution_count": 9,
   "id": "e304b429-1c17-4bf7-a6d9-3c2655cbe81f",
   "metadata": {},
   "outputs": [
    {
     "data": {
      "text/plain": [
       "am   \n",
       "0   0    10.4\n",
       "    1    15.2\n",
       "    2    19.2\n",
       "1   0    21.0\n",
       "    1    30.4\n",
       "Name: mpg, dtype: float64"
      ]
     },
     "execution_count": 9,
     "metadata": {},
     "output_type": "execute_result"
    }
   ],
   "source": [
    "# Group the 'cars' DataFrame by the 'am' column (automatic/manual transmission)\n",
    "ct = cars.groupby(['am'])            \n",
    "\n",
    "# Apply the mode function to the 'mpg' column for each group\n",
    "ct['mpg'].apply(lambda x: x.mode())  "
   ]
  },
  {
   "cell_type": "markdown",
   "id": "b4ff8e7f-f9cd-4075-8aef-7f50ea54a37c",
   "metadata": {},
   "source": [
    "### Median"
   ]
  },
  {
   "cell_type": "code",
   "execution_count": 11,
   "id": "d6dad196-0e1d-4f56-bbd9-e9d8b05f917a",
   "metadata": {},
   "outputs": [
    {
     "data": {
      "text/plain": [
       "19.2"
      ]
     },
     "execution_count": 11,
     "metadata": {},
     "output_type": "execute_result"
    }
   ],
   "source": [
    "# Select all rows and the 'mpg' column, then calculate the median of its values\n",
    "cars.loc[:, 'mpg'].median() "
   ]
  },
  {
   "cell_type": "code",
   "execution_count": 12,
   "id": "b69d5514-ffaf-416c-9881-c4ab13bdc832",
   "metadata": {},
   "outputs": [
    {
     "data": {
      "text/plain": [
       "am\n",
       "0    17.3\n",
       "1    22.8\n",
       "Name: mpg, dtype: float64"
      ]
     },
     "execution_count": 12,
     "metadata": {},
     "output_type": "execute_result"
    }
   ],
   "source": [
    "# Calculate the median of the 'mpg' column for each group in the grouped by transmission\n",
    "ct['mpg'].median()  "
   ]
  },
  {
   "cell_type": "markdown",
   "id": "7820311e-956f-4668-b6e3-4a1fe51d8881",
   "metadata": {},
   "source": [
    "### Mean"
   ]
  },
  {
   "cell_type": "code",
   "execution_count": 14,
   "id": "8c53d599-a146-4aa1-bb4b-5952df7dcb02",
   "metadata": {},
   "outputs": [
    {
     "name": "stdout",
     "output_type": "stream",
     "text": [
      "MPG average:  20.09\n"
     ]
    }
   ],
   "source": [
    "# Print the string 'MPG average:' followed by the mean value of the 'mpg' variable\n",
    "print('MPG average: ', cars.mpg.mean().round(2))  "
   ]
  },
  {
   "cell_type": "code",
   "execution_count": 15,
   "id": "a7d24895-5f9c-45ee-97dd-4d0943e58aff",
   "metadata": {},
   "outputs": [
    {
     "data": {
      "text/plain": [
       "am\n",
       "0    17.147368\n",
       "1    24.392308\n",
       "Name: mpg, dtype: float64"
      ]
     },
     "execution_count": 15,
     "metadata": {},
     "output_type": "execute_result"
    }
   ],
   "source": [
    "# Calculate the mean of the 'mpg' column for each group in the grouped by transmission\n",
    "ct['mpg'].mean()"
   ]
  },
  {
   "cell_type": "markdown",
   "id": "3cfd2f6f-f950-4461-a68f-9fcb91106d09",
   "metadata": {},
   "source": [
    "### Geometric Mean"
   ]
  },
  {
   "cell_type": "code",
   "execution_count": 17,
   "id": "d096ffe3-06e8-4679-90d3-248196f98fbd",
   "metadata": {},
   "outputs": [],
   "source": [
    "# Define a function `g_mean` to calculate the geometric mean of input `x`\n",
    "def g_mean(x):                          \n",
    "    avglnx = np.log(x)                  # Compute the natural logarithm of each element in `x`\n",
    "    return np.exp(avglnx.mean())        # Return the exponential of the mean of the logged values, which is the geometric mean"
   ]
  },
  {
   "cell_type": "code",
   "execution_count": 18,
   "id": "a758eeea-9770-4b6d-8770-7634d5034886",
   "metadata": {},
   "outputs": [
    {
     "data": {
      "text/plain": [
       "37.090904350447026"
      ]
     },
     "execution_count": 18,
     "metadata": {},
     "output_type": "execute_result"
    }
   ],
   "source": [
    "bsg_ages = [45, 30, 50, 26, 40]  # Data: The Battlestar Galactica officers ages\n",
    "\n",
    "g_mean(bsg_ages)                 # Geometric mean from Data"
   ]
  },
  {
   "cell_type": "code",
   "execution_count": 19,
   "id": "3e002747-6e30-460f-ae73-646ff848d318",
   "metadata": {},
   "outputs": [
    {
     "data": {
      "text/plain": [
       "37.090904350447026"
      ]
     },
     "execution_count": 19,
     "metadata": {},
     "output_type": "execute_result"
    }
   ],
   "source": [
    "from scipy.stats import gmean\n",
    "\n",
    "gmean(bsg_ages)                  # Geometric mean using scipy library"
   ]
  },
  {
   "cell_type": "code",
   "execution_count": 20,
   "id": "48f0709c-cdbc-4f72-a057-6196031afabb",
   "metadata": {},
   "outputs": [
    {
     "data": {
      "text/plain": [
       "19.25006404155361"
      ]
     },
     "execution_count": 20,
     "metadata": {},
     "output_type": "execute_result"
    }
   ],
   "source": [
    "# MPG geometric mean\n",
    "gmean(cars.mpg)"
   ]
  },
  {
   "cell_type": "code",
   "execution_count": 21,
   "id": "87333d26-9f74-4a52-b103-58ff89af4a24",
   "metadata": {},
   "outputs": [
    {
     "data": {
      "text/plain": [
       "19.25006404155361"
      ]
     },
     "execution_count": 21,
     "metadata": {},
     "output_type": "execute_result"
    }
   ],
   "source": [
    "# Another way\n",
    "gmean(cars['mpg'])"
   ]
  },
  {
   "cell_type": "code",
   "execution_count": 22,
   "id": "3b0f8267-f024-4632-9483-7b22b8ad2055",
   "metadata": {},
   "outputs": [
    {
     "data": {
      "text/plain": [
       "am\n",
       "0    16.721440\n",
       "1    23.649266\n",
       "Name: mpg, dtype: float64"
      ]
     },
     "execution_count": 22,
     "metadata": {},
     "output_type": "execute_result"
    }
   ],
   "source": [
    "# Calculate the Geometric Mean of the 'mpg' column for each group in the grouped by transmission\n",
    "ct['mpg'].apply(gmean)"
   ]
  },
  {
   "cell_type": "markdown",
   "id": "62af4432-e219-4a64-8b31-99fc1d07ae7d",
   "metadata": {},
   "source": [
    "### Harmonic Mean"
   ]
  },
  {
   "cell_type": "code",
   "execution_count": 24,
   "id": "5e9fff1d-1bfd-4878-91d6-60b86fb8fbbc",
   "metadata": {},
   "outputs": [],
   "source": [
    "# Define a function `h_mean` to calculate the harmonic mean of input `x`\n",
    "def h_mean(x):                \n",
    "    sum = 0                   # Initialize the sum to 0\n",
    "    for val in x:             # Iterate through each value in `x`\n",
    "        sum += 1 / val        # Add the reciprocal of the current value to `sum`\n",
    "    return len(x) / sum       # Return the length of `x` divided by the sum of reciprocals, which is the harmonic mean"
   ]
  },
  {
   "cell_type": "code",
   "execution_count": 25,
   "id": "476b51b9-a45f-492e-81a3-65018275e077",
   "metadata": {},
   "outputs": [
    {
     "data": {
      "text/plain": [
       "35.96679987703658"
      ]
     },
     "execution_count": 25,
     "metadata": {},
     "output_type": "execute_result"
    }
   ],
   "source": [
    "bsg_ages = [45, 30, 50, 26, 40]  # Data: The Battlestar Galactica officers ages\n",
    "\n",
    "h_mean(bsg_ages)                 # Data Harmonic Mean"
   ]
  },
  {
   "cell_type": "markdown",
   "id": "4524eaac-79c6-4b03-9245-2936489784cc",
   "metadata": {},
   "source": [
    "### Range"
   ]
  },
  {
   "cell_type": "code",
   "execution_count": 27,
   "id": "a45e89cd-360b-46dd-aaa7-d23b9bbc3475",
   "metadata": {},
   "outputs": [
    {
     "data": {
      "text/plain": [
       "(33.9, 10.4)"
      ]
     },
     "execution_count": 27,
     "metadata": {},
     "output_type": "execute_result"
    }
   ],
   "source": [
    "cars.mpg.max(), cars.mpg.min()"
   ]
  },
  {
   "cell_type": "code",
   "execution_count": 28,
   "id": "ab6e679c-9503-457e-9e01-462463da6a5f",
   "metadata": {},
   "outputs": [
    {
     "name": "stdout",
     "output_type": "stream",
     "text": [
      "23.5\n"
     ]
    }
   ],
   "source": [
    "mpg_range = cars.mpg.max() - cars.mpg.min()\n",
    "\n",
    "print(mpg_range)"
   ]
  },
  {
   "cell_type": "code",
   "execution_count": 29,
   "id": "bcf66e2c-635d-4407-bccb-d87f53dd0bfe",
   "metadata": {},
   "outputs": [
    {
     "data": {
      "text/plain": [
       "23.5"
      ]
     },
     "execution_count": 29,
     "metadata": {},
     "output_type": "execute_result"
    }
   ],
   "source": [
    "# Range by Numpy library\n",
    "np.ptp(cars.mpg)"
   ]
  },
  {
   "cell_type": "code",
   "execution_count": 30,
   "id": "e4563bf5-0aff-43c8-90f8-3c0fe273db8a",
   "metadata": {},
   "outputs": [
    {
     "data": {
      "text/plain": [
       "am\n",
       "0    14.0\n",
       "1    18.9\n",
       "Name: mpg, dtype: float64"
      ]
     },
     "execution_count": 30,
     "metadata": {},
     "output_type": "execute_result"
    }
   ],
   "source": [
    "# Range grouped by transmission type\n",
    "ct['mpg'].apply(np.ptp)"
   ]
  },
  {
   "cell_type": "markdown",
   "id": "87c82ce8-f9ce-4a74-9521-e1024c3095ef",
   "metadata": {},
   "source": [
    "### Quantile"
   ]
  },
  {
   "cell_type": "code",
   "execution_count": 32,
   "id": "4b708176-ba3c-4274-9ab1-a483f6009365",
   "metadata": {},
   "outputs": [
    {
     "name": "stdout",
     "output_type": "stream",
     "text": [
      "MPG Q1:  15.425\n",
      "MPG Q2:  19.2\n",
      "MPG Q3:  22.8\n"
     ]
    }
   ],
   "source": [
    "mpg = cars.loc[:, 'mpg']                 # Select the 'mpg' column from the DataFrame `cars`\n",
    "\n",
    "print('MPG Q1: ', mpg.quantile(0.25))    # Print the 25th percentile (Q1) of the 'mpg' column\n",
    "print('MPG Q2: ', mpg.quantile(0.50))    # Print the 50th percentile (Q2/median) of the 'mpg' column\n",
    "print('MPG Q3: ', mpg.quantile(0.75))    # Print the 75th percentile (Q3) of the 'mpg' column"
   ]
  },
  {
   "cell_type": "code",
   "execution_count": 33,
   "id": "36e14dfd-986f-4419-b555-d5f4c0d4cb1c",
   "metadata": {},
   "outputs": [
    {
     "name": "stdout",
     "output_type": "stream",
     "text": [
      "0.1    14.34\n",
      "1.0    33.90\n",
      "Name: mpg, dtype: float64\n"
     ]
    }
   ],
   "source": [
    "# Print the quantiles of the 'mpg' column for the 10th percentile (0.1) and the maximum value (1)\n",
    "print(mpg.quantile([0.1, 1]))"
   ]
  },
  {
   "cell_type": "code",
   "execution_count": 34,
   "id": "0c39df6e-599a-4a4c-b663-796fb890ed98",
   "metadata": {},
   "outputs": [
    {
     "data": {
      "text/plain": [
       "count    32.000000\n",
       "mean     20.090625\n",
       "std       6.026948\n",
       "min      10.400000\n",
       "25%      15.425000\n",
       "50%      19.200000\n",
       "75%      22.800000\n",
       "max      33.900000\n",
       "Name: mpg, dtype: float64"
      ]
     },
     "execution_count": 34,
     "metadata": {},
     "output_type": "execute_result"
    }
   ],
   "source": [
    "# Descriptive Statistics\n",
    "mpg.describe()"
   ]
  },
  {
   "cell_type": "markdown",
   "id": "1555e9c6-8883-4cea-ba7a-867d0627d1ee",
   "metadata": {},
   "source": [
    "### Mean Absolute Deviation"
   ]
  },
  {
   "cell_type": "code",
   "execution_count": 36,
   "id": "fc747202-96a5-4f3d-b6a6-c0ea03daa52b",
   "metadata": {},
   "outputs": [],
   "source": [
    "# Define a function `md` to calculate the mean absolute deviation of input `x`\n",
    "def md(x, axis=None):                   \n",
    "    avg = np.mean(x, axis)              # Compute the mean of `x` along the specified axis\n",
    "    dev = np.absolute(x - avg)          # Calculate the absolute deviation of each element from the mean\n",
    "    return np.mean(dev, axis)           # Return the mean of the absolute deviations along the specified axis"
   ]
  },
  {
   "cell_type": "code",
   "execution_count": 37,
   "id": "a3fbb80e-7e8d-4387-9c47-081546806958",
   "metadata": {},
   "outputs": [
    {
     "data": {
      "text/plain": [
       "4.714453125"
      ]
     },
     "execution_count": 37,
     "metadata": {},
     "output_type": "execute_result"
    }
   ],
   "source": [
    "# Apply 'md' in 'mpg'\n",
    "md(mpg)"
   ]
  },
  {
   "cell_type": "code",
   "execution_count": 38,
   "id": "46f724db-3599-45aa-9480-b4bdb43d11a5",
   "metadata": {},
   "outputs": [
    {
     "data": {
      "text/plain": [
       "am\n",
       "0    3.044875\n",
       "1    5.237870\n",
       "Name: mpg, dtype: float64"
      ]
     },
     "execution_count": 38,
     "metadata": {},
     "output_type": "execute_result"
    }
   ],
   "source": [
    "# Mean absolute deviation applied in 'mpg' grouped by transmission type\n",
    "ct['mpg'].apply(md)"
   ]
  },
  {
   "cell_type": "markdown",
   "id": "68ea04d0-782c-4244-bf0d-3315abacc4c1",
   "metadata": {},
   "source": [
    "### Variance & Standard Deviation"
   ]
  },
  {
   "cell_type": "code",
   "execution_count": 40,
   "id": "feb6b530-9f38-4579-b4b5-a1722a791e17",
   "metadata": {},
   "outputs": [
    {
     "data": {
      "text/plain": [
       "36.32410282258065"
      ]
     },
     "execution_count": 40,
     "metadata": {},
     "output_type": "execute_result"
    }
   ],
   "source": [
    "mpg.var()           # Sample Variance, ddof=1, default"
   ]
  },
  {
   "cell_type": "code",
   "execution_count": 41,
   "id": "70bc4489-b1f6-4f01-a959-c467b5b040af",
   "metadata": {},
   "outputs": [
    {
     "data": {
      "text/plain": [
       "35.188974609375"
      ]
     },
     "execution_count": 41,
     "metadata": {},
     "output_type": "execute_result"
    }
   ],
   "source": [
    "mpg.var(ddof=0)     # Population Variance"
   ]
  },
  {
   "cell_type": "code",
   "execution_count": 42,
   "id": "19dfd9cf-2e12-4a6a-912b-56b86855e554",
   "metadata": {},
   "outputs": [
    {
     "data": {
      "text/plain": [
       "6.026948052089105"
      ]
     },
     "execution_count": 42,
     "metadata": {},
     "output_type": "execute_result"
    }
   ],
   "source": [
    "mpg.std()           # Sample Standard Deviation, ddof=1, default"
   ]
  },
  {
   "cell_type": "code",
   "execution_count": 43,
   "id": "4143480f-4580-44e1-b866-3bb8d13e72a1",
   "metadata": {},
   "outputs": [
    {
     "data": {
      "text/plain": [
       "5.932029552301219"
      ]
     },
     "execution_count": 43,
     "metadata": {},
     "output_type": "execute_result"
    }
   ],
   "source": [
    "mpg.std(ddof=0)     # Population Standard Deviation"
   ]
  },
  {
   "cell_type": "code",
   "execution_count": 44,
   "id": "088dbb1f-1149-426c-8fca-20f2bd1d8527",
   "metadata": {},
   "outputs": [
    {
     "data": {
      "text/plain": [
       "am\n",
       "0    14.699298\n",
       "1    38.025769\n",
       "Name: mpg, dtype: float64"
      ]
     },
     "execution_count": 44,
     "metadata": {},
     "output_type": "execute_result"
    }
   ],
   "source": [
    "# Calculate the variance of the 'mpg' column for each group in the grouped by transmission\n",
    "ct['mpg'].var() "
   ]
  },
  {
   "cell_type": "code",
   "execution_count": 45,
   "id": "7a4718c4-3f40-48fe-9ff5-ea6c6a0032b5",
   "metadata": {},
   "outputs": [
    {
     "data": {
      "text/plain": [
       "am\n",
       "0    3.833966\n",
       "1    6.166504\n",
       "Name: mpg, dtype: float64"
      ]
     },
     "execution_count": 45,
     "metadata": {},
     "output_type": "execute_result"
    }
   ],
   "source": [
    "# Calculate the standard deviation of the 'mpg' column for each group in the grouped by transmission\n",
    "ct['mpg'].std()"
   ]
  }
 ],
 "metadata": {
  "kernelspec": {
   "display_name": "Python 3 (ipykernel)",
   "language": "python",
   "name": "python3"
  },
  "language_info": {
   "codemirror_mode": {
    "name": "ipython",
    "version": 3
   },
   "file_extension": ".py",
   "mimetype": "text/x-python",
   "name": "python",
   "nbconvert_exporter": "python",
   "pygments_lexer": "ipython3",
   "version": "3.11.7"
  }
 },
 "nbformat": 4,
 "nbformat_minor": 5
}
