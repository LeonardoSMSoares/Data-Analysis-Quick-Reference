{
 "cells": [
  {
   "cell_type": "markdown",
   "id": "4e4c9e38-4a85-4fe5-90b4-f4da47d45be5",
   "metadata": {},
   "source": [
    "# Chapter 6 (continuation) - Linear Regression and Hypothesis"
   ]
  },
  {
   "cell_type": "code",
   "execution_count": 2,
   "id": "da7ac92b-87d1-4129-99d5-681872f79f91",
   "metadata": {},
   "outputs": [],
   "source": [
    "import numpy as np\n",
    "import pandas as pd\n",
    "\n",
    "import seaborn as sns\n",
    "import matplotlib.pyplot as plt\n",
    "%matplotlib inline\n",
    "\n",
    "from math import sqrt\n",
    "from scipy import stats\n",
    "from scipy.stats import norm\n",
    "\n",
    "import warnings\n",
    "warnings.filterwarnings(\"ignore\")"
   ]
  },
  {
   "cell_type": "markdown",
   "id": "c78c4824-eea3-4d11-aa2b-02d51c25d44c",
   "metadata": {},
   "source": [
    "#### Data"
   ]
  },
  {
   "cell_type": "code",
   "execution_count": 4,
   "id": "cb0e66de-5f28-465c-b30b-6c69121c739a",
   "metadata": {},
   "outputs": [
    {
     "data": {
      "text/html": [
       "<div>\n",
       "<style scoped>\n",
       "    .dataframe tbody tr th:only-of-type {\n",
       "        vertical-align: middle;\n",
       "    }\n",
       "\n",
       "    .dataframe tbody tr th {\n",
       "        vertical-align: top;\n",
       "    }\n",
       "\n",
       "    .dataframe thead th {\n",
       "        text-align: right;\n",
       "    }\n",
       "</style>\n",
       "<table border=\"1\" class=\"dataframe\">\n",
       "  <thead>\n",
       "    <tr style=\"text-align: right;\">\n",
       "      <th></th>\n",
       "      <th>City</th>\n",
       "      <th>Country</th>\n",
       "      <th>Population</th>\n",
       "      <th>Inland area in km2</th>\n",
       "      <th>Density in people per hectare</th>\n",
       "      <th>Dwellings</th>\n",
       "      <th>Density in dwellings per hectare</th>\n",
       "      <th>People per dwelling</th>\n",
       "      <th>Approx city radius km</th>\n",
       "      <th>Main topographical constraint</th>\n",
       "      <th>Constraint</th>\n",
       "    </tr>\n",
       "  </thead>\n",
       "  <tbody>\n",
       "    <tr>\n",
       "      <th>0</th>\n",
       "      <td>NaN</td>\n",
       "      <td>NaN</td>\n",
       "      <td>NaN</td>\n",
       "      <td>NaN</td>\n",
       "      <td>NaN</td>\n",
       "      <td>NaN</td>\n",
       "      <td>NaN</td>\n",
       "      <td>NaN</td>\n",
       "      <td>NaN</td>\n",
       "      <td>NaN</td>\n",
       "      <td>NaN</td>\n",
       "    </tr>\n",
       "    <tr>\n",
       "      <th>1</th>\n",
       "      <td>Greater London</td>\n",
       "      <td>England</td>\n",
       "      <td>8,663,300</td>\n",
       "      <td>1,572</td>\n",
       "      <td>55.0</td>\n",
       "      <td>3,454,490</td>\n",
       "      <td>22.0</td>\n",
       "      <td>2.5</td>\n",
       "      <td>23.0</td>\n",
       "      <td>Rivers</td>\n",
       "      <td>4%</td>\n",
       "    </tr>\n",
       "    <tr>\n",
       "      <th>2</th>\n",
       "      <td>Inner London</td>\n",
       "      <td>England</td>\n",
       "      <td>3,439,700</td>\n",
       "      <td>319</td>\n",
       "      <td>108.0</td>\n",
       "      <td>1,460,840</td>\n",
       "      <td>46.0</td>\n",
       "      <td>2.4</td>\n",
       "      <td>10.0</td>\n",
       "      <td>Rivers</td>\n",
       "      <td>5%</td>\n",
       "    </tr>\n",
       "    <tr>\n",
       "      <th>3</th>\n",
       "      <td>Outer London</td>\n",
       "      <td>England</td>\n",
       "      <td>5,223,500</td>\n",
       "      <td>1,254</td>\n",
       "      <td>42.0</td>\n",
       "      <td>1,993,660</td>\n",
       "      <td>16.0</td>\n",
       "      <td>2.6</td>\n",
       "      <td>NaN</td>\n",
       "      <td>NaN</td>\n",
       "      <td>NaN</td>\n",
       "    </tr>\n",
       "    <tr>\n",
       "      <th>4</th>\n",
       "      <td>Paris</td>\n",
       "      <td>France</td>\n",
       "      <td>2,229,621</td>\n",
       "      <td>105</td>\n",
       "      <td>212.0</td>\n",
       "      <td>1,336,209</td>\n",
       "      <td>127.0</td>\n",
       "      <td>1.7</td>\n",
       "      <td>8.0</td>\n",
       "      <td>Rivers</td>\n",
       "      <td>2%</td>\n",
       "    </tr>\n",
       "  </tbody>\n",
       "</table>\n",
       "</div>"
      ],
      "text/plain": [
       "              City   Country Population Inland area in km2  \\\n",
       "0              NaN       NaN        NaN                NaN   \n",
       "1  Greater London   England   8,663,300              1,572   \n",
       "2    Inner London   England   3,439,700                319   \n",
       "3    Outer London   England   5,223,500              1,254   \n",
       "4           Paris    France   2,229,621                105   \n",
       "\n",
       "   Density in people per hectare  Dwellings  Density in dwellings per hectare  \\\n",
       "0                            NaN        NaN                               NaN   \n",
       "1                           55.0  3,454,490                              22.0   \n",
       "2                          108.0  1,460,840                              46.0   \n",
       "3                           42.0  1,993,660                              16.0   \n",
       "4                          212.0  1,336,209                             127.0   \n",
       "\n",
       "   People per dwelling  Approx city radius km Main topographical constraint  \\\n",
       "0                  NaN                    NaN                           NaN   \n",
       "1                  2.5                   23.0                       Rivers    \n",
       "2                  2.4                   10.0                       Rivers    \n",
       "3                  2.6                    NaN                           NaN   \n",
       "4                  1.7                    8.0                        Rivers   \n",
       "\n",
       "  Constraint  \n",
       "0        NaN  \n",
       "1         4%  \n",
       "2         5%  \n",
       "3        NaN  \n",
       "4         2%  "
      ]
     },
     "execution_count": 4,
     "metadata": {},
     "output_type": "execute_result"
    }
   ],
   "source": [
    "# Data: https://figshare.com/articles/dataset/GLA_World_Cities_2016/14657391/1?file=28139343\n",
    "\n",
    "gla_cities = pd.read_csv('GLA_World_Cities_2016.csv')\n",
    "\n",
    "gla_cities.head()"
   ]
  },
  {
   "cell_type": "code",
   "execution_count": 5,
   "id": "ef28637c-55f6-49ec-99a2-31553a0b14a2",
   "metadata": {},
   "outputs": [
    {
     "data": {
      "text/plain": [
       "City                                1\n",
       "Country                             1\n",
       "Population                          1\n",
       "Inland area in km2                  1\n",
       "Density in people per hectare       1\n",
       "Dwellings                           1\n",
       "Density in dwellings per hectare    1\n",
       "People per dwelling                 1\n",
       "Approx city radius km               2\n",
       "Main topographical constraint       2\n",
       "Constraint                          2\n",
       "dtype: int64"
      ]
     },
     "execution_count": 5,
     "metadata": {},
     "output_type": "execute_result"
    }
   ],
   "source": [
    "# How many NaN are in each column?\n",
    "gla_cities.isna().sum()"
   ]
  },
  {
   "cell_type": "code",
   "execution_count": 6,
   "id": "64c5442a-91e5-4d41-b500-c372f6dd1e21",
   "metadata": {},
   "outputs": [
    {
     "name": "stdout",
     "output_type": "stream",
     "text": [
      "Percentage of NA values for each column:\n",
      "\n",
      " City                                 5.56\n",
      "Country                              5.56\n",
      "Population                           5.56\n",
      "Inland area in km2                   5.56\n",
      "Density in people per hectare        5.56\n",
      "Dwellings                            5.56\n",
      "Density in dwellings per hectare     5.56\n",
      "People per dwelling                  5.56\n",
      "Approx city radius km               11.11\n",
      "Main topographical constraint       11.11\n",
      "Constraint                          11.11\n",
      "dtype: float64\n"
     ]
    }
   ],
   "source": [
    "# Calculate the percentage of NA values for each column\n",
    "na_percentage = gla_cities.isna().mean() * 100\n",
    "\n",
    "# Display the result\n",
    "print('Percentage of NA values for each column:\\n\\n',na_percentage.round(2))"
   ]
  },
  {
   "cell_type": "code",
   "execution_count": 7,
   "id": "fd4716bb-46a1-41e9-b98a-9d48a3646551",
   "metadata": {},
   "outputs": [
    {
     "data": {
      "image/png": "[encoded data removed]",
      "text/plain": [
       "<Figure size 640x480 with 1 Axes>"
      ]
     },
     "metadata": {},
     "output_type": "display_data"
    }
   ],
   "source": [
    "# Heatmap for visualize the missing data\n",
    "sns.heatmap(gla_cities.isnull(), yticklabels=False, cbar=False, cmap='viridis');"
   ]
  },
  {
   "cell_type": "code",
   "execution_count": 8,
   "id": "a34dd2a4-2a88-4d42-bbdc-2295e0ad843f",
   "metadata": {},
   "outputs": [
    {
     "data": {
      "text/plain": [
       "City                                0\n",
       "Country                             0\n",
       "Population                          0\n",
       "Inland area in km2                  0\n",
       "Density in people per hectare       0\n",
       "Dwellings                           0\n",
       "Density in dwellings per hectare    0\n",
       "People per dwelling                 0\n",
       "Approx city radius km               0\n",
       "Main topographical constraint       0\n",
       "Constraint                          0\n",
       "dtype: int64"
      ]
     },
     "execution_count": 8,
     "metadata": {},
     "output_type": "execute_result"
    }
   ],
   "source": [
    "# Drop rows with any NA values\n",
    "cities = gla_cities.dropna()\n",
    "\n",
    "# How many NaN now\n",
    "cities.isna().sum()"
   ]
  },
  {
   "cell_type": "code",
   "execution_count": 9,
   "id": "0525545b-11ff-4f59-a0d3-a7c0694422d3",
   "metadata": {},
   "outputs": [
    {
     "data": {
      "text/html": [
       "<div>\n",
       "<style scoped>\n",
       "    .dataframe tbody tr th:only-of-type {\n",
       "        vertical-align: middle;\n",
       "    }\n",
       "\n",
       "    .dataframe tbody tr th {\n",
       "        vertical-align: top;\n",
       "    }\n",
       "\n",
       "    .dataframe thead th {\n",
       "        text-align: right;\n",
       "    }\n",
       "</style>\n",
       "<table border=\"1\" class=\"dataframe\">\n",
       "  <thead>\n",
       "    <tr style=\"text-align: right;\">\n",
       "      <th></th>\n",
       "      <th>City</th>\n",
       "      <th>Country</th>\n",
       "      <th>Population</th>\n",
       "      <th>Inland area in km2</th>\n",
       "      <th>Density in people per hectare</th>\n",
       "      <th>Dwellings</th>\n",
       "      <th>Density in dwellings per hectare</th>\n",
       "      <th>People per dwelling</th>\n",
       "      <th>Approx city radius km</th>\n",
       "      <th>Main topographical constraint</th>\n",
       "      <th>Constraint</th>\n",
       "    </tr>\n",
       "  </thead>\n",
       "  <tbody>\n",
       "    <tr>\n",
       "      <th>1</th>\n",
       "      <td>Greater London</td>\n",
       "      <td>England</td>\n",
       "      <td>8,663,300</td>\n",
       "      <td>1,572</td>\n",
       "      <td>55.0</td>\n",
       "      <td>3,454,490</td>\n",
       "      <td>22.0</td>\n",
       "      <td>2.5</td>\n",
       "      <td>23.0</td>\n",
       "      <td>Rivers</td>\n",
       "      <td>4%</td>\n",
       "    </tr>\n",
       "    <tr>\n",
       "      <th>2</th>\n",
       "      <td>Inner London</td>\n",
       "      <td>England</td>\n",
       "      <td>3,439,700</td>\n",
       "      <td>319</td>\n",
       "      <td>108.0</td>\n",
       "      <td>1,460,840</td>\n",
       "      <td>46.0</td>\n",
       "      <td>2.4</td>\n",
       "      <td>10.0</td>\n",
       "      <td>Rivers</td>\n",
       "      <td>5%</td>\n",
       "    </tr>\n",
       "    <tr>\n",
       "      <th>4</th>\n",
       "      <td>Paris</td>\n",
       "      <td>France</td>\n",
       "      <td>2,229,621</td>\n",
       "      <td>105</td>\n",
       "      <td>212.0</td>\n",
       "      <td>1,336,209</td>\n",
       "      <td>127.0</td>\n",
       "      <td>1.7</td>\n",
       "      <td>8.0</td>\n",
       "      <td>Rivers</td>\n",
       "      <td>2%</td>\n",
       "    </tr>\n",
       "    <tr>\n",
       "      <th>5</th>\n",
       "      <td>Lyon</td>\n",
       "      <td>France</td>\n",
       "      <td>500,715</td>\n",
       "      <td>48</td>\n",
       "      <td>105.0</td>\n",
       "      <td>265,599</td>\n",
       "      <td>55.0</td>\n",
       "      <td>1.9</td>\n",
       "      <td>7.0</td>\n",
       "      <td>Rivers</td>\n",
       "      <td>5%</td>\n",
       "    </tr>\n",
       "    <tr>\n",
       "      <th>6</th>\n",
       "      <td>Berlin</td>\n",
       "      <td>Germany</td>\n",
       "      <td>3,469,849</td>\n",
       "      <td>892</td>\n",
       "      <td>39.0</td>\n",
       "      <td>1,892,000</td>\n",
       "      <td>21.0</td>\n",
       "      <td>1.8</td>\n",
       "      <td>16.0</td>\n",
       "      <td>Rivers</td>\n",
       "      <td>6%</td>\n",
       "    </tr>\n",
       "  </tbody>\n",
       "</table>\n",
       "</div>"
      ],
      "text/plain": [
       "              City   Country Population Inland area in km2  \\\n",
       "1  Greater London   England   8,663,300              1,572   \n",
       "2    Inner London   England   3,439,700                319   \n",
       "4           Paris    France   2,229,621                105   \n",
       "5            Lyon    France     500,715                 48   \n",
       "6          Berlin   Germany   3,469,849                892   \n",
       "\n",
       "   Density in people per hectare  Dwellings  Density in dwellings per hectare  \\\n",
       "1                           55.0  3,454,490                              22.0   \n",
       "2                          108.0  1,460,840                              46.0   \n",
       "4                          212.0  1,336,209                             127.0   \n",
       "5                          105.0    265,599                              55.0   \n",
       "6                           39.0  1,892,000                              21.0   \n",
       "\n",
       "   People per dwelling  Approx city radius km Main topographical constraint  \\\n",
       "1                  2.5                   23.0                       Rivers    \n",
       "2                  2.4                   10.0                       Rivers    \n",
       "4                  1.7                    8.0                        Rivers   \n",
       "5                  1.9                    7.0                        Rivers   \n",
       "6                  1.8                   16.0                        Rivers   \n",
       "\n",
       "  Constraint  \n",
       "1         4%  \n",
       "2         5%  \n",
       "4         2%  \n",
       "5         5%  \n",
       "6         6%  "
      ]
     },
     "execution_count": 9,
     "metadata": {},
     "output_type": "execute_result"
    }
   ],
   "source": [
    "cities.head()"
   ]
  },
  {
   "cell_type": "code",
   "execution_count": 10,
   "id": "119618f0-e1fd-4126-aff7-d03220f1a50c",
   "metadata": {},
   "outputs": [
    {
     "name": "stdout",
     "output_type": "stream",
     "text": [
      "<class 'pandas.core.frame.DataFrame'>\n",
      "Index: 16 entries, 1 to 17\n",
      "Data columns (total 11 columns):\n",
      " #   Column                            Non-Null Count  Dtype  \n",
      "---  ------                            --------------  -----  \n",
      " 0   City                              16 non-null     object \n",
      " 1   Country                           16 non-null     object \n",
      " 2   Population                        16 non-null     object \n",
      " 3   Inland area in km2                16 non-null     object \n",
      " 4   Density in people per hectare     16 non-null     float64\n",
      " 5   Dwellings                         16 non-null     object \n",
      " 6   Density in dwellings per hectare  16 non-null     float64\n",
      " 7   People per dwelling               16 non-null     float64\n",
      " 8   Approx city radius km             16 non-null     float64\n",
      " 9   Main topographical constraint     16 non-null     object \n",
      " 10  Constraint                        16 non-null     object \n",
      "dtypes: float64(4), object(7)\n",
      "memory usage: 1.5+ KB\n"
     ]
    }
   ],
   "source": [
    "cities.info()"
   ]
  },
  {
   "cell_type": "code",
   "execution_count": 11,
   "id": "84b2d04b-9ad0-4311-8946-377dbbbd8d07",
   "metadata": {},
   "outputs": [
    {
     "data": {
      "text/html": [
       "<div>\n",
       "<style scoped>\n",
       "    .dataframe tbody tr th:only-of-type {\n",
       "        vertical-align: middle;\n",
       "    }\n",
       "\n",
       "    .dataframe tbody tr th {\n",
       "        vertical-align: top;\n",
       "    }\n",
       "\n",
       "    .dataframe thead th {\n",
       "        text-align: right;\n",
       "    }\n",
       "</style>\n",
       "<table border=\"1\" class=\"dataframe\">\n",
       "  <thead>\n",
       "    <tr style=\"text-align: right;\">\n",
       "      <th></th>\n",
       "      <th>City</th>\n",
       "      <th>Country</th>\n",
       "      <th>Population</th>\n",
       "      <th>Inland area in km2</th>\n",
       "      <th>Density in people per hectare</th>\n",
       "      <th>Dwellings</th>\n",
       "      <th>Density in dwellings per hectare</th>\n",
       "      <th>People per dwelling</th>\n",
       "      <th>Approx city radius km</th>\n",
       "      <th>Main topographical constraint</th>\n",
       "      <th>Constraint</th>\n",
       "    </tr>\n",
       "  </thead>\n",
       "  <tbody>\n",
       "    <tr>\n",
       "      <th>1</th>\n",
       "      <td>Greater London</td>\n",
       "      <td>England</td>\n",
       "      <td>8,663,300</td>\n",
       "      <td>1,572</td>\n",
       "      <td>55.0</td>\n",
       "      <td>3,454,490</td>\n",
       "      <td>22.0</td>\n",
       "      <td>2.5</td>\n",
       "      <td>23.0</td>\n",
       "      <td>Rivers</td>\n",
       "      <td>4%</td>\n",
       "    </tr>\n",
       "    <tr>\n",
       "      <th>2</th>\n",
       "      <td>Inner London</td>\n",
       "      <td>England</td>\n",
       "      <td>3,439,700</td>\n",
       "      <td>319</td>\n",
       "      <td>108.0</td>\n",
       "      <td>1,460,840</td>\n",
       "      <td>46.0</td>\n",
       "      <td>2.4</td>\n",
       "      <td>10.0</td>\n",
       "      <td>Rivers</td>\n",
       "      <td>5%</td>\n",
       "    </tr>\n",
       "    <tr>\n",
       "      <th>4</th>\n",
       "      <td>Paris</td>\n",
       "      <td>France</td>\n",
       "      <td>2,229,621</td>\n",
       "      <td>105</td>\n",
       "      <td>212.0</td>\n",
       "      <td>1,336,209</td>\n",
       "      <td>127.0</td>\n",
       "      <td>1.7</td>\n",
       "      <td>8.0</td>\n",
       "      <td>Rivers</td>\n",
       "      <td>2%</td>\n",
       "    </tr>\n",
       "    <tr>\n",
       "      <th>5</th>\n",
       "      <td>Lyon</td>\n",
       "      <td>France</td>\n",
       "      <td>500,715</td>\n",
       "      <td>48</td>\n",
       "      <td>105.0</td>\n",
       "      <td>265,599</td>\n",
       "      <td>55.0</td>\n",
       "      <td>1.9</td>\n",
       "      <td>7.0</td>\n",
       "      <td>Rivers</td>\n",
       "      <td>5%</td>\n",
       "    </tr>\n",
       "    <tr>\n",
       "      <th>6</th>\n",
       "      <td>Berlin</td>\n",
       "      <td>Germany</td>\n",
       "      <td>3,469,849</td>\n",
       "      <td>892</td>\n",
       "      <td>39.0</td>\n",
       "      <td>1,892,000</td>\n",
       "      <td>21.0</td>\n",
       "      <td>1.8</td>\n",
       "      <td>16.0</td>\n",
       "      <td>Rivers</td>\n",
       "      <td>6%</td>\n",
       "    </tr>\n",
       "    <tr>\n",
       "      <th>7</th>\n",
       "      <td>Madrid (City)</td>\n",
       "      <td>Spain</td>\n",
       "      <td>3,141,991</td>\n",
       "      <td>606</td>\n",
       "      <td>52.0</td>\n",
       "      <td>1,320,531</td>\n",
       "      <td>22.0</td>\n",
       "      <td>2.4</td>\n",
       "      <td>13.0</td>\n",
       "      <td>Mountains</td>\n",
       "      <td>12%</td>\n",
       "    </tr>\n",
       "    <tr>\n",
       "      <th>8</th>\n",
       "      <td>Barcelona</td>\n",
       "      <td>Spain</td>\n",
       "      <td>1,604,555</td>\n",
       "      <td>98</td>\n",
       "      <td>163.0</td>\n",
       "      <td>684,078</td>\n",
       "      <td>70.0</td>\n",
       "      <td>2.3</td>\n",
       "      <td>6.0</td>\n",
       "      <td>Coast and mountains</td>\n",
       "      <td>75%</td>\n",
       "    </tr>\n",
       "    <tr>\n",
       "      <th>9</th>\n",
       "      <td>Sevilla</td>\n",
       "      <td>Spain</td>\n",
       "      <td>693,878</td>\n",
       "      <td>141</td>\n",
       "      <td>49.0</td>\n",
       "      <td>268,435</td>\n",
       "      <td>19.0</td>\n",
       "      <td>2.6</td>\n",
       "      <td>7.0</td>\n",
       "      <td>Rivers</td>\n",
       "      <td>3%</td>\n",
       "    </tr>\n",
       "    <tr>\n",
       "      <th>10</th>\n",
       "      <td>New York (City)</td>\n",
       "      <td>United States</td>\n",
       "      <td>8,491,079</td>\n",
       "      <td>784</td>\n",
       "      <td>108.0</td>\n",
       "      <td>3,371,062</td>\n",
       "      <td>43.0</td>\n",
       "      <td>2.5</td>\n",
       "      <td>14.0</td>\n",
       "      <td>Coast and rivers</td>\n",
       "      <td>40%</td>\n",
       "    </tr>\n",
       "    <tr>\n",
       "      <th>11</th>\n",
       "      <td>Chicago</td>\n",
       "      <td>United States</td>\n",
       "      <td>2,722,389</td>\n",
       "      <td>590</td>\n",
       "      <td>46.0</td>\n",
       "      <td>1,194,337</td>\n",
       "      <td>20.0</td>\n",
       "      <td>2.3</td>\n",
       "      <td>13.0</td>\n",
       "      <td>Lake</td>\n",
       "      <td>45%</td>\n",
       "    </tr>\n",
       "    <tr>\n",
       "      <th>12</th>\n",
       "      <td>Boston</td>\n",
       "      <td>United States</td>\n",
       "      <td>617,594</td>\n",
       "      <td>125</td>\n",
       "      <td>49.0</td>\n",
       "      <td>272,481</td>\n",
       "      <td>22.0</td>\n",
       "      <td>2.3</td>\n",
       "      <td>6.0</td>\n",
       "      <td>Coast</td>\n",
       "      <td>30%</td>\n",
       "    </tr>\n",
       "    <tr>\n",
       "      <th>13</th>\n",
       "      <td>Rio de Janeiro (Municipality)</td>\n",
       "      <td>Brazil</td>\n",
       "      <td>6,476,631</td>\n",
       "      <td>1200</td>\n",
       "      <td>54.0</td>\n",
       "      <td>2,467,000</td>\n",
       "      <td>21.0</td>\n",
       "      <td>2.6</td>\n",
       "      <td>18.0</td>\n",
       "      <td>Coast and mountains</td>\n",
       "      <td>75%</td>\n",
       "    </tr>\n",
       "    <tr>\n",
       "      <th>14</th>\n",
       "      <td>Belo Horizonte (Municipality)</td>\n",
       "      <td>Brazil</td>\n",
       "      <td>2,375,151</td>\n",
       "      <td>331</td>\n",
       "      <td>76.0</td>\n",
       "      <td>762,075</td>\n",
       "      <td>23.0</td>\n",
       "      <td>3.1</td>\n",
       "      <td>10.0</td>\n",
       "      <td>Mountains</td>\n",
       "      <td>45%</td>\n",
       "    </tr>\n",
       "    <tr>\n",
       "      <th>15</th>\n",
       "      <td>Singapore</td>\n",
       "      <td>Singapore</td>\n",
       "      <td>3,902,710</td>\n",
       "      <td>666</td>\n",
       "      <td>59.0</td>\n",
       "      <td>1,225,300</td>\n",
       "      <td>18.0</td>\n",
       "      <td>3.2</td>\n",
       "      <td>14.0</td>\n",
       "      <td>Coast</td>\n",
       "      <td>95%</td>\n",
       "    </tr>\n",
       "    <tr>\n",
       "      <th>16</th>\n",
       "      <td>Tokyo (Special Wards Area)</td>\n",
       "      <td>Japan</td>\n",
       "      <td>9,272,565</td>\n",
       "      <td>627</td>\n",
       "      <td>148.0</td>\n",
       "      <td>6,437,000</td>\n",
       "      <td>103.0</td>\n",
       "      <td>1.4</td>\n",
       "      <td>14.0</td>\n",
       "      <td>Coast and mountains</td>\n",
       "      <td>70%</td>\n",
       "    </tr>\n",
       "    <tr>\n",
       "      <th>17</th>\n",
       "      <td>Osaka (City)</td>\n",
       "      <td>Japan</td>\n",
       "      <td>2,691,742</td>\n",
       "      <td>225</td>\n",
       "      <td>120.0</td>\n",
       "      <td>1,634,100</td>\n",
       "      <td>73.0</td>\n",
       "      <td>1.6</td>\n",
       "      <td>8.0</td>\n",
       "      <td>Coast</td>\n",
       "      <td>20%</td>\n",
       "    </tr>\n",
       "  </tbody>\n",
       "</table>\n",
       "</div>"
      ],
      "text/plain": [
       "                              City         Country Population  \\\n",
       "1                  Greater London         England   8,663,300   \n",
       "2                    Inner London         England   3,439,700   \n",
       "4                           Paris          France   2,229,621   \n",
       "5                            Lyon          France     500,715   \n",
       "6                          Berlin         Germany   3,469,849   \n",
       "7                   Madrid (City)           Spain   3,141,991   \n",
       "8                       Barcelona           Spain   1,604,555   \n",
       "9                         Sevilla           Spain     693,878   \n",
       "10                New York (City)   United States   8,491,079   \n",
       "11                        Chicago   United States   2,722,389   \n",
       "12                         Boston   United States     617,594   \n",
       "13  Rio de Janeiro (Municipality)          Brazil   6,476,631   \n",
       "14  Belo Horizonte (Municipality)          Brazil   2,375,151   \n",
       "15                      Singapore       Singapore   3,902,710   \n",
       "16     Tokyo (Special Wards Area)           Japan   9,272,565   \n",
       "17                   Osaka (City)           Japan   2,691,742   \n",
       "\n",
       "   Inland area in km2  Density in people per hectare  Dwellings  \\\n",
       "1               1,572                           55.0  3,454,490   \n",
       "2                 319                          108.0  1,460,840   \n",
       "4                 105                          212.0  1,336,209   \n",
       "5                  48                          105.0    265,599   \n",
       "6                 892                           39.0  1,892,000   \n",
       "7                 606                           52.0  1,320,531   \n",
       "8                  98                          163.0    684,078   \n",
       "9                 141                           49.0    268,435   \n",
       "10                784                          108.0  3,371,062   \n",
       "11                590                           46.0  1,194,337   \n",
       "12                125                           49.0    272,481   \n",
       "13               1200                           54.0  2,467,000   \n",
       "14                331                           76.0    762,075   \n",
       "15                666                           59.0  1,225,300   \n",
       "16                627                          148.0  6,437,000   \n",
       "17                225                          120.0  1,634,100   \n",
       "\n",
       "    Density in dwellings per hectare  People per dwelling  \\\n",
       "1                               22.0                  2.5   \n",
       "2                               46.0                  2.4   \n",
       "4                              127.0                  1.7   \n",
       "5                               55.0                  1.9   \n",
       "6                               21.0                  1.8   \n",
       "7                               22.0                  2.4   \n",
       "8                               70.0                  2.3   \n",
       "9                               19.0                  2.6   \n",
       "10                              43.0                  2.5   \n",
       "11                              20.0                  2.3   \n",
       "12                              22.0                  2.3   \n",
       "13                              21.0                  2.6   \n",
       "14                              23.0                  3.1   \n",
       "15                              18.0                  3.2   \n",
       "16                             103.0                  1.4   \n",
       "17                              73.0                  1.6   \n",
       "\n",
       "    Approx city radius km Main topographical constraint Constraint  \n",
       "1                    23.0                       Rivers          4%  \n",
       "2                    10.0                       Rivers          5%  \n",
       "4                     8.0                        Rivers         2%  \n",
       "5                     7.0                        Rivers         5%  \n",
       "6                    16.0                        Rivers         6%  \n",
       "7                    13.0                     Mountains        12%  \n",
       "8                     6.0           Coast and mountains        75%  \n",
       "9                     7.0                        Rivers         3%  \n",
       "10                   14.0              Coast and rivers        40%  \n",
       "11                   13.0                          Lake        45%  \n",
       "12                    6.0                         Coast        30%  \n",
       "13                   18.0           Coast and mountains        75%  \n",
       "14                   10.0                     Mountains        45%  \n",
       "15                   14.0                         Coast        95%  \n",
       "16                   14.0           Coast and mountains        70%  \n",
       "17                    8.0                         Coast        20%  "
      ]
     },
     "execution_count": 11,
     "metadata": {},
     "output_type": "execute_result"
    }
   ],
   "source": [
    "cities"
   ]
  },
  {
   "cell_type": "code",
   "execution_count": 12,
   "id": "da81e1fd-751d-4514-816c-b9c093381993",
   "metadata": {},
   "outputs": [
    {
     "name": "stdout",
     "output_type": "stream",
     "text": [
      "City                                 object\n",
      "Country                              object\n",
      "Population                            int64\n",
      "Inland area in km2                   object\n",
      "Density in people per hectare       float64\n",
      "Dwellings                             int64\n",
      "Density in dwellings per hectare    float64\n",
      "People per dwelling                 float64\n",
      "Approx city radius km               float64\n",
      "Main topographical constraint        object\n",
      "Constraint                           object\n",
      "dtype: object\n"
     ]
    }
   ],
   "source": [
    "# Ensure Population and Dwellings are numeric in a new DataFrame copy\n",
    "\n",
    "cita = cities.copy()\n",
    "\n",
    "cita['Population'] = pd.to_numeric(\n",
    "    cita['Population'].str.replace(',', '', regex=True), errors='coerce'\n",
    ")\n",
    "\n",
    "cita['Dwellings'] = pd.to_numeric(\n",
    "    cita['Dwellings'].str.replace(',', '', regex=True), errors='coerce'\n",
    ")\n",
    "\n",
    "# Verify the conversion\n",
    "print(cita.dtypes)"
   ]
  },
  {
   "cell_type": "markdown",
   "id": "a8f8ec58-bc43-4532-8146-de4f496e9573",
   "metadata": {},
   "source": [
    "# Pearson Correlation"
   ]
  },
  {
   "cell_type": "markdown",
   "id": "73770a31-6f44-4024-9d31-8650b1804da5",
   "metadata": {},
   "source": [
    "    • H0: The correlation between the variables is zero, i.e. r = 0\n",
    "    • Ha: The correlation between the variables is not zero, e.g. r = 1"
   ]
  },
  {
   "cell_type": "code",
   "execution_count": 15,
   "id": "53a535e4-d3cc-41e9-96cd-70fb6c7eff8a",
   "metadata": {},
   "outputs": [
    {
     "name": "stdout",
     "output_type": "stream",
     "text": [
      "Pearson correlation coefficient: 0.7914\n",
      "P-value: 0.00026025\n"
     ]
    }
   ],
   "source": [
    "from scipy.stats import pearsonr\n",
    "\n",
    "# Perform Pearson correlation\n",
    "r, p_value = stats.pearsonr(cita['Population'], cita['Approx city radius km'])\n",
    "print(f\"Pearson correlation coefficient: {r:.4f}\")\n",
    "print(f\"P-value: {p_value:.8f}\")"
   ]
  },
  {
   "cell_type": "markdown",
   "id": "f7b8df33-1d60-4e40-8c85-d7bdee0330f4",
   "metadata": {},
   "source": [
    "Pearson Correlation Coefficient (r):\n",
    "\n",
    "    r = 0.7914: This indicates a strong positive correlation between the population size and the approximate city radius.\n",
    "    \n",
    "    As the population increases, the city radius also tends to increase.\n",
    "\n",
    "P-value:\n",
    "\n",
    "    p = 0.0003: This is significantly smaller than a typical threshold (α=0.05).\n",
    "    \n",
    "    The correlation is statistically significant. This means there is strong evidence that the observed relationship between population and city radius is not due to random chance."
   ]
  },
  {
   "cell_type": "code",
   "execution_count": 17,
   "id": "30de88d9-a5be-4180-b2ab-a08fc0637da7",
   "metadata": {},
   "outputs": [
    {
     "name": "stdout",
     "output_type": "stream",
     "text": [
      "4.843827042161195\n"
     ]
    }
   ],
   "source": [
    "n = cita.shape[0]  # Get the number of rows (observations) in the cities DataFrame\n",
    "\n",
    "rho = r              # Assign the Pearson correlation coefficient (calculated earlier: 0.7913877430390618) to rho \n",
    "                     \n",
    "# Calculate the t-score for the correlation using the t-distribution formula\n",
    "tscore = rho * np.sqrt(n - 2) / np.sqrt(1 - rho**2)\n",
    "\n",
    "print(tscore)"
   ]
  },
  {
   "cell_type": "code",
   "execution_count": 18,
   "id": "e70be8be-2bba-4d7f-8522-00a38e6cd569",
   "metadata": {},
   "outputs": [
    {
     "name": "stdout",
     "output_type": "stream",
     "text": [
      "0.00026025\n"
     ]
    }
   ],
   "source": [
    "from scipy.stats import t\n",
    "\n",
    "# Calculate the one-tailed p-value using the t-distribution cumulative density function\n",
    "p1t = 1 - t.cdf(tscore, n - 2)  # Probability of observing a t-score greater than the calculated value\n",
    "\n",
    "# Calculate the two-tailed p-value by doubling the one-tailed p-value\n",
    "p2t = 2 * p1t                   # Reflects the probability for both tails in a two-tailed test\n",
    "\n",
    "# Print the two-tailed p-value\n",
    "print(p2t.round(8))                      # Displays the significance of the observed correlation"
   ]
  },
  {
   "cell_type": "code",
   "execution_count": 19,
   "id": "65bbe629-c321-4db4-a2e0-92289cbdc684",
   "metadata": {},
   "outputs": [
    {
     "name": "stdout",
     "output_type": "stream",
     "text": [
      "0.00026025\n"
     ]
    }
   ],
   "source": [
    "# Alternative way: Calculate the two-tailed p-value directly using the t-distribution survival function (sf)\n",
    "p2t = 2 * t.sf(tscore, n - 2)  # Survival function provides the upper tail probability; multiplied by 2 for two-tailed test\n",
    "\n",
    "# Print the two-tailed p-value\n",
    "print(p2t.round(8))                     # Displays the significance of the observed correlation"
   ]
  },
  {
   "cell_type": "markdown",
   "id": "c7834963-9b63-4c13-b85b-49bf57b663f4",
   "metadata": {},
   "source": [
    "This is effectively the same value reported by the pearsonr implementation."
   ]
  },
  {
   "cell_type": "markdown",
   "id": "72f23e62-5f54-404b-95b1-6a4443059184",
   "metadata": {},
   "source": [
    "### Covariance Matrix"
   ]
  },
  {
   "cell_type": "code",
   "execution_count": 22,
   "id": "5a2111a9-5830-42b1-868f-dfb0e640721f",
   "metadata": {},
   "outputs": [
    {
     "data": {
      "text/html": [
       "<div>\n",
       "<style scoped>\n",
       "    .dataframe tbody tr th:only-of-type {\n",
       "        vertical-align: middle;\n",
       "    }\n",
       "\n",
       "    .dataframe tbody tr th {\n",
       "        vertical-align: top;\n",
       "    }\n",
       "\n",
       "    .dataframe thead th {\n",
       "        text-align: right;\n",
       "    }\n",
       "</style>\n",
       "<table border=\"1\" class=\"dataframe\">\n",
       "  <thead>\n",
       "    <tr style=\"text-align: right;\">\n",
       "      <th></th>\n",
       "      <th>Population</th>\n",
       "      <th>Approx city radius km</th>\n",
       "      <th>People per dwelling</th>\n",
       "    </tr>\n",
       "  </thead>\n",
       "  <tbody>\n",
       "    <tr>\n",
       "      <th>Population</th>\n",
       "      <td>1.000000</td>\n",
       "      <td>0.791388</td>\n",
       "      <td>-0.050147</td>\n",
       "    </tr>\n",
       "    <tr>\n",
       "      <th>Approx city radius km</th>\n",
       "      <td>0.791388</td>\n",
       "      <td>1.000000</td>\n",
       "      <td>0.174474</td>\n",
       "    </tr>\n",
       "    <tr>\n",
       "      <th>People per dwelling</th>\n",
       "      <td>-0.050147</td>\n",
       "      <td>0.174474</td>\n",
       "      <td>1.000000</td>\n",
       "    </tr>\n",
       "  </tbody>\n",
       "</table>\n",
       "</div>"
      ],
      "text/plain": [
       "                       Population  Approx city radius km  People per dwelling\n",
       "Population               1.000000               0.791388            -0.050147\n",
       "Approx city radius km    0.791388               1.000000             0.174474\n",
       "People per dwelling     -0.050147               0.174474             1.000000"
      ]
     },
     "execution_count": 22,
     "metadata": {},
     "output_type": "execute_result"
    }
   ],
   "source": [
    "cov_mat = cita[['Population','Approx city radius km','People per dwelling']].corr()\n",
    "cov_mat"
   ]
  },
  {
   "cell_type": "code",
   "execution_count": 23,
   "id": "9c488e5c-c26e-4a07-864d-3009860a6865",
   "metadata": {},
   "outputs": [
    {
     "data": {
      "image/png": "[encoded data removed]",
      "text/plain": [
       "<Figure size 500x500 with 2 Axes>"
      ]
     },
     "metadata": {},
     "output_type": "display_data"
    }
   ],
   "source": [
    "from seaborn import heatmap \n",
    "\n",
    "fig, ax = plt.subplots(figsize=(5, 5))  # Create a figure and axis with dimensions 6x6 inches\n",
    "\n",
    "ax = heatmap(                           # Generate a heatmap to display the correlation matrix of features in X\n",
    "    cov_mat,                            # Compute the correlation matrix for the DataFrame X\n",
    "    fmt=\".2f\",                          # Format the annotation text to 2 decimal places\n",
    "    annot=True,                         # Annotate each cell in the heatmap with its correlation value\n",
    "    ax=ax,                              # Use the specified axis for the plot\n",
    "    cmap=\"viridis\",                     # Set the color palette to 'RdBu_r' (red to blue, reversed)\n",
    "    vmin=-1,                            # Set the minimum value of the color scale to 0.5 (moderate correlation)\n",
    "    vmax=1)                             # Set the maximum value of the color scale to 1 (strong positive correlation)"
   ]
  },
  {
   "cell_type": "markdown",
   "id": "93a0ab5b-c58d-4493-bb70-7a8c9f53ede4",
   "metadata": {},
   "source": [
    "## Linear Regression"
   ]
  },
  {
   "cell_type": "code",
   "execution_count": 25,
   "id": "ec0d1da9-e975-4581-875a-33f061dc70fb",
   "metadata": {},
   "outputs": [
    {
     "name": "stdout",
     "output_type": "stream",
     "text": [
      "<class 'pandas.core.frame.DataFrame'>\n",
      "Index: 16 entries, 1 to 17\n",
      "Data columns (total 11 columns):\n",
      " #   Column                            Non-Null Count  Dtype  \n",
      "---  ------                            --------------  -----  \n",
      " 0   City                              16 non-null     object \n",
      " 1   Country                           16 non-null     object \n",
      " 2   Population                        16 non-null     int64  \n",
      " 3   Inland area in km2                16 non-null     object \n",
      " 4   Density in people per hectare     16 non-null     float64\n",
      " 5   Dwellings                         16 non-null     int64  \n",
      " 6   Density in dwellings per hectare  16 non-null     float64\n",
      " 7   People per dwelling               16 non-null     float64\n",
      " 8   City_Radius                       16 non-null     float64\n",
      " 9   Main topographical constraint     16 non-null     object \n",
      " 10  Constraint                        16 non-null     object \n",
      "dtypes: float64(4), int64(2), object(5)\n",
      "memory usage: 1.5+ KB\n"
     ]
    }
   ],
   "source": [
    "cita.columns = cita.columns.str.replace('Approx city radius km','City_Radius')\n",
    "\n",
    "cita.info()"
   ]
  },
  {
   "cell_type": "code",
   "execution_count": 26,
   "id": "f666899d-ee28-4458-b53a-6a4c7a1e2e5e",
   "metadata": {},
   "outputs": [
    {
     "data": {
      "text/plain": [
       "Intercept     -1.797364e+06\n",
       "City_Radius    4.762102e+05\n",
       "dtype: float64"
      ]
     },
     "execution_count": 26,
     "metadata": {},
     "output_type": "execute_result"
    }
   ],
   "source": [
    "import statsmodels.formula.api as smf\n",
    "\n",
    "results = smf.ols('Population ~ City_Radius', data = cita).fit()\n",
    "\n",
    "results.params"
   ]
  },
  {
   "cell_type": "code",
   "execution_count": 27,
   "id": "51d727d6-20ab-4457-9a78-95aa41cd7f86",
   "metadata": {},
   "outputs": [
    {
     "data": {
      "text/html": [
       "<table class=\"simpletable\">\n",
       "<caption>OLS Regression Results</caption>\n",
       "<tr>\n",
       "  <th>Dep. Variable:</th>       <td>Population</td>    <th>  R-squared:         </th> <td>   0.626</td>\n",
       "</tr>\n",
       "<tr>\n",
       "  <th>Model:</th>                   <td>OLS</td>       <th>  Adj. R-squared:    </th> <td>   0.600</td>\n",
       "</tr>\n",
       "<tr>\n",
       "  <th>Method:</th>             <td>Least Squares</td>  <th>  F-statistic:       </th> <td>   23.46</td>\n",
       "</tr>\n",
       "<tr>\n",
       "  <th>Date:</th>             <td>Tue, 07 Jan 2025</td> <th>  Prob (F-statistic):</th> <td>0.000260</td>\n",
       "</tr>\n",
       "<tr>\n",
       "  <th>Time:</th>                 <td>11:05:07</td>     <th>  Log-Likelihood:    </th> <td> -252.37</td>\n",
       "</tr>\n",
       "<tr>\n",
       "  <th>No. Observations:</th>      <td>    16</td>      <th>  AIC:               </th> <td>   508.7</td>\n",
       "</tr>\n",
       "<tr>\n",
       "  <th>Df Residuals:</th>          <td>    14</td>      <th>  BIC:               </th> <td>   510.3</td>\n",
       "</tr>\n",
       "<tr>\n",
       "  <th>Df Model:</th>              <td>     1</td>      <th>                     </th>     <td> </td>   \n",
       "</tr>\n",
       "<tr>\n",
       "  <th>Covariance Type:</th>      <td>nonrobust</td>    <th>                     </th>     <td> </td>   \n",
       "</tr>\n",
       "</table>\n",
       "<table class=\"simpletable\">\n",
       "<tr>\n",
       "       <td></td>          <th>coef</th>     <th>std err</th>      <th>t</th>      <th>P>|t|</th>  <th>[0.025</th>    <th>0.975]</th>  \n",
       "</tr>\n",
       "<tr>\n",
       "  <th>Intercept</th>   <td>-1.797e+06</td> <td> 1.24e+06</td> <td>   -1.453</td> <td> 0.168</td> <td>-4.45e+06</td> <td> 8.56e+05</td>\n",
       "</tr>\n",
       "<tr>\n",
       "  <th>City_Radius</th> <td> 4.762e+05</td> <td> 9.83e+04</td> <td>    4.844</td> <td> 0.000</td> <td> 2.65e+05</td> <td> 6.87e+05</td>\n",
       "</tr>\n",
       "</table>\n",
       "<table class=\"simpletable\">\n",
       "<tr>\n",
       "  <th>Omnibus:</th>       <td> 9.560</td> <th>  Durbin-Watson:     </th> <td>   2.192</td>\n",
       "</tr>\n",
       "<tr>\n",
       "  <th>Prob(Omnibus):</th> <td> 0.008</td> <th>  Jarque-Bera (JB):  </th> <td>   6.136</td>\n",
       "</tr>\n",
       "<tr>\n",
       "  <th>Skew:</th>          <td> 1.374</td> <th>  Prob(JB):          </th> <td>  0.0465</td>\n",
       "</tr>\n",
       "<tr>\n",
       "  <th>Kurtosis:</th>      <td> 4.284</td> <th>  Cond. No.          </th> <td>    34.2</td>\n",
       "</tr>\n",
       "</table><br/><br/>Notes:<br/>[1] Standard Errors assume that the covariance matrix of the errors is correctly specified."
      ],
      "text/latex": [
       "\\begin{center}\n",
       "\\begin{tabular}{lclc}\n",
       "\\toprule\n",
       "\\textbf{Dep. Variable:}    &    Population    & \\textbf{  R-squared:         } &     0.626   \\\\\n",
       "\\textbf{Model:}            &       OLS        & \\textbf{  Adj. R-squared:    } &     0.600   \\\\\n",
       "\\textbf{Method:}           &  Least Squares   & \\textbf{  F-statistic:       } &     23.46   \\\\\n",
       "\\textbf{Date:}             & Tue, 07 Jan 2025 & \\textbf{  Prob (F-statistic):} &  0.000260   \\\\\n",
       "\\textbf{Time:}             &     11:05:07     & \\textbf{  Log-Likelihood:    } &   -252.37   \\\\\n",
       "\\textbf{No. Observations:} &          16      & \\textbf{  AIC:               } &     508.7   \\\\\n",
       "\\textbf{Df Residuals:}     &          14      & \\textbf{  BIC:               } &     510.3   \\\\\n",
       "\\textbf{Df Model:}         &           1      & \\textbf{                     } &             \\\\\n",
       "\\textbf{Covariance Type:}  &    nonrobust     & \\textbf{                     } &             \\\\\n",
       "\\bottomrule\n",
       "\\end{tabular}\n",
       "\\begin{tabular}{lcccccc}\n",
       "                      & \\textbf{coef} & \\textbf{std err} & \\textbf{t} & \\textbf{P$> |$t$|$} & \\textbf{[0.025} & \\textbf{0.975]}  \\\\\n",
       "\\midrule\n",
       "\\textbf{Intercept}    &   -1.797e+06  &     1.24e+06     &    -1.453  &         0.168        &    -4.45e+06    &     8.56e+05     \\\\\n",
       "\\textbf{City\\_Radius} &    4.762e+05  &     9.83e+04     &     4.844  &         0.000        &     2.65e+05    &     6.87e+05     \\\\\n",
       "\\bottomrule\n",
       "\\end{tabular}\n",
       "\\begin{tabular}{lclc}\n",
       "\\textbf{Omnibus:}       &  9.560 & \\textbf{  Durbin-Watson:     } &    2.192  \\\\\n",
       "\\textbf{Prob(Omnibus):} &  0.008 & \\textbf{  Jarque-Bera (JB):  } &    6.136  \\\\\n",
       "\\textbf{Skew:}          &  1.374 & \\textbf{  Prob(JB):          } &   0.0465  \\\\\n",
       "\\textbf{Kurtosis:}      &  4.284 & \\textbf{  Cond. No.          } &     34.2  \\\\\n",
       "\\bottomrule\n",
       "\\end{tabular}\n",
       "%\\caption{OLS Regression Results}\n",
       "\\end{center}\n",
       "\n",
       "Notes: \\newline\n",
       " [1] Standard Errors assume that the covariance matrix of the errors is correctly specified."
      ],
      "text/plain": [
       "<class 'statsmodels.iolib.summary.Summary'>\n",
       "\"\"\"\n",
       "                            OLS Regression Results                            \n",
       "==============================================================================\n",
       "Dep. Variable:             Population   R-squared:                       0.626\n",
       "Model:                            OLS   Adj. R-squared:                  0.600\n",
       "Method:                 Least Squares   F-statistic:                     23.46\n",
       "Date:                Tue, 07 Jan 2025   Prob (F-statistic):           0.000260\n",
       "Time:                        11:05:07   Log-Likelihood:                -252.37\n",
       "No. Observations:                  16   AIC:                             508.7\n",
       "Df Residuals:                      14   BIC:                             510.3\n",
       "Df Model:                           1                                         \n",
       "Covariance Type:            nonrobust                                         \n",
       "===============================================================================\n",
       "                  coef    std err          t      P>|t|      [0.025      0.975]\n",
       "-------------------------------------------------------------------------------\n",
       "Intercept   -1.797e+06   1.24e+06     -1.453      0.168   -4.45e+06    8.56e+05\n",
       "City_Radius  4.762e+05   9.83e+04      4.844      0.000    2.65e+05    6.87e+05\n",
       "==============================================================================\n",
       "Omnibus:                        9.560   Durbin-Watson:                   2.192\n",
       "Prob(Omnibus):                  0.008   Jarque-Bera (JB):                6.136\n",
       "Skew:                           1.374   Prob(JB):                       0.0465\n",
       "Kurtosis:                       4.284   Cond. No.                         34.2\n",
       "==============================================================================\n",
       "\n",
       "Notes:\n",
       "[1] Standard Errors assume that the covariance matrix of the errors is correctly specified.\n",
       "\"\"\""
      ]
     },
     "execution_count": 27,
     "metadata": {},
     "output_type": "execute_result"
    }
   ],
   "source": [
    "results.summary()"
   ]
  },
  {
   "cell_type": "markdown",
   "id": "175c590d-a0ca-4ec8-8cd2-2d86ecfbb74d",
   "metadata": {},
   "source": [
    "    In this case the p-value is 0.000260. For a value of a = 0.05 we can reject the null hypothesis (H0: No linear relationship).\n",
    "\n",
    "    There is strong evidence of a statistically significant relationship between City_Radius and Population.\n",
    "\n",
    "    The 𝑅2 value of 0.626 indicates that approximately 62.6% of the variability in Population is explained by City_Radius.\n",
    "\n",
    "    Conclusion: There is a significant linear relationship between City_Radius and Population, and the relationship is positive (as City_Radius increases, so does Population)."
   ]
  },
  {
   "cell_type": "markdown",
   "id": "081dc240-a0a8-4981-a411-fed09fcbe3be",
   "metadata": {},
   "source": [
    "##  Spearman Correlation"
   ]
  },
  {
   "cell_type": "markdown",
   "id": "fa39d4ef-ce22-4348-aae6-92fe42b32482",
   "metadata": {},
   "source": [
    "    • H0: The correlation between the variables is zero, i.e. r = 0\n",
    "    • Ha: The correlation between the variables is not zero i.e. r != 0"
   ]
  },
  {
   "cell_type": "markdown",
   "id": "06ff03c3-e783-4cc1-9710-00e4532f0999",
   "metadata": {},
   "source": [
    "**Are the scores of two of the head judges related?** Since the scores provided are ordinal values between 0 and 10, it is not possible to use the Pearson correlation we described before. Instead, we need to use the ranks that the ordinal values provide."
   ]
  },
  {
   "cell_type": "markdown",
   "id": "532c13f5-a4f6-4802-9fc0-3b1a4782c1bc",
   "metadata": {},
   "source": [
    "| Singer   | A  | B  | C  | D  | E  | F  | G  | H  | I  | J  |\n",
    "|:--------:|:--:|:--:|:--:|:--:|:--:|:--:|:--:|:--:|:--:|:--:|\n",
    "| Judge 1  | 2  | 10 | 7  | 8  | 5  | 7  | 5  | 8  | 6  | 4  |\n",
    "| Judge 2  | 4  | 9  | 8  | 8  | 2  | 9  | 4  | 7  | 6  | 3  |\n"
   ]
  },
  {
   "cell_type": "code",
   "execution_count": 33,
   "id": "680030a3-83df-456e-87d9-44d74d723233",
   "metadata": {},
   "outputs": [
    {
     "data": {
      "text/html": [
       "<div>\n",
       "<style scoped>\n",
       "    .dataframe tbody tr th:only-of-type {\n",
       "        vertical-align: middle;\n",
       "    }\n",
       "\n",
       "    .dataframe tbody tr th {\n",
       "        vertical-align: top;\n",
       "    }\n",
       "\n",
       "    .dataframe thead th {\n",
       "        text-align: right;\n",
       "    }\n",
       "</style>\n",
       "<table border=\"1\" class=\"dataframe\">\n",
       "  <thead>\n",
       "    <tr style=\"text-align: right;\">\n",
       "      <th></th>\n",
       "      <th>singer</th>\n",
       "      <th>judge1</th>\n",
       "      <th>judge2</th>\n",
       "    </tr>\n",
       "  </thead>\n",
       "  <tbody>\n",
       "    <tr>\n",
       "      <th>0</th>\n",
       "      <td>A</td>\n",
       "      <td>2</td>\n",
       "      <td>4</td>\n",
       "    </tr>\n",
       "    <tr>\n",
       "      <th>1</th>\n",
       "      <td>B</td>\n",
       "      <td>10</td>\n",
       "      <td>9</td>\n",
       "    </tr>\n",
       "    <tr>\n",
       "      <th>2</th>\n",
       "      <td>C</td>\n",
       "      <td>7</td>\n",
       "      <td>8</td>\n",
       "    </tr>\n",
       "    <tr>\n",
       "      <th>3</th>\n",
       "      <td>D</td>\n",
       "      <td>8</td>\n",
       "      <td>8</td>\n",
       "    </tr>\n",
       "    <tr>\n",
       "      <th>4</th>\n",
       "      <td>E</td>\n",
       "      <td>5</td>\n",
       "      <td>2</td>\n",
       "    </tr>\n",
       "    <tr>\n",
       "      <th>5</th>\n",
       "      <td>F</td>\n",
       "      <td>7</td>\n",
       "      <td>9</td>\n",
       "    </tr>\n",
       "    <tr>\n",
       "      <th>6</th>\n",
       "      <td>G</td>\n",
       "      <td>5</td>\n",
       "      <td>4</td>\n",
       "    </tr>\n",
       "    <tr>\n",
       "      <th>7</th>\n",
       "      <td>H</td>\n",
       "      <td>8</td>\n",
       "      <td>7</td>\n",
       "    </tr>\n",
       "    <tr>\n",
       "      <th>8</th>\n",
       "      <td>I</td>\n",
       "      <td>6</td>\n",
       "      <td>6</td>\n",
       "    </tr>\n",
       "    <tr>\n",
       "      <th>9</th>\n",
       "      <td>J</td>\n",
       "      <td>4</td>\n",
       "      <td>3</td>\n",
       "    </tr>\n",
       "  </tbody>\n",
       "</table>\n",
       "</div>"
      ],
      "text/plain": [
       "  singer  judge1  judge2\n",
       "0      A       2       4\n",
       "1      B      10       9\n",
       "2      C       7       8\n",
       "3      D       8       8\n",
       "4      E       5       2\n",
       "5      F       7       9\n",
       "6      G       5       4\n",
       "7      H       8       7\n",
       "8      I       6       6\n",
       "9      J       4       3"
      ]
     },
     "execution_count": 33,
     "metadata": {},
     "output_type": "execute_result"
    }
   ],
   "source": [
    "schwifty = pd.DataFrame({\n",
    "'singer': ['A', 'B', 'C', 'D', 'E', 'F', 'G','H', 'I', 'J'],\n",
    "'judge1': [2, 10, 7, 8, 5, 7, 5, 8, 6, 4],\n",
    "'judge2': [4, 9, 8, 8, 2, 9, 4, 7, 6, 3]})\n",
    "\n",
    "schwifty"
   ]
  },
  {
   "cell_type": "code",
   "execution_count": 34,
   "id": "f9402172-a5c6-4f3f-9ad0-d28eb329d2b6",
   "metadata": {},
   "outputs": [
    {
     "name": "stdout",
     "output_type": "stream",
     "text": [
      "Spearman correlation coefficient (r) = 0.8148, p-value = 0.0041\n"
     ]
    }
   ],
   "source": [
    "# Calculate the Spearman rank-order correlation coefficient and p-value\n",
    "r, p = stats.spearmanr(schwifty['judge1'], schwifty['judge2'])               # r: correlation coefficient, p: significance level\n",
    "\n",
    "# Print the results in a formatted string\n",
    "print(f\"Spearman correlation coefficient (r) = {r:.4f}, p-value = {p:.4f}\")  # Display r and p with 4 decimal precision"
   ]
  },
  {
   "cell_type": "markdown",
   "id": "06394f1f-70a8-4dd5-8b6b-c53823df8b40",
   "metadata": {},
   "source": [
    "##### Spearman Correlation Coefficient (r)\n",
    "\n",
    "    r=0.8148: Indicates a strong positive monotonic relationship between judge1 and judge2 scores.\n",
    "    This means that as one judge's ranking increases, the other judge's ranking tends to increase as well.\n",
    "\n",
    "##### P-value (p):\n",
    "\n",
    "    p=0.0041: This is much smaller than the typical significance level (α=0.05).\n",
    "\n",
    "##### Conclusion: \n",
    "\n",
    "    The correlation is statistically significant, meaning the observed relationship is unlikely to be due to random chance."
   ]
  },
  {
   "cell_type": "markdown",
   "id": "97933784-b965-492f-b552-f00465e6a0f6",
   "metadata": {},
   "source": [
    "# Hypothesis Testing with One Sample"
   ]
  },
  {
   "cell_type": "markdown",
   "id": "05508895-3c19-437c-a498-7d1170a90e8f",
   "metadata": {},
   "source": [
    "A good example for\n",
    "using hypothesis testing is when we want to check if the\n",
    "estimated parameter from a population is significantly\n",
    "different from a hypothesised population value. We call this\n",
    "type of test a one-sample test."
   ]
  },
  {
   "cell_type": "markdown",
   "id": "156ac6e1-8af4-4f6e-a5b9-a0a7769dfbae",
   "metadata": {},
   "source": [
    "**The Caprica City manufacturer is claiming that their toasters have resistor of 48W. This time we have a set of 12 measurements for the resistor:**\n",
    "\n",
    "**data = [54.79, 59.62, 57.33, 48.57, 51.14, 25.78, 53.50,50.75, 43.34, 45.81, 43.88, 60.47]**"
   ]
  },
  {
   "cell_type": "markdown",
   "id": "5c73f2dc-c91e-4932-aabf-887f25dc9434",
   "metadata": {},
   "source": [
    "* H0 : mu = 48\n",
    "* Ha : mu != 48"
   ]
  },
  {
   "cell_type": "code",
   "execution_count": 40,
   "id": "385b3f24-61bc-4bfc-b16f-55f226a222c1",
   "metadata": {},
   "outputs": [
    {
     "name": "stdout",
     "output_type": "stream",
     "text": [
      "Sample Mean (x̄): 49.58\n",
      "Sample Standard Deviation (s): 9.43\n"
     ]
    }
   ],
   "source": [
    "# Define the dataset\n",
    "data = np.array([54.79, 59.62, 57.33, 48.57, 51.14, 25.78, 53.50, 50.75, 43.34, 45.81, 43.88, 60.47])\n",
    "\n",
    "# Calculate the sample mean\n",
    "xbar = np.mean(data)                              # Compute the arithmetic mean of the dataset\n",
    "\n",
    "# Calculate the sample standard deviation\n",
    "s = np.std(data, ddof=1)                          # Compute the unbiased standard deviation (n-1 in denominator)\n",
    "\n",
    "# Print the results with meaningful labels\n",
    "print(f\"Sample Mean (x̄): {xbar:.2f}\")             # Display the mean with 2 decimal places\n",
    "print(f\"Sample Standard Deviation (s): {s:.2f}\")  # Display the standard deviation with 2 decimal places"
   ]
  },
  {
   "cell_type": "code",
   "execution_count": 41,
   "id": "86462d01-6dc3-4de1-8558-23454f049344",
   "metadata": {},
   "outputs": [
    {
     "name": "stdout",
     "output_type": "stream",
     "text": [
      "Two-tailed p-value: 0.5731\n"
     ]
    }
   ],
   "source": [
    "from scipy.stats import t  # Import the t-distribution functions\n",
    "\n",
    "# Define parameters\n",
    "mu = 48                                   # Population mean (null hypothesis value)\n",
    "n = len(data)                             # Sample size (number of observations)\n",
    "\n",
    "# Calculate the t-statistic for a one-sample t-test\n",
    "ts = (xbar - mu) / (s / np.sqrt(n))       # t-statistic: (sample mean - population mean) / standard error\n",
    "\n",
    "# Calculate the two-tailed p-value\n",
    "pval = 2 * t.sf(abs(ts), n - 1)           # Survival function (sf) gives the upper tail probability; double for two-tailed test\n",
    "\n",
    "# Print the p-value with a descriptive label\n",
    "print(f\"Two-tailed p-value: {pval:.4f}\")  # Display the p-value with 4 decimal precision"
   ]
  },
  {
   "cell_type": "code",
   "execution_count": 42,
   "id": "4d52cdd9-4db5-4663-a4fc-d73b6b599b77",
   "metadata": {},
   "outputs": [
    {
     "data": {
      "image/png": "[encoded data removed]",
      "text/plain": [
       "<Figure size 1000x600 with 1 Axes>"
      ]
     },
     "metadata": {},
     "output_type": "display_data"
    }
   ],
   "source": [
    "# Define parameters for the t-test\n",
    "mu = 48                              # Population mean\n",
    "n = len(data)                        # Sample size\n",
    "ts = (xbar - mu) / (s / np.sqrt(n))  # t-statistic\n",
    "alpha = 0.05                         # Significance level (two-tailed)\n",
    "df = n - 1                           # Degrees of freedom\n",
    "\n",
    "# Critical t-values for the rejection regions\n",
    "t_crit = t.ppf(1 - alpha / 2, df)    # Upper critical value\n",
    "x = np.linspace(-4, 4, 500)          # Range of t-values for the t-distribution\n",
    "\n",
    "# Plot the t-distribution\n",
    "plt.figure(figsize=(10, 6))\n",
    "plt.plot(x, t.pdf(x, df), label=\"t-distribution\", color='blue')  # t-distribution curve\n",
    "\n",
    "# Shade the rejection regions\n",
    "plt.fill_between(x, 0, t.pdf(x, df), where=(x < -t_crit) | (x > t_crit), color='red', alpha=0.5, label=\"Rejection Region\")\n",
    "\n",
    "# Add vertical dashed lines for critical values\n",
    "plt.axvline(-t_crit, linestyle='--', color='black', linewidth=1.5, label=f\"Critical Value (-t_crit): -{t_crit:.2f}\")\n",
    "plt.axvline(t_crit, linestyle='--', color='black', linewidth=1.5, label=f\"Critical Value (+t_crit): {t_crit:.2f}\")\n",
    "\n",
    "# Add vertical line for the observed t-statistic\n",
    "plt.axvline(ts, linestyle=':', color='green', linewidth=2, label=f\"Observed t-statistic: {ts:.2f}\")\n",
    "\n",
    "# Add labels, legend, and title\n",
    "plt.title(\"t-Distribution with Rejection Regions\", fontsize=14)\n",
    "plt.xlabel(\"t-value\", fontsize=12)\n",
    "plt.ylabel(\"Probability Density\", fontsize=12)\n",
    "plt.legend(fontsize=10)\n",
    "plt.grid(linestyle='--', alpha=0.7)\n",
    "plt.tight_layout()\n",
    "\n",
    "# Show the plot\n",
    "plt.show()"
   ]
  },
  {
   "cell_type": "code",
   "execution_count": 43,
   "id": "8db53784-e6ed-412e-becf-76f28c7b161f",
   "metadata": {},
   "outputs": [
    {
     "name": "stdout",
     "output_type": "stream",
     "text": [
      "t-statistic: 0.5808\n",
      "    p-value: 0.5731\n"
     ]
    }
   ],
   "source": [
    "from scipy.stats import ttest_1samp\n",
    "\n",
    "# Perform a one-sample t-test\n",
    "t_stat, p_value = ttest_1samp(data, popmean=mu, alternative='two-sided')\n",
    "\n",
    "# Print the t-statistic and p-value with descriptive labels\n",
    "print(f\"t-statistic: {t_stat:.4f}\")  # Display the calculated t-statistic\n",
    "print(f\"    p-value: {p_value:.4f}\")     # Display the two-tailed p-value"
   ]
  },
  {
   "cell_type": "markdown",
   "id": "7192ac50-fdce-49ea-8374-c99128996400",
   "metadata": {},
   "source": [
    "     p-value (0.5731) > alpha (0.05), we can not reject the null hypothesis (H0: mu = 48)"
   ]
  },
  {
   "cell_type": "code",
   "execution_count": 45,
   "id": "6c841467-a958-490f-bc44-341c46dd4478",
   "metadata": {},
   "outputs": [
    {
     "name": "stdout",
     "output_type": "stream",
     "text": [
      "stat = 0.5808, p-value= 0.5731\n",
      "\n",
      "Can’t Reject the null hypothesis. There is no evidence to suggest that the mean is different from 48.\n"
     ]
    }
   ],
   "source": [
    "# Automatic Response\n",
    "\n",
    "def t_test(data, mu, alt='two-sided', alpha=0.05):\n",
    "    \n",
    "    stat, p =ttest_1samp(data, mu, alternative=alt)\n",
    "    print('stat = {0:.4f}, p-value= {1:.4f}'.format(stat, p))\n",
    "    print()\n",
    "    \n",
    "    if p > alpha:\n",
    "        print(\"Can’t Reject the null hypothesis. There is no evidence to suggest that the mean is different from {0}.\".format(mu))\n",
    "    else:\n",
    "        print(\"Reject the null hypothesis. The mean is different from {0}.\".format(mu))\n",
    "\n",
    "t_test(data, mu)"
   ]
  },
  {
   "cell_type": "markdown",
   "id": "246e5e98-35d9-4326-bff6-e482c41592f6",
   "metadata": {},
   "source": [
    "## One-Sample z-test for Proportions"
   ]
  },
  {
   "cell_type": "markdown",
   "id": "c21aefa4-aefa-44b0-aaaf-f075bed62cdb",
   "metadata": {},
   "source": [
    "**A marketing team wants to evaluate the performance of a new advertising campaign. Historically, 36% of users click on ads on their platform. The team tested the new campaign on 100 users and observed that 40 users clicked on the ads. They want to determine if the click-through rate (CTR) for the new campaign is significantly different from the historical rate of 36%.**"
   ]
  },
  {
   "cell_type": "markdown",
   "id": "7cbfc22e-cc8a-4ec3-a4ab-db849b1691b9",
   "metadata": {},
   "source": [
    "    H0: p = 0.36\n",
    "    Ha: p != 0.36"
   ]
  },
  {
   "cell_type": "code",
   "execution_count": 49,
   "id": "43dfcef7-6dab-48c7-80aa-fdffe830008b",
   "metadata": {},
   "outputs": [
    {
     "name": "stdout",
     "output_type": "stream",
     "text": [
      "Z-statistic: 0.8165\n",
      "    p-value: 0.4142\n",
      "\n",
      "Fail to reject the null hypothesis: The new campaign's CTR is not significantly different from 36%.\n"
     ]
    }
   ],
   "source": [
    "from statsmodels.stats.proportion import proportions_ztest\n",
    "\n",
    "# Observed data\n",
    "count = 40    # Number of users who clicked on the ad\n",
    "nobs = 100    # Total number of users in the sample\n",
    "value = 0.36  # Historical click-through rate (CTR)\n",
    "\n",
    "# Perform the z-test for proportions\n",
    "stat, pval = proportions_ztest(count=count, nobs=nobs, value=value)\n",
    "\n",
    "# Print the results\n",
    "print(f\"Z-statistic: {stat:.4f}\")  # Z-score for the test\n",
    "print(f\"    p-value: {pval:.4f}\")      # Two-tailed p-value\n",
    "print()\n",
    "\n",
    "# Interpretation\n",
    "alpha = 0.05                       # Significance level\n",
    "if pval < alpha:\n",
    "    print(\"Reject the null hypothesis: The new campaign has a significantly different CTR.\")\n",
    "else:\n",
    "    print(\"Fail to reject the null hypothesis: The new campaign's CTR is not significantly different from 36%.\")"
   ]
  },
  {
   "cell_type": "code",
   "execution_count": 50,
   "id": "ccda71dd-0f85-43ae-a891-f03182582aff",
   "metadata": {},
   "outputs": [
    {
     "name": "stdout",
     "output_type": "stream",
     "text": [
      "Z-statistic: 0.8165\n",
      "p-value: 0.4142\n",
      "\n"
     ]
    },
    {
     "data": {
      "image/png": "[encoded data removed]",
      "text/plain": [
       "<Figure size 1000x600 with 1 Axes>"
      ]
     },
     "metadata": {},
     "output_type": "display_data"
    }
   ],
   "source": [
    "# Observed data\n",
    "count = 40    # Number of successes (users who clicked the ad)\n",
    "nobs = 100    # Total number of observations\n",
    "value = 0.36  # Historical click-through rate (CTR)\n",
    "\n",
    "# Perform the z-test for proportions\n",
    "stat, pval = proportions_ztest(count=count, nobs=nobs, value=value)\n",
    "print(f\"Z-statistic: {stat:.4f}\")  # Z-score for the test\n",
    "print(f\"p-value: {pval:.4f}\\n\")    # Two-tailed p-value\n",
    "\n",
    "# Define parameters for the z-test\n",
    "alpha = 0.05  # Significance level for a two-tailed test\n",
    "z_crit = norm.ppf(1 - alpha / 2)   # Critical z-value for rejection regions\n",
    "x = np.linspace(-4, 4, 500)        # Range of z-values for the normal distribution\n",
    "\n",
    "# Plot the z-distribution\n",
    "plt.figure(figsize=(10, 6))\n",
    "plt.plot(x, norm.pdf(x), label=\"Standard Normal Distribution\", color='blue')  # z-distribution curve\n",
    "\n",
    "# Shade the rejection regions\n",
    "plt.fill_between(x, 0, norm.pdf(x), where=(x < -z_crit) | (x > z_crit), color='red', alpha=0.5, label=\"Rejection Region\")\n",
    "\n",
    "# Add vertical dashed lines for critical values\n",
    "plt.axvline(-z_crit, linestyle='--', color='black', linewidth=1.5, label=f\"Critical Value (-z_crit): -{z_crit:.2f}\")\n",
    "plt.axvline(z_crit, linestyle='--', color='black', linewidth=1.5, label=f\"Critical Value (+z_crit): {z_crit:.2f}\")\n",
    "\n",
    "# Add vertical line for the observed z-statistic\n",
    "plt.axvline(stat, linestyle=':', color='green', linewidth=2, label=f\"Observed Z-statistic: {stat:.2f}\")\n",
    "\n",
    "# Add labels, legend, and title\n",
    "plt.title(\"Z-Test for Proportions with Rejection Regions\", fontsize=14)\n",
    "plt.xlabel(\"Z-value\", fontsize=12)\n",
    "plt.ylabel(\"Probability Density\", fontsize=12)\n",
    "plt.legend(fontsize=10)\n",
    "plt.grid(linestyle='--', alpha=0.7)\n",
    "plt.tight_layout()\n",
    "\n",
    "# Show the plot\n",
    "plt.show()"
   ]
  },
  {
   "cell_type": "markdown",
   "id": "4ec2e242-68d1-4d6f-bce2-377daf49b9a9",
   "metadata": {},
   "source": [
    "**A factory produces light bulbs, and historical data suggests that 75% (𝑝0 = 0.75) of the bulbs pass quality control. The factory conducts a quality check on 256 randomly selected bulbs and finds that 131 of them passed the quality check (𝑝 = 131/256). The factory manager wants to determine if the passing rate has significantly deviated from the historical rate of 75%.**"
   ]
  },
  {
   "cell_type": "code",
   "execution_count": 52,
   "id": "f6e44101-d91c-4ab7-b833-f5bd9a56688a",
   "metadata": {},
   "outputs": [
    {
     "name": "stdout",
     "output_type": "stream",
     "text": [
      "Z-score: -8.8046\n"
     ]
    }
   ],
   "source": [
    "# Define the hypothesized population proportion (null hypothesis)\n",
    "p0 = 0.75                                            # Hypothesized proportion (e.g., 75%)\n",
    "\n",
    "# Define the sample size\n",
    "n = 256                                              # Total number of observations\n",
    "\n",
    "# Calculate the sample proportion\n",
    "p = 131 / n                                          # Observed proportion: successes divided by total observations\n",
    "\n",
    "# Calculate the expected count of successes under the null hypothesis\n",
    "count = n * p0                                       # Expected count under null hypothesis\n",
    "\n",
    "# Calculate the z-score for the sample proportion\n",
    "\n",
    "zscore = (p - p0) / np.sqrt((p0 * (1 - p0)) / n)     # Formula: (Observed proportion - Hypothesized proportion) / Standard error\n",
    "\n",
    "# Print the calculated z-score with a descriptive label\n",
    "print(f\"Z-score: {zscore:.4f}\")                      # Display the z-score"
   ]
  },
  {
   "cell_type": "code",
   "execution_count": 53,
   "id": "7f863134-69f1-484b-b6d2-b968979daf1d",
   "metadata": {},
   "outputs": [
    {
     "name": "stdout",
     "output_type": "stream",
     "text": [
      "Z-score: -8.8046\n"
     ]
    },
    {
     "data": {
      "image/png": "[encoded data removed]",
      "text/plain": [
       "<Figure size 1000x600 with 1 Axes>"
      ]
     },
     "metadata": {},
     "output_type": "display_data"
    }
   ],
   "source": [
    "# Define the hypothesized population proportion\n",
    "p0 = 0.75    # Hypothesized proportion (e.g., 75%)\n",
    "\n",
    "# Define the sample size\n",
    "n = 256      # Total number of observations\n",
    "\n",
    "# Calculate the sample proportion\n",
    "p = 131 / n  # Observed proportion: successes divided by total observations\n",
    "\n",
    "# Calculate the z-score for the sample proportion\n",
    "zscore = (p - p0) / np.sqrt((p0 * (1 - p0)) / n)  # Z-score formula\n",
    "\n",
    "# Print the calculated z-score\n",
    "print(f\"Z-score: {zscore:.4f}\")\n",
    "\n",
    "# Define significance level and critical z-values\n",
    "alpha = 0.05  # Significance level for a two-tailed test\n",
    "z_crit = norm.ppf(1 - alpha / 2)  # Critical z-value for rejection regions\n",
    "x = np.linspace(-4, 4, 500)       # Range of z-values for the standard normal distribution\n",
    "\n",
    "# Plot the standard normal distribution\n",
    "plt.figure(figsize=(10, 6))\n",
    "plt.plot(x, norm.pdf(x), label=\"Standard Normal Distribution\", color='blue')  # Normal distribution curve\n",
    "\n",
    "# Shade the rejection regions\n",
    "plt.fill_between(x, 0, norm.pdf(x), where=(x < -z_crit) | (x > z_crit), color='red', alpha=0.5, label=\"Rejection Region\")\n",
    "\n",
    "# Add vertical dashed lines for critical values\n",
    "plt.axvline(-z_crit, linestyle='--', color='black', linewidth=1.5, label=f\"Critical Value (-z_crit): -{z_crit:.2f}\")\n",
    "plt.axvline(z_crit, linestyle='--', color='black', linewidth=1.5, label=f\"Critical Value (+z_crit): {z_crit:.2f}\")\n",
    "\n",
    "# Add vertical line for the observed z-score\n",
    "plt.axvline(zscore, linestyle=':', color='green', linewidth=2, label=f\"Observed Z-score: {zscore:.2f}\")\n",
    "\n",
    "# Add labels, legend, and title\n",
    "plt.title(\"Z-Test for Proportions with Rejection Regions\", fontsize=14)\n",
    "plt.xlabel(\"Z-value\", fontsize=12)\n",
    "plt.ylabel(\"Probability Density\", fontsize=12)\n",
    "plt.legend(fontsize=10)\n",
    "plt.grid(linestyle='--', alpha=0.7)\n",
    "plt.tight_layout()\n",
    "\n",
    "# Show the plot\n",
    "plt.show()"
   ]
  },
  {
   "cell_type": "code",
   "execution_count": 54,
   "id": "c5728bf9-2096-44f4-ad7d-851cd6ab6f93",
   "metadata": {},
   "outputs": [
    {
     "name": "stdout",
     "output_type": "stream",
     "text": [
      "P-value: 0.0000\n",
      "Reject the null hypothesis: The passing rate has significantly changed.\n"
     ]
    }
   ],
   "source": [
    "# Calculate p-value for the two-tailed test\n",
    "p_value = 2 * norm.sf(abs(zscore))  # Two-tailed p-value\n",
    "print(f\"P-value: {p_value:.4f}\")\n",
    "\n",
    "# Conclusion\n",
    "alpha = 0.05                        # Significance level\n",
    "if p_value < alpha:\n",
    "    print(\"Reject the null hypothesis: The passing rate has significantly changed.\")        # Ha: p!= p0\n",
    "else:\n",
    "    print(\"Fail to reject the null hypothesis: The passing rate is consistent with 75%.\")   # H0: p = p0"
   ]
  },
  {
   "cell_type": "markdown",
   "id": "ca3f629a-0d3d-4310-a31f-47d9f8c9aa05",
   "metadata": {},
   "source": [
    "## Wilcoxon Signed Rank with One-Sample"
   ]
  },
  {
   "cell_type": "markdown",
   "id": "da3532d6-81a8-4da2-bf67-4cffac6bfd16",
   "metadata": {},
   "source": [
    "The one-sample Wilcoxon test is a non-parametric alternative to the one-sample t-test. It is used to compare the median of a single sample to a known value when the data do not meet the normality assumption.\n",
    "\n",
    "**Purpose:** Tests whether the population median differs significantly from a hypothesized value.\n",
    "\n",
    "Assumptions:\n",
    "\n",
    "    Data are paired or come from a single sample.\n",
    "    The differences are symmetric about the median.\n",
    "\n",
    "**When to Use:** When the data are not normally distributed, or the sample size is small.\n",
    "\n",
    "Example: You want to test if the median weight of a sample differs from 50 kg. The one-sample Wilcoxon test can be used to assess this hypothesis without assuming normality."
   ]
  },
  {
   "cell_type": "code",
   "execution_count": 57,
   "id": "e6f6cb55-3402-4676-9e96-86373b4c8a2b",
   "metadata": {},
   "outputs": [],
   "source": [
    "from scipy.stats import wilcoxon\n",
    "\n",
    "def wilcoxon1s(data, m0, alt='two-sided', alpha=0.05):\n",
    "    \n",
    "    stat, p = wilcoxon(data-m0, alternative=alt)\n",
    "    print('stat ={0:.4f}, p-value= {1:.4f}'.format(stat, p))\n",
    "    print()\n",
    "    \n",
    "    if p > alpha:\n",
    "        print(\"Can’t reject the null hypothesis. There is no evidence to suggest that the median is different from {0}.\".format(m0))\n",
    "    else:\n",
    "        print(\"Reject the null hypothesis.The median is different from {0}.\".format(m0))"
   ]
  },
  {
   "cell_type": "code",
   "execution_count": 58,
   "id": "0c743987-fbb0-4b16-8042-a39dc4c95568",
   "metadata": {},
   "outputs": [
    {
     "name": "stdout",
     "output_type": "stream",
     "text": [
      "stat =132.0000, p-value= 0.4261\n",
      "\n",
      "Can’t reject the null hypothesis. There is no evidence to suggest that the median is different from 41.\n"
     ]
    }
   ],
   "source": [
    "lieutenants=np.array([32.4, 55.2, 40.5, 47.9, 33.4, 34.3, 28.1, 43.0, 34.8, 60.2,\n",
    "                        48.5, 52.2, 29.7, 29.9, 26.6, 44.4, 43.6, 50.4, 47.3, 34.2,\n",
    "                        38.5, 61.0, 55.3, 45.2, 58.6])\n",
    "\n",
    "wilcoxon1s(lieutenants, 41)"
   ]
  },
  {
   "cell_type": "markdown",
   "id": "8b88e6dc-8ad0-4194-8c28-6c329fc26023",
   "metadata": {},
   "source": [
    "# Hypothesis Testing with Two Samples"
   ]
  },
  {
   "cell_type": "markdown",
   "id": "f7b8c0c8-5286-40c7-82a2-da87bfdc8d0a",
   "metadata": {},
   "source": [
    "### Two-Sample t-test – Comparing Means, Same Variances"
   ]
  },
  {
   "cell_type": "markdown",
   "id": "f6813b1c-b721-417a-8f7d-102951b4dfbe",
   "metadata": {},
   "source": [
    "    • H0 : m1 − m2 = c\n",
    "    • Ha : m1 − m2 != c."
   ]
  },
  {
   "cell_type": "code",
   "execution_count": 62,
   "id": "fe9688f5-9444-4add-8bb2-6437925264ae",
   "metadata": {},
   "outputs": [
    {
     "data": {
      "text/html": [
       "<div>\n",
       "<style scoped>\n",
       "    .dataframe tbody tr th:only-of-type {\n",
       "        vertical-align: middle;\n",
       "    }\n",
       "\n",
       "    .dataframe tbody tr th {\n",
       "        vertical-align: top;\n",
       "    }\n",
       "\n",
       "    .dataframe thead th {\n",
       "        text-align: right;\n",
       "    }\n",
       "</style>\n",
       "<table border=\"1\" class=\"dataframe\">\n",
       "  <thead>\n",
       "    <tr style=\"text-align: right;\">\n",
       "      <th></th>\n",
       "      <th>model</th>\n",
       "      <th>mpg</th>\n",
       "      <th>cyl</th>\n",
       "      <th>disp</th>\n",
       "      <th>hp</th>\n",
       "      <th>drat</th>\n",
       "      <th>wt</th>\n",
       "      <th>qsec</th>\n",
       "      <th>vs</th>\n",
       "      <th>am</th>\n",
       "      <th>gear</th>\n",
       "      <th>carb</th>\n",
       "    </tr>\n",
       "  </thead>\n",
       "  <tbody>\n",
       "    <tr>\n",
       "      <th>0</th>\n",
       "      <td>Mazda RX4</td>\n",
       "      <td>21.0</td>\n",
       "      <td>6</td>\n",
       "      <td>160.0</td>\n",
       "      <td>110</td>\n",
       "      <td>3.90</td>\n",
       "      <td>2.620</td>\n",
       "      <td>16.46</td>\n",
       "      <td>0</td>\n",
       "      <td>1</td>\n",
       "      <td>4</td>\n",
       "      <td>4</td>\n",
       "    </tr>\n",
       "    <tr>\n",
       "      <th>1</th>\n",
       "      <td>Mazda RX4 Wag</td>\n",
       "      <td>21.0</td>\n",
       "      <td>6</td>\n",
       "      <td>160.0</td>\n",
       "      <td>110</td>\n",
       "      <td>3.90</td>\n",
       "      <td>2.875</td>\n",
       "      <td>17.02</td>\n",
       "      <td>0</td>\n",
       "      <td>1</td>\n",
       "      <td>4</td>\n",
       "      <td>4</td>\n",
       "    </tr>\n",
       "    <tr>\n",
       "      <th>2</th>\n",
       "      <td>Datsun 710</td>\n",
       "      <td>22.8</td>\n",
       "      <td>4</td>\n",
       "      <td>108.0</td>\n",
       "      <td>93</td>\n",
       "      <td>3.85</td>\n",
       "      <td>2.320</td>\n",
       "      <td>18.61</td>\n",
       "      <td>1</td>\n",
       "      <td>1</td>\n",
       "      <td>4</td>\n",
       "      <td>1</td>\n",
       "    </tr>\n",
       "    <tr>\n",
       "      <th>3</th>\n",
       "      <td>Hornet 4 Drive</td>\n",
       "      <td>21.4</td>\n",
       "      <td>6</td>\n",
       "      <td>258.0</td>\n",
       "      <td>110</td>\n",
       "      <td>3.08</td>\n",
       "      <td>3.215</td>\n",
       "      <td>19.44</td>\n",
       "      <td>1</td>\n",
       "      <td>0</td>\n",
       "      <td>3</td>\n",
       "      <td>1</td>\n",
       "    </tr>\n",
       "    <tr>\n",
       "      <th>4</th>\n",
       "      <td>Hornet Sportabout</td>\n",
       "      <td>18.7</td>\n",
       "      <td>8</td>\n",
       "      <td>360.0</td>\n",
       "      <td>175</td>\n",
       "      <td>3.15</td>\n",
       "      <td>3.440</td>\n",
       "      <td>17.02</td>\n",
       "      <td>0</td>\n",
       "      <td>0</td>\n",
       "      <td>3</td>\n",
       "      <td>2</td>\n",
       "    </tr>\n",
       "  </tbody>\n",
       "</table>\n",
       "</div>"
      ],
      "text/plain": [
       "               model   mpg  cyl   disp   hp  drat     wt   qsec  vs  am  gear  \\\n",
       "0          Mazda RX4  21.0    6  160.0  110  3.90  2.620  16.46   0   1     4   \n",
       "1      Mazda RX4 Wag  21.0    6  160.0  110  3.90  2.875  17.02   0   1     4   \n",
       "2         Datsun 710  22.8    4  108.0   93  3.85  2.320  18.61   1   1     4   \n",
       "3     Hornet 4 Drive  21.4    6  258.0  110  3.08  3.215  19.44   1   0     3   \n",
       "4  Hornet Sportabout  18.7    8  360.0  175  3.15  3.440  17.02   0   0     3   \n",
       "\n",
       "   carb  \n",
       "0     4  \n",
       "1     4  \n",
       "2     1  \n",
       "3     1  \n",
       "4     2  "
      ]
     },
     "execution_count": 62,
     "metadata": {},
     "output_type": "execute_result"
    }
   ],
   "source": [
    "url1 = ('https://gist.githubusercontent.com/seankross/a412dfbd88b3db70b74b/raw/5f23f993cd87c283ce766e7ac6b329ee7cc2e1d1/mtcars.csv')\n",
    "\n",
    "cars = pd.read_csv(url1)\n",
    "\n",
    "cars.head()"
   ]
  },
  {
   "cell_type": "code",
   "execution_count": 63,
   "id": "f9933135-a0fa-4ecb-acad-e182c2846c46",
   "metadata": {},
   "outputs": [
    {
     "data": {
      "text/plain": [
       "am\n",
       "0    17.147368\n",
       "1    24.392308\n",
       "Name: mpg, dtype: float64"
      ]
     },
     "execution_count": 63,
     "metadata": {},
     "output_type": "execute_result"
    }
   ],
   "source": [
    "ct = cars.groupby(['am'])\n",
    "ct['mpg'].mean()"
   ]
  },
  {
   "cell_type": "code",
   "execution_count": 64,
   "id": "6291c117-9c94-4cb7-83fc-4106d1beeb11",
   "metadata": {},
   "outputs": [],
   "source": [
    "automatic = cars[cars['am']==0][['mpg']]\n",
    "manual = cars[cars['am']==1][['mpg']]"
   ]
  },
  {
   "cell_type": "markdown",
   "id": "da76654f-058c-47d8-952b-8d9792379f2d",
   "metadata": {},
   "source": [
    "Let us check whether the data is normally distributed. We can use the Shapiro-Wilk function to test for normality"
   ]
  },
  {
   "cell_type": "code",
   "execution_count": 66,
   "id": "55b073b8-9520-4831-bdb3-6c2a14a4845c",
   "metadata": {},
   "outputs": [],
   "source": [
    "from scipy.stats import shapiro\n",
    "\n",
    "def shapiro_test(data, alpha=0.05):\n",
    "    \n",
    "    stat, p = shapiro(data)\n",
    "    print('stat = {0:.4f}, p-value= {1:.4f}'.format(stat, p))\n",
    "    print()\n",
    "    \n",
    "    if p > alpha:\n",
    "        print(\"Can’t Reject the null hypothesis. The data seems to be normally distributed.\")\n",
    "    else:\n",
    "        print(\"Reject the null hypothesis. The data does not seem to be normally distributed.\")"
   ]
  },
  {
   "cell_type": "code",
   "execution_count": 67,
   "id": "fb9a86da-6369-4f4b-a2ac-312f1b634316",
   "metadata": {},
   "outputs": [
    {
     "name": "stdout",
     "output_type": "stream",
     "text": [
      "stat = 0.9768, p-value= 0.8987\n",
      "\n",
      "Can’t Reject the null hypothesis. The data seems to be normally distributed.\n"
     ]
    }
   ],
   "source": [
    "shapiro_test(automatic, alpha=0.05)"
   ]
  },
  {
   "cell_type": "code",
   "execution_count": 68,
   "id": "0e74e45a-cd9e-4877-adaf-15a738950fa1",
   "metadata": {},
   "outputs": [
    {
     "name": "stdout",
     "output_type": "stream",
     "text": [
      "stat = 0.9458, p-value= 0.5363\n",
      "\n",
      "Can’t Reject the null hypothesis. The data seems to be normally distributed.\n"
     ]
    }
   ],
   "source": [
    "shapiro_test(manual, alpha=0.05)"
   ]
  },
  {
   "cell_type": "markdown",
   "id": "38a6bbdf-5d18-4789-bbcb-4ef2784518ae",
   "metadata": {},
   "source": [
    "### Hypotheses:\n",
    "\n",
    "- **Null Hypothesis $( H_0 $)**:  \n",
    "  The means of the two groups are equal $ \\mu_{\\text{automatic}} = \\mu_{\\text{manual}} $).\n",
    "\n",
    "- **Alternative Hypothesis $( H_1 $)**:  \n",
    "  The means of the two groups are not equal $( \\mu_{\\text{automatic}} \\neq \\mu_{\\text{manual}} $)."
   ]
  },
  {
   "cell_type": "code",
   "execution_count": 70,
   "id": "df9fb30c-9ce1-4862-b04a-5d94d244ce48",
   "metadata": {},
   "outputs": [
    {
     "name": "stdout",
     "output_type": "stream",
     "text": [
      "t-statistic = -4.1061, p-value = 0.0003\n"
     ]
    }
   ],
   "source": [
    "import scipy.stats as sps\n",
    "\n",
    "# Perform the two-sample t-test\n",
    "tstat, p = sps.ttest_ind(automatic, manual, alternative='two-sided', equal_var=True)\n",
    "\n",
    "# Ensure outputs are scalar\n",
    "if isinstance(tstat, np.ndarray):\n",
    "    tstat = tstat.item()\n",
    "if isinstance(p, np.ndarray):\n",
    "    p = p.item()\n",
    "\n",
    "# Print the results\n",
    "print(f\"t-statistic = {tstat:.4f}, p-value = {p:.4f}\")"
   ]
  },
  {
   "cell_type": "markdown",
   "id": "30a75d8e-f877-41c7-8beb-63b36220c20d",
   "metadata": {},
   "source": [
    "    We have a p-value (0.0003) < alpha (0.05). For a 95% confidence level we reject the null hypothesis. "
   ]
  },
  {
   "cell_type": "code",
   "execution_count": 72,
   "id": "5261d7f0-3f9e-4f6a-8076-a318ac71dbe5",
   "metadata": {},
   "outputs": [
    {
     "name": "stdout",
     "output_type": "stream",
     "text": [
      "stat = -4.1061, p-value = 0.0003, df = 30.0\n"
     ]
    }
   ],
   "source": [
    "import statsmodels.stats.weightstats as smw\n",
    "\n",
    "# Another way\n",
    "\n",
    "tstat, p, df = smw.ttest_ind(automatic, manual, alternative='two-sided', usevar='pooled')\n",
    "\n",
    "# Ensure outputs are scalar\n",
    "if isinstance(tstat, np.ndarray):\n",
    "    tstat = tstat.item()\n",
    "if isinstance(p, np.ndarray):\n",
    "    p = p.item()\n",
    "if isinstance(df, np.ndarray):\n",
    "    df = df.item()\n",
    "\n",
    "print('stat = {0:.4f}, p-value = {1:.4f}, df = {2}'.format(tstat, p, df))"
   ]
  },
  {
   "cell_type": "markdown",
   "id": "b0fdc3cf-e9dc-472f-835b-5bd17b665f55",
   "metadata": {},
   "source": [
    "## Levene’s Test – Testing Homoscedasticity"
   ]
  },
  {
   "cell_type": "markdown",
   "id": "1406cf4e-7fc8-4021-a707-8e8f29884467",
   "metadata": {},
   "source": [
    "    Levene’s test checks whether two or more groups have equal variances.\n",
    "    \n",
    "           Null Hypothesis (𝐻0): The variances of the groups are equal.\n",
    "    Alternative Hypothesis (𝐻1): At least one group has a different variance."
   ]
  },
  {
   "cell_type": "code",
   "execution_count": 75,
   "id": "e3b12875-8022-439d-8b0a-baab4ee8e70b",
   "metadata": {},
   "outputs": [
    {
     "name": "stdout",
     "output_type": "stream",
     "text": [
      "(19, 1)\n",
      "(13, 1)\n"
     ]
    }
   ],
   "source": [
    "print(automatic.shape)  # Should output (n,)\n",
    "print(manual.shape)     # Should output (m,)"
   ]
  },
  {
   "cell_type": "markdown",
   "id": "634fafb0-af29-471f-856f-b022ea2aaebf",
   "metadata": {},
   "source": [
    "Automatic and manual are pandas DataFrames, not NumPy arrays, so you need to extract their values as NumPy arrays first."
   ]
  },
  {
   "cell_type": "code",
   "execution_count": 77,
   "id": "bf4662b6-7430-484e-9b22-dacf1a5f3b80",
   "metadata": {},
   "outputs": [
    {
     "name": "stdout",
     "output_type": "stream",
     "text": [
      "Levene's Test Statistic = 4.1876, p-value = 0.0496\n"
     ]
    }
   ],
   "source": [
    "import scipy.stats as sps\n",
    "\n",
    "# Convert DataFrame columns to NumPy arrays and flatten\n",
    "automatic = automatic.values.ravel()  # Extract values and flatten\n",
    "manual = manual.values.ravel()        # Extract values and flatten\n",
    "\n",
    "# Perform Levene's test\n",
    "tstat, p = sps.levene(automatic, manual)\n",
    "\n",
    "# Print the results\n",
    "print(f\"Levene's Test Statistic = {tstat:.4f}, p-value = {p:.4f}\")"
   ]
  },
  {
   "cell_type": "markdown",
   "id": "51efdf1d-085c-4b09-bfbd-813abdb38590",
   "metadata": {},
   "source": [
    "    We have a p-value (0.0496) < alpha (0.05). For a 95% confidence level we reject the null hypothesis. \n",
    "    In this case, At least one group has a different variance. \n",
    "    There is enough evidence to conclude that the variances of the two groups are not equal."
   ]
  },
  {
   "cell_type": "markdown",
   "id": "1ef15c0e-fd72-40a4-a190-1b7871a1fb30",
   "metadata": {},
   "source": [
    "## Welch’s t-test – Comparing Means, Different Variances"
   ]
  },
  {
   "cell_type": "markdown",
   "id": "905f918a-021f-45cd-aa08-b314eae268c5",
   "metadata": {},
   "source": [
    "Welch’s t-test is a statistical test used to compare the means of two independent groups. It is a variation of the standard independent t-test that **does not assume equal variances between the two groups**. This makes it more robust when the group variances or sample sizes are unequal.\n",
    "\n",
    "#### When to Use:\n",
    "\n",
    "    When the variances of the two groups are unequal.\n",
    "    When the sample sizes of the groups are different.\n",
    "\n",
    "### Hypotheses:\r\n",
    "\r\n",
    "- **Null Hypothesis $( H_0 )$**:  \r\n",
    "  $ \\mu_1 = \\mu_2 $  \r\n",
    "  The means of the two groups are equal.\r\n",
    "\r\n",
    "- **Alternative Hypothesis $( H_1 )$**:  \r\n",
    "  $ \\mu_1 \\neq \\mu_2 $  \r\n",
    "  The means of the two groups are not\n",
    "### Advantages of Welch’s t-test:\r\n",
    "\r\n",
    "1. **No Assumption of Equal Variances**:  \r\n",
    "   Unlike the standard t-test, Welch’s t-test does not assume the variances of the two groups are the same.\r\n",
    "\r\n",
    "2. **Handles Unequal Sample Sizes**:  \r\n",
    "   It adjusts for differences in sample sizes between groups.\r\n",
    "\r\n",
    "3. **Robustness**:  \r\n",
    "   Provides more reliable results when the assumptions of the standard t-test are iolated.\r\n",
    " equal.\r\n"
   ]
  },
  {
   "cell_type": "code",
   "execution_count": 81,
   "id": "5b45bd41-b5ae-41f1-9e32-2cd358a971a1",
   "metadata": {},
   "outputs": [
    {
     "name": "stdout",
     "output_type": "stream",
     "text": [
      "stat = -3.7671, p-value= 0.0014\n"
     ]
    }
   ],
   "source": [
    "import scipy.stats as sps\n",
    "\n",
    "tstat, p = sps.ttest_ind(automatic, manual, alternative='two-sided', equal_var=False)\n",
    "print('stat = {0:.4f}, p-value= {1:.4f}'.format(tstat, p))"
   ]
  },
  {
   "cell_type": "code",
   "execution_count": 82,
   "id": "6f408ae8-8337-4247-9e30-6c2fb29219d0",
   "metadata": {},
   "outputs": [
    {
     "name": "stdout",
     "output_type": "stream",
     "text": [
      "stat = -3.7671, p-value = 0.0014, df = 18.3323\n"
     ]
    }
   ],
   "source": [
    "import statsmodels.stats.weightstats as smw\n",
    "\n",
    "# Another way\n",
    "\n",
    "tstat, p, df = smw.ttest_ind(automatic, manual, alternative='two-sided', usevar='unequal')\n",
    "print('stat = {0:.4f}, p-value = {1:.4f}, df = {2:.4f}'.format(tstat, p, df))"
   ]
  },
  {
   "cell_type": "markdown",
   "id": "5b4ba395-c14e-4417-9576-4b495ac55fe6",
   "metadata": {},
   "source": [
    "## Mann-Whitney Test – Testing Non-normal Samples"
   ]
  },
  {
   "cell_type": "markdown",
   "id": "336d470a-4494-46b7-b8a9-4c985b14db8c",
   "metadata": {},
   "source": [
    "The **Mann-Whitney Test** (also called the U Test) is a **non-parametric test** used to compare two independent groups when the data are **not normally distributed**. It tests whether one group tends to have higher (or lower) values than the other.\n",
    "\n",
    "#### Key Features:\n",
    "- **Hypotheses**:\n",
    "  - **Null Hypothesis $( H_0 )$**: The two groups have the same distribution.\n",
    "  - **Alternative Hypothesis $( H_1 )$**: The distributions of the two groups differ.\n",
    "  \n",
    "- **Purpose**:  \n",
    "  Determines if one group generally has larger values than the other, without assuming normality.\n",
    "\n",
    "- **When to Use**:\n",
    "  - Data do not meet normality assumptions.\n",
    "  - Small sample sizes.\n",
    "  - Comparing medians rather than means.\n",
    "\n",
    "#### Example Use Case:\n",
    "You want to compare the effectiveness of two treatments (e.g., drug A vs. drug B) on pain reduction, but the data are not normally distributed. The Mann-Whitney Test is an appropriate choice in this scenario."
   ]
  },
  {
   "cell_type": "markdown",
   "id": "c8dcafba-036c-43e3-b542-e702b71aab27",
   "metadata": {},
   "source": [
    "**Two new pain killers: “Headezine” and “Kabezine”.**\n",
    "\n",
    "| Headezine Volunteer | Rating | Kabezine Volunteer | Rating |\n",
    "|:--------------------:|:------:|:------------------:|:------:|\n",
    "|          1           |   4    |         1          |   8    |\n",
    "|          2           |   2    |         2          |   7    |\n",
    "|          3           |   6    |         3          |   5    |\n",
    "|          4           |   2    |         4          |  10    |\n",
    "|          5           |   3    |         5          |   6    |\n",
    "|          6           |   5    |         6          |   9    |\n",
    "|          7           |   7    |         7          |   8    |\n",
    "|          8           |   8    |                    |        |\n",
    "\n",
    "**We would like to know if there is a significant difference in Is there a difference in the perceived effectiveness of the treatments?**."
   ]
  },
  {
   "cell_type": "code",
   "execution_count": 86,
   "id": "d3c7a0c1-3b7b-46e7-9f69-16b3f61daf67",
   "metadata": {},
   "outputs": [
    {
     "name": "stdout",
     "output_type": "stream",
     "text": [
      "Headezine mean: 4.50\n",
      " Kabezine mean: 8.00\n"
     ]
    }
   ],
   "source": [
    "headezine = np.array([4, 2, 6, 2, 3, 5, 7, 8])\n",
    "kabezine = np.array([8, 7, 5, 10, 6, 9, 8])\n",
    "\n",
    "mhead = np.median(headezine)\n",
    "mkabe = np.median(kabezine)\n",
    "\n",
    "print(f'Headezine mean: {mhead:.2f}')\n",
    "print(f' Kabezine mean: {mkabe:.2f}')"
   ]
  },
  {
   "cell_type": "markdown",
   "id": "8b82867b-2532-47ae-be78-d125c95b9ba3",
   "metadata": {},
   "source": [
    "We can see that the medians are different, but we want to know if the difference is statistically significant. We can use\n",
    "the Mann-Whitney test for this purpose:"
   ]
  },
  {
   "cell_type": "code",
   "execution_count": 88,
   "id": "11a414c4-58f6-4657-a6a9-e820df40b703",
   "metadata": {},
   "outputs": [
    {
     "name": "stdout",
     "output_type": "stream",
     "text": [
      "stat = 8.5000, p-value= 0.0268\n"
     ]
    }
   ],
   "source": [
    "from scipy.stats import mannwhitneyu \n",
    "\n",
    "U, p = mannwhitneyu(headezine, kabezine)\n",
    "print('stat = {0:.4f}, p-value= {1:.4f}'.format(U, p))"
   ]
  },
  {
   "cell_type": "markdown",
   "id": "f5b0f503-b804-4ee0-b035-c3487cfff2ac",
   "metadata": {},
   "source": [
    "    With a p-value (0.0268) < alpha (0.05), we can reject the null hypothesis (the two groups have the same distribution) and conclude that the difference is statistically significant. "
   ]
  },
  {
   "cell_type": "markdown",
   "id": "61b6fd38-ee9c-4e95-8a3e-0f6c90842ec3",
   "metadata": {},
   "source": [
    "Note that since we carried out a two-tailed test we can only strictly conclude that there is a difference in the\n",
    "perceived effectiveness. If we wanted to assert that Kabezine is perceived to be more effective among the Starfleet\n",
    "volunteers, **we can use a one-tailed test**. Here, our alternative hypothesis being that Kabezine has a lower median:"
   ]
  },
  {
   "cell_type": "code",
   "execution_count": 91,
   "id": "67a1b27a-200f-4c77-bfc0-9a122f99b34a",
   "metadata": {},
   "outputs": [
    {
     "name": "stdout",
     "output_type": "stream",
     "text": [
      "stat = 8.5000, p-value= 0.0134\n"
     ]
    }
   ],
   "source": [
    "U, p = mannwhitneyu(headezine, kabezine, alternative='less')\n",
    "print('stat = {0:.4f}, p-value= {1:.4f}'.format(U, p))"
   ]
  },
  {
   "cell_type": "markdown",
   "id": "a406bbfd-264a-47db-9ac0-9b45f5329563",
   "metadata": {},
   "source": [
    "    With a p-value (0.0134) < alpha (0.05), we can reject the null hypothesis and conclude that conclude that indeed Kabezine is perceived to be more effective, i.e., Kabezine mean > Headezine mean. "
   ]
  },
  {
   "cell_type": "markdown",
   "id": "7b99c7ce-2c09-494e-b2c6-f77cbc6a45b5",
   "metadata": {},
   "source": [
    "## Paired Sample t-test"
   ]
  },
  {
   "cell_type": "markdown",
   "id": "c25cfbbd-075a-43e1-ab8d-24bd02020a75",
   "metadata": {},
   "source": [
    "### When to Use:\r\n",
    "- Data consists of **paired observations** (e.g., measurements before and after treatment on the same subjects).\r\n",
    "- The differences between paired observations are approximately **normally distributed**.\r\n",
    "\r\n",
    "### Hypotheses:\r\n",
    "- **Null Hypothesis $( H_0 )$**:  \r\n",
    "  $ \\mu_d = 0 $  \r\n",
    "  The mean difference between the paired observations is zero.\r\n",
    "\r\n",
    "- **Alternative Hypothesis $( H_1 )$**:  \r\n",
    "  - **Two-tailed**: $ \\mu_d \\neq 0 $  \r\n",
    "  - **One-tailed**: $ \\mu_d > 0 $ or $ \\mu_d < 0 $\r\n",
    "\r\n",
    "### Assumptions:\r\n",
    "1. The differences between paired observations are **normally distributed**.\r\n",
    "2. The data is measured on a **continuous scale** (e.g., height, weight, test scores).\r\n",
    " test scores).\r\n"
   ]
  },
  {
   "cell_type": "markdown",
   "id": "e3083197-ed79-4cab-ab05-4ff1f5db0828",
   "metadata": {},
   "source": [
    "**We are interested in the self-reported scores from volunteers taking “Kabezine” before and after\n",
    "treatment. Since we have a pair of measurements for each subject, we should take this relationship into account.**"
   ]
  },
  {
   "cell_type": "markdown",
   "id": "fbd89e47-1013-4d8d-8eac-b93005ade5a1",
   "metadata": {},
   "source": [
    "| Volunteer | Pre-Treatment | Post-Treatment | Difference |\n",
    "|:---------:|:-------------:|:--------------:|:----------:|\n",
    "|     1     |      6        |      7.3       |     1.3    |\n",
    "|     2     |      7        |      8.3       |     1.3    |\n",
    "|     3     |     5.4       |      5.7       |     0.3    |\n",
    "|     4     |     7.3       |      8         |     0.7    |\n",
    "|     5     |     6.8       |      5.3       |    −1.5    |\n",
    "|     6     |      8        |      9.7       |     1.7    |\n",
    "|     7     |     5.7       |      6.7       |     1.0    |\n",
    "|     8     |      7        |      7.7       |     0.7    |\n",
    "|     9     |     7.7       |      6.3       |    −1.3    |\n",
    "|    10     |      6        |      6.7       |     0.7    |\n",
    "|    11     |     4.7       |      5         |     0.3    |\n",
    "|    12     |     4.1       |      5.1       |     1.0    |\n",
    "|    13     |     5.2       |      6         |     0.8    |\n",
    "|    14     |     6.3       |      8.8       |     2.5    |\n",
    "|    15     |      6        |      6         |     0.0    |\n",
    "|    16     |     6.7       |      8         |     1.3    |\n",
    "|    17     |      4        |      6         |     2.0    |\n",
    "|    18     |     7.3       |      8.3       |     1.0    |\n",
    "|    19     |      5        |      6.4       |     1.4    |\n",
    "|    20     |     5.7       |      5.7       |     0.0    |\n"
   ]
  },
  {
   "cell_type": "code",
   "execution_count": 97,
   "id": "14760585-0d1a-4dcc-8474-fe62e6050156",
   "metadata": {},
   "outputs": [
    {
     "data": {
      "text/html": [
       "<div>\n",
       "<style scoped>\n",
       "    .dataframe tbody tr th:only-of-type {\n",
       "        vertical-align: middle;\n",
       "    }\n",
       "\n",
       "    .dataframe tbody tr th {\n",
       "        vertical-align: top;\n",
       "    }\n",
       "\n",
       "    .dataframe thead th {\n",
       "        text-align: right;\n",
       "    }\n",
       "</style>\n",
       "<table border=\"1\" class=\"dataframe\">\n",
       "  <thead>\n",
       "    <tr style=\"text-align: right;\">\n",
       "      <th></th>\n",
       "      <th>pre</th>\n",
       "      <th>post</th>\n",
       "      <th>difference</th>\n",
       "    </tr>\n",
       "  </thead>\n",
       "  <tbody>\n",
       "    <tr>\n",
       "      <th>0</th>\n",
       "      <td>6.0</td>\n",
       "      <td>7.3</td>\n",
       "      <td>1.3</td>\n",
       "    </tr>\n",
       "    <tr>\n",
       "      <th>1</th>\n",
       "      <td>7.0</td>\n",
       "      <td>8.3</td>\n",
       "      <td>1.3</td>\n",
       "    </tr>\n",
       "    <tr>\n",
       "      <th>2</th>\n",
       "      <td>5.4</td>\n",
       "      <td>5.7</td>\n",
       "      <td>0.3</td>\n",
       "    </tr>\n",
       "    <tr>\n",
       "      <th>3</th>\n",
       "      <td>7.3</td>\n",
       "      <td>8.0</td>\n",
       "      <td>0.7</td>\n",
       "    </tr>\n",
       "    <tr>\n",
       "      <th>4</th>\n",
       "      <td>6.8</td>\n",
       "      <td>5.3</td>\n",
       "      <td>-1.5</td>\n",
       "    </tr>\n",
       "  </tbody>\n",
       "</table>\n",
       "</div>"
      ],
      "text/plain": [
       "   pre  post  difference\n",
       "0  6.0   7.3         1.3\n",
       "1  7.0   8.3         1.3\n",
       "2  5.4   5.7         0.3\n",
       "3  7.3   8.0         0.7\n",
       "4  6.8   5.3        -1.5"
      ]
     },
     "execution_count": 97,
     "metadata": {},
     "output_type": "execute_result"
    }
   ],
   "source": [
    "# Define the pre and post data\n",
    "pre = [6.0, 7.0, 5.4, 7.3, 6.8, 8.0, 5.7, 7.0, 7.7, 6.0, 4.7, 4.1, 5.2, 6.3, 6.0, 6.7, 4.0, 7.3, 5.0, 5.7]\n",
    "post = [7.3, 8.3, 5.7, 8.0, 5.3, 9.7, 6.7, 7.7, 6.3, 6.7, 5.0, 5.1, 6.0, 8.8, 6.0, 8.0, 6.0, 8.3, 6.4, 5.7]\n",
    "\n",
    "# Create the DataFrame\n",
    "df = pd.DataFrame({\n",
    "    'pre': pre,   # Add the pre column\n",
    "    'post': post  # Add the post column\n",
    "})\n",
    "\n",
    "# Calculate the difference and add as a new column\n",
    "df['difference'] = df['post'] - df['pre']\n",
    "\n",
    "# Display the first few rows of the DataFrame\n",
    "df.head()"
   ]
  },
  {
   "cell_type": "code",
   "execution_count": 98,
   "id": "e251c799-848f-4723-b70a-f99db7f68da8",
   "metadata": {},
   "outputs": [
    {
     "data": {
      "text/plain": [
       "count    20.000000\n",
       "mean      0.755000\n",
       "std       0.980588\n",
       "min      -1.500000\n",
       "25%       0.300000\n",
       "50%       0.900000\n",
       "75%       1.300000\n",
       "max       2.500000\n",
       "Name: difference, dtype: float64"
      ]
     },
     "execution_count": 98,
     "metadata": {},
     "output_type": "execute_result"
    }
   ],
   "source": [
    "df['difference'].describe()"
   ]
  },
  {
   "cell_type": "markdown",
   "id": "556a9012-8b1b-4b5e-80db-3d0a2cb23223",
   "metadata": {},
   "source": [
    "Let us look at whether the data seems to be normally distributed. In this case we will use the Shapiro-Wilk test"
   ]
  },
  {
   "cell_type": "code",
   "execution_count": 100,
   "id": "2b649998-5815-4fa1-b0d3-f5015c9951b1",
   "metadata": {},
   "outputs": [
    {
     "name": "stdout",
     "output_type": "stream",
     "text": [
      "stat = 0.9719, p-value= 0.7944\n",
      "\n",
      "Can’t Reject the null hypothesis. The data seems to be normally distributed.\n"
     ]
    }
   ],
   "source": [
    "shapiro_test(df['pre'])"
   ]
  },
  {
   "cell_type": "code",
   "execution_count": 101,
   "id": "3b5f1705-17b2-404e-8f4b-0bb151a56190",
   "metadata": {},
   "outputs": [
    {
     "name": "stdout",
     "output_type": "stream",
     "text": [
      "stat = 0.9453, p-value= 0.3019\n",
      "\n",
      "Can’t Reject the null hypothesis. The data seems to be normally distributed.\n"
     ]
    }
   ],
   "source": [
    "shapiro_test(df['post'])"
   ]
  },
  {
   "cell_type": "markdown",
   "id": "7122cfdc-6bd6-4bd2-ae48-ec314cfc1ac5",
   "metadata": {},
   "source": [
    "So far so good. We have that the mean of the differences is xd = 0.755 with a sample standard deviation equal to  0.9805. We can use this to build our test statistic. "
   ]
  },
  {
   "cell_type": "code",
   "execution_count": 103,
   "id": "f954fd0a-a3db-4609-9c01-d308bc04467b",
   "metadata": {},
   "outputs": [
    {
     "name": "stdout",
     "output_type": "stream",
     "text": [
      "stat = -3.4433, p-value= 0.0027\n"
     ]
    }
   ],
   "source": [
    "from scipy.stats import ttest_rel\n",
    "\n",
    "tstat, p = ttest_rel(df['pre'], df['post'])     # The default for alternative is ’two-sided’\n",
    "print('stat = {0:.4f}, p-value= {1:.4f}'.format(tstat, p))"
   ]
  },
  {
   "cell_type": "markdown",
   "id": "b8c9049b-1129-414c-9eeb-fe2ac20c5b99",
   "metadata": {},
   "source": [
    "    With a p-value (0.0027) < alpha (0.05), we can reject the null hypothesis (he mean difference between the pre-treatment and post-treatment groups is zero), and conclude that there is strong evidence that, on average, Kabezine does offer improvements to the headaches. There is sufficient evidence to conclude that the means of the pre-treatment and post-treatment groups are significantly different."
   ]
  },
  {
   "cell_type": "markdown",
   "id": "8e6f20e7-6ffd-4270-8571-38846e127cdc",
   "metadata": {},
   "source": [
    "## Wilcoxon Matched Pairs"
   ]
  },
  {
   "cell_type": "markdown",
   "id": "440bb4e5-5dea-41f2-a0dc-f69b372e534c",
   "metadata": {},
   "source": [
    "### Wilcoxon Matched Pairs Test (Wilcoxon Signed-Rank Test)\n",
    "\n",
    "The **Wilcoxon Matched Pairs Test** (also known as the **Wilcoxon Signed-Rank Test**) is a **non-parametric statistical test** used to compare two related samples. It tests whether the median difference between paired observations is significantly different from zero.\n",
    "\n",
    "---\n",
    "\n",
    "#### Key Features:\n",
    "1. **Purpose**:  \n",
    "   To determine if there is a significant difference between two related groups when the data do not meet the assumptions of normality required by the paired t-test.\n",
    "\n",
    "2. **When to Use**:  \n",
    "   - The data consists of **paired observations** (e.g., before-and-after measurements).\n",
    "   - The differences between the pairs are **not normally distributed**.\n",
    "\n",
    "3. **Hypotheses**:  \n",
    "   - **Null Hypothesis $( H_0 )$**:  \n",
    "     The median difference between the paired observations is zero $( \\tilde{D} = 0 )$.\n",
    "   - **Alternative Hypothesis $( H_1 )$**:  \n",
    "     The median difference is not zero $( \\tilde{D} \\neq 0 )$.\n",
    "\n",
    "---\n",
    "\n",
    "#### How It Works:\n",
    "1. Calculate the **differences** between the paired observations.\n",
    "2. Rank the **absolute differences**, ignoring signs.\n",
    "3. Assign positive or negative signs to the ranks based on the sign of the original difference.\n",
    "4. Sum the ranks of the positive and negative differences.\n",
    "5. Use the smaller of these sums to compute the test statistic $ W $.\n",
    "6. Compare $ W $ to the critical value (or use a p-value) to decide whether to reject $ H_0 $.\n",
    "\n",
    "---\n",
    "\n",
    "#### Assumptions:\n",
    "1. The paired data are **dependent**.\n",
    "2. The differences are **symmetrically distributed** around the median.\n",
    "\n",
    "---\n",
    "\n",
    "#### Example Use Case:\n",
    "You are measuring the effectiveness of a new teaching method. Students are tested **before** and **after** the method is implemented. If the scores are not normally distributed, the Wilcoxon Matched Pairs Test can determine whether the teaching method caused a significant change in scores.\n",
    "\n",
    "---\n",
    "\n",
    "#### Output and Interpretation:\n",
    "- **Test Statistic $( W )$**:  \n",
    "  Measures the strength of the difference.\n",
    "\n",
    "- **p-value**:  \n",
    "  If $ p < \\alpha $ (e.g., $ \\alpha = 0.05 $), reject $ H_0 $, indicating a significant difference.\n"
   ]
  },
  {
   "cell_type": "markdown",
   "id": "99806f13-3cbc-4ba9-b5d0-3ff6b30a2f4e",
   "metadata": {},
   "source": [
    "| Volunteer | Pre-Treatment | Post-Treatment | Difference |\n",
    "|:---------:|:-------------:|:--------------:|:----------:|\n",
    "|     1     |     8.2       |      8.3       |     0.1    |\n",
    "|     2     |     7.3       |      9.3       |     2.0    |\n",
    "|     3     |     7.2       |      9.6       |     2.4    |\n",
    "|     4     |     8.0       |      9.1       |     1.1    |\n",
    "|     5     |     1.6       |      2.0       |     0.4    |\n",
    "|     6     |     9.6       |      8.8       |    −0.8    |\n",
    "|     7     |     4.0       |      9.9       |     5.9    |\n",
    "|     8     |     4.7       |      4.0       |    −0.7    |\n",
    "|     9     |     7.9       |      7.4       |    −0.5    |\n",
    "|    10     |     2.9       |      3.5       |     0.6    |\n",
    "|    11     |     5.0       |      8.5       |     3.5    |\n",
    "|    12     |     2.0       |      5.8       |     3.8    |\n"
   ]
  },
  {
   "cell_type": "code",
   "execution_count": 108,
   "id": "177af269-61c3-4b7c-a663-a3d449c5c52e",
   "metadata": {},
   "outputs": [
    {
     "name": "stdout",
     "output_type": "stream",
     "text": [
      "Median of differences: 0.9\n"
     ]
    }
   ],
   "source": [
    "# Pre-treatment and post-treatment data\n",
    "cerritos_pre = [8.2, 7.3, 7.2, 8, 1.6, 9.6, 4, 4.7, 7.9, 2.9, 5, 2]  # Pre-treatment values\n",
    "cerritos_post = [8.3, 9.3, 9.6, 9.1, 2, 8.8, 9.9, 4, 7.4, 3.6, 8.5, 5.8]  # Post-treatment values\n",
    "\n",
    "# Create a DataFrame using a dictionary with proper key-value pairs\n",
    "cerritos_df = pd.DataFrame({\n",
    "    'pre': cerritos_pre,   # Pre-treatment column\n",
    "    'post': cerritos_post  # Post-treatment column\n",
    "})\n",
    "\n",
    "# Calculate the difference between post-treatment and pre-treatment\n",
    "cerritos_df['difference'] = cerritos_df['post'] - cerritos_df['pre']\n",
    "\n",
    "# Calculate the median of the differences\n",
    "cer_med = cerritos_df['difference'].median()\n",
    "\n",
    "# Print the median of the differences\n",
    "print(f\"Median of differences: {round(cer_med,2)}\")"
   ]
  },
  {
   "cell_type": "markdown",
   "id": "b050fa69-5615-409b-810e-625644ef070d",
   "metadata": {},
   "source": [
    "The null hypothesis is that the median of the differences is equal to 0. Let us test our hypothesis:"
   ]
  },
  {
   "cell_type": "code",
   "execution_count": 110,
   "id": "5fd06ab1-e04b-4c62-b663-7f346730a622",
   "metadata": {},
   "outputs": [
    {
     "name": "stdout",
     "output_type": "stream",
     "text": [
      "stat = 13.5000, p-value= 0.0425\n"
     ]
    }
   ],
   "source": [
    "tstat, p = wilcoxon(cerritos_df['pre'], cerritos_df['post'])\n",
    "\n",
    "print('stat = {0:.4f}, p-value= {1:.4f}'.format(tstat, p))"
   ]
  },
  {
   "cell_type": "markdown",
   "id": "12eb5f71-038e-45e9-9aae-144f75725054",
   "metadata": {},
   "source": [
    "    With a p-value (0.0425) < alpha (0.05), we can reject the null hypothesis (H0: Diff = 0). This indicates that there is a statistically significant difference between the pre-treatment and post-treatment values."
   ]
  }
 ],
 "metadata": {
  "kernelspec": {
   "display_name": "Python 3 (ipykernel)",
   "language": "python",
   "name": "python3"
  },
  "language_info": {
   "codemirror_mode": {
    "name": "ipython",
    "version": 3
   },
   "file_extension": ".py",
   "mimetype": "text/x-python",
   "name": "python",
   "nbconvert_exporter": "python",
   "pygments_lexer": "ipython3",
   "version": "3.11.7"
  }
 },
 "nbformat": 4,
 "nbformat_minor": 5
}
