{
 "cells": [
  {
   "cell_type": "markdown",
   "id": "4e4c9e38-4a85-4fe5-90b4-f4da47d45be5",
   "metadata": {},
   "source": [
    "# Chapter 6 (continuation) - Linear Regression and Hypothesis"
   ]
  },
  {
   "cell_type": "code",
   "execution_count": null,
   "id": "da7ac92b-87d1-4129-99d5-681872f79f91",
   "metadata": {},
   "outputs": [],
   "source": []
  }
 ],
 "metadata": {
  "kernelspec": {
   "display_name": "Python 3 (ipykernel)",
   "language": "python",
   "name": "python3"
  },
  "language_info": {
   "codemirror_mode": {
    "name": "ipython",
    "version": 3
   },
   "file_extension": ".py",
   "mimetype": "text/x-python",
   "name": "python",
   "nbconvert_exporter": "python",
   "pygments_lexer": "ipython3",
   "version": "3.11.7"
  }
 },
 "nbformat": 4,
 "nbformat_minor": 5
}
