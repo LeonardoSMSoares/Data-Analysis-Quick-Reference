{
 "cells": [
  {
   "cell_type": "markdown",
   "id": "48a4d9ce-a0bd-4c84-960e-a6edf43394ab",
   "metadata": {},
   "source": [
    "# Chapter 7 - Data Visualization"
   ]
  },
  {
   "cell_type": "code",
   "execution_count": null,
   "id": "2ab927c3-c7d2-4cfc-9e72-13091278eaf7",
   "metadata": {},
   "outputs": [],
   "source": [
    "import numpy as np\n",
    "import pandas as pd\n",
    "\n",
    "import seaborn as sns\n",
    "import matplotlib.pyplot as plt\n",
    "%matplotlib inline\n",
    "\n",
    "from math import sqrt"
   ]
  },
  {
   "cell_type": "code",
   "execution_count": null,
   "id": "fee21844-9e83-4335-a28c-77b8168d0d7b",
   "metadata": {},
   "outputs": [],
   "source": []
  },
  {
   "cell_type": "code",
   "execution_count": null,
   "id": "f9754276-6189-449e-8b9c-59a8e4126cf7",
   "metadata": {},
   "outputs": [],
   "source": [
    "#https://figshare.com/articles/dataset/Jackalope_Data/19221666/3?file=34756006\n",
    "\n",
    "df = pd.read_csv('jackalope.csv')\n",
    "df.shape"
   ]
  },
  {
   "cell_type": "code",
   "execution_count": null,
   "id": "0cfe64a1-bc1d-4e57-9ffe-f5d6064aaedf",
   "metadata": {},
   "outputs": [],
   "source": []
  },
  {
   "cell_type": "code",
   "execution_count": null,
   "id": "deb5e44e-4651-4ba5-a685-d0e77cf3572d",
   "metadata": {},
   "outputs": [],
   "source": []
  },
  {
   "cell_type": "code",
   "execution_count": null,
   "id": "c6a90374-fb57-456b-83e0-2c39d0ac147c",
   "metadata": {},
   "outputs": [],
   "source": []
  },
  {
   "cell_type": "code",
   "execution_count": null,
   "id": "cbe699cb-232a-43c0-867a-97360ea9cd68",
   "metadata": {},
   "outputs": [],
   "source": []
  },
  {
   "cell_type": "code",
   "execution_count": null,
   "id": "588ccab8-f329-4b02-bafa-6d84497e70d2",
   "metadata": {},
   "outputs": [],
   "source": []
  },
  {
   "cell_type": "code",
   "execution_count": null,
   "id": "a7dcd2d7-a138-4e8b-9adc-ee06e712023a",
   "metadata": {},
   "outputs": [],
   "source": []
  },
  {
   "cell_type": "code",
   "execution_count": null,
   "id": "4ae3d8a4-b1f5-4b2a-9edd-cff127da350b",
   "metadata": {},
   "outputs": [],
   "source": []
  }
 ],
 "metadata": {
  "kernelspec": {
   "display_name": "Python 3 (ipykernel)",
   "language": "python",
   "name": "python3"
  },
  "language_info": {
   "codemirror_mode": {
    "name": "ipython",
    "version": 3
   },
   "file_extension": ".py",
   "mimetype": "text/x-python",
   "name": "python",
   "nbconvert_exporter": "python",
   "pygments_lexer": "ipython3",
   "version": "3.11.7"
  }
 },
 "nbformat": 4,
 "nbformat_minor": 5
}
