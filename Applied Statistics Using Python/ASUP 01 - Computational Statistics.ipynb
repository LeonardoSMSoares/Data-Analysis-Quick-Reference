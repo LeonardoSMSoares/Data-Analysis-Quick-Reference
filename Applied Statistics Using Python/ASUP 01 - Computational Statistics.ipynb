{
 "cells": [
  {
   "cell_type": "markdown",
   "id": "b0d93ce9-8f52-44c3-b3e4-3f2821ae7b86",
   "metadata": {},
   "source": [
    "# Chapter 2 - Introduction to Python and the Field of Computational Statistics"
   ]
  },
  {
   "cell_type": "code",
   "execution_count": 2,
   "id": "9110c396-f0b1-4dce-9aa3-0bb8c22c1770",
   "metadata": {},
   "outputs": [],
   "source": [
    "import numpy as np\n",
    "import pandas as pd\n",
    "\n",
    "import seaborn as sns\n",
    "import matplotlib.pyplot as plt\n",
    "%matplotlib inline\n",
    "\n",
    "import math\n",
    "from math import sqrt"
   ]
  },
  {
   "cell_type": "markdown",
   "id": "b877f656-5df6-4ff7-bd57-53816ae84609",
   "metadata": {},
   "source": [
    "### Computing z-Scores in Python"
   ]
  },
  {
   "cell_type": "code",
   "execution_count": 4,
   "id": "e474ac2e-a00d-4025-abd0-7ff03b27791e",
   "metadata": {},
   "outputs": [
    {
     "data": {
      "text/html": [
       "<div>\n",
       "<style scoped>\n",
       "    .dataframe tbody tr th:only-of-type {\n",
       "        vertical-align: middle;\n",
       "    }\n",
       "\n",
       "    .dataframe tbody tr th {\n",
       "        vertical-align: top;\n",
       "    }\n",
       "\n",
       "    .dataframe thead th {\n",
       "        text-align: right;\n",
       "    }\n",
       "</style>\n",
       "<table border=\"1\" class=\"dataframe\">\n",
       "  <thead>\n",
       "    <tr style=\"text-align: right;\">\n",
       "      <th></th>\n",
       "      <th>ac</th>\n",
       "      <th>teach</th>\n",
       "      <th>text</th>\n",
       "    </tr>\n",
       "  </thead>\n",
       "  <tbody>\n",
       "    <tr>\n",
       "      <th>0</th>\n",
       "      <td>70</td>\n",
       "      <td>1</td>\n",
       "      <td>1</td>\n",
       "    </tr>\n",
       "    <tr>\n",
       "      <th>1</th>\n",
       "      <td>67</td>\n",
       "      <td>1</td>\n",
       "      <td>1</td>\n",
       "    </tr>\n",
       "    <tr>\n",
       "      <th>2</th>\n",
       "      <td>65</td>\n",
       "      <td>1</td>\n",
       "      <td>1</td>\n",
       "    </tr>\n",
       "    <tr>\n",
       "      <th>3</th>\n",
       "      <td>75</td>\n",
       "      <td>1</td>\n",
       "      <td>2</td>\n",
       "    </tr>\n",
       "    <tr>\n",
       "      <th>4</th>\n",
       "      <td>76</td>\n",
       "      <td>1</td>\n",
       "      <td>2</td>\n",
       "    </tr>\n",
       "  </tbody>\n",
       "</table>\n",
       "</div>"
      ],
      "text/plain": [
       "   ac  teach  text\n",
       "0  70      1     1\n",
       "1  67      1     1\n",
       "2  65      1     1\n",
       "3  75      1     2\n",
       "4  76      1     2"
      ]
     },
     "execution_count": 4,
     "metadata": {},
     "output_type": "execute_result"
    }
   ],
   "source": [
    "data = {'ac' : [70, 67, 65, 75, 76, 73, 69, 68, 70, 76, 77, 75, 85, 86, 85, 76, 75, 73, 95, 94, 89, 94, 93, 91],\n",
    "     'teach' : [1, 1, 1, 1, 1, 1, 2, 2, 2, 2, 2, 2, 3, 3, 3, 3, 3, 3, 4, 4, 4, 4, 4, 4],\n",
    "      'text' : [1, 1, 1, 2, 2, 2, 1, 1, 1, 2, 2, 2, 1, 1, 1, 2, 2, 2, 1, 1, 1, 2, 2, 2]}\n",
    "\n",
    "df = pd.DataFrame(data)\n",
    "\n",
    "df.head()"
   ]
  },
  {
   "cell_type": "markdown",
   "id": "ec666f0b-21be-4b5b-9613-3f03b783b643",
   "metadata": {},
   "source": [
    "### Z-Score Formula\n",
    "\n",
    "The z-score formula is given by:\n",
    "\n",
    "$$\n",
    "z = \\frac{x - \\mu}{\\sigma}\n",
    "$$\n",
    "\n",
    "Where:\n",
    "- $ z $: Z-score\n",
    "- $ x $: Data point\n",
    "- $ \\mu $: Mean of the data\n",
    "- $ \\sigma $: Standard deviation of the data\n"
   ]
  },
  {
   "cell_type": "code",
   "execution_count": 6,
   "id": "9a28d3c0-1b83-47c1-bf0f-870ac40fc7d8",
   "metadata": {},
   "outputs": [
    {
     "data": {
      "text/plain": [
       "0    -0.937148\n",
       "1    -1.248091\n",
       "2    -1.455387\n",
       "3    -0.418910\n",
       "4    -0.315262\n",
       "5    -0.626205\n",
       "6    -1.040796\n",
       "7    -1.144444\n",
       "8    -0.937148\n",
       "9    -0.315262\n",
       "10   -0.211614\n",
       "11   -0.418910\n",
       "12    0.617568\n",
       "13    0.721215\n",
       "14    0.617568\n",
       "15   -0.315262\n",
       "16   -0.418910\n",
       "17   -0.626205\n",
       "18    1.654045\n",
       "19    1.550397\n",
       "20    1.032159\n",
       "21    1.550397\n",
       "22    1.446750\n",
       "23    1.239454\n",
       "Name: ac, dtype: float64"
      ]
     },
     "execution_count": 6,
     "metadata": {},
     "output_type": "execute_result"
    }
   ],
   "source": [
    "import statistics\n",
    "\n",
    "ac = df['ac']                             # Assign the 'ac' column to a variable for calculations\n",
    "\n",
    "z_numerator = (ac - statistics.mean(ac))  # Calculate the z-score numerator: subtract the mean of 'ac' from each value in 'ac'\n",
    "\n",
    "z_denominator = statistics.stdev(ac)      # Calculate the z-score denominator: the standard deviation of 'ac'\n",
    "\n",
    "z = z_numerator / z_denominator           # Calculate the z-scores for the 'ac' column\n",
    "\n",
    "z                                         # Display the calculated z-scores"
   ]
  },
  {
   "cell_type": "code",
   "execution_count": 7,
   "id": "b6072d7d-e8c0-4a70-b239-c81c4e250fd2",
   "metadata": {},
   "outputs": [
    {
     "data": {
      "text/plain": [
       "0    -0.937148\n",
       "1    -1.248091\n",
       "2    -1.455387\n",
       "3    -0.418910\n",
       "4    -0.315262\n",
       "5    -0.626205\n",
       "6    -1.040796\n",
       "7    -1.144444\n",
       "8    -0.937148\n",
       "9    -0.315262\n",
       "10   -0.211614\n",
       "11   -0.418910\n",
       "12    0.617568\n",
       "13    0.721215\n",
       "14    0.617568\n",
       "15   -0.315262\n",
       "16   -0.418910\n",
       "17   -0.626205\n",
       "18    1.654045\n",
       "19    1.550397\n",
       "20    1.032159\n",
       "21    1.550397\n",
       "22    1.446750\n",
       "23    1.239454\n",
       "Name: ac, dtype: float64"
      ]
     },
     "execution_count": 7,
     "metadata": {},
     "output_type": "execute_result"
    }
   ],
   "source": [
    "from scipy import stats\n",
    "\n",
    "# Extract the 'ac' column from the DataFrame\n",
    "ac = df['ac']  # Assign the 'ac' column to a variable for calculations\n",
    "\n",
    "stats.zscore(ac,      # Calculate the z-scores for the 'ac' elements\n",
    "             axis=0,  # Compute the z-score along the default axis (columns)\n",
    "             ddof=1)  # Use degrees of freedom = 1 for standard deviation calculation"
   ]
  },
  {
   "cell_type": "code",
   "execution_count": 8,
   "id": "c94e68c9-7d7c-48ce-a46b-c36008953534",
   "metadata": {},
   "outputs": [
    {
     "data": {
      "image/png": "[encoded data removed]",
      "text/plain": [
       "<Figure size 1000x400 with 2 Axes>"
      ]
     },
     "metadata": {},
     "output_type": "display_data"
    }
   ],
   "source": [
    "ac = df['ac']                                                          # Assign the 'ac' column to a variable for calculations\n",
    "z = stats.zscore(ac, axis=0, ddof=1)                                   # Calculate the z-scores for the 'ac' elements\n",
    "\n",
    "fig, axes = plt.subplots(1, 2, figsize=(10, 4))                        # Create a 1x2 grid of subplots\n",
    "\n",
    "# Plot the histogram for the 'ac' values (PDF - Probability Density Function)\n",
    "axes[0].hist(ac, bins=10, color='blue', edgecolor='black', alpha=0.7)  # Plot histogram with custom style\n",
    "axes[0].set_title(\"AC Values\")                                         # Add a title to the first plot\n",
    "axes[0].set_xlabel(\"AC Values\")                                        # Label for the x-axis\n",
    "axes[0].set_ylabel(\"Count\")                                            # Label for the y-axis\n",
    "axes[0].grid(True, linestyle='--', alpha=0.5)                          # Enable grid with a dashed, light gridline style\n",
    "\n",
    "# Plot the histogram for the z-scores (Standardized values)\n",
    "axes[1].hist(z, bins=10, color='green', edgecolor='black', alpha=0.7)  # Plot histogram with custom style\n",
    "axes[1].set_title(\"Z-Scores of AC Values\")                             # Add a title to the second plot\n",
    "axes[1].set_xlabel(\"Z-Scores\")                                         # Label for the x-axis\n",
    "axes[1].set_ylabel(\"Count\")                                            # Label for the y-axis\n",
    "axes[1].grid(True, linestyle='--', alpha=0.5)                          # Enable grid with a dashed, light gridline style\n",
    "\n",
    "plt.tight_layout()                                                     # Adjust layout\n",
    "plt.show()                                                             # Display the final plots"
   ]
  },
  {
   "cell_type": "markdown",
   "id": "b66674cc-0ae0-4d67-926f-f2495023b912",
   "metadata": {},
   "source": [
    "*Converting to z-scores does not change the shape of the original distribution.*"
   ]
  },
  {
   "cell_type": "code",
   "execution_count": 10,
   "id": "daa1bc1d-b813-46db-bf59-c0221be9f43d",
   "metadata": {},
   "outputs": [
    {
     "name": "stdout",
     "output_type": "stream",
     "text": [
      "Skewness: 0.3883\n",
      "Kurtosis: -1.2191\n"
     ]
    }
   ],
   "source": [
    "import scipy as sp\n",
    "\n",
    "skew = sp.stats.skew(ac)       # Calculate skewness\n",
    "kurt = sp.stats.kurtosis(ac)   # Calculate kurtosis\n",
    "\n",
    "print(f'Skewness: {skew:.4f}')\n",
    "print(f'Kurtosis: {kurt:.4f}')"
   ]
  },
  {
   "cell_type": "markdown",
   "id": "053eea90-fc03-4ff3-973b-047000779372",
   "metadata": {},
   "source": [
    "### Computing Some Statistical Functions"
   ]
  },
  {
   "cell_type": "code",
   "execution_count": 12,
   "id": "7cea0509-47d2-4f16-b55f-f08f711d7cbb",
   "metadata": {},
   "outputs": [
    {
     "data": {
      "text/html": [
       "<div>\n",
       "<style scoped>\n",
       "    .dataframe tbody tr th:only-of-type {\n",
       "        vertical-align: middle;\n",
       "    }\n",
       "\n",
       "    .dataframe tbody tr th {\n",
       "        vertical-align: top;\n",
       "    }\n",
       "\n",
       "    .dataframe thead th {\n",
       "        text-align: right;\n",
       "    }\n",
       "</style>\n",
       "<table border=\"1\" class=\"dataframe\">\n",
       "  <thead>\n",
       "    <tr style=\"text-align: right;\">\n",
       "      <th></th>\n",
       "      <th>ac</th>\n",
       "      <th>teach</th>\n",
       "      <th>text</th>\n",
       "    </tr>\n",
       "  </thead>\n",
       "  <tbody>\n",
       "    <tr>\n",
       "      <th>0</th>\n",
       "      <td>70</td>\n",
       "      <td>1</td>\n",
       "      <td>1</td>\n",
       "    </tr>\n",
       "    <tr>\n",
       "      <th>1</th>\n",
       "      <td>67</td>\n",
       "      <td>1</td>\n",
       "      <td>1</td>\n",
       "    </tr>\n",
       "    <tr>\n",
       "      <th>2</th>\n",
       "      <td>65</td>\n",
       "      <td>1</td>\n",
       "      <td>1</td>\n",
       "    </tr>\n",
       "    <tr>\n",
       "      <th>3</th>\n",
       "      <td>75</td>\n",
       "      <td>1</td>\n",
       "      <td>2</td>\n",
       "    </tr>\n",
       "    <tr>\n",
       "      <th>4</th>\n",
       "      <td>76</td>\n",
       "      <td>1</td>\n",
       "      <td>2</td>\n",
       "    </tr>\n",
       "  </tbody>\n",
       "</table>\n",
       "</div>"
      ],
      "text/plain": [
       "   ac  teach  text\n",
       "0  70      1     1\n",
       "1  67      1     1\n",
       "2  65      1     1\n",
       "3  75      1     2\n",
       "4  76      1     2"
      ]
     },
     "execution_count": 12,
     "metadata": {},
     "output_type": "execute_result"
    }
   ],
   "source": [
    "df.head()"
   ]
  },
  {
   "cell_type": "code",
   "execution_count": 13,
   "id": "311fc589-41ab-4455-a741-533f0b838329",
   "metadata": {},
   "outputs": [
    {
     "data": {
      "text/plain": [
       "0    70\n",
       "1    67\n",
       "2    65\n",
       "3    75\n",
       "4    76\n",
       "Name: ac, dtype: int64"
      ]
     },
     "execution_count": 13,
     "metadata": {},
     "output_type": "execute_result"
    }
   ],
   "source": [
    "df['ac'][:5]"
   ]
  },
  {
   "cell_type": "code",
   "execution_count": 14,
   "id": "08ff4fb4-1023-40a2-afcb-721c99280c18",
   "metadata": {},
   "outputs": [
    {
     "data": {
      "text/plain": [
       "79.04166666666667"
      ]
     },
     "execution_count": 14,
     "metadata": {},
     "output_type": "execute_result"
    }
   ],
   "source": [
    "ac = df['ac']\n",
    "\n",
    "# Mean\n",
    "mean = sum(ac)/len(ac)\n",
    "mean"
   ]
  },
  {
   "cell_type": "code",
   "execution_count": 15,
   "id": "83464a35-2631-4d97-8bb2-ff2d5baba3d8",
   "metadata": {},
   "outputs": [
    {
     "data": {
      "text/plain": [
       "79.04166666666667"
      ]
     },
     "execution_count": 15,
     "metadata": {},
     "output_type": "execute_result"
    }
   ],
   "source": [
    "# Mean\n",
    "mean = statistics.mean(ac)\n",
    "mean"
   ]
  },
  {
   "cell_type": "code",
   "execution_count": 16,
   "id": "2c20c55e-84f9-429c-910f-68132807d9bd",
   "metadata": {},
   "outputs": [
    {
     "data": {
      "text/plain": [
       "79.04166666666667"
      ]
     },
     "execution_count": 16,
     "metadata": {},
     "output_type": "execute_result"
    }
   ],
   "source": [
    "# Mean\n",
    "np.mean(ac)"
   ]
  },
  {
   "cell_type": "code",
   "execution_count": 17,
   "id": "59988c9b-aeec-4bc7-a700-d2769670f5db",
   "metadata": {},
   "outputs": [
    {
     "data": {
      "text/plain": [
       "89.20659722222223"
      ]
     },
     "execution_count": 17,
     "metadata": {},
     "output_type": "execute_result"
    }
   ],
   "source": [
    "# Variance\n",
    "np.var(ac)"
   ]
  },
  {
   "cell_type": "code",
   "execution_count": 18,
   "id": "450a4a70-166c-45c6-aec0-f3afd7faf55b",
   "metadata": {},
   "outputs": [
    {
     "data": {
      "text/plain": [
       "9.444924562959727"
      ]
     },
     "execution_count": 18,
     "metadata": {},
     "output_type": "execute_result"
    }
   ],
   "source": [
    "# Standard Deviation\n",
    "math.sqrt(89.2066)"
   ]
  },
  {
   "cell_type": "code",
   "execution_count": 19,
   "id": "8eaca109-e9d3-4763-bce0-156bb6faec43",
   "metadata": {},
   "outputs": [
    {
     "data": {
      "text/plain": [
       "9.444924415908378"
      ]
     },
     "execution_count": 19,
     "metadata": {},
     "output_type": "execute_result"
    }
   ],
   "source": [
    "# Standard Deviation\n",
    "statistics.pstdev(ac)"
   ]
  },
  {
   "cell_type": "code",
   "execution_count": 20,
   "id": "0f40de05-79a3-43d4-813a-3dc6c3effa87",
   "metadata": {},
   "outputs": [
    {
     "data": {
      "text/plain": [
       "76.0"
      ]
     },
     "execution_count": 20,
     "metadata": {},
     "output_type": "execute_result"
    }
   ],
   "source": [
    "# Median\n",
    "statistics.median(ac)"
   ]
  },
  {
   "cell_type": "code",
   "execution_count": 21,
   "id": "9379d9c6-1c7b-4d09-8405-50d3c5bc75bb",
   "metadata": {},
   "outputs": [
    {
     "data": {
      "text/plain": [
       "75"
      ]
     },
     "execution_count": 21,
     "metadata": {},
     "output_type": "execute_result"
    }
   ],
   "source": [
    "statistics.mode(ac)"
   ]
  },
  {
   "cell_type": "markdown",
   "id": "13ac3172-8f81-42b8-94d3-1c4acbd2a0b5",
   "metadata": {},
   "source": [
    "### Creating Random Data "
   ]
  },
  {
   "cell_type": "code",
   "execution_count": 23,
   "id": "acc0a930-4510-4166-b92d-0a2ed82b65d0",
   "metadata": {},
   "outputs": [
    {
     "data": {
      "text/plain": [
       "array([-0.47859312, -3.45660281, -0.98622422,  1.51788768, -0.25255932,\n",
       "        0.32294563,  1.39369827, -1.16194757,  1.52860277,  1.3633845 ,\n",
       "       -0.96548977, -0.32437216,  1.68594887, -1.74752805, -1.35196861,\n",
       "        0.56188958, -1.67332536, -0.04454762,  0.45970149, -1.47804978,\n",
       "       -0.82378601,  2.20737662, -0.29666876, -0.21865353, -0.88074054,\n",
       "       -0.87354974, -0.01052733,  0.38104175, -0.6611935 ,  0.39629881,\n",
       "       -0.06210324, -2.94519147, -0.03815629, -0.69841129, -0.63757692,\n",
       "        1.02964065,  0.50627607,  0.69900817, -2.52104476,  0.43649561,\n",
       "       -0.53971499,  0.9025647 , -1.0027429 , -0.93745943, -1.28358949,\n",
       "        0.83839825,  1.02506245, -0.52041047,  0.05696156, -0.3119657 ,\n",
       "       -0.59347006, -0.11762086,  0.89665952, -0.3161313 ,  1.22019951,\n",
       "        0.62118547,  0.55588222, -0.29321419,  0.16132571,  0.68472062,\n",
       "       -0.51155602,  1.14964778, -0.72459361, -0.03449403, -0.21442237,\n",
       "        1.81021875, -0.90879856,  0.5328394 , -1.77943336,  0.12994024,\n",
       "       -0.76862707, -1.12208553, -0.01475485,  0.7948307 ,  1.63874647,\n",
       "        0.06828563, -0.72782606,  0.51803557,  1.13851915, -0.82591068,\n",
       "        1.47146233, -0.83179917, -0.90357697, -1.06157284,  2.91155979,\n",
       "        0.15255929,  0.82900601,  0.47389129, -0.19610777,  0.08416865,\n",
       "       -2.23678415, -0.92691362,  0.27686006,  0.48318013,  0.3259095 ,\n",
       "       -1.07165504, -0.1354902 ,  0.79876516, -0.63528423, -0.29872304])"
      ]
     },
     "execution_count": 23,
     "metadata": {},
     "output_type": "execute_result"
    }
   ],
   "source": [
    "np.random.randn(100)"
   ]
  },
  {
   "cell_type": "markdown",
   "id": "d6bf0c79-82a0-41b2-9999-e185d4fd4d6a",
   "metadata": {},
   "source": [
    "### Exploring Mathematics"
   ]
  },
  {
   "cell_type": "code",
   "execution_count": 25,
   "id": "4c2a2ba4-e0c2-43a0-b532-fe261ae3e5e3",
   "metadata": {},
   "outputs": [
    {
     "data": {
      "text/plain": [
       "2.718281828459045"
      ]
     },
     "execution_count": 25,
     "metadata": {},
     "output_type": "execute_result"
    }
   ],
   "source": [
    "import math\n",
    "\n",
    "math.e"
   ]
  },
  {
   "cell_type": "code",
   "execution_count": 26,
   "id": "c8c28920-06f8-4ea8-9db5-04c5d191753b",
   "metadata": {},
   "outputs": [
    {
     "data": {
      "text/plain": [
       "3.141592653589793"
      ]
     },
     "execution_count": 26,
     "metadata": {},
     "output_type": "execute_result"
    }
   ],
   "source": [
    "math.pi"
   ]
  },
  {
   "cell_type": "code",
   "execution_count": 27,
   "id": "f65cde7f-4136-4451-8965-0904273d5042",
   "metadata": {},
   "outputs": [
    {
     "data": {
      "text/html": [
       "<div>\n",
       "<style scoped>\n",
       "    .dataframe tbody tr th:only-of-type {\n",
       "        vertical-align: middle;\n",
       "    }\n",
       "\n",
       "    .dataframe tbody tr th {\n",
       "        vertical-align: top;\n",
       "    }\n",
       "\n",
       "    .dataframe thead th {\n",
       "        text-align: right;\n",
       "    }\n",
       "</style>\n",
       "<table border=\"1\" class=\"dataframe\">\n",
       "  <thead>\n",
       "    <tr style=\"text-align: right;\">\n",
       "      <th></th>\n",
       "      <th>var1</th>\n",
       "      <th>var2</th>\n",
       "    </tr>\n",
       "  </thead>\n",
       "  <tbody>\n",
       "    <tr>\n",
       "      <th>0</th>\n",
       "      <td>10</td>\n",
       "      <td>20</td>\n",
       "    </tr>\n",
       "    <tr>\n",
       "      <th>1</th>\n",
       "      <td>5</td>\n",
       "      <td>15</td>\n",
       "    </tr>\n",
       "    <tr>\n",
       "      <th>2</th>\n",
       "      <td>20</td>\n",
       "      <td>12</td>\n",
       "    </tr>\n",
       "    <tr>\n",
       "      <th>3</th>\n",
       "      <td>8</td>\n",
       "      <td>17</td>\n",
       "    </tr>\n",
       "  </tbody>\n",
       "</table>\n",
       "</div>"
      ],
      "text/plain": [
       "   var1  var2\n",
       "0    10    20\n",
       "1     5    15\n",
       "2    20    12\n",
       "3     8    17"
      ]
     },
     "execution_count": 27,
     "metadata": {},
     "output_type": "execute_result"
    }
   ],
   "source": [
    "matrix = pd.DataFrame([(10, 20), (5, 15), (20, 12), (8, 17)], columns=['var1','var2'])\n",
    "matrix"
   ]
  },
  {
   "cell_type": "code",
   "execution_count": 28,
   "id": "c67c75d2-5d58-4880-9769-9dcb5dadd5e9",
   "metadata": {},
   "outputs": [
    {
     "data": {
      "text/html": [
       "<div>\n",
       "<style scoped>\n",
       "    .dataframe tbody tr th:only-of-type {\n",
       "        vertical-align: middle;\n",
       "    }\n",
       "\n",
       "    .dataframe tbody tr th {\n",
       "        vertical-align: top;\n",
       "    }\n",
       "\n",
       "    .dataframe thead th {\n",
       "        text-align: right;\n",
       "    }\n",
       "</style>\n",
       "<table border=\"1\" class=\"dataframe\">\n",
       "  <thead>\n",
       "    <tr style=\"text-align: right;\">\n",
       "      <th></th>\n",
       "      <th>var1</th>\n",
       "      <th>var2</th>\n",
       "    </tr>\n",
       "  </thead>\n",
       "  <tbody>\n",
       "    <tr>\n",
       "      <th>var1</th>\n",
       "      <td>42.250000</td>\n",
       "      <td>-12.333333</td>\n",
       "    </tr>\n",
       "    <tr>\n",
       "      <th>var2</th>\n",
       "      <td>-12.333333</td>\n",
       "      <td>11.333333</td>\n",
       "    </tr>\n",
       "  </tbody>\n",
       "</table>\n",
       "</div>"
      ],
      "text/plain": [
       "           var1       var2\n",
       "var1  42.250000 -12.333333\n",
       "var2 -12.333333  11.333333"
      ]
     },
     "execution_count": 28,
     "metadata": {},
     "output_type": "execute_result"
    }
   ],
   "source": [
    "matrix.cov()"
   ]
  },
  {
   "cell_type": "code",
   "execution_count": 29,
   "id": "e1be7218-e38c-4de7-8473-876bbad5ef96",
   "metadata": {},
   "outputs": [
    {
     "data": {
      "text/html": [
       "<div>\n",
       "<style scoped>\n",
       "    .dataframe tbody tr th:only-of-type {\n",
       "        vertical-align: middle;\n",
       "    }\n",
       "\n",
       "    .dataframe tbody tr th {\n",
       "        vertical-align: top;\n",
       "    }\n",
       "\n",
       "    .dataframe thead th {\n",
       "        text-align: right;\n",
       "    }\n",
       "</style>\n",
       "<table border=\"1\" class=\"dataframe\">\n",
       "  <thead>\n",
       "    <tr style=\"text-align: right;\">\n",
       "      <th></th>\n",
       "      <th>var1</th>\n",
       "      <th>var2</th>\n",
       "    </tr>\n",
       "  </thead>\n",
       "  <tbody>\n",
       "    <tr>\n",
       "      <th>var1</th>\n",
       "      <td>1.000000</td>\n",
       "      <td>-0.563622</td>\n",
       "    </tr>\n",
       "    <tr>\n",
       "      <th>var2</th>\n",
       "      <td>-0.563622</td>\n",
       "      <td>1.000000</td>\n",
       "    </tr>\n",
       "  </tbody>\n",
       "</table>\n",
       "</div>"
      ],
      "text/plain": [
       "          var1      var2\n",
       "var1  1.000000 -0.563622\n",
       "var2 -0.563622  1.000000"
      ]
     },
     "execution_count": 29,
     "metadata": {},
     "output_type": "execute_result"
    }
   ],
   "source": [
    "# The correlation matrix is the standardized version of the covariance matrix.\n",
    "\n",
    "matrix.corr()"
   ]
  },
  {
   "cell_type": "code",
   "execution_count": 30,
   "id": "74b6e4f5-fa4d-45ea-8bb2-5b738c3d4de5",
   "metadata": {},
   "outputs": [
    {
     "data": {
      "text/plain": [
       "array([[1, 2],\n",
       "       [3, 4]])"
      ]
     },
     "execution_count": 30,
     "metadata": {},
     "output_type": "execute_result"
    }
   ],
   "source": [
    "B = np.array([[1, 2], [3, 4]])\n",
    "B"
   ]
  },
  {
   "cell_type": "code",
   "execution_count": 31,
   "id": "53a4c71f-3af9-42fc-8e95-1c8d76a081bf",
   "metadata": {},
   "outputs": [
    {
     "name": "stdout",
     "output_type": "stream",
     "text": [
      "Eigenvalues: [-0.37228132  5.37228132]\n",
      "\n",
      "Eigenvectors: \n",
      "[[-0.82456484 -0.41597356]\n",
      " [ 0.56576746 -0.90937671]]\n"
     ]
    }
   ],
   "source": [
    "# Eigenvalues and eigenvectors\n",
    "\n",
    "values , vectors = np.linalg.eig(B)\n",
    "\n",
    "print(f'Eigenvalues: {values}\\n')\n",
    "print(f'Eigenvectors: \\n{vectors}')"
   ]
  }
 ],
 "metadata": {
  "kernelspec": {
   "display_name": "Python 3 (ipykernel)",
   "language": "python",
   "name": "python3"
  },
  "language_info": {
   "codemirror_mode": {
    "name": "ipython",
    "version": 3
   },
   "file_extension": ".py",
   "mimetype": "text/x-python",
   "name": "python",
   "nbconvert_exporter": "python",
   "pygments_lexer": "ipython3",
   "version": "3.11.7"
  }
 },
 "nbformat": 4,
 "nbformat_minor": 5
}
