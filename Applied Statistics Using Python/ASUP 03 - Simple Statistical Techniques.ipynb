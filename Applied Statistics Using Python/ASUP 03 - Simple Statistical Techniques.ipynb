{
 "cells": [
  {
   "cell_type": "markdown",
   "id": "e7ba3fbf-1661-4dc6-a46d-902f59504aa5",
   "metadata": {},
   "source": [
    "# Chapter 4 - Simple Statistical Techniques for Univariate and Bivariate Analyses"
   ]
  },
  {
   "cell_type": "code",
   "execution_count": null,
   "id": "a9c9c17f-c09f-4d7a-8e1a-80c90f585cda",
   "metadata": {},
   "outputs": [],
   "source": []
  }
 ],
 "metadata": {
  "kernelspec": {
   "display_name": "Python 3 (ipykernel)",
   "language": "python",
   "name": "python3"
  },
  "language_info": {
   "codemirror_mode": {
    "name": "ipython",
    "version": 3
   },
   "file_extension": ".py",
   "mimetype": "text/x-python",
   "name": "python",
   "nbconvert_exporter": "python",
   "pygments_lexer": "ipython3",
   "version": "3.11.7"
  }
 },
 "nbformat": 4,
 "nbformat_minor": 5
}
