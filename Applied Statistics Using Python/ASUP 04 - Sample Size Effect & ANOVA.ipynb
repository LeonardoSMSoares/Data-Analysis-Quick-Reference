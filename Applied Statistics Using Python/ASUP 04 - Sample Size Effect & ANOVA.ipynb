{
 "cells": [
  {
   "cell_type": "markdown",
   "id": "a64a0c5c-68fa-4185-8c22-50aa4ef6f88f",
   "metadata": {},
   "source": [
    "# Chapter 5 - Power, Effect Size, P-Values, and Estimating Required Sample Size"
   ]
  },
  {
   "cell_type": "code",
   "execution_count": 2,
   "id": "7cb91040-1819-4d8d-8d67-ac13830ec1d3",
   "metadata": {},
   "outputs": [],
   "source": [
    "import numpy as np\n",
    "import pandas as pd\n",
    "\n",
    "import seaborn as sns\n",
    "import matplotlib.pyplot as plt\n",
    "%matplotlib inline\n",
    "\n",
    "import scipy as sp\n",
    "from scipy import stats"
   ]
  },
  {
   "cell_type": "markdown",
   "id": "957178d7-de0b-40f5-8532-1e00354d8bed",
   "metadata": {},
   "source": [
    "### Understanding Effect Size (Cohen's $d = 0.8$)\n",
    "\n",
    "Effect size is a standardized measure of the strength of the relationship between two variables or the magnitude of a difference between groups. It provides a way to understand the practical significance of results, regardless of sample size.\n",
    "\n",
    "---\n",
    "\n",
    "#### What is Cohen's $d$?\n",
    "\n",
    "Cohen's \\(d\\) is a common effect size measure used for comparing the means of two groups. It quantifies the difference between group means in terms of **standard deviations**.\n",
    "\n",
    "The formula for Cohen's \\(d\\) is:\n",
    "\n",
    "$$\n",
    "d = \\frac{\\mu_1 - \\mu_2}{\\sigma}\n",
    "$$\n",
    "\n",
    "Where:\n",
    "- $ \\mu_1, \\mu_2 $: The means of the two groups.\n",
    "- $ \\sigma $: The pooled standard deviation of the two groups.\n",
    "\n",
    "---\n",
    "\n",
    "#### Interpreting Cohen's \\(d\\)\n",
    "\n",
    "Cohen (1988) proposed the following guidelines for interpreting the magnitude of \\(d\\):\n",
    "- $ d = 0.2 $: **Small effect** – The difference between groups is noticeable but small.\n",
    "- $ d = 0.5 $: **Medium effect** – A moderate difference that is visible to the observer.\n",
    "- $ d = 0.8 $: **Large effect** – A substantial and meaningful difference between groups.\n",
    "\n",
    "For $ d = 0.8 $, the difference between group means is **0.8 standard deviations**, meaning the groups are well-separated and the effect is strong."
   ]
  },
  {
   "cell_type": "markdown",
   "id": "a5e82aea-7c68-49ed-9504-dd0e8879ba5e",
   "metadata": {},
   "source": [
    "### Comparing Effectiveness of Two Teaching Methods\n",
    "\n",
    "A school wants to determine whether Teaching Method A and Teaching Method B differ significantly in their impact on students' math test scores. They plan to conduct an experiment and need to calculate the required sample size for each group to detect a meaningful difference in test scores with adequate statistical power.\n",
    "\n",
    "#### Scenario Details:\n",
    "\n",
    "       Effect Size (Cohen's d): 0.8 (a large effect size, assuming the difference between means is significant relative to variability).\n",
    "    Significance Level (Alpha): 0.05 (the probability of rejecting the null hypothesis when it is true, a 5% Type I error rate).\n",
    "             Statistical Power: 0.8 (80% probability of detecting the effect if it exists, a 20% chance of Type II error).\n",
    "             Sample Size Ratio: 1.0 (equal sample sizes for both groups).\n",
    "  \n",
    "The school uses the `TTestIndPower` class from the statsmodels library to calculate the minimum sample size required per group."
   ]
  },
  {
   "cell_type": "code",
   "execution_count": 5,
   "id": "26321f52-ac8e-4908-b5a6-ecb3a9bfe246",
   "metadata": {},
   "outputs": [
    {
     "name": "stdout",
     "output_type": "stream",
     "text": [
      "Sample Size per Group: 25.525\n"
     ]
    }
   ],
   "source": [
    "from statsmodels.stats.power import TTestIndPower\n",
    "\n",
    "# Parameters for the power analysis\n",
    "effect = 0.8         # Effect size (Cohen's d)\n",
    "alpha = 0.05         # Significance level\n",
    "power = 0.8          # Desired statistical power (1 - Type II error rate)\n",
    "\n",
    "# Initialize the T-test power analysis object\n",
    "analysis = TTestIndPower()\n",
    "\n",
    "# Solve for the required sample size\n",
    "result = analysis.solve_power(\n",
    "    effect,           # Effect size\n",
    "    power=power,      # Desired power\n",
    "    nobs1=None,       # Sample size per group (to be calculated)\n",
    "    ratio=1.0,        # Ratio of sample sizes between the two groups\n",
    "    alpha=alpha       # Significance level\n",
    ")\n",
    "\n",
    "# Print the calculated sample size\n",
    "print('Sample Size per Group: %.3f' % result)"
   ]
  },
  {
   "cell_type": "markdown",
   "id": "a19bdf86-65b2-458d-b2bb-4a935f16a061",
   "metadata": {},
   "source": [
    "    The required number of participants in each group ~26 participants per group if effect size is 0.8."
   ]
  },
  {
   "cell_type": "markdown",
   "id": "6c75e336-9b81-4f96-9456-4c3f69d4bc51",
   "metadata": {},
   "source": [
    "#### Power Setting:\n",
    "\n",
    "Blood pressure control is critical for preventing heart disease and stroke. Missing a real effect (false negative) could prevent an effective treatment from reaching patients.\n",
    "\n",
    "The researchers set power = 0.9 to ensure a 90% probability of detecting a true effect, meaning:\n",
    "\n",
    "* If the medication actually works, there is a 90% chance of detecting the difference in blood pressure reduction between the two groups.\n",
    "* This minimizes the risk of Type II error (failing to detect the medication's effect if it exists)."
   ]
  },
  {
   "cell_type": "code",
   "execution_count": 8,
   "id": "27bd4892-7246-4e2d-a5e1-056157c88afc",
   "metadata": {},
   "outputs": [
    {
     "name": "stdout",
     "output_type": "stream",
     "text": [
      "Sample Size per Group: 33.826\n"
     ]
    }
   ],
   "source": [
    "# Parameters for the power analysis\n",
    "effect = 0.8         # Effect size (Cohen's d)\n",
    "alpha = 0.05         # Significance level\n",
    "power = 0.9          # Desired statistical power (1 - Type II error rate)\n",
    "\n",
    "# Initialize the T-test power analysis object\n",
    "analysis = TTestIndPower()\n",
    "\n",
    "# Solve for the required sample size\n",
    "result = analysis.solve_power(\n",
    "    effect,           # Effect size\n",
    "    power=power,      # Desired power\n",
    "    nobs1=None,       # Sample size per group (to be calculated)\n",
    "    ratio=1.0,        # Ratio of sample sizes between the two groups\n",
    "    alpha=alpha       # Significance level\n",
    ")\n",
    "\n",
    "# Print the calculated sample size\n",
    "print('Sample Size per Group: %.3f' % result)"
   ]
  },
  {
   "cell_type": "markdown",
   "id": "96f28356-dad8-437f-b89c-d544409fba44",
   "metadata": {},
   "source": [
    "We can see that as our demand for power increases, this is associated with a likewise\n",
    "increase in sample size. In English, what this means is that if you want more of a\n",
    "chance to reject the null, that is, greater sensitivity, you are going to need to collect\n",
    "more subjects."
   ]
  },
  {
   "cell_type": "markdown",
   "id": "387befaa-372e-4870-9864-7b8aff2901dd",
   "metadata": {},
   "source": [
    "### Demonstrating the Influence of Effect Size"
   ]
  },
  {
   "cell_type": "code",
   "execution_count": 11,
   "id": "535233a8-f17a-408f-a5fb-b9d31ef4e9d6",
   "metadata": {},
   "outputs": [
    {
     "name": "stdout",
     "output_type": "stream",
     "text": [
      "Sample Size per Group: 393.406\n"
     ]
    }
   ],
   "source": [
    "# Parameters for the power analysis\n",
    "effect = 0.2         # Effect size (Cohen's d)\n",
    "alpha = 0.05         # Significance level\n",
    "power = 0.8          # Desired statistical power (1 - Type II error rate)\n",
    "\n",
    "# Initialize the T-test power analysis object\n",
    "analysis = TTestIndPower()\n",
    "\n",
    "# Solve for the required sample size\n",
    "result = analysis.solve_power(\n",
    "    effect,           # Effect size\n",
    "    power=power,      # Desired power\n",
    "    nobs1=None,       # Sample size per group (to be calculated)\n",
    "    ratio=1.0,        # Ratio of sample sizes between the two groups\n",
    "    alpha=alpha       # Significance level\n",
    ")\n",
    "\n",
    "# Print the calculated sample size\n",
    "print('Sample Size per Group: %.3f' % result)"
   ]
  },
  {
   "cell_type": "markdown",
   "id": "e0edf2d8-0536-4bc1-b0b0-374c5639b09f",
   "metadata": {},
   "source": [
    "A drop in effect size from 0.8 to 0.2 implies that we are attempting to detect something that is much smaller than before. We need\r\n",
    "a more powerful test to detect the smaller effect than the large. "
   ]
  },
  {
   "cell_type": "markdown",
   "id": "b92efdf8-bedb-431b-8d5b-8d0a9df86e7e",
   "metadata": {},
   "source": [
    "### The Influence of Significance Levels on Statistical Power"
   ]
  },
  {
   "cell_type": "code",
   "execution_count": 14,
   "id": "a3058929-41a4-48e4-9635-2ac8159235c0",
   "metadata": {},
   "outputs": [
    {
     "name": "stdout",
     "output_type": "stream",
     "text": [
      "Sample Size per Group: 14.515\n"
     ]
    }
   ],
   "source": [
    "# Parameters for the power analysis\n",
    "effect = 0.8         # Effect size (Cohen's d)\n",
    "alpha = 0.2         # Significance level\n",
    "power = 0.8          # Desired statistical power (1 - Type II error rate)\n",
    "\n",
    "# Initialize the T-test power analysis object\n",
    "analysis = TTestIndPower()\n",
    "\n",
    "# Solve for the required sample size\n",
    "result = analysis.solve_power(\n",
    "    effect,           # Effect size\n",
    "    power=power,      # Desired power\n",
    "    nobs1=None,       # Sample size per group (to be calculated)\n",
    "    ratio=1.0,        # Ratio of sample sizes between the two groups\n",
    "    alpha=alpha       # Significance level\n",
    ")\n",
    "\n",
    "# Print the calculated sample size\n",
    "print('Sample Size per Group: %.3f' % result)"
   ]
  },
  {
   "cell_type": "markdown",
   "id": "7b34d53f-ae63-4427-98cf-6e09a64bddf9",
   "metadata": {},
   "source": [
    "We can see that keeping other parameters the same as in our earlier example (where\n",
    "we estimated the number of subjects to equal approximately 25 per group), but adjusting the significance level from 0.05 to 0.20, the required sample size is now only 14 or\n",
    "so, down from 25."
   ]
  },
  {
   "cell_type": "markdown",
   "id": "59a25cfb-0113-44db-b141-8fccb01a1bc2",
   "metadata": {},
   "source": [
    "# Chapter 6 - Analysis of Variance (ANOVA)"
   ]
  },
  {
   "cell_type": "markdown",
   "id": "94a0bb03-d3b0-40e4-b792-97e3fb0fff69",
   "metadata": {},
   "source": [
    "### Example: Four different teachers and their grades"
   ]
  },
  {
   "cell_type": "code",
   "execution_count": 18,
   "id": "378ac5fd-d2a4-4846-ae60-f54855cc7cd9",
   "metadata": {},
   "outputs": [
    {
     "data": {
      "text/html": [
       "<div>\n",
       "<style scoped>\n",
       "    .dataframe tbody tr th:only-of-type {\n",
       "        vertical-align: middle;\n",
       "    }\n",
       "\n",
       "    .dataframe tbody tr th {\n",
       "        vertical-align: top;\n",
       "    }\n",
       "\n",
       "    .dataframe thead th {\n",
       "        text-align: right;\n",
       "    }\n",
       "</style>\n",
       "<table border=\"1\" class=\"dataframe\">\n",
       "  <thead>\n",
       "    <tr style=\"text-align: right;\">\n",
       "      <th></th>\n",
       "      <th>ac</th>\n",
       "      <th>teach</th>\n",
       "    </tr>\n",
       "  </thead>\n",
       "  <tbody>\n",
       "    <tr>\n",
       "      <th>0</th>\n",
       "      <td>70</td>\n",
       "      <td>1</td>\n",
       "    </tr>\n",
       "    <tr>\n",
       "      <th>1</th>\n",
       "      <td>67</td>\n",
       "      <td>1</td>\n",
       "    </tr>\n",
       "    <tr>\n",
       "      <th>2</th>\n",
       "      <td>65</td>\n",
       "      <td>1</td>\n",
       "    </tr>\n",
       "    <tr>\n",
       "      <th>3</th>\n",
       "      <td>75</td>\n",
       "      <td>1</td>\n",
       "    </tr>\n",
       "    <tr>\n",
       "      <th>4</th>\n",
       "      <td>76</td>\n",
       "      <td>1</td>\n",
       "    </tr>\n",
       "  </tbody>\n",
       "</table>\n",
       "</div>"
      ],
      "text/plain": [
       "   ac  teach\n",
       "0  70      1\n",
       "1  67      1\n",
       "2  65      1\n",
       "3  75      1\n",
       "4  76      1"
      ]
     },
     "execution_count": 18,
     "metadata": {},
     "output_type": "execute_result"
    }
   ],
   "source": [
    "ac = [70, 67, 65, 75, 76, 73, 69, 68, 70, 76, 77, 75, 85, 86, 85, 76, 75, 73, 95, 94, 89, 94, 93, 91]\n",
    "teach = [1, 1, 1, 1, 1, 1, 2, 2, 2, 2, 2, 2, 3, 3, 3, 3, 3, 3, 4, 4, 4, 4, 4, 4]\n",
    "\n",
    "data = {'ac' : ac,\n",
    "     'teach' : teach}\n",
    "\n",
    "df = pd.DataFrame(data)\n",
    "df.head()"
   ]
  },
  {
   "cell_type": "code",
   "execution_count": 19,
   "id": "7e87ba26-ca3c-4857-9019-6cc52abae2bd",
   "metadata": {},
   "outputs": [
    {
     "data": {
      "image/png": "[encoded data removed]",
      "text/plain": [
       "<Figure size 640x480 with 4 Axes>"
      ]
     },
     "metadata": {},
     "output_type": "display_data"
    }
   ],
   "source": [
    "df['ac'].hist(by=df['teach']);"
   ]
  },
  {
   "cell_type": "code",
   "execution_count": 20,
   "id": "9ba17061-2247-4de9-845f-2267e282ff81",
   "metadata": {},
   "outputs": [
    {
     "data": {
      "image/png": "[encoded data removed]",
      "text/plain": [
       "<Figure size 1000x600 with 4 Axes>"
      ]
     },
     "metadata": {},
     "output_type": "display_data"
    }
   ],
   "source": [
    "# Create histograms for the 'ac' column grouped by the unique values in the 'teach' column\n",
    "hist_axes = df['ac'].hist(                          # Create a histogram for the 'ac' column\n",
    "            by=df['teach'],                         # Group the histograms by the unique values in the 'teach' column\n",
    "            figsize=(10, 6),                        # Set the overall size of the figure for better readability\n",
    "            color='skyblue',                        # Set a custom color for the bars in the histograms\n",
    "            edgecolor='black',                      # Add black edges to the bars for better visual definition\n",
    "            grid=False                              # Disable grid lines to make the histograms cleaner\n",
    ")\n",
    "\n",
    "# Customize each subplot\n",
    "for ax in hist_axes.flatten():                      # Iterate through all the subplot axes\n",
    "    ax.set_ylim(0, 3)                               # Set the y-axis limit to range from 0 to 3\n",
    "    ax.yaxis.grid(True, linestyle='--', alpha=0.7)  # Add dashed horizontal grid lines\n",
    "    ax.xaxis.grid(False)                            # Disable vertical grid lines\n",
    "    ax.set_ylabel('Frequency')                      # Add y-axis label to each subplot (optional)\n",
    "    ax.set_xlabel('Student Score')                  # Add x-axis label to each subplot (optional)\n",
    "\n",
    "# Set the overall title for the grouped histograms\n",
    "plt.suptitle('Histograms of grades by Teach Groups', fontsize=14, fontweight='bold')\n",
    "\n",
    "# Adjust the layout to prevent overlap between the plots\n",
    "plt.tight_layout(rect=[0, 0, 1, 0.95])\n",
    "\n",
    "# Display the plot\n",
    "plt.show()"
   ]
  },
  {
   "cell_type": "code",
   "execution_count": 21,
   "id": "90520af7-f166-43e0-a19c-b80d58e95e66",
   "metadata": {},
   "outputs": [
    {
     "data": {
      "text/plain": [
       "1897"
      ]
     },
     "execution_count": 21,
     "metadata": {},
     "output_type": "execute_result"
    }
   ],
   "source": [
    "df['ac'].sum()"
   ]
  },
  {
   "cell_type": "code",
   "execution_count": 22,
   "id": "a58b7ee9-e95b-4282-9496-99d2667fe414",
   "metadata": {},
   "outputs": [
    {
     "data": {
      "text/plain": [
       "79.04166666666667"
      ]
     },
     "execution_count": 22,
     "metadata": {},
     "output_type": "execute_result"
    }
   ],
   "source": [
    "df['ac'].mean()"
   ]
  },
  {
   "cell_type": "code",
   "execution_count": 23,
   "id": "28d480c5-3f33-4497-a128-e41647a1d742",
   "metadata": {},
   "outputs": [
    {
     "data": {
      "text/plain": [
       "76.0"
      ]
     },
     "execution_count": 23,
     "metadata": {},
     "output_type": "execute_result"
    }
   ],
   "source": [
    "df['ac'].median()"
   ]
  },
  {
   "cell_type": "code",
   "execution_count": 24,
   "id": "86286724-6a0a-4d3a-aca5-0a010bf7b81d",
   "metadata": {},
   "outputs": [
    {
     "data": {
      "text/plain": [
       "9.64806430987772"
      ]
     },
     "execution_count": 24,
     "metadata": {},
     "output_type": "execute_result"
    }
   ],
   "source": [
    "df['ac'].std()"
   ]
  },
  {
   "cell_type": "code",
   "execution_count": 25,
   "id": "85221e41-2394-4d14-8823-dc878e76c428",
   "metadata": {},
   "outputs": [
    {
     "data": {
      "image/png": "[encoded data removed]",
      "text/plain": [
       "<Figure size 600x400 with 1 Axes>"
      ]
     },
     "metadata": {},
     "output_type": "display_data"
    }
   ],
   "source": [
    "# Create a histogram for the 'ac' column with KDE using Seaborn\n",
    "plt.figure(figsize=(6, 4))      # Set the figure size\n",
    "\n",
    "# Plot the histogram with KDE\n",
    "sns.histplot(\n",
    "    data=df,                    # Data source\n",
    "    x='ac',                     # Column to visualize\n",
    "    bins=15,                    # Number of bins for grouping data\n",
    "    kde=True,                   # Add Kernel Density Estimate\n",
    "    color='skyblue',            # Bar color\n",
    "    edgecolor='black',          # Black edges for bars\n",
    "    alpha=0.7                   # Transparency for the bars\n",
    ")\n",
    "\n",
    "# Add labels and title\n",
    "plt.title(\"Histogram with Student's Grades\", fontsize=12, fontweight='bold')   # Title of the plot\n",
    "plt.xlabel('AC Value', fontsize=12)                                            # Label for the x-axis\n",
    "plt.ylabel('Frequency', fontsize=12)                                           # Label for the y-axis\n",
    "\n",
    "plt.grid(visible=True, linestyle='--', alpha=0.6)                              # Dashed gridlines\n",
    "\n",
    "# Adjust layout to avoid overlap\n",
    "plt.tight_layout()\n",
    "\n",
    "# Show the plot\n",
    "plt.show()"
   ]
  },
  {
   "cell_type": "code",
   "execution_count": 26,
   "id": "40b5b6ba-f451-4548-a0c3-387b1a659fe9",
   "metadata": {},
   "outputs": [
    {
     "data": {
      "text/plain": [
       "count    24.000000\n",
       "mean     79.041667\n",
       "std       9.648064\n",
       "min      65.000000\n",
       "25%      72.250000\n",
       "50%      76.000000\n",
       "75%      86.750000\n",
       "max      95.000000\n",
       "Name: ac, dtype: float64"
      ]
     },
     "execution_count": 26,
     "metadata": {},
     "output_type": "execute_result"
    }
   ],
   "source": [
    "df['ac'].describe()"
   ]
  },
  {
   "cell_type": "code",
   "execution_count": 27,
   "id": "66fd9baa-0e02-42b4-8744-6cf53a400173",
   "metadata": {},
   "outputs": [
    {
     "data": {
      "image/png": "[encoded data removed]",
      "text/plain": [
       "<Figure size 500x300 with 1 Axes>"
      ]
     },
     "metadata": {},
     "output_type": "display_data"
    }
   ],
   "source": [
    "# Create a horizontal box plot for the 'ac' column\n",
    "plt.figure(figsize=(5, 3))    # Set the figure size\n",
    "\n",
    "sns.boxplot(\n",
    "    x=df['ac'],               # Set 'ac' values along the X-axis for a horizontal box plot\n",
    "    color='yellow',           # Set the box color\n",
    "    width=0.5,                # Adjust the width of the box\n",
    "    fliersize=5,              # Size of the outliers\n",
    "    linewidth=1.5             # Line width of the box edges\n",
    ")\n",
    "\n",
    "# Add labels and title\n",
    "plt.title('Grades Distribution', fontsize=12, fontweight='bold')           # Title of the plot\n",
    "plt.xlabel('grades', fontsize=12)                                          # Label for the x-axis\n",
    "\n",
    "plt.grid(visible=True, axis='x', linestyle='--', color='gray', alpha=0.7)  # Add a vertical grid\n",
    "\n",
    "# Adjust layout to avoid overlap\n",
    "plt.tight_layout()\n",
    "\n",
    "# Display the plot\n",
    "plt.show()"
   ]
  },
  {
   "cell_type": "markdown",
   "id": "2a43d3cd-33a8-46f3-858f-dec0785ecd0d",
   "metadata": {},
   "source": [
    "### Normality Test"
   ]
  },
  {
   "cell_type": "markdown",
   "id": "5c9e625d-8f52-494c-8cce-c5ee941fb757",
   "metadata": {},
   "source": [
    "| **Feature**         | **Shapiro-Wilk Test**           | **Anderson-Darling Test**        |\n",
    "|----------------------|----------------------------------|-----------------------------------|\n",
    "| **Sample Size**      | Small to medium (3–2000)        | Works well for large datasets     |\n",
    "| **Focus**            | General normality test          | Focuses on tails of the distribution |\n",
    "| **Use Case**         | Pre-check for parametric tests  | Testing fit to multiple distributions |\n",
    "| **Sensitivity**      | Sensitive to outliers           | Less sensitive to outliers        |\n",
    "| **Ease of Use**      | Simple p-value interpretation   | Critical value interpretation     |\n"
   ]
  },
  {
   "cell_type": "markdown",
   "id": "a0c50b5d-0a40-4b18-904a-eab83f50fb79",
   "metadata": {},
   "source": [
    "### Shapiro-Wilk test"
   ]
  },
  {
   "cell_type": "markdown",
   "id": "1e37aa97-9375-479d-bad0-360057fe10ac",
   "metadata": {},
   "source": [
    "The Shapiro-Wilk test checks for normality in the data. A small p-value (typically ≤ 0.05) indicates the data significantly deviates from a normal distribution."
   ]
  },
  {
   "cell_type": "code",
   "execution_count": 32,
   "id": "06478837-ea98-4447-a1b3-3f0ce62a0797",
   "metadata": {},
   "outputs": [
    {
     "data": {
      "text/plain": [
       "ShapiroResult(statistic=0.9056544303894043, pvalue=0.028417615219950676)"
      ]
     },
     "execution_count": 32,
     "metadata": {},
     "output_type": "execute_result"
    }
   ],
   "source": [
    "sp.stats.shapiro(ac)"
   ]
  },
  {
   "cell_type": "code",
   "execution_count": 33,
   "id": "c0e6ebcc-88a0-4e07-b50a-8c1ed852d772",
   "metadata": {},
   "outputs": [
    {
     "name": "stdout",
     "output_type": "stream",
     "text": [
      "Statistic: 0.9057\n",
      "  P-value: 2.8418e-02\n"
     ]
    }
   ],
   "source": [
    "# Perform the Shapiro-Wilk\n",
    "shapiro_test = sp.stats.shapiro(ac)\n",
    "\n",
    "# Print Results for Shapiro-Wilk Test\n",
    "print(f\"Statistic: {shapiro_test.statistic:.4f}\")\n",
    "print(f\"  P-value: {shapiro_test.pvalue:.4e}\")"
   ]
  },
  {
   "cell_type": "markdown",
   "id": "230a6c24-5ec2-423f-b930-024a78499767",
   "metadata": {},
   "source": [
    "    p-value (0.028) < alpha (0.05); Ha: we can reject the assumption of normality and infer non-normality. "
   ]
  },
  {
   "cell_type": "markdown",
   "id": "53db8392-ee6d-4a4a-a31a-8f8b9773242b",
   "metadata": {},
   "source": [
    "### Levene’s Test – Testing Homoscedasticity\n",
    "Levene’s test checks whether two or more groups have equal variances.\n",
    "\n",
    "       Null Hypothesis (𝐻0): The variances of the groups are equal.\n",
    "       Alternative Hypothesis (𝐻1): At least one group has a different variance."
   ]
  },
  {
   "cell_type": "code",
   "execution_count": 36,
   "id": "fbd3d59a-23d6-427d-9769-ead746404bd8",
   "metadata": {},
   "outputs": [
    {
     "name": "stdout",
     "output_type": "stream",
     "text": [
      "Levene's Test Statistic = 26.3436, p-value = 0.0000\n"
     ]
    }
   ],
   "source": [
    "# Perform Levene's test\n",
    "tstat, p = sp.stats.levene(ac, teach)\n",
    "\n",
    "# Print the results\n",
    "print(f\"Levene's Test Statistic = {tstat:.4f}, p-value = {p:.4f}\")"
   ]
  },
  {
   "cell_type": "markdown",
   "id": "62e2b7b8-d860-4da5-b19c-0ba9afc9b234",
   "metadata": {},
   "source": [
    "    p-value (0.000) < alpha (0.05); H1: At least one group has a different variance."
   ]
  },
  {
   "cell_type": "markdown",
   "id": "b823035d-5b14-461f-9056-43d8c9193c2b",
   "metadata": {},
   "source": [
    "## ANOVA"
   ]
  },
  {
   "cell_type": "code",
   "execution_count": 39,
   "id": "c122e385-1a4a-4093-a6b7-a1c128de5950",
   "metadata": {},
   "outputs": [
    {
     "name": "stdout",
     "output_type": "stream",
     "text": [
      "<class 'pandas.core.frame.DataFrame'>\n",
      "RangeIndex: 24 entries, 0 to 23\n",
      "Data columns (total 2 columns):\n",
      " #   Column  Non-Null Count  Dtype\n",
      "---  ------  --------------  -----\n",
      " 0   ac      24 non-null     int64\n",
      " 1   teach   24 non-null     int64\n",
      "dtypes: int64(2)\n",
      "memory usage: 516.0 bytes\n"
     ]
    }
   ],
   "source": [
    "df.info()"
   ]
  },
  {
   "cell_type": "code",
   "execution_count": 40,
   "id": "fee03fff-6f68-44fd-b7e5-af0d78acd7bb",
   "metadata": {},
   "outputs": [],
   "source": [
    "import statsmodels.api as sm\n",
    "from statsmodels.formula.api import ols\n",
    "\n",
    "# Fit an Ordinary Least Squares (OLS) regression model\n",
    "model = ols('ac ~ C(teach)', data=df).fit()"
   ]
  },
  {
   "cell_type": "code",
   "execution_count": 41,
   "id": "1bacd082-1381-42c0-a6e4-b5d02f9dfe49",
   "metadata": {},
   "outputs": [
    {
     "data": {
      "text/html": [
       "<div>\n",
       "<style scoped>\n",
       "    .dataframe tbody tr th:only-of-type {\n",
       "        vertical-align: middle;\n",
       "    }\n",
       "\n",
       "    .dataframe tbody tr th {\n",
       "        vertical-align: top;\n",
       "    }\n",
       "\n",
       "    .dataframe thead th {\n",
       "        text-align: right;\n",
       "    }\n",
       "</style>\n",
       "<table border=\"1\" class=\"dataframe\">\n",
       "  <thead>\n",
       "    <tr style=\"text-align: right;\">\n",
       "      <th></th>\n",
       "      <th>sum_sq</th>\n",
       "      <th>df</th>\n",
       "      <th>F</th>\n",
       "      <th>PR(&gt;F)</th>\n",
       "    </tr>\n",
       "  </thead>\n",
       "  <tbody>\n",
       "    <tr>\n",
       "      <th>C(teach)</th>\n",
       "      <td>1764.125000</td>\n",
       "      <td>3.0</td>\n",
       "      <td>31.209642</td>\n",
       "      <td>9.677198e-08</td>\n",
       "    </tr>\n",
       "    <tr>\n",
       "      <th>Residual</th>\n",
       "      <td>376.833333</td>\n",
       "      <td>20.0</td>\n",
       "      <td>NaN</td>\n",
       "      <td>NaN</td>\n",
       "    </tr>\n",
       "  </tbody>\n",
       "</table>\n",
       "</div>"
      ],
      "text/plain": [
       "               sum_sq    df          F        PR(>F)\n",
       "C(teach)  1764.125000   3.0  31.209642  9.677198e-08\n",
       "Residual   376.833333  20.0        NaN           NaN"
      ]
     },
     "execution_count": 41,
     "metadata": {},
     "output_type": "execute_result"
    }
   ],
   "source": [
    "# Perform an ANOVA (Analysis of Variance) on the model\n",
    "table = sm.stats.anova_lm(model,     # Regression Model\n",
    "                          typ=2)     # Partially Adjusted SS\n",
    "table"
   ]
  },
  {
   "cell_type": "markdown",
   "id": "d9d913fb-24ba-4e2c-b994-d696fe851375",
   "metadata": {},
   "source": [
    "    p-value (0.000) < alpha (0.05); H1: we have evidence to reject the null hypothesis \n",
    "    and conclude that somewhere among the means there is a mean population difference."
   ]
  },
  {
   "cell_type": "markdown",
   "id": "9adcaf27-ed2b-4354-8a35-a7333b2b6063",
   "metadata": {},
   "source": [
    "### Tukey's Range Test"
   ]
  },
  {
   "cell_type": "markdown",
   "id": "71a81521-4719-4ff6-ba52-866a800ca870",
   "metadata": {},
   "source": [
    "Tukey's Range Test, also known as **Tukey's Honestly Significant Difference (HSD) Test**, is a post-hoc analysis used after an ANOVA test to determine **which specific group means are significantly different** from each other.\n",
    "\n",
    "#### When to Use Tukey’s Test:\n",
    "1. **ANOVA indicates significant differences**:  \n",
    "   Use Tukey’s test after rejecting the null hypothesis in an ANOVA test.\n",
    "2. **Multiple group comparisons**:  \n",
    "   When comparing the means of three or more groups to identify pairwise differences.\n",
    "\n",
    "---\n",
    "\n",
    "#### Hypotheses:\n",
    "- **Null Hypothesis $( H_0 )$**:  \n",
    "  The means of the two groups being compared are equal.  \n",
    " $\n",
    "  \\mu_i = \\mu_j\n",
    "$\n",
    "- **Alternative Hypothesis $( H_1 )$**:  \n",
    "  The means of the two groups are not equal.  \n",
    "  $\n",
    "  \\mu_i \\neq \\mu_j\n",
    "$"
   ]
  },
  {
   "cell_type": "code",
   "execution_count": 45,
   "id": "3b3184db-f3f6-492c-91c6-cb892cbafaeb",
   "metadata": {},
   "outputs": [
    {
     "name": "stdout",
     "output_type": "stream",
     "text": [
      "Multiple Comparison of Means - Tukey HSD, FWER=0.05 \n",
      "====================================================\n",
      "group1 group2 meandiff p-adj   lower   upper  reject\n",
      "----------------------------------------------------\n",
      "     1      2      1.5 0.9313 -5.5144  8.5144  False\n",
      "     1      3      9.0 0.0091  1.9856 16.0144   True\n",
      "     1      4  21.6667    0.0 14.6522 28.6811   True\n",
      "     2      3      7.5 0.0334  0.4856 14.5144   True\n",
      "     2      4  20.1667    0.0 13.1522 27.1811   True\n",
      "     3      4  12.6667 0.0003  5.6522 19.6811   True\n",
      "----------------------------------------------------\n"
     ]
    }
   ],
   "source": [
    "from statsmodels.stats.multicomp import pairwise_tukeyhsd\n",
    "\n",
    "# Perform Tukey's Honestly Significant Difference (HSD) test\n",
    "tukey_test = pairwise_tukeyhsd(endog=df['ac'],       # Dependent variable\n",
    "                                groups=df['teach'],  # Independent variable\n",
    "                                alpha=0.05)          # Alpha\n",
    "print(tukey_test)"
   ]
  },
  {
   "cell_type": "markdown",
   "id": "221d72d8-7b60-46a6-82bb-02fb06cbb5ee",
   "metadata": {},
   "source": [
    "Significant Differences:\n",
    "\n",
    "    1 vs. 3: Significant difference (𝑝 < 0.05); H1: Reject Null Hypothesis\n",
    "    1 vs. 4: Significant difference (𝑝 < 0.05); H1: Reject Null Hypothesis\n",
    "    2 vs. 3: Significant difference (𝑝 < 0.05); H1: Reject Null Hypothesis\n",
    "    2 vs. 4: Significant difference (𝑝 < 0.05); H1: Reject Null Hypothesis\n",
    "    3 vs. 4: Significant difference (𝑝 < 0.05); H1: Reject Null Hypothesis\n",
    "\n",
    "No Significant Difference:\n",
    "\n",
    "    1 vs. 2: No significant difference (𝑝 > 0.05); H0: Can not reject H0"
   ]
  },
  {
   "cell_type": "markdown",
   "id": "720f4caf-207c-49ba-9660-54be9407deab",
   "metadata": {},
   "source": [
    "General Conclusions:\n",
    "\n",
    "    Strong Differences with Group 4: Group 4 has significantly different means compared to all other groups, with particularly large mean differences.\n",
    "\n",
    "    Moderate Differences between Groups 2 and 3: Groups 2 and 3 show a smaller but significant difference in means.\n",
    "\n",
    "    Similarity between Groups 1 and 2: Groups 1 and 2 do not exhibit a significant difference in their means."
   ]
  },
  {
   "cell_type": "markdown",
   "id": "98a4e267-33e8-4d36-b736-b6e96abe49a0",
   "metadata": {},
   "source": [
    "### Factorial ANOVA"
   ]
  },
  {
   "cell_type": "code",
   "execution_count": 49,
   "id": "4b20c921-cd6e-4dde-85f5-e7e2a77d7543",
   "metadata": {},
   "outputs": [
    {
     "data": {
      "text/html": [
       "<div>\n",
       "<style scoped>\n",
       "    .dataframe tbody tr th:only-of-type {\n",
       "        vertical-align: middle;\n",
       "    }\n",
       "\n",
       "    .dataframe tbody tr th {\n",
       "        vertical-align: top;\n",
       "    }\n",
       "\n",
       "    .dataframe thead th {\n",
       "        text-align: right;\n",
       "    }\n",
       "</style>\n",
       "<table border=\"1\" class=\"dataframe\">\n",
       "  <thead>\n",
       "    <tr style=\"text-align: right;\">\n",
       "      <th></th>\n",
       "      <th>ac</th>\n",
       "      <th>teach</th>\n",
       "      <th>text</th>\n",
       "    </tr>\n",
       "  </thead>\n",
       "  <tbody>\n",
       "    <tr>\n",
       "      <th>0</th>\n",
       "      <td>70</td>\n",
       "      <td>1</td>\n",
       "      <td>1</td>\n",
       "    </tr>\n",
       "    <tr>\n",
       "      <th>1</th>\n",
       "      <td>67</td>\n",
       "      <td>1</td>\n",
       "      <td>1</td>\n",
       "    </tr>\n",
       "    <tr>\n",
       "      <th>2</th>\n",
       "      <td>65</td>\n",
       "      <td>1</td>\n",
       "      <td>1</td>\n",
       "    </tr>\n",
       "    <tr>\n",
       "      <th>3</th>\n",
       "      <td>75</td>\n",
       "      <td>1</td>\n",
       "      <td>2</td>\n",
       "    </tr>\n",
       "    <tr>\n",
       "      <th>4</th>\n",
       "      <td>76</td>\n",
       "      <td>1</td>\n",
       "      <td>2</td>\n",
       "    </tr>\n",
       "  </tbody>\n",
       "</table>\n",
       "</div>"
      ],
      "text/plain": [
       "   ac  teach  text\n",
       "0  70      1     1\n",
       "1  67      1     1\n",
       "2  65      1     1\n",
       "3  75      1     2\n",
       "4  76      1     2"
      ]
     },
     "execution_count": 49,
     "metadata": {},
     "output_type": "execute_result"
    }
   ],
   "source": [
    "ac = [70, 67, 65, 75, 76, 73, 69, 68, 70, 76, 77, 75, 85, 86, 85, 76, 75, 73, 95, 94, 89, 94, 93, 91]\n",
    "teach = [1, 1, 1, 1, 1, 1, 2, 2, 2, 2, 2, 2, 3, 3, 3, 3, 3, 3, 4, 4, 4, 4, 4, 4]\n",
    "text = [1, 1, 1, 2, 2, 2, 1, 1, 1, 2, 2, 2, 1, 1, 1, 2, 2, 2, 1, 1, 1, 2, 2, 2]\n",
    "\n",
    "data2 = {'ac' : ac,\n",
    "      'teach' : teach,\n",
    "        'text': text}\n",
    "\n",
    "df2 = pd.DataFrame(data2)\n",
    "df2.head()"
   ]
  },
  {
   "cell_type": "code",
   "execution_count": 50,
   "id": "24beb930-740d-450d-9927-0896234f5fa0",
   "metadata": {},
   "outputs": [
    {
     "data": {
      "text/html": [
       "<div>\n",
       "<style scoped>\n",
       "    .dataframe tbody tr th:only-of-type {\n",
       "        vertical-align: middle;\n",
       "    }\n",
       "\n",
       "    .dataframe tbody tr th {\n",
       "        vertical-align: top;\n",
       "    }\n",
       "\n",
       "    .dataframe thead th {\n",
       "        text-align: right;\n",
       "    }\n",
       "</style>\n",
       "<table border=\"1\" class=\"dataframe\">\n",
       "  <thead>\n",
       "    <tr style=\"text-align: right;\">\n",
       "      <th></th>\n",
       "      <th>sum_sq</th>\n",
       "      <th>df</th>\n",
       "      <th>F</th>\n",
       "      <th>PR(&gt;F)</th>\n",
       "    </tr>\n",
       "  </thead>\n",
       "  <tbody>\n",
       "    <tr>\n",
       "      <th>C(teach)</th>\n",
       "      <td>1764.125000</td>\n",
       "      <td>3.0</td>\n",
       "      <td>30.051216</td>\n",
       "      <td>2.029775e-07</td>\n",
       "    </tr>\n",
       "    <tr>\n",
       "      <th>C(text)</th>\n",
       "      <td>5.041667</td>\n",
       "      <td>1.0</td>\n",
       "      <td>0.257649</td>\n",
       "      <td>6.175816e-01</td>\n",
       "    </tr>\n",
       "    <tr>\n",
       "      <th>Residual</th>\n",
       "      <td>371.791667</td>\n",
       "      <td>19.0</td>\n",
       "      <td>NaN</td>\n",
       "      <td>NaN</td>\n",
       "    </tr>\n",
       "  </tbody>\n",
       "</table>\n",
       "</div>"
      ],
      "text/plain": [
       "               sum_sq    df          F        PR(>F)\n",
       "C(teach)  1764.125000   3.0  30.051216  2.029775e-07\n",
       "C(text)      5.041667   1.0   0.257649  6.175816e-01\n",
       "Residual   371.791667  19.0        NaN           NaN"
      ]
     },
     "execution_count": 50,
     "metadata": {},
     "output_type": "execute_result"
    }
   ],
   "source": [
    "# Create an OLS model with two categorical independent variables\n",
    "model_2 = ols('ac ~ C(teach) + C(text)',  # Define the dependent variable ('ac') and independent variables ('teach' and 'text')\n",
    "              data=df2                    # Use the data from the DataFrame 'df2'\n",
    "             ).fit()                      # Fit the model to the data\n",
    "\n",
    "# Perform ANOVA on the fitted model\n",
    "table_2 = sm.stats.anova_lm(model_2,      # Pass the fitted model to the ANOVA function\n",
    "                            typ=2         # Use Type II sum of squares for the ANOVA calculation\n",
    "                           )\n",
    "\n",
    "# Display the ANOVA table\n",
    "table_2"
   ]
  },
  {
   "cell_type": "markdown",
   "id": "6a390090-6894-4081-9bee-aff5043a6715",
   "metadata": {},
   "source": [
    "    Teach_p-value (0.000) < alpha (0.05); H1: we have evidence to reject the null hypothesis \n",
    "    and conclude that somewhere among the means there is a mean population difference.\n",
    "\n",
    "    Text_p-value(0.618) > alpha (0.05); H0: wh can not reject the null hypothesis\n",
    "    and we have evidence that all group means are equal."
   ]
  },
  {
   "cell_type": "markdown",
   "id": "e54a387b-ac4a-4c7e-b3e3-4871e369cdfb",
   "metadata": {},
   "source": [
    "In the **one-way model**, recall our F and corresponding\n",
    "p-value came out to be 31.21 and 9.677198e-08, respectively. When we include the\n",
    "text factor, the F-statistic now comes out to be 30.05 with the p-value 2.029775e-07.\n",
    "\n",
    "The difference in F-statistic and p-value for C(teach) between the **one-way** and **two-way** ANOVA models is due to the inclusion of an additional factor (C(text)). While this factor explains a small amount of variability, it does not significantly alter the conclusions about the effect of C(teach)."
   ]
  },
  {
   "cell_type": "markdown",
   "id": "f8fb9868-ef4a-485c-a220-4e0ebde0277a",
   "metadata": {},
   "source": [
    "### Modeling the Interaction Term"
   ]
  },
  {
   "cell_type": "code",
   "execution_count": 54,
   "id": "e93898e0-f571-479f-8ca1-e935dddc1c71",
   "metadata": {},
   "outputs": [
    {
     "data": {
      "text/html": [
       "<div>\n",
       "<style scoped>\n",
       "    .dataframe tbody tr th:only-of-type {\n",
       "        vertical-align: middle;\n",
       "    }\n",
       "\n",
       "    .dataframe tbody tr th {\n",
       "        vertical-align: top;\n",
       "    }\n",
       "\n",
       "    .dataframe thead th {\n",
       "        text-align: right;\n",
       "    }\n",
       "</style>\n",
       "<table border=\"1\" class=\"dataframe\">\n",
       "  <thead>\n",
       "    <tr style=\"text-align: right;\">\n",
       "      <th></th>\n",
       "      <th>sum_sq</th>\n",
       "      <th>df</th>\n",
       "      <th>F</th>\n",
       "      <th>PR(&gt;F)</th>\n",
       "    </tr>\n",
       "  </thead>\n",
       "  <tbody>\n",
       "    <tr>\n",
       "      <th>C(teach)</th>\n",
       "      <td>1764.125000</td>\n",
       "      <td>3.0</td>\n",
       "      <td>180.935897</td>\n",
       "      <td>1.488709e-12</td>\n",
       "    </tr>\n",
       "    <tr>\n",
       "      <th>C(text)</th>\n",
       "      <td>5.041667</td>\n",
       "      <td>1.0</td>\n",
       "      <td>1.551282</td>\n",
       "      <td>2.308781e-01</td>\n",
       "    </tr>\n",
       "    <tr>\n",
       "      <th>C(teach):C(text)</th>\n",
       "      <td>319.791667</td>\n",
       "      <td>3.0</td>\n",
       "      <td>32.799145</td>\n",
       "      <td>4.574415e-07</td>\n",
       "    </tr>\n",
       "    <tr>\n",
       "      <th>Residual</th>\n",
       "      <td>52.000000</td>\n",
       "      <td>16.0</td>\n",
       "      <td>NaN</td>\n",
       "      <td>NaN</td>\n",
       "    </tr>\n",
       "  </tbody>\n",
       "</table>\n",
       "</div>"
      ],
      "text/plain": [
       "                       sum_sq    df           F        PR(>F)\n",
       "C(teach)          1764.125000   3.0  180.935897  1.488709e-12\n",
       "C(text)              5.041667   1.0    1.551282  2.308781e-01\n",
       "C(teach):C(text)   319.791667   3.0   32.799145  4.574415e-07\n",
       "Residual            52.000000  16.0         NaN           NaN"
      ]
     },
     "execution_count": 54,
     "metadata": {},
     "output_type": "execute_result"
    }
   ],
   "source": [
    "# Fit a two-way ANOVA model with an interaction term\n",
    "model_3 = ols('ac ~ C(teach) + C(text) + C(teach)*C(text)',  # Specify the formula for the model\n",
    "              data=df2                                       # Use the dataframe `df2`\n",
    "             ).fit()                                         # Fit the model to the data\n",
    "\n",
    "# Perform an ANOVA test on the fitted model\n",
    "table_3 = sm.stats.anova_lm(model_3,  # Use the fitted model `model_3`\n",
    "                            typ=2     # Use Type II sum of squares for the ANOVA\n",
    "                           )\n",
    "\n",
    "# Display the ANOVA table\n",
    "table_3  "
   ]
  },
  {
   "cell_type": "markdown",
   "id": "d3aed692-1fe6-4908-8c9c-222a212d9dea",
   "metadata": {},
   "source": [
    "    C(teach)_p-value(0.000) < alpha (0.05); H1: mu's are not equal\n",
    "\n",
    "    C(text)_p-value(0.231) > alpha (0.05); H0: mu's are equal\n",
    "\n",
    "    C(teach):C(text)_p-value(000) < alpha (0.05); H1: mu's are not equal"
   ]
  },
  {
   "cell_type": "markdown",
   "id": "ded934d8-50e9-4bf2-8cba-9c07caa33246",
   "metadata": {},
   "source": [
    "It is pedagogical to compare the two-way ANOVA fit earlier, where no interaction was\n",
    "modeled, to the two-way ANOVA we just fit with the interaction term. Notice that the\n",
    "total sum of squares is the same in both cases:\n",
    "\n",
    "    Main Effects Only: 1,764.125000 + 5.041667 + 371.791667 = 2,140.958334\n",
    "\n",
    "    Interaction Model: 1,764.125000 + 5.041667 + 319.791667 + 52.000000 = 2,140.958334"
   ]
  },
  {
   "cell_type": "markdown",
   "id": "fac83ef8-db87-48eb-8c0a-cee61b078fbd",
   "metadata": {},
   "source": [
    "When fitting the interaction term in ANOVA, some variance initially attributed to the residuals is reallocated to the interaction term. This redistribution alters the mean squares, which in turn affects the p-values. The model you choose to test dictates which effects will be observed, as statistical modeling partitions variance into components. It's essential to consider the context of the model when interpreting research claims, as effects are inherently model-dependent—a principle that applies broadly across statistical methods, not just ANOVA."
   ]
  },
  {
   "cell_type": "markdown",
   "id": "b543312a-2233-49f2-870c-53e8318e204c",
   "metadata": {},
   "source": [
    "### Plotting Residuals"
   ]
  },
  {
   "cell_type": "code",
   "execution_count": 59,
   "id": "1e58fd0c-ba5a-4378-b721-0c5182a132ac",
   "metadata": {},
   "outputs": [
    {
     "data": {
      "image/png": "[encoded data removed]",
      "text/plain": [
       "<Figure size 640x480 with 1 Axes>"
      ]
     },
     "metadata": {},
     "output_type": "display_data"
    }
   ],
   "source": [
    "import statsmodels.api as sm\n",
    "\n",
    "# Extract residuals from the fitted model\n",
    "res = model_3.resid       # Residuals represent the difference between observed and predicted values\n",
    "\n",
    "# Create a Q-Q plot to check for normality of residuals\n",
    "fig = sm.qqplot(\n",
    "    res,                  # Residuals to be plotted\n",
    "    line='s'              # Add a reference line ('s' for standardized) to assess normality\n",
    ")                         # Generates a Q-Q plot comparing residuals to a theoretical normal distribution"
   ]
  },
  {
   "cell_type": "markdown",
   "id": "79b3f81b-794a-44c1-a882-16584f8f484d",
   "metadata": {},
   "source": [
    "#### Purpose of Q-Q Plot:\n",
    "\n",
    "A Q-Q plot compares the quantiles of the residuals (sample quantiles) to the quantiles of a theoretical normal distribution (theoretical quantiles). It helps assess whether the residuals follow a normal distribution, which is a key assumption in many statistical models like ANOVA or regression.\n",
    "\n",
    "#### Interpretation of the Plot:\n",
    "\n",
    "The red line represents the theoretical normal distribution.\n",
    "The blue dots represent the residuals from our model.\n",
    "If the residuals follow a normal distribution, the points should lie approximately along the red line.\n",
    "    \n",
    "#### What You Are Seeing:\n",
    "\n",
    "The points align well with the red line, indicating that the residuals are close to normally distributed.\n",
    "There is slight deviation in the tails (extreme values) of the distribution, but this does not appear severe enough to raise concerns about the assumption of normality.\n",
    "\n",
    "#### Conclusion:\n",
    "\n",
    "The residuals of our model appear to follow a normal distribution reasonably well.\n",
    "This suggests that the normality assumption is likely satisfied for our model, making the results from our analysis (e.g., ANOVA) valid."
   ]
  },
  {
   "cell_type": "markdown",
   "id": "4637bc04-a180-48f4-864a-a0eed9d8f376",
   "metadata": {},
   "source": [
    "### Randomized Block Designs and Repeated Measures"
   ]
  },
  {
   "cell_type": "code",
   "execution_count": 62,
   "id": "7fd0b14b-72bc-4a8c-aa63-0a011c5ad890",
   "metadata": {},
   "outputs": [
    {
     "data": {
      "text/html": [
       "<div>\n",
       "<style scoped>\n",
       "    .dataframe tbody tr th:only-of-type {\n",
       "        vertical-align: middle;\n",
       "    }\n",
       "\n",
       "    .dataframe tbody tr th {\n",
       "        vertical-align: top;\n",
       "    }\n",
       "\n",
       "    .dataframe thead th {\n",
       "        text-align: right;\n",
       "    }\n",
       "</style>\n",
       "<table border=\"1\" class=\"dataframe\">\n",
       "  <thead>\n",
       "    <tr style=\"text-align: right;\">\n",
       "      <th></th>\n",
       "      <th>rat</th>\n",
       "      <th>trial</th>\n",
       "      <th>time</th>\n",
       "    </tr>\n",
       "  </thead>\n",
       "  <tbody>\n",
       "    <tr>\n",
       "      <th>0</th>\n",
       "      <td>1</td>\n",
       "      <td>1</td>\n",
       "      <td>10.0</td>\n",
       "    </tr>\n",
       "    <tr>\n",
       "      <th>1</th>\n",
       "      <td>1</td>\n",
       "      <td>2</td>\n",
       "      <td>8.2</td>\n",
       "    </tr>\n",
       "    <tr>\n",
       "      <th>2</th>\n",
       "      <td>1</td>\n",
       "      <td>3</td>\n",
       "      <td>5.3</td>\n",
       "    </tr>\n",
       "    <tr>\n",
       "      <th>3</th>\n",
       "      <td>2</td>\n",
       "      <td>1</td>\n",
       "      <td>12.1</td>\n",
       "    </tr>\n",
       "    <tr>\n",
       "      <th>4</th>\n",
       "      <td>2</td>\n",
       "      <td>2</td>\n",
       "      <td>11.2</td>\n",
       "    </tr>\n",
       "  </tbody>\n",
       "</table>\n",
       "</div>"
      ],
      "text/plain": [
       "   rat  trial  time\n",
       "0    1      1  10.0\n",
       "1    1      2   8.2\n",
       "2    1      3   5.3\n",
       "3    2      1  12.1\n",
       "4    2      2  11.2"
      ]
     },
     "execution_count": 62,
     "metadata": {},
     "output_type": "execute_result"
    }
   ],
   "source": [
    "rat = pd.DataFrame({'rat': np.repeat([1, 2, 3, 4, 5, 6], 3),\n",
    "                  'trial': np.tile([1, 2, 3], 6),\n",
    "                   'time': [10.0, 8.2, 5.3, 12.1, 11.2, 9.1, 9.2, 8.1, 4.6, 11.6, 10.5, 8.1, 8.3, 7.6, 5.5, 10.5, 9.5, 8.1]})\n",
    "rat.head()"
   ]
  },
  {
   "cell_type": "code",
   "execution_count": 63,
   "id": "8226a047-bcac-4ab4-8809-f6f0e831db87",
   "metadata": {},
   "outputs": [
    {
     "name": "stdout",
     "output_type": "stream",
     "text": [
      "               Anova\n",
      "===================================\n",
      "      F Value Num DF  Den DF Pr > F\n",
      "-----------------------------------\n",
      "trial 72.6196 2.0000 10.0000 0.0000\n",
      "===================================\n",
      "\n"
     ]
    }
   ],
   "source": [
    "from statsmodels.stats.anova import AnovaRM \n",
    "\n",
    "# Perform a repeated measures ANOVA\n",
    "print(\n",
    "    AnovaRM(\n",
    "        data=rat,                   # Dataset containing the data\n",
    "        depvar='time',              # Dependent variable ('time' to analyze the response variable)\n",
    "        subject='rat',              # Subject identifier column ('rat' for repeated measures)\n",
    "        within=['trial']            # Within-subject factor(s) ('trial' is the repeated measure factor)\n",
    "    ).fit()                         # Fit the model and return the ANOVA results\n",
    ")"
   ]
  },
  {
   "cell_type": "markdown",
   "id": "06055959-e363-4727-be89-ce748214fdef",
   "metadata": {},
   "source": [
    "    P-value (0.0000) < alpha (0.05); H1: we have inferential evidence that the mean on the response variable is not the same across trials."
   ]
  },
  {
   "cell_type": "markdown",
   "id": "2fb819e9-e433-44a4-a92d-7414c064cb54",
   "metadata": {},
   "source": [
    "# Nonparametric Alternatives"
   ]
  },
  {
   "cell_type": "markdown",
   "id": "40f18418-1d5b-48c6-ae41-09130f424002",
   "metadata": {},
   "source": [
    "### Mann-Whitney U Test\n",
    "When the assumptions of the independent samples t-test are violated or unverifiable,\n",
    "the Mann-Whitney U test becomes a viable alternative nonpar option. Recall that\n",
    "the null hypothesis in the independent samples t-test was that both population means\n",
    "were equal. That is, the null hypothesis was:\n",
    "\n",
    "    H0: µ1 = µ2"
   ]
  },
  {
   "cell_type": "code",
   "execution_count": 67,
   "id": "0ad65c89-ce48-48c2-88b0-334e99d3c085",
   "metadata": {},
   "outputs": [
    {
     "data": {
      "text/html": [
       "<div>\n",
       "<style scoped>\n",
       "    .dataframe tbody tr th:only-of-type {\n",
       "        vertical-align: middle;\n",
       "    }\n",
       "\n",
       "    .dataframe tbody tr th {\n",
       "        vertical-align: top;\n",
       "    }\n",
       "\n",
       "    .dataframe thead th {\n",
       "        text-align: right;\n",
       "    }\n",
       "</style>\n",
       "<table border=\"1\" class=\"dataframe\">\n",
       "  <thead>\n",
       "    <tr style=\"text-align: right;\">\n",
       "      <th></th>\n",
       "      <th>grade</th>\n",
       "      <th>studytime</th>\n",
       "    </tr>\n",
       "  </thead>\n",
       "  <tbody>\n",
       "    <tr>\n",
       "      <th>0</th>\n",
       "      <td>0</td>\n",
       "      <td>30</td>\n",
       "    </tr>\n",
       "    <tr>\n",
       "      <th>1</th>\n",
       "      <td>0</td>\n",
       "      <td>25</td>\n",
       "    </tr>\n",
       "    <tr>\n",
       "      <th>2</th>\n",
       "      <td>0</td>\n",
       "      <td>59</td>\n",
       "    </tr>\n",
       "    <tr>\n",
       "      <th>3</th>\n",
       "      <td>0</td>\n",
       "      <td>42</td>\n",
       "    </tr>\n",
       "    <tr>\n",
       "      <th>4</th>\n",
       "      <td>0</td>\n",
       "      <td>31</td>\n",
       "    </tr>\n",
       "    <tr>\n",
       "      <th>5</th>\n",
       "      <td>1</td>\n",
       "      <td>140</td>\n",
       "    </tr>\n",
       "    <tr>\n",
       "      <th>6</th>\n",
       "      <td>1</td>\n",
       "      <td>90</td>\n",
       "    </tr>\n",
       "    <tr>\n",
       "      <th>7</th>\n",
       "      <td>1</td>\n",
       "      <td>95</td>\n",
       "    </tr>\n",
       "    <tr>\n",
       "      <th>8</th>\n",
       "      <td>1</td>\n",
       "      <td>170</td>\n",
       "    </tr>\n",
       "    <tr>\n",
       "      <th>9</th>\n",
       "      <td>1</td>\n",
       "      <td>120</td>\n",
       "    </tr>\n",
       "  </tbody>\n",
       "</table>\n",
       "</div>"
      ],
      "text/plain": [
       "   grade  studytime\n",
       "0      0         30\n",
       "1      0         25\n",
       "2      0         59\n",
       "3      0         42\n",
       "4      0         31\n",
       "5      1        140\n",
       "6      1         90\n",
       "7      1         95\n",
       "8      1        170\n",
       "9      1        120"
      ]
     },
     "execution_count": 67,
     "metadata": {},
     "output_type": "execute_result"
    }
   ],
   "source": [
    "data = {'grade':[0, 0, 0, 0, 0, 1, 1, 1, 1, 1],\n",
    "    'studytime': [30, 25, 59, 42, 31, 140, 90, 95, 170, 120]}\n",
    "\n",
    "df4 = pd.DataFrame(data)\n",
    "df4"
   ]
  },
  {
   "cell_type": "code",
   "execution_count": 68,
   "id": "d0f4beb8-fec5-4446-b983-fc376f018f06",
   "metadata": {},
   "outputs": [],
   "source": [
    "grade = df4['grade']\n",
    "studytime = df4['studytime']"
   ]
  },
  {
   "cell_type": "code",
   "execution_count": 69,
   "id": "3180c9a2-a549-4177-baaf-8224b532a93c",
   "metadata": {},
   "outputs": [
    {
     "name": "stdout",
     "output_type": "stream",
     "text": [
      "U-statistic: 0.0\n",
      "\n",
      "p-values: 0.007936507936507936\n",
      "\n",
      "H1: We can Reject Null Hypothesis. Mu1!=Mu2\n"
     ]
    }
   ],
   "source": [
    "from scipy.stats import mannwhitneyu\n",
    "\n",
    "# Sample1\n",
    "sample1=[30, 25, 59, 42, 31]\n",
    "\n",
    "# Sample2\n",
    "sample2=[140, 90, 95, 170, 120]\n",
    "\n",
    "# Apply Test\n",
    "stat, p = mannwhitneyu(sample1, sample2, alternative='two-sided')\n",
    "print(\"U-statistic:\",stat)\n",
    "print()\n",
    "print(\"p-values:\",p)\n",
    "print()\n",
    "\n",
    "# 0.01 or 1% is significance level or alpha.\n",
    "\n",
    "if p  < 0.01:    \n",
    "    print(\"H1: We can Reject Null Hypothesis. Mu1!=Mu2\")\n",
    "else:\n",
    "    print(\"H0: We can not Reject Null Hypothesis. Mu1 == Mu2\")"
   ]
  },
  {
   "cell_type": "markdown",
   "id": "c820fbfa-dd9b-46ce-9af3-71589dccc1e9",
   "metadata": {},
   "source": [
    "We see that the result is statistically significant with a p-value equal to approximately\n",
    "0.008. Hence, we can reject the null and have evidence to suggest that the two groups\n",
    "were not drawn from the same population. The Mann-Whitney test is quick, easy, and\n",
    "immediately gives you an idea as to whether something might be “going on” with your\n",
    "data without having to satisfy parametric assumptions."
   ]
  },
  {
   "cell_type": "markdown",
   "id": "c42470f6-d479-4c47-9eaf-bb1a06396783",
   "metadata": {},
   "source": [
    "### Kruskal-Wallis Test as a Nonparametric Alternative to ANOVA"
   ]
  },
  {
   "cell_type": "markdown",
   "id": "d0f509c4-62b3-4d5b-a910-28d2d082478c",
   "metadata": {},
   "source": [
    "Recall that when we have several means to compare, conducting numerous independent samples t-tests unduly inflates the type I error rate over the family of comparisons. The solution in such a case is the one-way ANOVA. When assumptions such as normality and equal variances are violated, a plausible nonpar alternative is the KruskalWallis (K-W) test to evaluate the null that all samples were drawn from the same population.\n",
    "\n",
    "    H0: mu1 = mu2 = m3 = mu4"
   ]
  },
  {
   "cell_type": "code",
   "execution_count": 73,
   "id": "4c001d13-85e1-461d-b173-4a082e7f06d9",
   "metadata": {},
   "outputs": [
    {
     "name": "stdout",
     "output_type": "stream",
     "text": [
      "stat = 16.2665, p-value= 0.0010\n"
     ]
    }
   ],
   "source": [
    "from scipy.stats import kruskal\n",
    "\n",
    "x = [70, 67, 65, 75, 76, 73]\n",
    "y = [69, 68, 70, 76, 77, 75]\n",
    "z = [85, 86, 85, 76, 75, 73]\n",
    "w = [95, 94, 89, 94, 93, 91]\n",
    "\n",
    "# Kruskal-Wallis test\n",
    "hstat, p = kruskal(x, y, z, w)\n",
    "\n",
    "print('stat = {0:.4f}, p-value= {1:.4f}'.format(hstat, p))"
   ]
  },
  {
   "cell_type": "markdown",
   "id": "e8c6c571-9c6c-4ae2-8711-e5ced6c05641",
   "metadata": {},
   "source": [
    "    p-value (0.001) < alpha (0.05); H1: We can reject null hypothesis. \n",
    "\n",
    "We reject the null that the samples were drawn from the same population and infer that they were not. However, as\r\n",
    "with ANOVA, simply because we have rejected the overall null, we do not yet know\r\n",
    "where the differences may lie. To know this, we need to conduct post-hoc tests to\r\n",
    "determine which populations are pairwise different from which others. One easy way\r\n",
    "to do this is to simply run the K-W test on pairwise groups and issue a correction on\r\n",
    "alpha for each comparison. For example, we will see if there is a difference between\r\n",
    "groups x and y:"
   ]
  },
  {
   "cell_type": "code",
   "execution_count": 75,
   "id": "3f0e0d06-cc62-4d96-9b60-6bc7386bd740",
   "metadata": {},
   "outputs": [
    {
     "name": "stdout",
     "output_type": "stream",
     "text": [
      "stat = 0.5247, p-value= 0.4688\n"
     ]
    }
   ],
   "source": [
    "# Kruskal-Wallis test\n",
    "hstat, p = kruskal(x, y)\n",
    "\n",
    "print('stat = {0:.4f}, p-value= {1:.4f}'.format(hstat, p))"
   ]
  },
  {
   "cell_type": "markdown",
   "id": "14d3401c-ab53-4175-aa7c-2319dd15f763",
   "metadata": {},
   "source": [
    "    p-value (0.4688) > alpha (0.05); H0: mux = muy."
   ]
  },
  {
   "cell_type": "markdown",
   "id": "f7b54ede-302e-4df7-adf0-e54c454c7ab8",
   "metadata": {},
   "source": [
    "We can see that the test comes out to be non-statistically significant (p = 0.4688), suggesting that a difference does not exist between these two groups. We could do the\n",
    "same thing for the other groups as well to determine where differences may lie, testing\n",
    "each comparison at a smaller significance level to keep the overall family-wise error\n",
    "rate low. An even more effective strategy would be to use the **Nemenyi test** as a posthoc test."
   ]
  },
  {
   "cell_type": "code",
   "execution_count": 78,
   "id": "f52bb7af-ec90-4a4a-818a-d040e6d66ae8",
   "metadata": {},
   "outputs": [
    {
     "data": {
      "text/html": [
       "<div>\n",
       "<style scoped>\n",
       "    .dataframe tbody tr th:only-of-type {\n",
       "        vertical-align: middle;\n",
       "    }\n",
       "\n",
       "    .dataframe tbody tr th {\n",
       "        vertical-align: top;\n",
       "    }\n",
       "\n",
       "    .dataframe thead th {\n",
       "        text-align: right;\n",
       "    }\n",
       "</style>\n",
       "<table border=\"1\" class=\"dataframe\">\n",
       "  <thead>\n",
       "    <tr style=\"text-align: right;\">\n",
       "      <th></th>\n",
       "      <th>1</th>\n",
       "      <th>2</th>\n",
       "      <th>3</th>\n",
       "      <th>4</th>\n",
       "    </tr>\n",
       "  </thead>\n",
       "  <tbody>\n",
       "    <tr>\n",
       "      <th>1</th>\n",
       "      <td>1.000000</td>\n",
       "      <td>0.974034</td>\n",
       "      <td>0.387602</td>\n",
       "      <td>0.003552</td>\n",
       "    </tr>\n",
       "    <tr>\n",
       "      <th>2</th>\n",
       "      <td>0.974034</td>\n",
       "      <td>1.000000</td>\n",
       "      <td>0.657109</td>\n",
       "      <td>0.016002</td>\n",
       "    </tr>\n",
       "    <tr>\n",
       "      <th>3</th>\n",
       "      <td>0.387602</td>\n",
       "      <td>0.657109</td>\n",
       "      <td>1.000000</td>\n",
       "      <td>0.286205</td>\n",
       "    </tr>\n",
       "    <tr>\n",
       "      <th>4</th>\n",
       "      <td>0.003552</td>\n",
       "      <td>0.016002</td>\n",
       "      <td>0.286205</td>\n",
       "      <td>1.000000</td>\n",
       "    </tr>\n",
       "  </tbody>\n",
       "</table>\n",
       "</div>"
      ],
      "text/plain": [
       "          1         2         3         4\n",
       "1  1.000000  0.974034  0.387602  0.003552\n",
       "2  0.974034  1.000000  0.657109  0.016002\n",
       "3  0.387602  0.657109  1.000000  0.286205\n",
       "4  0.003552  0.016002  0.286205  1.000000"
      ]
     },
     "execution_count": 78,
     "metadata": {},
     "output_type": "execute_result"
    }
   ],
   "source": [
    "import scikit_posthocs as sp\n",
    "\n",
    "v = [[70, 67, 65, 75, 76, 73], \n",
    "     [69, 68, 70, 76, 77, 75], \n",
    "     [85, 86, 85, 76, 75, 73], \n",
    "     [95, 94, 89, 94, 93, 91]]\n",
    "\n",
    "sp.posthoc_nemenyi(v)"
   ]
  },
  {
   "cell_type": "markdown",
   "id": "f8d8aea5-127b-401e-a2ab-f0d6af3c1514",
   "metadata": {},
   "source": [
    "    We can see that the test reports significant differences between groups 1 and 4 (p = 0.003552), as well as 2 and 4 (p = 0.016002)."
   ]
  },
  {
   "cell_type": "code",
   "execution_count": 80,
   "id": "9dcd835b-a7f2-4ae1-9564-0e7de8002b11",
   "metadata": {},
   "outputs": [
    {
     "data": {
      "text/html": [
       "<div>\n",
       "<style scoped>\n",
       "    .dataframe tbody tr th:only-of-type {\n",
       "        vertical-align: middle;\n",
       "    }\n",
       "\n",
       "    .dataframe tbody tr th {\n",
       "        vertical-align: top;\n",
       "    }\n",
       "\n",
       "    .dataframe thead th {\n",
       "        text-align: right;\n",
       "    }\n",
       "</style>\n",
       "<table border=\"1\" class=\"dataframe\">\n",
       "  <thead>\n",
       "    <tr style=\"text-align: right;\">\n",
       "      <th></th>\n",
       "      <th>1</th>\n",
       "      <th>2</th>\n",
       "      <th>3</th>\n",
       "      <th>4</th>\n",
       "    </tr>\n",
       "  </thead>\n",
       "  <tbody>\n",
       "    <tr>\n",
       "      <th>1</th>\n",
       "      <td>1.000000</td>\n",
       "      <td>0.974034</td>\n",
       "      <td>0.387602</td>\n",
       "      <td>0.003552</td>\n",
       "    </tr>\n",
       "    <tr>\n",
       "      <th>2</th>\n",
       "      <td>0.974034</td>\n",
       "      <td>1.000000</td>\n",
       "      <td>0.657109</td>\n",
       "      <td>0.016002</td>\n",
       "    </tr>\n",
       "    <tr>\n",
       "      <th>3</th>\n",
       "      <td>0.387602</td>\n",
       "      <td>0.657109</td>\n",
       "      <td>1.000000</td>\n",
       "      <td>0.286205</td>\n",
       "    </tr>\n",
       "    <tr>\n",
       "      <th>4</th>\n",
       "      <td>0.003552</td>\n",
       "      <td>0.016002</td>\n",
       "      <td>0.286205</td>\n",
       "      <td>1.000000</td>\n",
       "    </tr>\n",
       "  </tbody>\n",
       "</table>\n",
       "</div>"
      ],
      "text/plain": [
       "          1         2         3         4\n",
       "1  1.000000  0.974034  0.387602  0.003552\n",
       "2  0.974034  1.000000  0.657109  0.016002\n",
       "3  0.387602  0.657109  1.000000  0.286205\n",
       "4  0.003552  0.016002  0.286205  1.000000"
      ]
     },
     "execution_count": 80,
     "metadata": {},
     "output_type": "execute_result"
    }
   ],
   "source": [
    "nemenyi = sp.posthoc_nemenyi(v)\n",
    "nemenyi"
   ]
  },
  {
   "cell_type": "code",
   "execution_count": 81,
   "id": "171034f1-bd3e-43d3-98b1-1e1557e0439b",
   "metadata": {},
   "outputs": [
    {
     "data": {
      "text/plain": [
       "0.0035515820602331403"
      ]
     },
     "execution_count": 81,
     "metadata": {},
     "output_type": "execute_result"
    }
   ],
   "source": [
    "pvalue14 = nemenyi[1][4]\n",
    "pvalue14"
   ]
  },
  {
   "cell_type": "markdown",
   "id": "941f5644-e4ef-44fb-b852-fec6c8088561",
   "metadata": {},
   "source": [
    "## Statistical Test Decision Map\r\n",
    "\r\n",
    "### Step 1: Identify Your Objective\r\n",
    "- **Compare Means**  \r\n",
    "  Proceed to Step 2.\r\n",
    "- **Test for Correlation/Association**  \r\n",
    "  Proceed to Step 3.\r\n",
    "- **Compare Variances**  \r\n",
    "  Proceed to Step 4.\r\n",
    "- **Check for Normality**  \r\n",
    "  Proceed to Step 5.\r\n",
    "\r\n",
    "---\r\n",
    "\r\n",
    "### Step 2: Comparing Means\r\n",
    "1. **Number of Groups**:\r\n",
    "   - **Two Groups**:  \r\n",
    "     - **Independent Samples**:  \r\n",
    "       - Check for normality:\r\n",
    "         - **Normal Distribution**: Use **t-test**.\r\n",
    "         - **Non-Normal Distribution**: Use **Mann-Whitney U test**.\r\n",
    "       - Check for equal variances:\r\n",
    "         - **Equal Variances**: Use **t-test (pooled)**.\r\n",
    "         - **Unequal Variances**: Use **Welch’s t-test**.\r\n",
    "     - **Dependent (Paired) Samples**:  \r\n",
    "       - **Normal Distribution**: Use **paired t-test**.\r\n",
    "       - **Non-Normal Distribution**: Use **Wilcoxon Signed-Rank test**.\r\n",
    "\r\n",
    "   - **More than Two Groups**:  \r\n",
    "     - **Independent Samples**:  \r\n",
    "       - **Normal Distribution**:\r\n",
    "         - Check variances:\r\n",
    "           - **Equal Variances**: Use **ANOVA**.\r\n",
    "           - **Unequal Variances**: Use **Welch’s ANOVA**.\r\n",
    "       - **Non-Normal Distribution**: Use **Kruskal-Wallis test**.\r\n",
    "     - **Dependent Samples**:  \r\n",
    "       - **Normal Distribution**: Use **Repeated Measures ANOVA**.\r\n",
    "       - **Non-Normal Distribution**: Use **Friedman test**.\r\n",
    "\r\n",
    "---\r\n",
    "\r\n",
    "### Step 3: Correlation/Association\r\n",
    "1. **Both Variables are Continuous**:\r\n",
    "   - **Normal Distribution**: Use **Pearson’s correlation**.\r\n",
    "   - **Non-Normal Distribution**: Use **Spearman’s rho** or **Kendall’s tau**.\r\n",
    "\r\n",
    "2. **One Variable is Categorical**:\r\n",
    "   - Use **Point-Biserial correlation** (if continuous variable is normally distributed).\r\n",
    "   - Use **Spearman’s rho** (otherwise).\r\n",
    "\r\n",
    "3. **Both Variables are Categorical**:\r\n",
    "   - Use **Chi-Square test for independence** or **Fisher’s exact test** (if sample size is small).\r\n",
    "\r\n",
    "---\r\n",
    "\r\n",
    "### Step 4: Comparing Variances\r\n",
    "- **Two Groups**:  \r\n",
    "  - Use **F-test** (for normal distributions).\r\n",
    "  - Use **Levene’s test** or **Bartlett’s test** (for robust comparisons).\r\n",
    "\r\n",
    "- **More than Two Groups**:  \r\n",
    "  - Use **Levene’s test** (robust to non-normality).\r\n",
    "  - Use **Bartlett’s test** (for normal distributions).\r\n",
    "\r\n",
    "---\r\n",
    "\r\n",
    "### Step 5: Checking Normality\r\n",
    "- Use **Shapiro-Wilk test** for small to medium sample sizes (3–2000).\r\n",
    "- Use **Anderson-Darling test** for larger datasets.\r\n",
    "- Visualize distributions with **histograms**, **Q-Q plots**, or **density plots**.\r\n",
    "\r\n",
    "---\r\n",
    "\r\n",
    "### Summary Table of Common Tests\r\n",
    "\r\n",
    "| **Objective**               | **Test**                                       | **Conditions**                                  |\r\n",
    "|------------------------------|-----------------------------------------------|------------------------------------------------|\r\n",
    "| Compare two means            | t-test / Welch's t-test / Mann-Whitney U      | Normality, Variances, Independent/Dependent    |\r\n",
    "| Compare more than two means  | ANOVA / Welch’s ANOVA / Kruskal-Wallis        | Normality, Variances, Independent/Dependent    |\r\n",
    "| Test correlation             | Pearson / Spearman / Kendall                 | Normality                                      |\r\n",
    "| Test independence (categorical) | Chi-Square / Fisher’s exact test            | Sample size                                    |\r\n",
    "| Test variance                | F-test / Levene’s / Bartlett’s               | Normality, Variances                           |\r\n",
    "| Test normality               | Shapiro-Wilk / Anderson-Darling              | Sample size                                    |\r\n",
    "\r\n",
    "---\r\n",
    "\r\n",
    "### Additional Notes\r\n",
    "- Always visualize your data first (e.g., boxplots, histograms, scatter plots).  \r\n",
    "- Use appropriate transformations (e.g., log, square root) if assumptions are violated.  \r\n",
    "- When in doubt about assumptions, choose non-parametric tests.\r\n"
   ]
  }
 ],
 "metadata": {
  "kernelspec": {
   "display_name": "Python 3 (ipykernel)",
   "language": "python",
   "name": "python3"
  },
  "language_info": {
   "codemirror_mode": {
    "name": "ipython",
    "version": 3
   },
   "file_extension": ".py",
   "mimetype": "text/x-python",
   "name": "python",
   "nbconvert_exporter": "python",
   "pygments_lexer": "ipython3",
   "version": "3.11.7"
  }
 },
 "nbformat": 4,
 "nbformat_minor": 5
}
