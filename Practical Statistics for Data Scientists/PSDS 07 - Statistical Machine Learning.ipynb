{
 "cells": [
  {
   "cell_type": "markdown",
   "id": "b405359c-1edc-4bd0-ba70-aba24bf1e68b",
   "metadata": {},
   "source": [
    "# Chapter 6 - Statitstical Machine Learning"
   ]
  },
  {
   "cell_type": "code",
   "execution_count": 3,
   "id": "e748c5ac-bbe1-4300-a059-f4395e31b853",
   "metadata": {},
   "outputs": [],
   "source": [
    "import math\n",
    "import os\n",
    "import random\n",
    "from pathlib import Path\n",
    "from collections import defaultdict\n",
    "from itertools import product\n",
    "\n",
    "import pandas as pd\n",
    "import numpy as np\n",
    "\n",
    "from sklearn import preprocessing\n",
    "from sklearn.neighbors import KNeighborsClassifier\n",
    "from sklearn import metrics\n",
    "from sklearn.model_selection import train_test_split\n",
    "from sklearn.tree import DecisionTreeClassifier\n",
    "from sklearn.ensemble import RandomForestClassifier\n",
    "\n",
    "from xgboost import XGBClassifier\n",
    "\n",
    "from dmba import plotDecisionTree, textDecisionTree\n",
    "\n",
    "import seaborn as sns\n",
    "import matplotlib.pyplot as plt\n",
    "from matplotlib.patches import Ellipse\n",
    "\n",
    "%matplotlib inline"
   ]
  },
  {
   "cell_type": "markdown",
   "id": "038e7ce8-727a-44d2-80a5-e4567653ba22",
   "metadata": {},
   "source": [
    "# K-Nearest Neighbors\n",
    "### A Small Example: Predicting Loan Default"
   ]
  },
  {
   "cell_type": "code",
   "execution_count": 15,
   "id": "532a0794-a265-48e0-bcba-a3a1f5cc781c",
   "metadata": {},
   "outputs": [
    {
     "data": {
      "text/html": [
       "<div>\n",
       "<style scoped>\n",
       "    .dataframe tbody tr th:only-of-type {\n",
       "        vertical-align: middle;\n",
       "    }\n",
       "\n",
       "    .dataframe tbody tr th {\n",
       "        vertical-align: top;\n",
       "    }\n",
       "\n",
       "    .dataframe thead th {\n",
       "        text-align: right;\n",
       "    }\n",
       "</style>\n",
       "<table border=\"1\" class=\"dataframe\">\n",
       "  <thead>\n",
       "    <tr style=\"text-align: right;\">\n",
       "      <th></th>\n",
       "      <th>outcome</th>\n",
       "      <th>payment_inc_ratio</th>\n",
       "      <th>dti</th>\n",
       "    </tr>\n",
       "  </thead>\n",
       "  <tbody>\n",
       "    <tr>\n",
       "      <th>0</th>\n",
       "      <td>target</td>\n",
       "      <td>9.00000</td>\n",
       "      <td>22.50</td>\n",
       "    </tr>\n",
       "    <tr>\n",
       "      <th>1</th>\n",
       "      <td>default</td>\n",
       "      <td>5.46933</td>\n",
       "      <td>21.33</td>\n",
       "    </tr>\n",
       "    <tr>\n",
       "      <th>2</th>\n",
       "      <td>paid off</td>\n",
       "      <td>6.90294</td>\n",
       "      <td>8.97</td>\n",
       "    </tr>\n",
       "    <tr>\n",
       "      <th>3</th>\n",
       "      <td>paid off</td>\n",
       "      <td>11.14800</td>\n",
       "      <td>1.83</td>\n",
       "    </tr>\n",
       "    <tr>\n",
       "      <th>4</th>\n",
       "      <td>default</td>\n",
       "      <td>3.72120</td>\n",
       "      <td>10.81</td>\n",
       "    </tr>\n",
       "  </tbody>\n",
       "</table>\n",
       "</div>"
      ],
      "text/plain": [
       "    outcome  payment_inc_ratio    dti\n",
       "0    target            9.00000  22.50\n",
       "1   default            5.46933  21.33\n",
       "2  paid off            6.90294   8.97\n",
       "3  paid off           11.14800   1.83\n",
       "4   default            3.72120  10.81"
      ]
     },
     "execution_count": 15,
     "metadata": {},
     "output_type": "execute_result"
    }
   ],
   "source": [
    "# Load the CSV data into a DataFrame\n",
    "url1 = ('https://raw.githubusercontent.com/arvindbetrabet/Practical_Statistics_for_Data_Scientists/refs/heads/master/data/loan200.csv')  \n",
    "loan200 = pd.read_csv(url1)\n",
    "\n",
    "loan200.head()"
   ]
  },
  {
   "cell_type": "code",
   "execution_count": 17,
   "id": "19db3500-8f17-4919-bf07-821af35d5403",
   "metadata": {},
   "outputs": [
    {
     "name": "stdout",
     "output_type": "stream",
     "text": [
      "<class 'pandas.core.frame.DataFrame'>\n",
      "RangeIndex: 201 entries, 0 to 200\n",
      "Data columns (total 3 columns):\n",
      " #   Column             Non-Null Count  Dtype  \n",
      "---  ------             --------------  -----  \n",
      " 0   outcome            201 non-null    object \n",
      " 1   payment_inc_ratio  201 non-null    float64\n",
      " 2   dti                201 non-null    float64\n",
      "dtypes: float64(2), object(1)\n",
      "memory usage: 4.8+ KB\n"
     ]
    }
   ],
   "source": [
    "loan200.info()"
   ]
  },
  {
   "cell_type": "code",
   "execution_count": 21,
   "id": "ed54efc1-9942-4a32-8627-2b8cde8640a6",
   "metadata": {},
   "outputs": [
    {
     "name": "stdout",
     "output_type": "stream",
     "text": [
      "[[0.45 0.55]]\n"
     ]
    }
   ],
   "source": [
    "predictors = ['payment_inc_ratio', 'dti']    # Define the predictor variables (features)\n",
    "outcome = 'outcome'                          # Define the target variable\n",
    "\n",
    "newloan = loan200.loc[0:0, predictors]       # Extract the feature values for the first loan to predict ('newloan')\n",
    "X = loan200.loc[1:, predictors]              # Extract feature values for all other loans (used for training the model)\n",
    "y = loan200.loc[1:, outcome]                 # Extract the target variable for all other loans (training data labels)\n",
    "\n",
    "# K-Nearest Neighbors (KNN) Classifier\n",
    "knn = KNeighborsClassifier(n_neighbors=20)   # Instantiate KNN model with 20 nearest neighbors\n",
    "knn.fit(X, y)                                # Fit KNN model to the training data (predictors X and labels y)\n",
    "knn.predict(newloan)                         # Predict the outcome for the new loan\n",
    "\n",
    "print(knn.predict_proba(newloan))            # Print the predicted probabilities for each class ('default' and 'paid off')"
   ]
  },
  {
   "cell_type": "code",
   "execution_count": 27,
   "id": "e6422b89-4ae9-43cc-bcd9-dfea645e9869",
   "metadata": {},
   "outputs": [
    {
     "name": "stdout",
     "output_type": "stream",
     "text": [
      "Probability for default: 45.0%\n",
      "Probability for paid off: 55.0%\n"
     ]
    }
   ],
   "source": [
    "default = (100 * knn.predict_proba(newloan)[0][0]).round(2)  # Extract only the first value (probability of 'default')\n",
    "paidoff = (100 * knn.predict_proba(newloan)[0][1]).round(2)  # Extract only the second value (probability of 'paid off')\n",
    "\n",
    "print(f'Probability for default: {default}%')\n",
    "print(f'Probability for paid off: {paidoff}%')"
   ]
  },
  {
   "cell_type": "code",
   "execution_count": 33,
   "id": "555572a4-b34d-42de-b34e-0fe75bf80e52",
   "metadata": {},
   "outputs": [
    {
     "data": {
      "image/png": "[encoded data removed]",
      "text/plain": [
       "<Figure size 600x600 with 1 Axes>"
      ]
     },
     "metadata": {},
     "output_type": "display_data"
    }
   ],
   "source": [
    "nbrs = knn.kneighbors(newloan)    # Find the k-nearest neighbors for 'newloan' using the trained KNN model\n",
    "maxDistance = np.max(nbrs[0][0])  # Calculate the maximum distance to the nearest neighbors\n",
    "\n",
    "# Create a figure and axis for plotting\n",
    "fig, ax = plt.subplots(figsize=(6, 6))  # Set the size of the plot to be 6x6 inches\n",
    "\n",
    "# Scatter plot of all loans with 'payment_inc_ratio' on x-axis and 'dti' on y-axis\n",
    "sns.scatterplot(x='payment_inc_ratio', \n",
    "                y='dti', style='outcome',  # Style points by outcome ('default' or 'paid off')\n",
    "                hue='outcome',             # Color points based on the outcome variable\n",
    "                data=loan200,              # Use the 'loan200' dataset for this plot\n",
    "                alpha=0.3, ax=ax)          # Set transparency to 30% to reduce overlapping effects\n",
    "\n",
    "# Scatter plot for the 'newloan' and its nearest neighbors\n",
    "sns.scatterplot(x='payment_inc_ratio', y='dti', style='outcome',  # Plot outcome to differentiate 'default' or 'paid off'\n",
    "                hue='outcome',                                    # Color points based on outcome (same as before)\n",
    "                data=pd.concat([loan200.loc[0:0, :], loan200.loc[nbrs[1][0] + 1, :]]),  # Plot 'newloan' and its neighbors\n",
    "                ax=ax, legend=False)                              # Use the same axis and disable additional legend\n",
    "\n",
    "# Draw an ellipse around 'newloan' to indicate the neighborhood\n",
    "ellipse = Ellipse(xy=newloan.values[0],    # Set the center of the ellipse at the location of 'newloan'\n",
    "                  width=2 * maxDistance,   # Set the width of the ellipse to twice the max distance\n",
    "                  height=2 * maxDistance,  # Set the height of the ellipse to twice the max distance\n",
    "                  edgecolor='black',       # Set the edge color to black for visibility\n",
    "                  fc='None',               # No fill color for the ellipse\n",
    "                  lw=1)                    # Set the line width of the ellipse border to 1\n",
    "\n",
    "ax.add_patch(ellipse)  # Add the ellipse to the plot\n",
    "\n",
    "# Set limits for x and y axes to focus the plot area\n",
    "ax.set_xlim(3, 16)   # Set x-axis limits to range from 3 to 16 for better visualization\n",
    "ax.set_ylim(15, 30)  # Set y-axis limits to range from 15 to 30 for better visualization\n",
    "\n",
    "ax.legend(bbox_to_anchor=(1.05, 1), loc='upper left') # Add a legend to describe the plot components\n",
    "\n",
    "plt.show()           # Display the final plot"
   ]
  },
  {
   "cell_type": "markdown",
   "id": "3eb50ee8-d129-4d92-b4a0-9e78ed20e03e",
   "metadata": {},
   "source": [
    "*KNN prediction of loan default using two variables: debt-to-income ratio and loan-payment-to-income ratio*"
   ]
  },
  {
   "cell_type": "markdown",
   "id": "ddd9d2ad-666b-40bf-8f9c-26e2afdd1570",
   "metadata": {},
   "source": [
    "The new loan to be predicted is the circle in the middle. The squares (paid off) and cross (default) are the training data.\n",
    "The large black circle shows the boundary of the nearest 20 points. In this case, 9\n",
    "defaulted loans lie within the circle, as compared with 11 paid-off loans. Hence the\n",
    "predicted outcome of the loan is paid off. Note that if we consider only three nearest\n",
    "neighbors, the prediction would be that the loan defaults."
   ]
  },
  {
   "cell_type": "markdown",
   "id": "91145afd-56be-4140-ba9c-6c39a14f2478",
   "metadata": {},
   "source": [
    "# Standardization (Normalization, Z-Scores)"
   ]
  },
  {
   "cell_type": "markdown",
   "id": "318fa0f0-8f60-42b7-95e0-e5ca4b74d91c",
   "metadata": {},
   "source": [
    "For **KNN** and a few other procedures (e.g., **PCA** and **Clustering**), it is essential to consider standardizing the data prior to applying the procedure."
   ]
  },
  {
   "cell_type": "code",
   "execution_count": 46,
   "id": "a1c2286e-c634-4f16-a18a-134b11d7ecf9",
   "metadata": {},
   "outputs": [
    {
     "data": {
      "text/html": [
       "<div>\n",
       "<style scoped>\n",
       "    .dataframe tbody tr th:only-of-type {\n",
       "        vertical-align: middle;\n",
       "    }\n",
       "\n",
       "    .dataframe tbody tr th {\n",
       "        vertical-align: top;\n",
       "    }\n",
       "\n",
       "    .dataframe thead th {\n",
       "        text-align: right;\n",
       "    }\n",
       "</style>\n",
       "<table border=\"1\" class=\"dataframe\">\n",
       "  <thead>\n",
       "    <tr style=\"text-align: right;\">\n",
       "      <th></th>\n",
       "      <th>Unnamed: 0</th>\n",
       "      <th>status</th>\n",
       "      <th>loan_amnt</th>\n",
       "      <th>term</th>\n",
       "      <th>annual_inc</th>\n",
       "      <th>dti</th>\n",
       "      <th>payment_inc_ratio</th>\n",
       "      <th>revol_bal</th>\n",
       "      <th>revol_util</th>\n",
       "      <th>purpose</th>\n",
       "      <th>...</th>\n",
       "      <th>delinq_2yrs_zero</th>\n",
       "      <th>pub_rec_zero</th>\n",
       "      <th>open_acc</th>\n",
       "      <th>grade</th>\n",
       "      <th>outcome</th>\n",
       "      <th>emp_length</th>\n",
       "      <th>purpose_</th>\n",
       "      <th>home_</th>\n",
       "      <th>emp_len_</th>\n",
       "      <th>borrower_score</th>\n",
       "    </tr>\n",
       "  </thead>\n",
       "  <tbody>\n",
       "    <tr>\n",
       "      <th>0</th>\n",
       "      <td>1</td>\n",
       "      <td>Charged Off</td>\n",
       "      <td>2500</td>\n",
       "      <td>60 months</td>\n",
       "      <td>30000</td>\n",
       "      <td>1.00</td>\n",
       "      <td>2.39320</td>\n",
       "      <td>1687</td>\n",
       "      <td>9.4</td>\n",
       "      <td>car</td>\n",
       "      <td>...</td>\n",
       "      <td>1</td>\n",
       "      <td>1</td>\n",
       "      <td>3</td>\n",
       "      <td>4.8</td>\n",
       "      <td>default</td>\n",
       "      <td>1</td>\n",
       "      <td>major_purchase</td>\n",
       "      <td>RENT</td>\n",
       "      <td>&gt; 1 Year</td>\n",
       "      <td>0.65</td>\n",
       "    </tr>\n",
       "    <tr>\n",
       "      <th>1</th>\n",
       "      <td>2</td>\n",
       "      <td>Charged Off</td>\n",
       "      <td>5600</td>\n",
       "      <td>60 months</td>\n",
       "      <td>40000</td>\n",
       "      <td>5.55</td>\n",
       "      <td>4.57170</td>\n",
       "      <td>5210</td>\n",
       "      <td>32.6</td>\n",
       "      <td>small_business</td>\n",
       "      <td>...</td>\n",
       "      <td>1</td>\n",
       "      <td>1</td>\n",
       "      <td>11</td>\n",
       "      <td>1.4</td>\n",
       "      <td>default</td>\n",
       "      <td>5</td>\n",
       "      <td>small_business</td>\n",
       "      <td>OWN</td>\n",
       "      <td>&gt; 1 Year</td>\n",
       "      <td>0.80</td>\n",
       "    </tr>\n",
       "    <tr>\n",
       "      <th>2</th>\n",
       "      <td>3</td>\n",
       "      <td>Charged Off</td>\n",
       "      <td>5375</td>\n",
       "      <td>60 months</td>\n",
       "      <td>15000</td>\n",
       "      <td>18.08</td>\n",
       "      <td>9.71600</td>\n",
       "      <td>9279</td>\n",
       "      <td>36.5</td>\n",
       "      <td>other</td>\n",
       "      <td>...</td>\n",
       "      <td>1</td>\n",
       "      <td>1</td>\n",
       "      <td>2</td>\n",
       "      <td>6.0</td>\n",
       "      <td>default</td>\n",
       "      <td>1</td>\n",
       "      <td>other</td>\n",
       "      <td>RENT</td>\n",
       "      <td>&gt; 1 Year</td>\n",
       "      <td>0.60</td>\n",
       "    </tr>\n",
       "    <tr>\n",
       "      <th>3</th>\n",
       "      <td>4</td>\n",
       "      <td>Charged Off</td>\n",
       "      <td>9000</td>\n",
       "      <td>36 months</td>\n",
       "      <td>30000</td>\n",
       "      <td>10.08</td>\n",
       "      <td>12.21520</td>\n",
       "      <td>10452</td>\n",
       "      <td>91.7</td>\n",
       "      <td>debt_consolidation</td>\n",
       "      <td>...</td>\n",
       "      <td>1</td>\n",
       "      <td>1</td>\n",
       "      <td>4</td>\n",
       "      <td>4.2</td>\n",
       "      <td>default</td>\n",
       "      <td>1</td>\n",
       "      <td>debt_consolidation</td>\n",
       "      <td>RENT</td>\n",
       "      <td>&gt; 1 Year</td>\n",
       "      <td>0.50</td>\n",
       "    </tr>\n",
       "    <tr>\n",
       "      <th>4</th>\n",
       "      <td>5</td>\n",
       "      <td>Charged Off</td>\n",
       "      <td>10000</td>\n",
       "      <td>36 months</td>\n",
       "      <td>100000</td>\n",
       "      <td>7.06</td>\n",
       "      <td>3.90888</td>\n",
       "      <td>11997</td>\n",
       "      <td>55.5</td>\n",
       "      <td>other</td>\n",
       "      <td>...</td>\n",
       "      <td>1</td>\n",
       "      <td>1</td>\n",
       "      <td>14</td>\n",
       "      <td>5.4</td>\n",
       "      <td>default</td>\n",
       "      <td>4</td>\n",
       "      <td>other</td>\n",
       "      <td>RENT</td>\n",
       "      <td>&gt; 1 Year</td>\n",
       "      <td>0.55</td>\n",
       "    </tr>\n",
       "  </tbody>\n",
       "</table>\n",
       "<p>5 rows × 21 columns</p>\n",
       "</div>"
      ],
      "text/plain": [
       "   Unnamed: 0       status  loan_amnt       term  annual_inc    dti  \\\n",
       "0           1  Charged Off       2500  60 months       30000   1.00   \n",
       "1           2  Charged Off       5600  60 months       40000   5.55   \n",
       "2           3  Charged Off       5375  60 months       15000  18.08   \n",
       "3           4  Charged Off       9000  36 months       30000  10.08   \n",
       "4           5  Charged Off      10000  36 months      100000   7.06   \n",
       "\n",
       "   payment_inc_ratio  revol_bal  revol_util             purpose  ...  \\\n",
       "0            2.39320       1687         9.4                 car  ...   \n",
       "1            4.57170       5210        32.6      small_business  ...   \n",
       "2            9.71600       9279        36.5               other  ...   \n",
       "3           12.21520      10452        91.7  debt_consolidation  ...   \n",
       "4            3.90888      11997        55.5               other  ...   \n",
       "\n",
       "  delinq_2yrs_zero  pub_rec_zero  open_acc  grade  outcome emp_length  \\\n",
       "0                1             1         3    4.8  default          1   \n",
       "1                1             1        11    1.4  default          5   \n",
       "2                1             1         2    6.0  default          1   \n",
       "3                1             1         4    4.2  default          1   \n",
       "4                1             1        14    5.4  default          4   \n",
       "\n",
       "             purpose_ home_   emp_len_ borrower_score  \n",
       "0      major_purchase  RENT   > 1 Year           0.65  \n",
       "1      small_business   OWN   > 1 Year           0.80  \n",
       "2               other  RENT   > 1 Year           0.60  \n",
       "3  debt_consolidation  RENT   > 1 Year           0.50  \n",
       "4               other  RENT   > 1 Year           0.55  \n",
       "\n",
       "[5 rows x 21 columns]"
      ]
     },
     "execution_count": 46,
     "metadata": {},
     "output_type": "execute_result"
    }
   ],
   "source": [
    "# Load the CSV data into a DataFrame\n",
    "url2 = ('https://raw.githubusercontent.com/arvindbetrabet/Practical_Statistics_for_Data_Scientists/refs/heads/master/data/loan_data.csv')  \n",
    "loan_data = pd.read_csv(url2)\n",
    "\n",
    "loan_data.head()"
   ]
  },
  {
   "cell_type": "code",
   "execution_count": 48,
   "id": "775dd689-e49c-4257-a3b6-6381b12a0f3b",
   "metadata": {},
   "outputs": [
    {
     "name": "stdout",
     "output_type": "stream",
     "text": [
      "   payment_inc_ratio  dti  revol_bal  revol_util\n",
      "0             2.3932  1.0       1687         9.4\n",
      "\n",
      "       payment_inc_ratio   dti  revol_bal  revol_util\n",
      "35536            1.47212  1.46       1686        10.0\n",
      "33651            3.38178  6.37       1688         8.4\n",
      "25863            2.36303  1.39       1691         3.5\n",
      "42953            1.28160  7.14       1684         3.9\n",
      "43599            4.12244  8.98       1684         7.2\n"
     ]
    }
   ],
   "source": [
    "loan_data = loan_data.drop(columns=['Unnamed: 0', 'status'])          # Drop unnecessary columns ('Unnamed: 0' and 'status')\n",
    "\n",
    "# Convert 'outcome' to a categorical variable with a specific order ('paid off' < 'default')\n",
    "loan_data['outcome'] = pd.Categorical(loan_data['outcome'],           # Convert 'outcome' column to a categorical type\n",
    "                                      categories=['paid off', 'default'],  # Define the categories explicitly, setting 'paid off' < 'default'\n",
    "                                      ordered=True)                   # Specify that the categories are ordered to give them meaningful ranking\n",
    "\n",
    "# Define predictor variables and outcome variable\n",
    "predictors = ['payment_inc_ratio', 'dti', 'revol_bal', 'revol_util']  # Features used to predict the outcome\n",
    "outcome = 'outcome'                                                   # Define the target variable ('paid off' or 'default')\n",
    "\n",
    "newloan = loan_data.loc[0:0, predictors]                              # Extract the feature values for the first loan (new loan to be predicted)\n",
    "\n",
    "print(newloan)                                                        # Print the features of the new loan to verify the data\n",
    "print()\n",
    "\n",
    "# Split the data into training set (excluding the first row which is 'newloan')\n",
    "X = loan_data.loc[1:, predictors]                                     # Extract features for the remaining loans to train the model\n",
    "y = loan_data.loc[1:, outcome]                                        # Extract the outcome variable for the training data\n",
    "\n",
    "# Initialize and fit K-Nearest Neighbors (KNN) model\n",
    "knn = KNeighborsClassifier(n_neighbors=5)                             # Instantiate KNN model with 5 nearest neighbors\n",
    "knn.fit(X, y)                                                         # Fit the KNN model to the training data\n",
    "\n",
    "# Find the nearest neighbors for the new loan\n",
    "nbrs = knn.kneighbors(newloan)                                        # Get the distances and indices of the nearest neighbors for 'newloan'\n",
    "print(X.iloc[nbrs[1][0], :])                                          # Print the feature values of the 5 nearest neighbors to 'newloan'"
   ]
  },
  {
   "cell_type": "markdown",
   "id": "302df586-32d6-4498-94bb-7c9ba7427033",
   "metadata": {},
   "source": [
    "The value of revol_bal in these neighbors is very close to its value in the new record,\n",
    "but the other predictor variables are all over the map and essentially play no role in\n",
    "determining neighbors."
   ]
  },
  {
   "cell_type": "code",
   "execution_count": 52,
   "id": "12cb9b89-395c-40f2-858d-33b1a88688ba",
   "metadata": {},
   "outputs": [
    {
     "name": "stdout",
     "output_type": "stream",
     "text": [
      "       payment_inc_ratio   dti  revol_bal  revol_util\n",
      "2080             2.61091  1.03       1218         9.7\n",
      "1438             2.34343  0.51        278         9.9\n",
      "30215            2.71200  1.34       1075         8.5\n",
      "28542            2.39760  0.74       2917         7.4\n",
      "44737            2.34309  1.37        488         7.2\n"
     ]
    }
   ],
   "source": [
    "newloan = loan_data.loc[0:0, predictors]  # Extract the feature values for the first loan\n",
    "\n",
    "X = loan_data.loc[1:, predictors]         # Extract the feature values from the second row onwards\n",
    "y = loan_data.loc[1:, outcome]            # Extract the outcome values for the training data\n",
    "\n",
    "# Standardize the predictor variables\n",
    "scaler = preprocessing.StandardScaler()  # Instantiate a StandardScaler to standardize the features\n",
    "scaler.fit(X * 1.0)                      # Fit the scaler to the feature values, converting to float for scaling\n",
    "\n",
    "# Transform the features to have a mean of 0 and standard deviation of 1\n",
    "X_std = scaler.transform(X * 1.0)              # Standardize the training data (scale it based on the fitted scaler)\n",
    "newloan_std = scaler.transform(newloan * 1.0)  # Standardize the new loan data using the same scaler\n",
    "\n",
    "# Initialize and fit K-Nearest Neighbors (KNN) model using standardized data\n",
    "knn = KNeighborsClassifier(n_neighbors=5)      # Instantiate KNN model with 5 nearest neighbors\n",
    "knn.fit(X_std, y)                              # Fit the KNN model to the standardized training data and labels\n",
    "\n",
    "# Find the nearest neighbors for the standardized new loan\n",
    "nbrs = knn.kneighbors(newloan_std)             # Get the distances and indices of the nearest neighbors for 'newloan_std'\n",
    "\n",
    "# Print the feature values of the 5 nearest neighbors (original unstandardized values for interpretation)\n",
    "print(X.iloc[nbrs[1][0], :])                   # Print the feature values of the nearest neighbors in their original (unstandardized) form"
   ]
  },
  {
   "cell_type": "markdown",
   "id": "5ee5bf8b-25b7-416b-bf53-2d96de6ec05c",
   "metadata": {},
   "source": [
    "The five nearest neighbors are much more alike in all the variables, providing a more\n",
    "sensible result. Note that the results are displayed on the original scale, but KNN was\n",
    "applied to the scaled data and the new loan to be predicted."
   ]
  },
  {
   "cell_type": "markdown",
   "id": "8fe9a57c-5538-4c22-8522-b8403d479adf",
   "metadata": {},
   "source": [
    "**Normalization (standardization) does not change the distributional shape of the data; it does not make it normally shaped if it was not\n",
    "already normally shaped.**"
   ]
  },
  {
   "cell_type": "markdown",
   "id": "2cb18054-998a-4f2d-b788-4e52312634b3",
   "metadata": {},
   "source": [
    "# KNN as a Feature Engine"
   ]
  },
  {
   "cell_type": "code",
   "execution_count": null,
   "id": "f7223936-e2fc-474d-8e09-6cb79272e4b8",
   "metadata": {},
   "outputs": [],
   "source": []
  },
  {
   "cell_type": "code",
   "execution_count": null,
   "id": "674d0bc5-4c19-4db3-9196-d944ee8b6f86",
   "metadata": {},
   "outputs": [],
   "source": []
  },
  {
   "cell_type": "code",
   "execution_count": null,
   "id": "9486040f-f3c5-4716-ac79-83b5edb56342",
   "metadata": {},
   "outputs": [],
   "source": []
  }
 ],
 "metadata": {
  "kernelspec": {
   "display_name": "Python 3 (ipykernel)",
   "language": "python",
   "name": "python3"
  },
  "language_info": {
   "codemirror_mode": {
    "name": "ipython",
    "version": 3
   },
   "file_extension": ".py",
   "mimetype": "text/x-python",
   "name": "python",
   "nbconvert_exporter": "python",
   "pygments_lexer": "ipython3",
   "version": "3.11.7"
  }
 },
 "nbformat": 4,
 "nbformat_minor": 5
}
