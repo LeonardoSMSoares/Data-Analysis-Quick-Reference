{
 "cells": [
  {
   "cell_type": "markdown",
   "id": "91855b69-cda4-4524-8396-83f64f5bea9e",
   "metadata": {},
   "source": [
    "# Chapter 3 - Statistical Experiments and Significance Testing"
   ]
  },
  {
   "cell_type": "code",
   "execution_count": 2,
   "id": "cf1b1776-db9e-48d4-bed3-d7570d5761b9",
   "metadata": {},
   "outputs": [],
   "source": [
    "%matplotlib inline\n",
    "\n",
    "from pathlib import Path\n",
    "import random\n",
    "\n",
    "import pandas as pd\n",
    "import numpy as np\n",
    "\n",
    "from scipy import stats\n",
    "import statsmodels.api as sm\n",
    "import statsmodels.formula.api as smf\n",
    "from statsmodels.stats import power\n",
    "\n",
    "import matplotlib.pylab as plt"
   ]
  },
  {
   "cell_type": "markdown",
   "id": "6b6c41b8-3d70-495a-885f-b693fae9d029",
   "metadata": {},
   "source": [
    "# A/B Test"
   ]
  },
  {
   "cell_type": "code",
   "execution_count": 4,
   "id": "cbf10f26-5e63-4175-8185-832ea1119341",
   "metadata": {},
   "outputs": [
    {
     "data": {
      "text/html": [
       "<div>\n",
       "<style scoped>\n",
       "    .dataframe tbody tr th:only-of-type {\n",
       "        vertical-align: middle;\n",
       "    }\n",
       "\n",
       "    .dataframe tbody tr th {\n",
       "        vertical-align: top;\n",
       "    }\n",
       "\n",
       "    .dataframe thead th {\n",
       "        text-align: right;\n",
       "    }\n",
       "</style>\n",
       "<table border=\"1\" class=\"dataframe\">\n",
       "  <thead>\n",
       "    <tr style=\"text-align: right;\">\n",
       "      <th></th>\n",
       "      <th>Page</th>\n",
       "      <th>Time</th>\n",
       "    </tr>\n",
       "  </thead>\n",
       "  <tbody>\n",
       "    <tr>\n",
       "      <th>0</th>\n",
       "      <td>Page A</td>\n",
       "      <td>0.21</td>\n",
       "    </tr>\n",
       "    <tr>\n",
       "      <th>1</th>\n",
       "      <td>Page B</td>\n",
       "      <td>2.53</td>\n",
       "    </tr>\n",
       "    <tr>\n",
       "      <th>2</th>\n",
       "      <td>Page A</td>\n",
       "      <td>0.35</td>\n",
       "    </tr>\n",
       "    <tr>\n",
       "      <th>3</th>\n",
       "      <td>Page B</td>\n",
       "      <td>0.71</td>\n",
       "    </tr>\n",
       "    <tr>\n",
       "      <th>4</th>\n",
       "      <td>Page A</td>\n",
       "      <td>0.67</td>\n",
       "    </tr>\n",
       "  </tbody>\n",
       "</table>\n",
       "</div>"
      ],
      "text/plain": [
       "     Page  Time\n",
       "0  Page A  0.21\n",
       "1  Page B  2.53\n",
       "2  Page A  0.35\n",
       "3  Page B  0.71\n",
       "4  Page A  0.67"
      ]
     },
     "execution_count": 4,
     "metadata": {},
     "output_type": "execute_result"
    }
   ],
   "source": [
    "url1 = ('https://raw.githubusercontent.com/arvindbetrabet/Practical_Statistics_for_Data_Scientists/refs/heads/master/data/web_page_data.csv')\n",
    "\n",
    "session_times = pd.read_csv(url1)\n",
    "\n",
    "session_times.head()"
   ]
  },
  {
   "cell_type": "code",
   "execution_count": 5,
   "id": "7b72aef4-05c8-444b-9e6d-7e92401be84b",
   "metadata": {},
   "outputs": [
    {
     "data": {
      "text/plain": [
       "(36, 2)"
      ]
     },
     "execution_count": 5,
     "metadata": {},
     "output_type": "execute_result"
    }
   ],
   "source": [
    "session_times.shape"
   ]
  },
  {
   "cell_type": "code",
   "execution_count": 6,
   "id": "a99f5b37-c332-4e23-94a6-6afb298aebc7",
   "metadata": {},
   "outputs": [],
   "source": [
    "session_times['Time'] = 100 * session_times['Time']"
   ]
  },
  {
   "cell_type": "code",
   "execution_count": 7,
   "id": "b0115b30-fab9-4d64-ab67-be0c3f01a33d",
   "metadata": {},
   "outputs": [
    {
     "data": {
      "image/png": "[encoded data removed]",
      "text/plain": [
       "<Figure size 400x400 with 1 Axes>"
      ]
     },
     "metadata": {},
     "output_type": "display_data"
    }
   ],
   "source": [
    "# Create a boxplot to visualize the distribution of session times by page\n",
    "ax = session_times.boxplot(by='Page',          # Group data by 'Page' column to create individual boxplots for each page\n",
    "                           column='Time',      # Boxplot will show the 'Time' column\n",
    "                           figsize=(4, 4))     # Set the size of the figure\n",
    "\n",
    "ax.set_xlabel('')                   # Remove the x-axis label for a cleaner look\n",
    "ax.set_ylabel('Time (in seconds)')  # Set the y-axis label to indicate that it represents 'Time (in seconds)'\n",
    "plt.suptitle('')                    # Remove the default boxplot title that comes with the groupby boxplot\n",
    "plt.tight_layout()                  # Adjust the layout to remove excess white space around the plot\n",
    "plt.show()                          # Display the boxplot"
   ]
  },
  {
   "cell_type": "code",
   "execution_count": 8,
   "id": "13d56765-1ba7-4085-9f04-b26206b1f6a1",
   "metadata": {},
   "outputs": [
    {
     "name": "stdout",
     "output_type": "stream",
     "text": [
      "35.66666666666667\n"
     ]
    }
   ],
   "source": [
    "# Calculate the mean session time for 'Page A'\n",
    "mean_a = session_times[session_times['Page'] == 'Page A']['Time'].mean()\n",
    "\n",
    "# Calculate the mean session time for 'Page B'\n",
    "mean_b = session_times[session_times['Page'] == 'Page B']['Time'].mean()\n",
    "\n",
    "# Print the difference between mean session times of 'Page B' and 'Page A'\n",
    "print(mean_b - mean_a)"
   ]
  },
  {
   "cell_type": "markdown",
   "id": "e7d121c6-3baa-4dff-aa96-be5de1212cd8",
   "metadata": {},
   "source": [
    "Page B has session times that are greater than those of page A by 35.67 seconds, on average. The question is whether this difference is within the range of what random chance might produce, i.e., is statistically significant or not. \n",
    "\n",
    "One way to answer this is to apply a permutation test—combine all the session times together and then repeatedly shuffle and divide them into groups of 21 (recall that nA = 21 for page A) and 15 (nB = 15 for page B)."
   ]
  },
  {
   "cell_type": "code",
   "execution_count": 10,
   "id": "2b0bc067-9411-4fb3-915b-0e36c77f0695",
   "metadata": {},
   "outputs": [
    {
     "name": "stdout",
     "output_type": "stream",
     "text": [
      "-9.476190476190482\n"
     ]
    }
   ],
   "source": [
    "# Permutation test example with stickiness\n",
    "\n",
    "def perm_fun(x, nA, nB):\n",
    "    n = nA + nB                               # Total number of observations\n",
    "    idx_B = set(random.sample(range(n), nB))  # Randomly select nB indices for group B\n",
    "    idx_A = set(range(n)) - idx_B             # Remaining indices assigned to group A\n",
    "    return x.loc[list(idx_B)].mean() - x.loc[list(idx_A)].mean()  # Return the difference in means between group B and group A\n",
    "\n",
    "# Get the number of observations in 'Page A'\n",
    "nA = session_times[session_times.Page == 'Page A'].shape[0]  # Count rows where 'Page' is 'Page A'\n",
    "\n",
    "# Get the number of observations in 'Page B'\n",
    "nB = session_times[session_times.Page == 'Page B'].shape[0]  # Count rows where 'Page' is 'Page B'\n",
    "\n",
    "# Print the result of the permutation function applied to 'Time' data\n",
    "print(perm_fun(session_times['Time'], nA, nB))               # Calculate and print the difference in means for a random permutation"
   ]
  },
  {
   "cell_type": "markdown",
   "id": "75c7617d-416f-4175-a9c6-632926064f81",
   "metadata": {},
   "source": [
    "Calling this function R = 1,000 times and specifying nA = 21 and nB = 15 leads to a distribution of differences in the session\n",
    "times that can be plotted as a histogram. "
   ]
  },
  {
   "cell_type": "code",
   "execution_count": 12,
   "id": "c22f70e2-6d1c-4d00-917d-23cb58169e8d",
   "metadata": {},
   "outputs": [
    {
     "data": {
      "image/png": "[encoded data removed]",
      "text/plain": [
       "<Figure size 600x600 with 1 Axes>"
      ]
     },
     "metadata": {},
     "output_type": "display_data"
    }
   ],
   "source": [
    "random.seed(1)                                                           # Set the random seed for reproducibility\n",
    "\n",
    "perm_diffs = [perm_fun(session_times.Time, nA, nB) for _ in range(1000)] # Generate 1000 permutations of the difference between means of two groups\n",
    "\n",
    "fig, ax = plt.subplots(figsize=(6, 6))                                   # Create a figure and axis for plotting\n",
    "\n",
    "ax.hist(perm_diffs, bins=11, rwidth=0.9)  # Plot a histogram of the permutation differences with 11 bins and 90% relative width for bars\n",
    "\n",
    "ax.axvline(x=mean_b - mean_a, color='black', lw=2) # Draw a vertical line representing the observed difference in means between Page A and Page B\n",
    "\n",
    "ax.text(50, 190, 'Observed\\ndifference', bbox={'facecolor': 'white'})    # Annotate the vertical line with the label \"Observed difference\"\n",
    "\n",
    "ax.set_xlabel('Session time differences (in seconds)') # Set the x-axis label\n",
    "\n",
    "ax.set_ylabel('Frequency') # Set the y-axis label\n",
    "\n",
    "plt.tight_layout()         # Adjust the layout to avoid overlap and improve appearance\n",
    "\n",
    "plt.show()                 # Show the plot"
   ]
  },
  {
   "cell_type": "code",
   "execution_count": 13,
   "id": "fb33658d-f351-48e3-84cf-beffab50c61c",
   "metadata": {},
   "outputs": [
    {
     "name": "stdout",
     "output_type": "stream",
     "text": [
      "0.121\n"
     ]
    }
   ],
   "source": [
    "# convert perm_diffs to numpy array to avoid problems with some Python installations\n",
    "perm_diffs = np.array(perm_diffs)\n",
    "\n",
    "print(np.mean(perm_diffs > mean_b - mean_a))"
   ]
  },
  {
   "cell_type": "markdown",
   "id": "6ec750a0-4a82-4188-b1f4-e6d0f37790a9",
   "metadata": {},
   "source": [
    "This suggests that the observed difference in session time between page A and page B is well within the range of chance variation and thus is not statistically significant (could plausibly have occurred by random chance)."
   ]
  },
  {
   "cell_type": "markdown",
   "id": "b0dd1cf7-4457-4939-85f2-42e04f5a7d9c",
   "metadata": {},
   "source": [
    "# Statistical Significance and P-Values"
   ]
  },
  {
   "cell_type": "markdown",
   "id": "f93b3e22-fa41-42fb-8ce3-a08586365f4c",
   "metadata": {},
   "source": [
    "The following permutation procedure asks, “If the two prices share the same conversion rate, could chance varia‐\n",
    "tion produce a difference as big as 5%?”\n",
    "\n",
    "    1. Put cards labeled 1 and 0 in a box: this represents the supposed shared conversion rate of 382 ones and 45,945 zeros (0.8246%).\n",
    "    2. Shuffle and draw out a resample of size 23,739 (same n as price A), and record how many 1s.\n",
    "    3. Record the number of 1s in the remaining 22,588 (same n as price B).\n",
    "    4. Record the difference in proportion of 1s.\n",
    "    5. Repeat steps 2–4.\n",
    "    6. How often was the difference >= 0.0368?"
   ]
  },
  {
   "cell_type": "markdown",
   "id": "1182659b-5a9c-499a-a063-6b3174d2502c",
   "metadata": {},
   "source": [
    "| Outcome        | Price A | Price B  |\r\n",
    "| -------------- | ------- | -------- |\r\n",
    "| Conversion     | 200     | 182      |\r\n",
    "| No conversion  | 23,539  | 22,406   |\r\n"
   ]
  },
  {
   "cell_type": "code",
   "execution_count": 18,
   "id": "b6033620-09fd-4c4c-b11d-ac95dbbcb3c4",
   "metadata": {},
   "outputs": [
    {
     "name": "stdout",
     "output_type": "stream",
     "text": [
      "Observed difference: 0.0368%\n",
      "\n"
     ]
    },
    {
     "data": {
      "image/png": "[encoded data removed]",
      "text/plain": [
       "<Figure size 600x600 with 1 Axes>"
      ]
     },
     "metadata": {},
     "output_type": "display_data"
    }
   ],
   "source": [
    "random.seed(1)                                      # Set the random seed for reproducibility\n",
    "\n",
    "obs_pct_diff = 100 * (200 / 23739 - 182 / 22588)    # Calculate the observed percentage difference in conversion rates\n",
    "\n",
    "print(f'Observed difference: {obs_pct_diff:.4f}%\\n')  # Print the observed percentage difference with 4 decimal places\n",
    "\n",
    "conversion = [0] * 45945            # Create a list with 45945 zeros (representing non-conversions)\n",
    "conversion.extend([1] * 382)        # Extend the list with 382 ones (representing conversions)\n",
    "conversion = pd.Series(conversion)  # Convert the list into a Pandas Series\n",
    "\n",
    "perm_diffs = [100 * perm_fun(conversion, 23739, 22588) for _ in range(1000)]  # Run permutation test 1000 times to generate percentage differences\n",
    "\n",
    "fig, ax = plt.subplots(figsize=(6, 6))           # Create a figure and axis for plotting\n",
    "ax.hist(perm_diffs, bins=11, rwidth=0.9)         # Plot a histogram of the permutation differences\n",
    "ax.axvline(x=obs_pct_diff, color='black', lw=2)  # Add a vertical line representing the observed difference\n",
    "ax.text(0.06, 200, 'Observed\\ndifference', bbox={'facecolor': 'white'})  # Annotate the observed difference on the plot\n",
    "\n",
    "ax.set_xlabel('Conversion rate (percent)')  # Set the label for the x-axis\n",
    "ax.set_ylabel('Frequency')                  # Set the label for the y-axis\n",
    "\n",
    "plt.tight_layout()  # Adjust layout to prevent overlapping of elements\n",
    "plt.show()          # Display the plot"
   ]
  },
  {
   "cell_type": "markdown",
   "id": "b34e486c-f79f-4a6c-aa06-9f8d167b39af",
   "metadata": {},
   "source": [
    "See the histogram of 1,000 resampled results in graph above: as it happens, in this case the observed difference of 0.0368% is well within the range of chance variation."
   ]
  },
  {
   "cell_type": "markdown",
   "id": "36c8f22d-9a8d-4777-8959-deda7b3324b8",
   "metadata": {},
   "source": [
    "## p-Value"
   ]
  },
  {
   "cell_type": "markdown",
   "id": "4cda538a-690e-4f89-8a98-6eed9cc9bc24",
   "metadata": {},
   "source": [
    "Simply looking at the graph is not a very precise way to measure statistical significance, so of more interest is the p-value. This is the frequency with which the chance model produces a result more extreme than the observed result. \n",
    "\n",
    "We can estimate a p-value from our permutation test by taking the proportion of times that the permutation test produces a difference equal to or greater than the observed difference:"
   ]
  },
  {
   "cell_type": "code",
   "execution_count": 22,
   "id": "a836df26-ff40-4726-adfa-8eacda59ea8c",
   "metadata": {},
   "outputs": [
    {
     "name": "stdout",
     "output_type": "stream",
     "text": [
      "0.332\n"
     ]
    }
   ],
   "source": [
    "# If np.mean is applied to a list of booleans, it gives the percentage of how often True was found in the list (#True / #Total).\n",
    "\n",
    "print(np.mean([diff > obs_pct_diff for diff in perm_diffs]))    # How likely it is that the observed outcome happened by chance?"
   ]
  },
  {
   "cell_type": "markdown",
   "id": "13e5a93f-1b79-4efe-b590-d3f30a74fd2d",
   "metadata": {},
   "source": [
    "The Chi-square (χ²) test is used in this context to determine if there is a statistically significant difference in the conversion rates between two groups—Price A and Price B—in an A/B test setting.\n",
    "\n",
    "The Chi-square test is used for categorical data to test whether there is a significant association between two variables. In this scenario, the two variables are:\n",
    "\n",
    "    Group: Price A vs. Price B.\n",
    "    Outcome: Conversion vs. No Conversion.\n",
    "\n",
    "The goal of the Chi-square test is to determine whether there is an association between Price and Conversion outcome—in other words, whether the conversion rate is significantly different between Price A and Price B."
   ]
  },
  {
   "cell_type": "markdown",
   "id": "3a7ee7c3-08db-4af6-bba1-0bb5ff7a38fb",
   "metadata": {},
   "source": [
    "| Outcome        | Price A | Price B  |\r\n",
    "| -------------- | ------- | -------- |\r\n",
    "| Conversion     | 200     | 182      |\r\n",
    "| No conversion  | 23,539  | 22,406   |\r\n"
   ]
  },
  {
   "cell_type": "code",
   "execution_count": 25,
   "id": "927770b9-d40b-4ac8-bec7-79e455882cd5",
   "metadata": {},
   "outputs": [
    {
     "name": "stdout",
     "output_type": "stream",
     "text": [
      "p-value for single sided test: 0.3498\n"
     ]
    }
   ],
   "source": [
    "# Create a 2x2 contingency table with conversions and no conversions for Price A and Price B\n",
    "survivors = np.array([[200, 23739 - 200], [182, 22588 - 182]])  \n",
    "\n",
    "# Perform Chi-square test on the contingency table and unpack the results\n",
    "chi2, p_value, df, _ = stats.chi2_contingency(survivors)  \n",
    "\n",
    "print(f'p-value for single sided test: {p_value / 2:.4f}')"
   ]
  },
  {
   "cell_type": "markdown",
   "id": "d5f78bb5-485c-4ed3-b188-c79902628cac",
   "metadata": {},
   "source": [
    "The normal approximation yields a p-value of 0.3498, which is close to the p-value obtained from the permutation test."
   ]
  },
  {
   "cell_type": "markdown",
   "id": "fe3265ca-aa2b-424d-b23f-d2688e24ea1e",
   "metadata": {},
   "source": [
    "# t-Tests"
   ]
  },
  {
   "cell_type": "code",
   "execution_count": 28,
   "id": "5975ac5b-b32c-4a75-b2ae-324eeb6ed513",
   "metadata": {},
   "outputs": [
    {
     "name": "stdout",
     "output_type": "stream",
     "text": [
      "p-value for single sided test: 0.1408\n"
     ]
    }
   ],
   "source": [
    "res = stats.ttest_ind(session_times[session_times['Page'] == 'Page A']['Time'],  # Perform t-test on 'Time' values for 'Page A' and 'Page B'\n",
    "                      session_times[session_times['Page'] == 'Page B']['Time'],  # Compare means between Page A and Page B\n",
    "                      equal_var=False)                                           # Assume unequal variances for the two samples\n",
    "\n",
    "print(f'p-value for single sided test: {res.pvalue / 2:.4f}')  # Print the one-sided p-value by dividing the two-sided p-value by 2"
   ]
  },
  {
   "cell_type": "code",
   "execution_count": 29,
   "id": "101fff9f-7c8a-4518-a78a-8ab126c535a7",
   "metadata": {},
   "outputs": [
    {
     "name": "stdout",
     "output_type": "stream",
     "text": [
      "p-value: 0.1408\n"
     ]
    }
   ],
   "source": [
    "# Perform an independent t-test for the means of two independent samples\n",
    "tstat, pvalue, df = sm.stats.ttest_ind(  \n",
    "    session_times[session_times['Page'] == 'Page A']['Time'],  # Data for Page A\n",
    "    session_times[session_times['Page'] == 'Page B']['Time'],  # Data for Page B\n",
    "    usevar='unequal',                                          # Specify that the variances of the two samples are unequal (Welch's t-test)\n",
    "    alternative='smaller')                                     # Specify the alternative hypothesis as \"Page A mean < Page B mean\"\n",
    "\n",
    "print(f'p-value: {pvalue:.4f}')  # Print the p-value of the test with four decimal places"
   ]
  },
  {
   "cell_type": "markdown",
   "id": "4c248eaf-4545-454b-9d7e-f8c4bb72cc7c",
   "metadata": {},
   "source": [
    "* Null Hypothesis: The null hypothesis states that the mean session times for Page A and Page B are equal.\n",
    "    \n",
    "* Alternative Hypothesis: Since we are dividing the p-value by 2, 0.1408 indicates a one-sided test. In this case, we are testing whether the mean session time for one of the pages is significantly greater than or less than the other.\n",
    "\n",
    "    Since p-value (0.1408) > 0.05 (alpha), it is not statistically significant, we do not have evidence to reject the null hypothesis (Page A = Page B), which means it could have easily happened due to random variation."
   ]
  },
  {
   "cell_type": "markdown",
   "id": "d59e2f00-5056-4ea7-b10a-b625c8bf784d",
   "metadata": {},
   "source": [
    "# ANOVA"
   ]
  },
  {
   "cell_type": "markdown",
   "id": "20d32ebe-0e47-4aa2-aadf-bee02dc8bab2",
   "metadata": {},
   "source": [
    "#### Pairwise comparison\n",
    "    A hypothesis test (e.g., of means) between two groups among multiple groups.\n",
    "#### Omnibus test\n",
    "    A single hypothesis test of the overall variance among multiple group means.\n",
    "#### Decomposition of variance\n",
    "    Separation of components contributing to an individual value (e.g., from the overall average, from a treatment mean, and from a residual error).\n",
    "#### F-statistic\n",
    "    A standardized statistic that measures the extent to which differences among group means exceed what might be expected in a chance model.\n",
    "#### SS\n",
    "    “Sum of squares,” referring to deviations from some average value."
   ]
  },
  {
   "cell_type": "markdown",
   "id": "48ada4bf-57ae-4e88-9f47-76123ba24698",
   "metadata": {},
   "source": [
    "### Example"
   ]
  },
  {
   "cell_type": "markdown",
   "id": "89add9d4-1036-4ff6-a91a-eb056179fd59",
   "metadata": {},
   "source": [
    "Stickiness (in seconds) of four web pages:"
   ]
  },
  {
   "cell_type": "markdown",
   "id": "42e2edd5-e6d4-46b2-9236-99a15c84aed7",
   "metadata": {},
   "source": [
    "|  | Page 1 |Page 2 |Page 3 |Page 4 |\n",
    "|----------|----------|----------|----------|----------|\n",
    "|   | 164  | 178   | 175   | 155   |\n",
    "|   | 172   | 191   | 193   | 166   |\n",
    "|   | 177   | 182   | 171   | 164   |\n",
    "|   | 156   | 185   | 163   | 170   |\n",
    "|   | 195   | 177   | 176   | 168   |\n",
    "| Average   | 172   | 185   | 176   | 168   |\n",
    "| Grand average   |  |  |  | 173.75  |"
   ]
  },
  {
   "cell_type": "code",
   "execution_count": 36,
   "id": "3b00c383-e534-4141-8558-d0d29fbd500e",
   "metadata": {},
   "outputs": [
    {
     "data": {
      "text/html": [
       "<div>\n",
       "<style scoped>\n",
       "    .dataframe tbody tr th:only-of-type {\n",
       "        vertical-align: middle;\n",
       "    }\n",
       "\n",
       "    .dataframe tbody tr th {\n",
       "        vertical-align: top;\n",
       "    }\n",
       "\n",
       "    .dataframe thead th {\n",
       "        text-align: right;\n",
       "    }\n",
       "</style>\n",
       "<table border=\"1\" class=\"dataframe\">\n",
       "  <thead>\n",
       "    <tr style=\"text-align: right;\">\n",
       "      <th></th>\n",
       "      <th>Page</th>\n",
       "      <th>Time</th>\n",
       "    </tr>\n",
       "  </thead>\n",
       "  <tbody>\n",
       "    <tr>\n",
       "      <th>0</th>\n",
       "      <td>Page 1</td>\n",
       "      <td>164</td>\n",
       "    </tr>\n",
       "    <tr>\n",
       "      <th>1</th>\n",
       "      <td>Page 2</td>\n",
       "      <td>178</td>\n",
       "    </tr>\n",
       "    <tr>\n",
       "      <th>2</th>\n",
       "      <td>Page 3</td>\n",
       "      <td>175</td>\n",
       "    </tr>\n",
       "    <tr>\n",
       "      <th>3</th>\n",
       "      <td>Page 4</td>\n",
       "      <td>155</td>\n",
       "    </tr>\n",
       "    <tr>\n",
       "      <th>4</th>\n",
       "      <td>Page 1</td>\n",
       "      <td>172</td>\n",
       "    </tr>\n",
       "  </tbody>\n",
       "</table>\n",
       "</div>"
      ],
      "text/plain": [
       "     Page  Time\n",
       "0  Page 1   164\n",
       "1  Page 2   178\n",
       "2  Page 3   175\n",
       "3  Page 4   155\n",
       "4  Page 1   172"
      ]
     },
     "execution_count": 36,
     "metadata": {},
     "output_type": "execute_result"
    }
   ],
   "source": [
    "url2 = ('https://raw.githubusercontent.com/arvindbetrabet/Practical_Statistics_for_Data_Scientists/refs/heads/master/data/four_sessions.csv')\n",
    "\n",
    "four_sessions = pd.read_csv(url2)\n",
    "\n",
    "four_sessions.head()"
   ]
  },
  {
   "cell_type": "code",
   "execution_count": 37,
   "id": "3c4326f0-b86a-48b8-bbc2-bb6f919bfda1",
   "metadata": {},
   "outputs": [
    {
     "name": "stdout",
     "output_type": "stream",
     "text": [
      "         Time\n",
      "Page         \n",
      "Page 1  172.8\n",
      "Page 2  182.6\n",
      "Page 3  175.6\n",
      "Page 4  164.6\n"
     ]
    }
   ],
   "source": [
    "grouped = four_sessions.groupby('Page').mean()\n",
    "print(grouped) "
   ]
  },
  {
   "cell_type": "code",
   "execution_count": 38,
   "id": "75fec6ac-5572-457b-b9d8-8e9ec68b4e2d",
   "metadata": {},
   "outputs": [
    {
     "data": {
      "text/html": [
       "<div>\n",
       "<style scoped>\n",
       "    .dataframe tbody tr th:only-of-type {\n",
       "        vertical-align: middle;\n",
       "    }\n",
       "\n",
       "    .dataframe tbody tr th {\n",
       "        vertical-align: top;\n",
       "    }\n",
       "\n",
       "    .dataframe thead th {\n",
       "        text-align: right;\n",
       "    }\n",
       "</style>\n",
       "<table border=\"1\" class=\"dataframe\">\n",
       "  <thead>\n",
       "    <tr style=\"text-align: right;\">\n",
       "      <th>Page</th>\n",
       "      <th>Page 1</th>\n",
       "      <th>Page 2</th>\n",
       "      <th>Page 3</th>\n",
       "      <th>Page 4</th>\n",
       "    </tr>\n",
       "  </thead>\n",
       "  <tbody>\n",
       "    <tr>\n",
       "      <th>0</th>\n",
       "      <td>164.0</td>\n",
       "      <td>178.0</td>\n",
       "      <td>175.0</td>\n",
       "      <td>155.0</td>\n",
       "    </tr>\n",
       "    <tr>\n",
       "      <th>1</th>\n",
       "      <td>172.0</td>\n",
       "      <td>191.0</td>\n",
       "      <td>193.0</td>\n",
       "      <td>166.0</td>\n",
       "    </tr>\n",
       "    <tr>\n",
       "      <th>2</th>\n",
       "      <td>177.0</td>\n",
       "      <td>182.0</td>\n",
       "      <td>171.0</td>\n",
       "      <td>164.0</td>\n",
       "    </tr>\n",
       "    <tr>\n",
       "      <th>3</th>\n",
       "      <td>156.0</td>\n",
       "      <td>185.0</td>\n",
       "      <td>163.0</td>\n",
       "      <td>170.0</td>\n",
       "    </tr>\n",
       "    <tr>\n",
       "      <th>4</th>\n",
       "      <td>195.0</td>\n",
       "      <td>177.0</td>\n",
       "      <td>176.0</td>\n",
       "      <td>168.0</td>\n",
       "    </tr>\n",
       "    <tr>\n",
       "      <th>Average</th>\n",
       "      <td>172.8</td>\n",
       "      <td>182.6</td>\n",
       "      <td>175.6</td>\n",
       "      <td>164.6</td>\n",
       "    </tr>\n",
       "    <tr>\n",
       "      <th>Grand average</th>\n",
       "      <td>NaN</td>\n",
       "      <td>NaN</td>\n",
       "      <td>NaN</td>\n",
       "      <td>173.9</td>\n",
       "    </tr>\n",
       "  </tbody>\n",
       "</table>\n",
       "</div>"
      ],
      "text/plain": [
       "Page           Page 1  Page 2  Page 3  Page 4\n",
       "0               164.0   178.0   175.0   155.0\n",
       "1               172.0   191.0   193.0   166.0\n",
       "2               177.0   182.0   171.0   164.0\n",
       "3               156.0   185.0   163.0   170.0\n",
       "4               195.0   177.0   176.0   168.0\n",
       "Average         172.8   182.6   175.6   164.6\n",
       "Grand average     NaN     NaN     NaN   173.9"
      ]
     },
     "execution_count": 38,
     "metadata": {},
     "output_type": "execute_result"
    }
   ],
   "source": [
    "df = four_sessions\n",
    "\n",
    "# Pivot the dataframe to reshape it\n",
    "reshaped_df = df.pivot_table(index=df.groupby('Page').cumcount(), columns='Page', values='Time', aggfunc='first')\n",
    "\n",
    "# Calculate the average for each page\n",
    "reshaped_df.loc['Average'] = reshaped_df.mean()\n",
    "\n",
    "# Calculate the grand average\n",
    "grand_average = reshaped_df.loc['Average'].mean()\n",
    "\n",
    "# Append the grand average as the last row\n",
    "reshaped_df.loc['Grand average'] = [np.nan, np.nan, np.nan, grand_average]\n",
    "\n",
    "# Display the reshaped dataframe\n",
    "reshaped_df"
   ]
  },
  {
   "cell_type": "code",
   "execution_count": 39,
   "id": "0b64c0df-f61b-4541-9230-44bcbc838478",
   "metadata": {},
   "outputs": [
    {
     "data": {
      "image/png": "[encoded data removed]",
      "text/plain": [
       "<Figure size 600x600 with 1 Axes>"
      ]
     },
     "metadata": {},
     "output_type": "display_data"
    }
   ],
   "source": [
    "ax = four_sessions.boxplot(by='Page', column='Time', figsize=(6, 6))  # Create a boxplot of the 'Time' column, grouped by the 'Page' column\n",
    "ax.set_xlabel('Page')                                                 # Set the x-axis label as 'Page'\n",
    "ax.set_ylabel('Time (in seconds)')                                    # Set the y-axis label as 'Time (in seconds)'\n",
    "\n",
    "plt.suptitle('')  # Remove the default suptitle generated by the 'by' parameter in the boxplot\n",
    "plt.title('')     # Remove the default title for the plot\n",
    "\n",
    "plt.tight_layout()  # Adjust the layout to avoid overlapping elements\n",
    "plt.show()          # Display the boxplot"
   ]
  },
  {
   "cell_type": "markdown",
   "id": "c7ad295e-6f52-4592-83ef-cf047b3f2333",
   "metadata": {},
   "source": [
    "The procedure used to test this is ANOVA. The basis for it can be seen in the follow‐\n",
    "ing resampling procedure (specified here for the A/B/C/D test of web page\n",
    "stickiness):\n",
    "\n",
    "1. Combine all the data together in a single box.\n",
    "2. Shuffle and draw out four resamples of five values each.\n",
    "3. Record the mean of each of the four groups.\n",
    "4. Record the variance among the four group means.\n",
    "5. Repeat steps 2–4 many (say, 1,000) times.\n",
    "\n",
    "What proportion of the time did the resampled variance exceed the observed variance? This is the p-value."
   ]
  },
  {
   "cell_type": "code",
   "execution_count": 41,
   "id": "ebb68abe-6019-44dd-8688-5a45e49a6930",
   "metadata": {},
   "outputs": [
    {
     "name": "stdout",
     "output_type": "stream",
     "text": [
      "Observed means: [172.8 182.6 175.6 164.6]\n",
      "Variance: 55.426666666666655\n",
      "Permutation Test: 3.2666666666666537\n"
     ]
    }
   ],
   "source": [
    "# Calculate the observed variance of the means for 'Time' across different pages\n",
    "observed_variance = four_sessions.groupby('Page').mean().var().iloc[0]  \n",
    "\n",
    "print('Observed means:', four_sessions.groupby('Page').mean().values.ravel())  # Print the observed mean 'Time' for each 'Page'\n",
    "print('Variance:', observed_variance)                                          # Print the variance of these observed means\n",
    "\n",
    "# Permutation test example for observed variance\n",
    "def perm_test(df):                                         # Define a function to perform a permutation test\n",
    "    df = df.copy()                                         # Make a copy of the DataFrame to avoid modifying the original\n",
    "    df['Time'] = np.random.permutation(df['Time'].values)  # Randomly shuffle the 'Time' values\n",
    "    return df.groupby('Page').mean().var().iloc[0]         # Return the variance of the means of 'Time' across pages after permutation\n",
    "    \n",
    "print('Permutation Test:', perm_test(four_sessions))  # Run the permutation test function and print the result"
   ]
  },
  {
   "cell_type": "markdown",
   "id": "2a8c05f1-eb55-4a21-94d8-198a70ac9aa6",
   "metadata": {},
   "source": [
    "#### Permutation Test Function:\n",
    "* The function `perm_test()` shuffles the `Time` values across all pages to break the original association between page and time.\n",
    "* After shuffling, it calculates the variance of the mean times for each page again, providing a measure that can be compared with the original observed variance.\n",
    "* This approach helps evaluate whether the observed variance is statistically significant or could occur by chance."
   ]
  },
  {
   "cell_type": "code",
   "execution_count": 43,
   "id": "aad8427a-93b4-4a7d-9757-029ab8d8a5fd",
   "metadata": {},
   "outputs": [
    {
     "name": "stdout",
     "output_type": "stream",
     "text": [
      "Pr(Prob) 0.07866666666666666\n"
     ]
    },
    {
     "data": {
      "image/png": "[encoded data removed]",
      "text/plain": [
       "<Figure size 500x500 with 1 Axes>"
      ]
     },
     "metadata": {},
     "output_type": "display_data"
    }
   ],
   "source": [
    "random.seed(1)  \n",
    "\n",
    "# Perform permutation test 3000 times and collect variance results\n",
    "perm_variance = [perm_test(four_sessions) for _ in range(3000)]\n",
    "\n",
    "# Calculate the probability that the permutation variances are greater than the observed variance\n",
    "print('Pr(Prob)', np.mean([var > observed_variance for var in perm_variance]))\n",
    "\n",
    "# Plot histogram of permutation variances\n",
    "fig, ax = plt.subplots(figsize=(5, 5))                               # Create a figure and axis for plotting\n",
    "ax.hist(perm_variance, bins=11, rwidth=0.9)                          # Plot histogram with 11 bins and bar width of 90%\n",
    "ax.axvline(x=observed_variance, color='black', lw=2)                 # Draw a vertical line representing the observed variance\n",
    "ax.text(60, 200, 'Observed\\nvariance', bbox={'facecolor': 'white'})  # Annotate the line with 'Observed variance'\n",
    "ax.set_xlabel('Variance')                                            # Set label for x-axis\n",
    "ax.set_ylabel('Frequency')                                           # Set label for y-axis\n",
    "\n",
    "plt.tight_layout()  # Adjust layout to remove excess whitespace\n",
    "plt.show()          # Display the plot"
   ]
  },
  {
   "cell_type": "markdown",
   "id": "f6ceee12-17c6-4876-abf6-b72833ff66fb",
   "metadata": {},
   "source": [
    "#### Summary of the Code:\n",
    "Permutation Test:\n",
    "\n",
    "* perm_variance stores the results of 3000 random shuffles of the Time values and computes the variance of group means for each shuffle.\n",
    "* Pr(Prob) calculates how often the variance from the shuffles exceeds the observed variance, providing an estimate of the p-value.\n",
    "\n",
    "Plotting:\n",
    "\n",
    "* The histogram represents the distribution of variances from the permutation test.\n",
    "* The vertical line and annotation highlight the observed variance to visually compare it with the distribution of random variances. This helps to assess if the observed value is typical or rare under the null hypothesis (random distribution)."
   ]
  },
  {
   "cell_type": "markdown",
   "id": "84609016-2a1b-4edc-9a61-b2559a975ff0",
   "metadata": {},
   "source": [
    "#### Conclusion\n",
    "\n",
    "The p-value, given by Pr(Prob), is 0.0827. In other words, given the same underlying stickiness, 8.3% of the time the response rate among four pages might differ as much as was actually observed, just by chance. This degree of improbability falls short of the traditional statistical threshold of 5%, so we conclude that the difference among the four pages could have arisen by chance."
   ]
  },
  {
   "cell_type": "markdown",
   "id": "037355ac-c68e-4033-8697-d82e8880751d",
   "metadata": {},
   "source": [
    "# F-Statistic"
   ]
  },
  {
   "cell_type": "markdown",
   "id": "bde791a4-be4e-41ee-9541-53284acdd3cc",
   "metadata": {},
   "source": [
    "Just like the t-test can be used instead of a permutation test for comparing the mean\n",
    "of two groups, there is a statistical test for ANOVA based on the F-statistic. The Fstatistic is based on the ratio of the variance across group means (i.e., the treatment\n",
    "effect) to the variance due to residual error. The higher this ratio, the more statisti‐\n",
    "cally significant the result. If the data follows a normal distribution, then statistical\n",
    "theory dictates that the statistic should have a certain distribution. Based on this, it is\n",
    "possible to compute a p-value."
   ]
  },
  {
   "cell_type": "code",
   "execution_count": 48,
   "id": "75f8b805-f7cc-409f-9a08-fd8ce8748358",
   "metadata": {},
   "outputs": [
    {
     "data": {
      "text/html": [
       "<div>\n",
       "<style scoped>\n",
       "    .dataframe tbody tr th:only-of-type {\n",
       "        vertical-align: middle;\n",
       "    }\n",
       "\n",
       "    .dataframe tbody tr th {\n",
       "        vertical-align: top;\n",
       "    }\n",
       "\n",
       "    .dataframe thead th {\n",
       "        text-align: right;\n",
       "    }\n",
       "</style>\n",
       "<table border=\"1\" class=\"dataframe\">\n",
       "  <thead>\n",
       "    <tr style=\"text-align: right;\">\n",
       "      <th></th>\n",
       "      <th>df</th>\n",
       "      <th>sum_sq</th>\n",
       "      <th>mean_sq</th>\n",
       "      <th>F</th>\n",
       "      <th>PR(&gt;F)</th>\n",
       "    </tr>\n",
       "  </thead>\n",
       "  <tbody>\n",
       "    <tr>\n",
       "      <th>Page</th>\n",
       "      <td>3.0</td>\n",
       "      <td>831.4</td>\n",
       "      <td>277.133333</td>\n",
       "      <td>2.739825</td>\n",
       "      <td>0.077586</td>\n",
       "    </tr>\n",
       "    <tr>\n",
       "      <th>Residual</th>\n",
       "      <td>16.0</td>\n",
       "      <td>1618.4</td>\n",
       "      <td>101.150000</td>\n",
       "      <td>NaN</td>\n",
       "      <td>NaN</td>\n",
       "    </tr>\n",
       "  </tbody>\n",
       "</table>\n",
       "</div>"
      ],
      "text/plain": [
       "            df  sum_sq     mean_sq         F    PR(>F)\n",
       "Page       3.0   831.4  277.133333  2.739825  0.077586\n",
       "Residual  16.0  1618.4  101.150000       NaN       NaN"
      ]
     },
     "execution_count": 48,
     "metadata": {},
     "output_type": "execute_result"
    }
   ],
   "source": [
    "# Fit an Ordinary Least Squares (OLS) model with 'Time' as the dependent variable and 'Page' as the independent variable\n",
    "model = smf.ols('Time ~ Page', data=four_sessions).fit()  \n",
    "\n",
    "aov_table = sm.stats.anova_lm(model)  # Perform ANOVA on the fitted model to analyze the variance\n",
    "aov_table                             # Print the ANOVA table with summary statistics"
   ]
  },
  {
   "cell_type": "markdown",
   "id": "d130ef2a-e1bd-487f-b64c-aff4ddc3b737",
   "metadata": {},
   "source": [
    "#### Degrees of Freedom (df):\n",
    "\n",
    "* Page (df=3.0): This is the number of groups (pages) minus one (4 pages - 1 = 3). This value represents the degrees of freedom for the between-group variability.\n",
    "* Residual (df=16.0): This represents the degrees of freedom for the within-group (residual) variability, which is the total number of data points minus the number of groups.\n",
    "\n",
    "#### Sum of Squares (sum_sq):\n",
    "\n",
    "* Page (sum_sq=831.4): This is the sum of squared deviations between the group means (Page) and the overall mean. It represents the variability explained by the differences between the page groups.\n",
    "* Residual (sum_sq=1618.4): This is the sum of squared deviations of each observation from its group mean, representing the unexplained variability (the variability within the groups).\n",
    "  \n",
    "#### Mean Square (mean_sq):\n",
    "\n",
    "* Page (mean_sq=277.13): This is the average variability between the groups, calculated as sum_sq / df.\n",
    "* Residual (mean_sq=101.15): This is the average variability within the groups, also calculated as sum_sq / df.\n",
    "\n",
    "#### F-statistic (F=2.739825):\n",
    "\n",
    "This is the ratio of the mean square between the groups (Page) to the mean square within the groups (Residual). It tests whether there is a significant difference between the means of the groups. The larger the F-statistic, the more likely it is that there is a significant difference between groups.\n",
    "\n",
    "#### P-value (PR(>F)=0.077586):\n",
    "\n",
    "The p-value indicates the probability of observing the F-statistic or a more extreme value if there is no real difference between the groups (i.e., if the null hypothesis is true).\n",
    "In this case, the p-value is 0.0776, which is slightly above the common significance threshold of 0.05. Therefore, we fail to reject the null hypothesis at the 5% significance level, which suggests that there is no statistically significant difference in the Time spent on the pages.\n",
    "\n",
    "#### Conclusion:\n",
    "    The p-value (0.0776) suggests that there is no strong evidence that the mean Time differs significantly between the different pages, at the 5% significance level.\n",
    "\n",
    "    However, the p-value is close to the threshold, which indicates a potential difference, and it might be worth exploring further with more data or a different approach."
   ]
  },
  {
   "cell_type": "code",
   "execution_count": 50,
   "id": "71390fe4-042c-4540-bc97-026601b61a06",
   "metadata": {},
   "outputs": [
    {
     "name": "stdout",
     "output_type": "stream",
     "text": [
      "F-Statistic: 2.7398\n",
      "p-value: 0.0776\n"
     ]
    }
   ],
   "source": [
    "# Perform a one-way ANOVA to compare the means of 'Time' for the four pages\n",
    "res = stats.f_oneway(\n",
    "    four_sessions[four_sessions['Page'] == 'Page 1']['Time'],  # Data for 'Page 1'\n",
    "    four_sessions[four_sessions['Page'] == 'Page 2']['Time'],  # Data for 'Page 2'\n",
    "    four_sessions[four_sessions['Page'] == 'Page 3']['Time'],  # Data for 'Page 3'\n",
    "    four_sessions[four_sessions['Page'] == 'Page 4']['Time']   # Data for 'Page 4'\n",
    ")\n",
    "\n",
    "# Print the F-Statistic divided by 2\n",
    "print(f'F-Statistic: {res.statistic:.4f}')\n",
    "\n",
    "# Print the p-value divided by 2 for a one-sided test\n",
    "print(f'p-value: {res.pvalue:.4f}')"
   ]
  },
  {
   "cell_type": "markdown",
   "id": "38437f77-4bf0-46de-93a1-6e4cbff019d5",
   "metadata": {},
   "source": [
    "### Two-Way ANOVA\n",
    "The A/B/C/D test just described is a “one-way” ANOVA, in which we have one factor\n",
    "(group) that is varying. We could have a second factor involved—say, “weekend ver‐\n",
    "sus weekday”—with data collected on each combination (group A weekend, group A\n",
    "weekday, group B weekend, etc.). This would be a “two-way ANOVA,” and we would\n",
    "handle it in similar fashion to the one-way ANOVA by identifying the “interaction\n",
    "effect.” After identifying the grand average effect and the treatment effect, we then\n",
    "separate the weekend and weekday observations for each group and find the differ‐\n",
    "ence between the averages for those subsets and the treatment average."
   ]
  },
  {
   "cell_type": "code",
   "execution_count": 52,
   "id": "2a640d87-1b74-44cb-93d7-18ce6aa4221f",
   "metadata": {},
   "outputs": [
    {
     "data": {
      "text/html": [
       "<div>\n",
       "<style scoped>\n",
       "    .dataframe tbody tr th:only-of-type {\n",
       "        vertical-align: middle;\n",
       "    }\n",
       "\n",
       "    .dataframe tbody tr th {\n",
       "        vertical-align: top;\n",
       "    }\n",
       "\n",
       "    .dataframe thead th {\n",
       "        text-align: right;\n",
       "    }\n",
       "</style>\n",
       "<table border=\"1\" class=\"dataframe\">\n",
       "  <thead>\n",
       "    <tr style=\"text-align: right;\">\n",
       "      <th></th>\n",
       "      <th>sum_sq</th>\n",
       "      <th>df</th>\n",
       "      <th>F</th>\n",
       "      <th>PR(&gt;F)</th>\n",
       "    </tr>\n",
       "  </thead>\n",
       "  <tbody>\n",
       "    <tr>\n",
       "      <th>C(supp)</th>\n",
       "      <td>38.095238</td>\n",
       "      <td>1.0</td>\n",
       "      <td>0.338624</td>\n",
       "      <td>0.664492</td>\n",
       "    </tr>\n",
       "    <tr>\n",
       "      <th>C(dose)</th>\n",
       "      <td>100.595238</td>\n",
       "      <td>1.0</td>\n",
       "      <td>0.894180</td>\n",
       "      <td>0.517792</td>\n",
       "    </tr>\n",
       "    <tr>\n",
       "      <th>C(supp):C(dose)</th>\n",
       "      <td>16.071429</td>\n",
       "      <td>1.0</td>\n",
       "      <td>0.142857</td>\n",
       "      <td>0.769947</td>\n",
       "    </tr>\n",
       "    <tr>\n",
       "      <th>Residual</th>\n",
       "      <td>112.500000</td>\n",
       "      <td>1.0</td>\n",
       "      <td>NaN</td>\n",
       "      <td>NaN</td>\n",
       "    </tr>\n",
       "  </tbody>\n",
       "</table>\n",
       "</div>"
      ],
      "text/plain": [
       "                     sum_sq   df         F    PR(>F)\n",
       "C(supp)           38.095238  1.0  0.338624  0.664492\n",
       "C(dose)          100.595238  1.0  0.894180  0.517792\n",
       "C(supp):C(dose)   16.071429  1.0  0.142857  0.769947\n",
       "Residual         112.500000  1.0       NaN       NaN"
      ]
     },
     "execution_count": 52,
     "metadata": {},
     "output_type": "execute_result"
    }
   ],
   "source": [
    "import pandas as pd\n",
    "import statsmodels.api as sm\n",
    "from statsmodels.formula.api import ols\n",
    "from statsmodels.stats.anova import anova_lm\n",
    "\n",
    "# Assuming 'data' is a DataFrame containing columns 'len', 'supp', 'dose'\n",
    "data = pd.DataFrame({\n",
    "    'len': [10, 15, 20, 25, 30],\n",
    "    'supp': ['A', 'A', 'B', 'B', 'A'],\n",
    "    'dose': [1, 2, 1, 2, 2]\n",
    "})\n",
    "\n",
    "# Define the model and fit it\n",
    "formula = 'len ~ C(supp) + C(dose) + C(supp):C(dose)'\n",
    "model = ols(formula, data).fit()\n",
    "\n",
    "# Perform ANOVA\n",
    "aov_table = anova_lm(model, typ=2)\n",
    "aov_table"
   ]
  },
  {
   "cell_type": "markdown",
   "id": "2058f38a-848b-46b8-a399-5455cd78f61a",
   "metadata": {},
   "source": [
    "Based on the ANOVA table, none of the factors (supp, dose) nor their interaction (supp:dose) have a statistically significant effect on the response variable (len). Here are the key points to summarize the findings:\n",
    "\n",
    "**High p-values** (all greater than 0.05 for supp, dose, and their interaction) indicate that there is no strong evidence to reject the null hypothesis. Therefore, we cannot conclude that these factors have a meaningful impact on the response variable (len).\n",
    "\n",
    "**The F-statistics** are all relatively low (< 1), meaning that the explained variance due to supp, dose, or their interaction is not substantially larger than the unexplained variance (i.e., the residuals).\n",
    "\n",
    "**The Residual Sum of Squares** (112.5) is considerably high compared to the sum of squares for the factors, suggesting that most of the variation in the response variable remains unexplained by the factors included in the model."
   ]
  },
  {
   "cell_type": "markdown",
   "id": "07e5bcb4-4952-4f00-80d9-02bf7df2010e",
   "metadata": {},
   "source": [
    "# Chi-Square Test"
   ]
  },
  {
   "cell_type": "markdown",
   "id": "c0b48c5e-6c86-4fcc-9bdd-507445261091",
   "metadata": {},
   "source": [
    "### Chi-Square Test: A Resampling Approach"
   ]
  },
  {
   "cell_type": "markdown",
   "id": "4b63f052-992a-4942-939c-d2140e285db3",
   "metadata": {},
   "source": [
    "Suppose you are testing three different headlines—A, B, and C—and you run them\n",
    "each on 1,000 visitors, with the results shown bellow:"
   ]
  },
  {
   "cell_type": "markdown",
   "id": "35f57841-df2a-40a5-8e2c-56a973fb9e21",
   "metadata": {},
   "source": [
    "|           | Headline A | Headline B | Headline C |\n",
    "|-----------|------------|------------|------------|\n",
    "| Click     | 14         | 8          | 12         |\n",
    "| No-click  | 986        | 992        | 988        |\n"
   ]
  },
  {
   "cell_type": "markdown",
   "id": "a43559b8-cb16-4917-836d-344d7461aedd",
   "metadata": {},
   "source": [
    "Expected if all three headlines have the same click rate (null hypothesis):\n",
    "\n",
    "|           | Headline A | Headline B | Headline C |\n",
    "|-----------|------------|------------|------------|\n",
    "| Click     | 11.33      | 11.33      | 11.33      |\n",
    "| No-click  | 988.67     | 988.67     | 988.67     |"
   ]
  },
  {
   "cell_type": "markdown",
   "id": "d3eedea1-efc4-4c47-ad04-2c79c4ea76bb",
   "metadata": {},
   "source": [
    "The Pearson residual is defined as:\n",
    "\n",
    "$$\n",
    "R = \\frac{ \\text{Observed} - \\text{Expected} }{ \\sqrt{\\text{Expected}} }\n",
    "$$\n"
   ]
  },
  {
   "cell_type": "markdown",
   "id": "40cd4f25-7a19-4ece-b35c-1c3d6b21757c",
   "metadata": {},
   "source": [
    "|            | Headline A | Headline B | Headline C |\n",
    "|------------|------------|------------|------------|\n",
    "| Click      | 0.792      | -0.990     | 0.198      |\n",
    "| No-click   | -0.085     | 0.106      | -0.021     |\n"
   ]
  },
  {
   "cell_type": "markdown",
   "id": "fba48d7c-7b18-412b-970f-8df597d2c1b9",
   "metadata": {},
   "source": [
    "$$\n",
    "\\chi = \\sum_i \\sum_j R^2\n",
    "$$\n"
   ]
  },
  {
   "cell_type": "markdown",
   "id": "60668ef0-e5dd-4932-b7d2-c12c4e6c3825",
   "metadata": {},
   "source": [
    "Where r and c are the number of rows and columns, respectively. The chi-square statistic for this example is 1.666. Is that more than could reasonably occur in a chance model?"
   ]
  },
  {
   "cell_type": "code",
   "execution_count": 63,
   "id": "1d158692-163d-49eb-bb92-bcb5b2cac2da",
   "metadata": {},
   "outputs": [
    {
     "data": {
      "text/html": [
       "<div>\n",
       "<style scoped>\n",
       "    .dataframe tbody tr th:only-of-type {\n",
       "        vertical-align: middle;\n",
       "    }\n",
       "\n",
       "    .dataframe tbody tr th {\n",
       "        vertical-align: top;\n",
       "    }\n",
       "\n",
       "    .dataframe thead th {\n",
       "        text-align: right;\n",
       "    }\n",
       "</style>\n",
       "<table border=\"1\" class=\"dataframe\">\n",
       "  <thead>\n",
       "    <tr style=\"text-align: right;\">\n",
       "      <th></th>\n",
       "      <th>Headline</th>\n",
       "      <th>Click</th>\n",
       "      <th>Rate</th>\n",
       "    </tr>\n",
       "  </thead>\n",
       "  <tbody>\n",
       "    <tr>\n",
       "      <th>0</th>\n",
       "      <td>Headline A</td>\n",
       "      <td>Click</td>\n",
       "      <td>14</td>\n",
       "    </tr>\n",
       "    <tr>\n",
       "      <th>1</th>\n",
       "      <td>Headline A</td>\n",
       "      <td>No-click</td>\n",
       "      <td>986</td>\n",
       "    </tr>\n",
       "    <tr>\n",
       "      <th>2</th>\n",
       "      <td>Headline B</td>\n",
       "      <td>Click</td>\n",
       "      <td>8</td>\n",
       "    </tr>\n",
       "    <tr>\n",
       "      <th>3</th>\n",
       "      <td>Headline B</td>\n",
       "      <td>No-click</td>\n",
       "      <td>992</td>\n",
       "    </tr>\n",
       "    <tr>\n",
       "      <th>4</th>\n",
       "      <td>Headline C</td>\n",
       "      <td>Click</td>\n",
       "      <td>12</td>\n",
       "    </tr>\n",
       "    <tr>\n",
       "      <th>5</th>\n",
       "      <td>Headline C</td>\n",
       "      <td>No-click</td>\n",
       "      <td>988</td>\n",
       "    </tr>\n",
       "  </tbody>\n",
       "</table>\n",
       "</div>"
      ],
      "text/plain": [
       "     Headline     Click  Rate\n",
       "0  Headline A     Click    14\n",
       "1  Headline A  No-click   986\n",
       "2  Headline B     Click     8\n",
       "3  Headline B  No-click   992\n",
       "4  Headline C     Click    12\n",
       "5  Headline C  No-click   988"
      ]
     },
     "execution_count": 63,
     "metadata": {},
     "output_type": "execute_result"
    }
   ],
   "source": [
    "# Define the data\n",
    "data = {\n",
    "    \"Headline\": [\"Headline A\", \"Headline A\", \"Headline B\", \"Headline B\", \"Headline C\", \"Headline C\"],\n",
    "    \"Click\": [\"Click\", \"No-click\", \"Click\", \"No-click\", \"Click\", \"No-click\"],\n",
    "    \"Rate\": [14, 986, 8, 992, 12, 988]\n",
    "}\n",
    "\n",
    "# Create the DataFrame\n",
    "click_rate = pd.DataFrame(data)\n",
    "\n",
    "# Display the DataFrame\n",
    "click_rate"
   ]
  },
  {
   "cell_type": "code",
   "execution_count": 64,
   "id": "c491d650-f2d0-4c76-80dd-d2b8a4c0817f",
   "metadata": {},
   "outputs": [
    {
     "data": {
      "text/html": [
       "<div>\n",
       "<style scoped>\n",
       "    .dataframe tbody tr th:only-of-type {\n",
       "        vertical-align: middle;\n",
       "    }\n",
       "\n",
       "    .dataframe tbody tr th {\n",
       "        vertical-align: top;\n",
       "    }\n",
       "\n",
       "    .dataframe thead th {\n",
       "        text-align: right;\n",
       "    }\n",
       "</style>\n",
       "<table border=\"1\" class=\"dataframe\">\n",
       "  <thead>\n",
       "    <tr style=\"text-align: right;\">\n",
       "      <th>Headline</th>\n",
       "      <th>Headline A</th>\n",
       "      <th>Headline B</th>\n",
       "      <th>Headline C</th>\n",
       "    </tr>\n",
       "    <tr>\n",
       "      <th>Click</th>\n",
       "      <th></th>\n",
       "      <th></th>\n",
       "      <th></th>\n",
       "    </tr>\n",
       "  </thead>\n",
       "  <tbody>\n",
       "    <tr>\n",
       "      <th>Click</th>\n",
       "      <td>14</td>\n",
       "      <td>8</td>\n",
       "      <td>12</td>\n",
       "    </tr>\n",
       "    <tr>\n",
       "      <th>No-click</th>\n",
       "      <td>986</td>\n",
       "      <td>992</td>\n",
       "      <td>988</td>\n",
       "    </tr>\n",
       "  </tbody>\n",
       "</table>\n",
       "</div>"
      ],
      "text/plain": [
       "Headline  Headline A  Headline B  Headline C\n",
       "Click                                       \n",
       "Click             14           8          12\n",
       "No-click         986         992         988"
      ]
     },
     "execution_count": 64,
     "metadata": {},
     "output_type": "execute_result"
    }
   ],
   "source": [
    "clicks = click_rate.pivot(index='Click', columns='Headline', values='Rate')\n",
    "clicks"
   ]
  },
  {
   "cell_type": "code",
   "execution_count": 65,
   "id": "8929dd20-8170-43e5-87b2-d4896f58771b",
   "metadata": {},
   "outputs": [
    {
     "data": {
      "text/html": [
       "<div>\n",
       "<style scoped>\n",
       "    .dataframe tbody tr th:only-of-type {\n",
       "        vertical-align: middle;\n",
       "    }\n",
       "\n",
       "    .dataframe tbody tr th {\n",
       "        vertical-align: top;\n",
       "    }\n",
       "\n",
       "    .dataframe thead th {\n",
       "        text-align: right;\n",
       "    }\n",
       "</style>\n",
       "<table border=\"1\" class=\"dataframe\">\n",
       "  <thead>\n",
       "    <tr style=\"text-align: right;\">\n",
       "      <th></th>\n",
       "      <th>Headline A</th>\n",
       "      <th>Headline B</th>\n",
       "      <th>Headline C</th>\n",
       "    </tr>\n",
       "    <tr>\n",
       "      <th>Click</th>\n",
       "      <th></th>\n",
       "      <th></th>\n",
       "      <th></th>\n",
       "    </tr>\n",
       "  </thead>\n",
       "  <tbody>\n",
       "    <tr>\n",
       "      <th>Click</th>\n",
       "      <td>11.333333</td>\n",
       "      <td>11.333333</td>\n",
       "      <td>11.333333</td>\n",
       "    </tr>\n",
       "    <tr>\n",
       "      <th>No-click</th>\n",
       "      <td>988.666667</td>\n",
       "      <td>988.666667</td>\n",
       "      <td>988.666667</td>\n",
       "    </tr>\n",
       "  </tbody>\n",
       "</table>\n",
       "</div>"
      ],
      "text/plain": [
       "          Headline A  Headline B  Headline C\n",
       "Click                                       \n",
       "Click      11.333333   11.333333   11.333333\n",
       "No-click  988.666667  988.666667  988.666667"
      ]
     },
     "execution_count": 65,
     "metadata": {},
     "output_type": "execute_result"
    }
   ],
   "source": [
    "# Calculate the row-wise average for each row in the 'clicks' DataFrame\n",
    "row_average = clicks.mean(axis=1)  # 'axis=1' indicates calculating the mean across columns for each row\n",
    "\n",
    "# Create a new DataFrame with each column ('Headline A', 'Headline B', 'Headline C') filled with the row-wise average\n",
    "pd.DataFrame({\n",
    "    'Headline A': row_average,  # Assign 'row_average' as the value for each row in 'Headline A'\n",
    "    'Headline B': row_average,  # Assign 'row_average' as the value for each row in 'Headline B'\n",
    "    'Headline C': row_average,  # Assign 'row_average' as the value for each row in 'Headline C'\n",
    "})"
   ]
  },
  {
   "cell_type": "markdown",
   "id": "728dcf75-d29a-4d36-921f-a86f84bf3d28",
   "metadata": {},
   "source": [
    "We can test with this resampling algorithm:\n",
    "\n",
    "1. Constitute a box with 34 ones (clicks) and 2,966 zeros (no clicks).\n",
    "2. Shuffle, take three separate samples of 1,000, and count the clicks in each.\n",
    "3. Find the squared differences between the shuffled counts and the expected counts and sum them.\n",
    "4. Repeat steps 2 and 3, say, 1,000 times.\n",
    "5. How often does the resampled sum of squared deviations exceed the observed?\n",
    "   \n",
    "That’s the p-value."
   ]
  },
  {
   "cell_type": "code",
   "execution_count": 67,
   "id": "66123086-64fd-4921-9978-f823955e15d4",
   "metadata": {},
   "outputs": [
    {
     "name": "stdout",
     "output_type": "stream",
     "text": [
      "Observed chi2: 1.6659\n",
      "Resampled p-value: 0.4660\n"
     ]
    }
   ],
   "source": [
    "# Resampling approach to evaluate statistical significance\n",
    "\n",
    "# Create a list 'box' representing outcomes: 34 clicks (1) and 2966 no-clicks (0)\n",
    "box = [1] * 34          # Add 34 values of 1 representing clicks\n",
    "box.extend([0] * 2966)  # Extend list with 2966 values of 0 representing no-clicks\n",
    "random.shuffle(box)     # Shuffle the list randomly\n",
    "\n",
    "# Function to calculate the Chi-square statistic\n",
    "def chi2(observed, expected):\n",
    "    pearson_residuals = []                              # List to store Pearson residuals for each cell\n",
    "    for row, expect in zip(observed, expected):\n",
    "        pearson_residuals.append([(observe - expect) ** 2 / expect\n",
    "                                  for observe in row])  # Calculate residual for each observed value\n",
    "    \n",
    "    return np.sum(pearson_residuals)                    # Return sum of Pearson residuals to get Chi-square value\n",
    "\n",
    "# Expected values for clicks and no-clicks based on uniform distribution assumption\n",
    "expected_clicks = 34 / 3                         # Expected clicks are evenly split among three groups\n",
    "expected_noclicks = 1000 - expected_clicks       # Expected no-clicks for each group\n",
    "expected = [expected_clicks, expected_noclicks]  # Combine expected clicks and no-clicks\n",
    "\n",
    "# Calculate Chi-square statistic for the observed clicks in the 'clicks' DataFrame\n",
    "chi2observed = chi2(clicks.values, expected)\n",
    "\n",
    "# Define a function for generating a permutation of the 'box' and calculating Chi-square\n",
    "def perm_fun(box):\n",
    "    \n",
    "    random.shuffle(box)  # Shuffle the box randomly\n",
    "    \n",
    "    # Calculate sample clicks for each group (3 groups, each with 1000 items)\n",
    "    sample_clicks = [sum(box[0:1000]), sum(box[1000:2000]), sum(box[2000:3000])]\n",
    "    \n",
    "    # Calculate sample no-clicks for each group\n",
    "    sample_noclicks = [1000 - n for n in sample_clicks]\n",
    "    \n",
    "    # Return Chi-square value for this permutation\n",
    "    return chi2([sample_clicks, sample_noclicks], expected)\n",
    "\n",
    "# Run permutation test 2000 times to create distribution of Chi-square statistics\n",
    "perm_chi2 = [perm_fun(box) for _ in range(2000)]\n",
    "\n",
    "# Calculate resampled p-value based on proportion of permutations that have a greater chi2 value\n",
    "resampled_p_value = sum(perm_chi2 > chi2observed) / len(perm_chi2)\n",
    "\n",
    "# Print the observed Chi-square statistic and the resampled p-value\n",
    "print(f'Observed chi2: {chi2observed:.4f}')\n",
    "print(f'Resampled p-value: {resampled_p_value:.4f}')"
   ]
  },
  {
   "cell_type": "markdown",
   "id": "7ee45e40-af7a-4072-8776-7451250e6c9b",
   "metadata": {},
   "source": [
    "The Chi-Square statistic (χ²) measures the discrepancy between the observed frequencies and the expected frequencies.\n",
    "\n",
    "A p-value of 0.4660 means that 46.6% of the time, the Chi-Square statistic calculated from randomly shuffled data was greater than or equal to the observed Chi-Square (1.6659). This is a high p-value, meaning that the observed deviation is not unusual compared to the distribution expected by chance. We fail to reject the null hypothesis.\n",
    "\n",
    "The differences in click rates among the headlines could be due to random chance"
   ]
  },
  {
   "cell_type": "code",
   "execution_count": 69,
   "id": "d5217307-7b84-4842-8114-6f7b331c7bd5",
   "metadata": {},
   "outputs": [
    {
     "name": "stdout",
     "output_type": "stream",
     "text": [
      "Observed chi2: 1.6659\n",
      "p-value: 0.4348\n"
     ]
    }
   ],
   "source": [
    "# Perform a Chi-Square test of independence on the contingency table 'clicks'\n",
    "chisq, pvalue, df, expected = stats.chi2_contingency(clicks)\n",
    "\n",
    "print(f'Observed chi2: {chisq:.4f}')\n",
    "print(f'p-value: {pvalue:.4f}')"
   ]
  },
  {
   "cell_type": "markdown",
   "id": "0ebd3464-e02d-45ed-8de1-f538609a20ab",
   "metadata": {},
   "source": [
    "The above algorithm uses sampling into the three sets without replacement. Alternatively, it is also possible to sample with replacement."
   ]
  },
  {
   "cell_type": "code",
   "execution_count": 71,
   "id": "cb5e6cf3-1d81-453c-abff-ac86b091b2b3",
   "metadata": {},
   "outputs": [
    {
     "name": "stdout",
     "output_type": "stream",
     "text": [
      "Observed chi2: 1.6659\n",
      "Resampled p-value: 0.4845\n"
     ]
    }
   ],
   "source": [
    "expected = [expected_clicks, expected_noclicks]\n",
    "\n",
    "# Define a function to create a resampled version of the original data with replacement\n",
    "def sample_with_replacement(box):\n",
    "    # Randomly sample 1000 observations with replacement from the box, repeated three times\n",
    "    sample_clicks = [sum(random.sample(box, 1000)),\n",
    "                     sum(random.sample(box, 1000)),\n",
    "                     sum(random.sample(box, 1000))]\n",
    "    \n",
    "    # Calculate the number of no-clicks based on the sampled number of clicks\n",
    "    sample_noclicks = [1000 - n for n in sample_clicks]\n",
    "    \n",
    "    # Calculate the Chi-Square statistic for the resampled data\n",
    "    return chi2([sample_clicks, sample_noclicks], expected)\n",
    "\n",
    "# Perform resampling 2000 times and calculate the Chi-Square statistic for each sample\n",
    "perm_chi2 = [sample_with_replacement(box) for _ in range(2000)]\n",
    "\n",
    "# Calculate the proportion of resampled Chi-Square statistics that are greater than the observed one\n",
    "resampled_p_value = sum(perm_chi2 > chi2observed) / len(perm_chi2)\n",
    "\n",
    "# Print the observed Chi-Square statistic and the resampled p-value\n",
    "print(f'Observed chi2: {chi2observed:.4f}')\n",
    "print(f'Resampled p-value: {resampled_p_value:.4f}')"
   ]
  },
  {
   "cell_type": "markdown",
   "id": "a51de172-3da7-42bc-b473-8949c095bf26",
   "metadata": {},
   "source": [
    "### Figure chi-sq distribution"
   ]
  },
  {
   "cell_type": "code",
   "execution_count": 73,
   "id": "11f8ad40-cced-4c77-a7d3-cf2c7f8d4c5a",
   "metadata": {},
   "outputs": [
    {
     "data": {
      "image/png": "[encoded data removed]",
      "text/plain": [
       "<Figure size 800x500 with 1 Axes>"
      ]
     },
     "metadata": {},
     "output_type": "display_data"
    }
   ],
   "source": [
    "x = [1 + i * (30 - 1) / 99 for i in range(100)]  # Generate 100 equally spaced values between 1 and 30\n",
    "\n",
    "# Create a DataFrame containing x values and chi-squared probability density functions with different degrees of freedom (df)\n",
    "chi = pd.DataFrame({\n",
    "    'x': x,\n",
    "    'chi_1': stats.chi2.pdf(x, df=1),   # Chi-square PDF for df=1\n",
    "    'chi_2': stats.chi2.pdf(x, df=2),   # Chi-square PDF for df=2\n",
    "    'chi_5': stats.chi2.pdf(x, df=5),   # Chi-square PDF for df=5\n",
    "    'chi_10': stats.chi2.pdf(x, df=10), # Chi-square PDF for df=10\n",
    "    'chi_20': stats.chi2.pdf(x, df=20)  # Chi-square PDF for df=20\n",
    "})\n",
    "\n",
    "fig, ax = plt.subplots(figsize=(8, 5))  # Create a figure and axis for plotting, with a specific size of 4x2.5 inches\n",
    "\n",
    "# Plot the Chi-square PDFs for different degrees of freedom with different line styles\n",
    "ax.plot(chi.x, chi.chi_1, color='black', linestyle='-', label='1')                  # Plot df=1 with a solid line\n",
    "ax.plot(chi.x, chi.chi_2, color='blue', linestyle=(0, (1, 1)), label='2')           # Plot df=2 with dashed line\n",
    "ax.plot(chi.x, chi.chi_5, color='navy', linestyle=(0, (2, 1)), label='5')           # Plot df=5 with dashed line with larger gaps\n",
    "ax.plot(chi.x, chi.chi_10, color='orange', linestyle=(0, (3, 1)), label='10')       # Plot df=10 with longer dashes\n",
    "ax.plot(chi.x, chi.chi_20, color='green', linestyle=(0, (4, 1)), label='20')        # Plot df=20 with even longer dashes\n",
    "\n",
    "ax.legend(title='df')  # Add a legend to the plot, with the title 'df' to indicate the degrees of freedom for each line\n",
    "\n",
    "plt.tight_layout()  # Adjust the layout to minimize overlap and improve appearance\n",
    "plt.show()  # Display the plot"
   ]
  },
  {
   "cell_type": "markdown",
   "id": "269f7efa-c5ab-4f4a-a951-41db8be48b61",
   "metadata": {},
   "source": [
    "*Chi-square distribution with various degrees of freedom*"
   ]
  },
  {
   "cell_type": "markdown",
   "id": "a16fdb2e-d191-427e-bd2a-8f886e2b6e46",
   "metadata": {},
   "source": [
    "# Scientific Fraud"
   ]
  },
  {
   "cell_type": "code",
   "execution_count": 76,
   "id": "b9f2bdfa-1d47-42aa-a525-d01d393bc9bf",
   "metadata": {},
   "outputs": [
    {
     "data": {
      "text/html": [
       "<div>\n",
       "<style scoped>\n",
       "    .dataframe tbody tr th:only-of-type {\n",
       "        vertical-align: middle;\n",
       "    }\n",
       "\n",
       "    .dataframe tbody tr th {\n",
       "        vertical-align: top;\n",
       "    }\n",
       "\n",
       "    .dataframe thead th {\n",
       "        text-align: right;\n",
       "    }\n",
       "</style>\n",
       "<table border=\"1\" class=\"dataframe\">\n",
       "  <thead>\n",
       "    <tr style=\"text-align: right;\">\n",
       "      <th></th>\n",
       "      <th>Digit</th>\n",
       "      <th>Frequency</th>\n",
       "    </tr>\n",
       "  </thead>\n",
       "  <tbody>\n",
       "    <tr>\n",
       "      <th>0</th>\n",
       "      <td>0</td>\n",
       "      <td>14</td>\n",
       "    </tr>\n",
       "    <tr>\n",
       "      <th>1</th>\n",
       "      <td>1</td>\n",
       "      <td>71</td>\n",
       "    </tr>\n",
       "    <tr>\n",
       "      <th>2</th>\n",
       "      <td>2</td>\n",
       "      <td>7</td>\n",
       "    </tr>\n",
       "    <tr>\n",
       "      <th>3</th>\n",
       "      <td>3</td>\n",
       "      <td>65</td>\n",
       "    </tr>\n",
       "    <tr>\n",
       "      <th>4</th>\n",
       "      <td>4</td>\n",
       "      <td>23</td>\n",
       "    </tr>\n",
       "    <tr>\n",
       "      <th>5</th>\n",
       "      <td>5</td>\n",
       "      <td>19</td>\n",
       "    </tr>\n",
       "    <tr>\n",
       "      <th>6</th>\n",
       "      <td>6</td>\n",
       "      <td>12</td>\n",
       "    </tr>\n",
       "    <tr>\n",
       "      <th>7</th>\n",
       "      <td>7</td>\n",
       "      <td>45</td>\n",
       "    </tr>\n",
       "    <tr>\n",
       "      <th>8</th>\n",
       "      <td>8</td>\n",
       "      <td>53</td>\n",
       "    </tr>\n",
       "    <tr>\n",
       "      <th>9</th>\n",
       "      <td>9</td>\n",
       "      <td>6</td>\n",
       "    </tr>\n",
       "  </tbody>\n",
       "</table>\n",
       "</div>"
      ],
      "text/plain": [
       "   Digit  Frequency\n",
       "0      0         14\n",
       "1      1         71\n",
       "2      2          7\n",
       "3      3         65\n",
       "4      4         23\n",
       "5      5         19\n",
       "6      6         12\n",
       "7      7         45\n",
       "8      8         53\n",
       "9      9          6"
      ]
     },
     "execution_count": 76,
     "metadata": {},
     "output_type": "execute_result"
    }
   ],
   "source": [
    "# Create the data as a list of dictionaries\n",
    "data = [\n",
    "    {\"Digit\": 0, \"Frequency\": 14},\n",
    "    {\"Digit\": 1, \"Frequency\": 71},\n",
    "    {\"Digit\": 2, \"Frequency\": 7},\n",
    "    {\"Digit\": 3, \"Frequency\": 65},\n",
    "    {\"Digit\": 4, \"Frequency\": 23},\n",
    "    {\"Digit\": 5, \"Frequency\": 19},\n",
    "    {\"Digit\": 6, \"Frequency\": 12},\n",
    "    {\"Digit\": 7, \"Frequency\": 45},\n",
    "    {\"Digit\": 8, \"Frequency\": 53},\n",
    "    {\"Digit\": 9, \"Frequency\": 6}\n",
    "]\n",
    "\n",
    "# Create the DataFrame\n",
    "imanishi = pd.DataFrame(data)\n",
    "\n",
    "imanishi"
   ]
  },
  {
   "cell_type": "code",
   "execution_count": 77,
   "id": "6daa7966-0828-4a47-a6dd-dd871ef6aff1",
   "metadata": {},
   "outputs": [
    {
     "data": {
      "image/png": "[encoded data removed]",
      "text/plain": [
       "<Figure size 600x600 with 1 Axes>"
      ]
     },
     "metadata": {},
     "output_type": "display_data"
    }
   ],
   "source": [
    "imanishi.columns = [c.strip() for c in imanishi.columns]      # Remove leading/trailing whitespace from each column name\n",
    "\n",
    "ax = imanishi.plot.bar(x='Digit', y=['Frequency'], legend=False, figsize=(6, 6))  # Create a bar plot \n",
    "                                                  \n",
    "ax.set_xlabel('Digit')      # Set the x-axis label to 'Digit'\n",
    "ax.set_ylabel('Frequency')  # Set the y-axis label to 'Frequency'\n",
    "\n",
    "plt.tight_layout()  # Adjust the layout to minimize overlaps\n",
    "plt.show()          # Display the plot"
   ]
  },
  {
   "cell_type": "markdown",
   "id": "56622174-754a-4392-9a61-ac33f0dccfd7",
   "metadata": {},
   "source": [
    "# Power and Sample Size"
   ]
  },
  {
   "cell_type": "markdown",
   "id": "b9f75b4e-d82a-468b-8d63-5e9bd96675db",
   "metadata": {},
   "source": [
    "If you run a web test, how do you decide how long it should run (i.e., how many impressions per treatment are needed)?\n",
    "One step in statistical calculations for sample size is to ask “Will a hypothesis test actually reveal a difference between treatments A and B?” \n",
    "\n",
    "The most common use of power calculations is to estimate how big a sample you will need."
   ]
  },
  {
   "cell_type": "markdown",
   "id": "0b39aa80-4905-48ca-a753-5b6cd6430240",
   "metadata": {},
   "source": [
    "#### For example, suppose current click-through rates are about 1.1%, and you are seeking a 10% boost to 1.21%."
   ]
  },
  {
   "cell_type": "code",
   "execution_count": 81,
   "id": "ae93d8d2-be3e-4360-b526-7938483c801a",
   "metadata": {},
   "outputs": [
    {
     "name": "stdout",
     "output_type": "stream",
     "text": [
      "Sample Size: 116602.393\n"
     ]
    }
   ],
   "source": [
    "# Calculate the effect size for proportions between 0.0121 and 0.011 using Cohen's h formula\n",
    "effect_size = sm.stats.proportion_effectsize(0.0121, 0.011)  \n",
    "\n",
    "analysis = sm.stats.TTestIndPower()  # Create an instance of TTestIndPower to perform power analysis for an independent t-test\n",
    "\n",
    "result = analysis.solve_power(effect_size=effect_size,  # Determine the sample size required to achieve a given power level\n",
    "                              alpha=0.05,               # Set the significance level (alpha) to 0.05\n",
    "                              power=0.8,                # Set the desired power to 0.8 (80%)\n",
    "                              alternative='larger')     # Use a one-sided test, as we are interested in a specific direction \n",
    "                                                        # (alternative hypothesis is 'larger')\n",
    "\n",
    "print('Sample Size: %.3f' % result)  # Print the calculated required sample size"
   ]
  },
  {
   "cell_type": "markdown",
   "id": "dbba7c47-f83e-47c9-9bed-edd83f56f7a0",
   "metadata": {},
   "source": [
    "#### Suppose you are conducting an A/B test for two different versions of an online advertisement:\n",
    "\n",
    "    Version A has a conversion rate of 1.65% (or 0.0165).\n",
    "    Version B has a conversion rate of 1.1% (or 0.011).\n",
    "  \n",
    "**You want to determine how many visitors you need for each version of the advertisement to detect a statistically significant difference between the conversion rates, with a 95% confidence level (alpha=0.05) and 80% power.**\n",
    "\n",
    "Typically, researchers aim for a power of 0.8 (or 80%), which means there is an 80% chance of correctly detecting an effect if it exists. This reduces the risk of a Type II error (false negative)."
   ]
  },
  {
   "cell_type": "code",
   "execution_count": 83,
   "id": "1f52ec63-0b5b-441f-aa5a-34ab450299ac",
   "metadata": {},
   "outputs": [
    {
     "name": "stdout",
     "output_type": "stream",
     "text": [
      "Sample Size: 5488.408\n"
     ]
    }
   ],
   "source": [
    "# Calculate the effect size for proportions between 0.0165 and 0.011 using Cohen's h formula\n",
    "effect_size = sm.stats.proportion_effectsize(0.0165, 0.011)  \n",
    "\n",
    "analysis = sm.stats.TTestIndPower()  # Create an instance of TTestIndPower to perform power analysis for an independent t-test\n",
    "\n",
    "result = analysis.solve_power(effect_size=effect_size,  # Determine the sample size required to achieve a given power level\n",
    "                              alpha=0.05,               # Set the significance level (alpha) to 0.05\n",
    "                              power=0.8,                # Set the desired power to 0.8 (80%)\n",
    "                              alternative='larger')     # Use a one-sided test, as we are interested in a specific direction \n",
    "                                                        # (alternative hypothesis is 'larger')\n",
    "\n",
    "print('Sample Size: %.3f' % result)  # Print the calculated required sample size"
   ]
  }
 ],
 "metadata": {
  "kernelspec": {
   "display_name": "Python 3 (ipykernel)",
   "language": "python",
   "name": "python3"
  },
  "language_info": {
   "codemirror_mode": {
    "name": "ipython",
    "version": 3
   },
   "file_extension": ".py",
   "mimetype": "text/x-python",
   "name": "python",
   "nbconvert_exporter": "python",
   "pygments_lexer": "ipython3",
   "version": "3.11.7"
  }
 },
 "nbformat": 4,
 "nbformat_minor": 5
}
