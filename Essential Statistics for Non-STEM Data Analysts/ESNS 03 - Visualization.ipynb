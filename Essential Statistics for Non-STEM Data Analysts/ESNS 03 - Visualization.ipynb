{
 "cells": [
  {
   "cell_type": "markdown",
   "id": "a1e026a0-5b41-4c5c-827d-7207a38070ea",
   "metadata": {},
   "source": [
    "# Chapter 3 - Visualization with Statistical Graphs"
   ]
  },
  {
   "cell_type": "code",
   "execution_count": 2,
   "id": "1f506341-9251-4ca9-8326-5a2f16253423",
   "metadata": {},
   "outputs": [],
   "source": [
    "import numpy as np\n",
    "import pandas as pd\n",
    "\n",
    "import matplotlib.pyplot as plt\n",
    "%matplotlib inline\n",
    "import seaborn as sns"
   ]
  },
  {
   "cell_type": "code",
   "execution_count": null,
   "id": "31f387b5-1906-4c2b-84ec-4c38d7cab902",
   "metadata": {},
   "outputs": [],
   "source": []
  }
 ],
 "metadata": {
  "kernelspec": {
   "display_name": "Python 3 (ipykernel)",
   "language": "python",
   "name": "python3"
  },
  "language_info": {
   "codemirror_mode": {
    "name": "ipython",
    "version": 3
   },
   "file_extension": ".py",
   "mimetype": "text/x-python",
   "name": "python",
   "nbconvert_exporter": "python",
   "pygments_lexer": "ipython3",
   "version": "3.11.7"
  }
 },
 "nbformat": 4,
 "nbformat_minor": 5
}
