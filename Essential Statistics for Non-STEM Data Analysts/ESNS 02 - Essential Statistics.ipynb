{
 "cells": [
  {
   "cell_type": "markdown",
   "id": "a288fdc5-6e1f-4f4b-8c0d-68fb90147b00",
   "metadata": {},
   "source": [
    "# Chapter 2 - Essential Statistics for Data Assessment"
   ]
  },
  {
   "cell_type": "code",
   "execution_count": null,
   "id": "ee720d96-420c-4d09-801b-e0a3c40b3047",
   "metadata": {},
   "outputs": [],
   "source": []
  }
 ],
 "metadata": {
  "kernelspec": {
   "display_name": "Python 3 (ipykernel)",
   "language": "python",
   "name": "python3"
  },
  "language_info": {
   "codemirror_mode": {
    "name": "ipython",
    "version": 3
   },
   "file_extension": ".py",
   "mimetype": "text/x-python",
   "name": "python",
   "nbconvert_exporter": "python",
   "pygments_lexer": "ipython3",
   "version": "3.11.7"
  }
 },
 "nbformat": 4,
 "nbformat_minor": 5
}
