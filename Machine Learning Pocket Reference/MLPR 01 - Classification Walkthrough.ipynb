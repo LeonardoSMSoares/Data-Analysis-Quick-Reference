{
 "cells": [
  {
   "cell_type": "markdown",
   "id": "ef104d9c-ce0f-46f9-8531-4feaf7c65ade",
   "metadata": {},
   "source": [
    "# Chapter 3 - Classification Walkthrough: Titanic Dataset"
   ]
  },
  {
   "cell_type": "code",
   "execution_count": 2,
   "id": "ba5b2ee2-aabb-4342-95cf-33ddb0531223",
   "metadata": {},
   "outputs": [],
   "source": [
    "import seaborn as sns\n",
    "import matplotlib.pyplot as plt\n",
    "%matplotlib inline\n",
    "\n",
    "import pandas as pd\n",
    "from sklearn import (\n",
    "    ensemble,\n",
    "    model_selection,    \n",
    "    preprocessing,\n",
    "    tree,\n",
    ")\n",
    "from sklearn.metrics import (\n",
    "    auc,\n",
    "    confusion_matrix,\n",
    "    roc_auc_score,\n",
    "    roc_curve,\n",
    ")\n",
    "from sklearn.model_selection import (\n",
    "    train_test_split,\n",
    "    StratifiedKFold,\n",
    ")\n",
    "from yellowbrick.classifier import (\n",
    "    ConfusionMatrix,\n",
    "    ROCAUC,\n",
    ")\n",
    "from yellowbrick.model_selection import (\n",
    "    LearningCurve,\n",
    ")"
   ]
  },
  {
   "cell_type": "markdown",
   "id": "7fd52d19-6383-4bb9-9ba9-e77bd2c68808",
   "metadata": {},
   "source": [
    "### Dataset"
   ]
  },
  {
   "cell_type": "markdown",
   "id": "df0e74a0-c453-45c2-9907-7a3991c8d2f9",
   "metadata": {},
   "source": [
    "The following columns are included in the dataset:\n",
    "\n",
    "    • pclass - Passenger class (1 = 1st, 2 = 2nd, 3 = 3rd)\n",
    "    • survival - Survival (0 = No, 1 = Yes)\n",
    "    • name - Name\n",
    "    • sex - Sex\n",
    "    • age - Age\n",
    "    • sibsp - Number of siblings/spouses aboard\n",
    "    • parch - Number of parents/children aboard\n",
    "    • ticket - Ticket number\n",
    "    • fare - Passenger fare\n",
    "    • cabin - Cabin\n",
    "    • embarked - Point of embarkation (C = Cherbourg, Q = Queenstown, S = Southampton)\n",
    "    • boat - Lifeboat\n",
    "    • body - Body identification number\n",
    "    • home.dest - Home/destination"
   ]
  },
  {
   "cell_type": "code",
   "execution_count": 5,
   "id": "a0d90494-8551-4703-835f-75b64f53658f",
   "metadata": {},
   "outputs": [
    {
     "data": {
      "text/html": [
       "<div>\n",
       "<style scoped>\n",
       "    .dataframe tbody tr th:only-of-type {\n",
       "        vertical-align: middle;\n",
       "    }\n",
       "\n",
       "    .dataframe tbody tr th {\n",
       "        vertical-align: top;\n",
       "    }\n",
       "\n",
       "    .dataframe thead th {\n",
       "        text-align: right;\n",
       "    }\n",
       "</style>\n",
       "<table border=\"1\" class=\"dataframe\">\n",
       "  <thead>\n",
       "    <tr style=\"text-align: right;\">\n",
       "      <th></th>\n",
       "      <th>pclass</th>\n",
       "      <th>survived</th>\n",
       "      <th>name</th>\n",
       "      <th>sex</th>\n",
       "      <th>age</th>\n",
       "      <th>sibsp</th>\n",
       "      <th>parch</th>\n",
       "      <th>ticket</th>\n",
       "      <th>fare</th>\n",
       "      <th>cabin</th>\n",
       "      <th>embarked</th>\n",
       "      <th>boat</th>\n",
       "      <th>body</th>\n",
       "      <th>home.dest</th>\n",
       "    </tr>\n",
       "  </thead>\n",
       "  <tbody>\n",
       "    <tr>\n",
       "      <th>0</th>\n",
       "      <td>1</td>\n",
       "      <td>1</td>\n",
       "      <td>Allen, Miss. Elisabeth Walton</td>\n",
       "      <td>female</td>\n",
       "      <td>29.0000</td>\n",
       "      <td>0</td>\n",
       "      <td>0</td>\n",
       "      <td>24160</td>\n",
       "      <td>211.3375</td>\n",
       "      <td>B5</td>\n",
       "      <td>S</td>\n",
       "      <td>2</td>\n",
       "      <td>NaN</td>\n",
       "      <td>St Louis, MO</td>\n",
       "    </tr>\n",
       "    <tr>\n",
       "      <th>1</th>\n",
       "      <td>1</td>\n",
       "      <td>1</td>\n",
       "      <td>Allison, Master. Hudson Trevor</td>\n",
       "      <td>male</td>\n",
       "      <td>0.9167</td>\n",
       "      <td>1</td>\n",
       "      <td>2</td>\n",
       "      <td>113781</td>\n",
       "      <td>151.5500</td>\n",
       "      <td>C22 C26</td>\n",
       "      <td>S</td>\n",
       "      <td>11</td>\n",
       "      <td>NaN</td>\n",
       "      <td>Montreal, PQ / Chesterville, ON</td>\n",
       "    </tr>\n",
       "    <tr>\n",
       "      <th>2</th>\n",
       "      <td>1</td>\n",
       "      <td>0</td>\n",
       "      <td>Allison, Miss. Helen Loraine</td>\n",
       "      <td>female</td>\n",
       "      <td>2.0000</td>\n",
       "      <td>1</td>\n",
       "      <td>2</td>\n",
       "      <td>113781</td>\n",
       "      <td>151.5500</td>\n",
       "      <td>C22 C26</td>\n",
       "      <td>S</td>\n",
       "      <td>NaN</td>\n",
       "      <td>NaN</td>\n",
       "      <td>Montreal, PQ / Chesterville, ON</td>\n",
       "    </tr>\n",
       "    <tr>\n",
       "      <th>3</th>\n",
       "      <td>1</td>\n",
       "      <td>0</td>\n",
       "      <td>Allison, Mr. Hudson Joshua Creighton</td>\n",
       "      <td>male</td>\n",
       "      <td>30.0000</td>\n",
       "      <td>1</td>\n",
       "      <td>2</td>\n",
       "      <td>113781</td>\n",
       "      <td>151.5500</td>\n",
       "      <td>C22 C26</td>\n",
       "      <td>S</td>\n",
       "      <td>NaN</td>\n",
       "      <td>135.0</td>\n",
       "      <td>Montreal, PQ / Chesterville, ON</td>\n",
       "    </tr>\n",
       "    <tr>\n",
       "      <th>4</th>\n",
       "      <td>1</td>\n",
       "      <td>0</td>\n",
       "      <td>Allison, Mrs. Hudson J C (Bessie Waldo Daniels)</td>\n",
       "      <td>female</td>\n",
       "      <td>25.0000</td>\n",
       "      <td>1</td>\n",
       "      <td>2</td>\n",
       "      <td>113781</td>\n",
       "      <td>151.5500</td>\n",
       "      <td>C22 C26</td>\n",
       "      <td>S</td>\n",
       "      <td>NaN</td>\n",
       "      <td>NaN</td>\n",
       "      <td>Montreal, PQ / Chesterville, ON</td>\n",
       "    </tr>\n",
       "  </tbody>\n",
       "</table>\n",
       "</div>"
      ],
      "text/plain": [
       "   pclass  survived                                             name     sex  \\\n",
       "0       1         1                    Allen, Miss. Elisabeth Walton  female   \n",
       "1       1         1                   Allison, Master. Hudson Trevor    male   \n",
       "2       1         0                     Allison, Miss. Helen Loraine  female   \n",
       "3       1         0             Allison, Mr. Hudson Joshua Creighton    male   \n",
       "4       1         0  Allison, Mrs. Hudson J C (Bessie Waldo Daniels)  female   \n",
       "\n",
       "       age  sibsp  parch  ticket      fare    cabin embarked boat   body  \\\n",
       "0  29.0000      0      0   24160  211.3375       B5        S    2    NaN   \n",
       "1   0.9167      1      2  113781  151.5500  C22 C26        S   11    NaN   \n",
       "2   2.0000      1      2  113781  151.5500  C22 C26        S  NaN    NaN   \n",
       "3  30.0000      1      2  113781  151.5500  C22 C26        S  NaN  135.0   \n",
       "4  25.0000      1      2  113781  151.5500  C22 C26        S  NaN    NaN   \n",
       "\n",
       "                         home.dest  \n",
       "0                     St Louis, MO  \n",
       "1  Montreal, PQ / Chesterville, ON  \n",
       "2  Montreal, PQ / Chesterville, ON  \n",
       "3  Montreal, PQ / Chesterville, ON  \n",
       "4  Montreal, PQ / Chesterville, ON  "
      ]
     },
     "execution_count": 5,
     "metadata": {},
     "output_type": "execute_result"
    }
   ],
   "source": [
    "url = (\"https://raw.githubusercontent.com/joanby/python-ml-course/refs/heads/master/datasets/titanic/titanic3.csv\")\n",
    "df = pd.read_csv(url)\n",
    "orig_df = df\n",
    "orig_df.head()"
   ]
  },
  {
   "cell_type": "markdown",
   "id": "882f4f52-a9bc-4975-98af-c5c01b5ee339",
   "metadata": {},
   "source": [
    "### Clean Data"
   ]
  },
  {
   "cell_type": "code",
   "execution_count": 7,
   "id": "c0354928-bcc0-4f8d-aaaa-317dbfa3434f",
   "metadata": {},
   "outputs": [
    {
     "data": {
      "text/plain": [
       "pclass         int64\n",
       "survived       int64\n",
       "name          object\n",
       "sex           object\n",
       "age          float64\n",
       "sibsp          int64\n",
       "parch          int64\n",
       "ticket        object\n",
       "fare         float64\n",
       "cabin         object\n",
       "embarked      object\n",
       "boat          object\n",
       "body         float64\n",
       "home.dest     object\n",
       "dtype: object"
      ]
     },
     "execution_count": 7,
     "metadata": {},
     "output_type": "execute_result"
    }
   ],
   "source": [
    "df.dtypes"
   ]
  },
  {
   "cell_type": "code",
   "execution_count": 8,
   "id": "bb51ba17-171f-4402-9376-8bde173939bc",
   "metadata": {},
   "outputs": [
    {
     "data": {
      "text/plain": [
       "(1309, 14)"
      ]
     },
     "execution_count": 8,
     "metadata": {},
     "output_type": "execute_result"
    }
   ],
   "source": [
    "df.shape"
   ]
  },
  {
   "cell_type": "code",
   "execution_count": 9,
   "id": "a1ec9e67-7345-468f-adc5-3bf3c94355ec",
   "metadata": {},
   "outputs": [
    {
     "name": "stdout",
     "output_type": "stream",
     "text": [
      "<class 'pandas.core.frame.DataFrame'>\n",
      "RangeIndex: 1309 entries, 0 to 1308\n",
      "Data columns (total 14 columns):\n",
      " #   Column     Non-Null Count  Dtype  \n",
      "---  ------     --------------  -----  \n",
      " 0   pclass     1309 non-null   int64  \n",
      " 1   survived   1309 non-null   int64  \n",
      " 2   name       1309 non-null   object \n",
      " 3   sex        1309 non-null   object \n",
      " 4   age        1046 non-null   float64\n",
      " 5   sibsp      1309 non-null   int64  \n",
      " 6   parch      1309 non-null   int64  \n",
      " 7   ticket     1309 non-null   object \n",
      " 8   fare       1308 non-null   float64\n",
      " 9   cabin      295 non-null    object \n",
      " 10  embarked   1307 non-null   object \n",
      " 11  boat       486 non-null    object \n",
      " 12  body       121 non-null    float64\n",
      " 13  home.dest  745 non-null    object \n",
      "dtypes: float64(3), int64(4), object(7)\n",
      "memory usage: 143.3+ KB\n"
     ]
    }
   ],
   "source": [
    "df.info()"
   ]
  },
  {
   "cell_type": "code",
   "execution_count": 10,
   "id": "c3f46c77-1c01-42fa-9c2d-3fcc8fa1d7c4",
   "metadata": {},
   "outputs": [
    {
     "data": {
      "text/html": [
       "<div>\n",
       "<style scoped>\n",
       "    .dataframe tbody tr th:only-of-type {\n",
       "        vertical-align: middle;\n",
       "    }\n",
       "\n",
       "    .dataframe tbody tr th {\n",
       "        vertical-align: top;\n",
       "    }\n",
       "\n",
       "    .dataframe thead th {\n",
       "        text-align: right;\n",
       "    }\n",
       "</style>\n",
       "<table border=\"1\" class=\"dataframe\">\n",
       "  <thead>\n",
       "    <tr style=\"text-align: right;\">\n",
       "      <th></th>\n",
       "      <th>pclass</th>\n",
       "      <th>survived</th>\n",
       "      <th>age</th>\n",
       "      <th>sibsp</th>\n",
       "      <th>parch</th>\n",
       "      <th>fare</th>\n",
       "      <th>body</th>\n",
       "    </tr>\n",
       "  </thead>\n",
       "  <tbody>\n",
       "    <tr>\n",
       "      <th>count</th>\n",
       "      <td>1309.000000</td>\n",
       "      <td>1309.000000</td>\n",
       "      <td>1046.000000</td>\n",
       "      <td>1309.000000</td>\n",
       "      <td>1309.000000</td>\n",
       "      <td>1308.000000</td>\n",
       "      <td>121.000000</td>\n",
       "    </tr>\n",
       "    <tr>\n",
       "      <th>mean</th>\n",
       "      <td>2.294882</td>\n",
       "      <td>0.381971</td>\n",
       "      <td>29.881135</td>\n",
       "      <td>0.498854</td>\n",
       "      <td>0.385027</td>\n",
       "      <td>33.295479</td>\n",
       "      <td>160.809917</td>\n",
       "    </tr>\n",
       "    <tr>\n",
       "      <th>std</th>\n",
       "      <td>0.837836</td>\n",
       "      <td>0.486055</td>\n",
       "      <td>14.413500</td>\n",
       "      <td>1.041658</td>\n",
       "      <td>0.865560</td>\n",
       "      <td>51.758668</td>\n",
       "      <td>97.696922</td>\n",
       "    </tr>\n",
       "    <tr>\n",
       "      <th>min</th>\n",
       "      <td>1.000000</td>\n",
       "      <td>0.000000</td>\n",
       "      <td>0.166700</td>\n",
       "      <td>0.000000</td>\n",
       "      <td>0.000000</td>\n",
       "      <td>0.000000</td>\n",
       "      <td>1.000000</td>\n",
       "    </tr>\n",
       "    <tr>\n",
       "      <th>25%</th>\n",
       "      <td>2.000000</td>\n",
       "      <td>0.000000</td>\n",
       "      <td>21.000000</td>\n",
       "      <td>0.000000</td>\n",
       "      <td>0.000000</td>\n",
       "      <td>7.895800</td>\n",
       "      <td>72.000000</td>\n",
       "    </tr>\n",
       "    <tr>\n",
       "      <th>50%</th>\n",
       "      <td>3.000000</td>\n",
       "      <td>0.000000</td>\n",
       "      <td>28.000000</td>\n",
       "      <td>0.000000</td>\n",
       "      <td>0.000000</td>\n",
       "      <td>14.454200</td>\n",
       "      <td>155.000000</td>\n",
       "    </tr>\n",
       "    <tr>\n",
       "      <th>75%</th>\n",
       "      <td>3.000000</td>\n",
       "      <td>1.000000</td>\n",
       "      <td>39.000000</td>\n",
       "      <td>1.000000</td>\n",
       "      <td>0.000000</td>\n",
       "      <td>31.275000</td>\n",
       "      <td>256.000000</td>\n",
       "    </tr>\n",
       "    <tr>\n",
       "      <th>max</th>\n",
       "      <td>3.000000</td>\n",
       "      <td>1.000000</td>\n",
       "      <td>80.000000</td>\n",
       "      <td>8.000000</td>\n",
       "      <td>9.000000</td>\n",
       "      <td>512.329200</td>\n",
       "      <td>328.000000</td>\n",
       "    </tr>\n",
       "  </tbody>\n",
       "</table>\n",
       "</div>"
      ],
      "text/plain": [
       "            pclass     survived          age        sibsp        parch  \\\n",
       "count  1309.000000  1309.000000  1046.000000  1309.000000  1309.000000   \n",
       "mean      2.294882     0.381971    29.881135     0.498854     0.385027   \n",
       "std       0.837836     0.486055    14.413500     1.041658     0.865560   \n",
       "min       1.000000     0.000000     0.166700     0.000000     0.000000   \n",
       "25%       2.000000     0.000000    21.000000     0.000000     0.000000   \n",
       "50%       3.000000     0.000000    28.000000     0.000000     0.000000   \n",
       "75%       3.000000     1.000000    39.000000     1.000000     0.000000   \n",
       "max       3.000000     1.000000    80.000000     8.000000     9.000000   \n",
       "\n",
       "              fare        body  \n",
       "count  1308.000000  121.000000  \n",
       "mean     33.295479  160.809917  \n",
       "std      51.758668   97.696922  \n",
       "min       0.000000    1.000000  \n",
       "25%       7.895800   72.000000  \n",
       "50%      14.454200  155.000000  \n",
       "75%      31.275000  256.000000  \n",
       "max     512.329200  328.000000  "
      ]
     },
     "execution_count": 10,
     "metadata": {},
     "output_type": "execute_result"
    }
   ],
   "source": [
    "df.describe()"
   ]
  },
  {
   "cell_type": "code",
   "execution_count": 11,
   "id": "014db459-831b-49dd-98d4-46e07da7bef0",
   "metadata": {},
   "outputs": [
    {
     "data": {
      "text/html": [
       "<div>\n",
       "<style scoped>\n",
       "    .dataframe tbody tr th:only-of-type {\n",
       "        vertical-align: middle;\n",
       "    }\n",
       "\n",
       "    .dataframe tbody tr th {\n",
       "        vertical-align: top;\n",
       "    }\n",
       "\n",
       "    .dataframe thead th {\n",
       "        text-align: right;\n",
       "    }\n",
       "</style>\n",
       "<table border=\"1\" class=\"dataframe\">\n",
       "  <thead>\n",
       "    <tr style=\"text-align: right;\">\n",
       "      <th></th>\n",
       "      <th>pclass</th>\n",
       "      <th>survived</th>\n",
       "    </tr>\n",
       "  </thead>\n",
       "  <tbody>\n",
       "    <tr>\n",
       "      <th>count</th>\n",
       "      <td>1309.000000</td>\n",
       "      <td>1309.000000</td>\n",
       "    </tr>\n",
       "    <tr>\n",
       "      <th>mean</th>\n",
       "      <td>2.294882</td>\n",
       "      <td>0.381971</td>\n",
       "    </tr>\n",
       "    <tr>\n",
       "      <th>std</th>\n",
       "      <td>0.837836</td>\n",
       "      <td>0.486055</td>\n",
       "    </tr>\n",
       "    <tr>\n",
       "      <th>min</th>\n",
       "      <td>1.000000</td>\n",
       "      <td>0.000000</td>\n",
       "    </tr>\n",
       "    <tr>\n",
       "      <th>25%</th>\n",
       "      <td>2.000000</td>\n",
       "      <td>0.000000</td>\n",
       "    </tr>\n",
       "    <tr>\n",
       "      <th>50%</th>\n",
       "      <td>3.000000</td>\n",
       "      <td>0.000000</td>\n",
       "    </tr>\n",
       "    <tr>\n",
       "      <th>75%</th>\n",
       "      <td>3.000000</td>\n",
       "      <td>1.000000</td>\n",
       "    </tr>\n",
       "    <tr>\n",
       "      <th>max</th>\n",
       "      <td>3.000000</td>\n",
       "      <td>1.000000</td>\n",
       "    </tr>\n",
       "  </tbody>\n",
       "</table>\n",
       "</div>"
      ],
      "text/plain": [
       "            pclass     survived\n",
       "count  1309.000000  1309.000000\n",
       "mean      2.294882     0.381971\n",
       "std       0.837836     0.486055\n",
       "min       1.000000     0.000000\n",
       "25%       2.000000     0.000000\n",
       "50%       3.000000     0.000000\n",
       "75%       3.000000     1.000000\n",
       "max       3.000000     1.000000"
      ]
     },
     "execution_count": 11,
     "metadata": {},
     "output_type": "execute_result"
    }
   ],
   "source": [
    "df.describe().iloc[:, :2]"
   ]
  },
  {
   "cell_type": "code",
   "execution_count": 12,
   "id": "271973d8-f128-4214-a261-7b1228123e7c",
   "metadata": {},
   "outputs": [
    {
     "data": {
      "text/plain": [
       "pclass          0\n",
       "survived        0\n",
       "name            0\n",
       "sex             0\n",
       "age           263\n",
       "sibsp           0\n",
       "parch           0\n",
       "ticket          0\n",
       "fare            1\n",
       "cabin        1014\n",
       "embarked        2\n",
       "boat          823\n",
       "body         1188\n",
       "home.dest     564\n",
       "dtype: int64"
      ]
     },
     "execution_count": 12,
     "metadata": {},
     "output_type": "execute_result"
    }
   ],
   "source": [
    "# How many NaN are in each column?\n",
    "df.isna().sum()"
   ]
  },
  {
   "cell_type": "code",
   "execution_count": 13,
   "id": "a1be88c8-0844-4ebc-8bc7-648a16d2329c",
   "metadata": {},
   "outputs": [
    {
     "data": {
      "image/png": "[encoded data removed]",
      "text/plain": [
       "<Figure size 800x550 with 1 Axes>"
      ]
     },
     "metadata": {},
     "output_type": "display_data"
    }
   ],
   "source": [
    "# Heatmap for visualize the missing data\n",
    "sns.heatmap(df.isnull(), yticklabels=False, cbar=False, cmap='viridis');"
   ]
  },
  {
   "cell_type": "code",
   "execution_count": 14,
   "id": "4a3d7402-1c7d-4042-98b1-c838751bbe77",
   "metadata": {},
   "outputs": [
    {
     "data": {
      "text/plain": [
       "0    True\n",
       "1    True\n",
       "2    True\n",
       "3    True\n",
       "4    True\n",
       "dtype: bool"
      ]
     },
     "execution_count": 14,
     "metadata": {},
     "output_type": "execute_result"
    }
   ],
   "source": [
    "# Create a boolean mask indicating rows in df that contain any NaN values\n",
    "mask = df.isnull().any(axis=1)\n",
    "\n",
    "mask.head()"
   ]
  },
  {
   "cell_type": "code",
   "execution_count": 15,
   "id": "333565c8-a72b-41b7-a3ef-1b7bb0135e63",
   "metadata": {},
   "outputs": [
    {
     "data": {
      "text/html": [
       "<div>\n",
       "<style scoped>\n",
       "    .dataframe tbody tr th:only-of-type {\n",
       "        vertical-align: middle;\n",
       "    }\n",
       "\n",
       "    .dataframe tbody tr th {\n",
       "        vertical-align: top;\n",
       "    }\n",
       "\n",
       "    .dataframe thead th {\n",
       "        text-align: right;\n",
       "    }\n",
       "</style>\n",
       "<table border=\"1\" class=\"dataframe\">\n",
       "  <thead>\n",
       "    <tr style=\"text-align: right;\">\n",
       "      <th></th>\n",
       "      <th>pclass</th>\n",
       "      <th>survived</th>\n",
       "      <th>name</th>\n",
       "      <th>sex</th>\n",
       "      <th>age</th>\n",
       "      <th>sibsp</th>\n",
       "      <th>parch</th>\n",
       "      <th>ticket</th>\n",
       "      <th>fare</th>\n",
       "      <th>cabin</th>\n",
       "      <th>embarked</th>\n",
       "      <th>boat</th>\n",
       "      <th>body</th>\n",
       "      <th>home.dest</th>\n",
       "    </tr>\n",
       "  </thead>\n",
       "  <tbody>\n",
       "    <tr>\n",
       "      <th>0</th>\n",
       "      <td>1</td>\n",
       "      <td>1</td>\n",
       "      <td>Allen, Miss. Elisabeth Walton</td>\n",
       "      <td>female</td>\n",
       "      <td>29.0000</td>\n",
       "      <td>0</td>\n",
       "      <td>0</td>\n",
       "      <td>24160</td>\n",
       "      <td>211.3375</td>\n",
       "      <td>B5</td>\n",
       "      <td>S</td>\n",
       "      <td>2</td>\n",
       "      <td>NaN</td>\n",
       "      <td>St Louis, MO</td>\n",
       "    </tr>\n",
       "    <tr>\n",
       "      <th>1</th>\n",
       "      <td>1</td>\n",
       "      <td>1</td>\n",
       "      <td>Allison, Master. Hudson Trevor</td>\n",
       "      <td>male</td>\n",
       "      <td>0.9167</td>\n",
       "      <td>1</td>\n",
       "      <td>2</td>\n",
       "      <td>113781</td>\n",
       "      <td>151.5500</td>\n",
       "      <td>C22 C26</td>\n",
       "      <td>S</td>\n",
       "      <td>11</td>\n",
       "      <td>NaN</td>\n",
       "      <td>Montreal, PQ / Chesterville, ON</td>\n",
       "    </tr>\n",
       "    <tr>\n",
       "      <th>2</th>\n",
       "      <td>1</td>\n",
       "      <td>0</td>\n",
       "      <td>Allison, Miss. Helen Loraine</td>\n",
       "      <td>female</td>\n",
       "      <td>2.0000</td>\n",
       "      <td>1</td>\n",
       "      <td>2</td>\n",
       "      <td>113781</td>\n",
       "      <td>151.5500</td>\n",
       "      <td>C22 C26</td>\n",
       "      <td>S</td>\n",
       "      <td>NaN</td>\n",
       "      <td>NaN</td>\n",
       "      <td>Montreal, PQ / Chesterville, ON</td>\n",
       "    </tr>\n",
       "    <tr>\n",
       "      <th>3</th>\n",
       "      <td>1</td>\n",
       "      <td>0</td>\n",
       "      <td>Allison, Mr. Hudson Joshua Creighton</td>\n",
       "      <td>male</td>\n",
       "      <td>30.0000</td>\n",
       "      <td>1</td>\n",
       "      <td>2</td>\n",
       "      <td>113781</td>\n",
       "      <td>151.5500</td>\n",
       "      <td>C22 C26</td>\n",
       "      <td>S</td>\n",
       "      <td>NaN</td>\n",
       "      <td>135.0</td>\n",
       "      <td>Montreal, PQ / Chesterville, ON</td>\n",
       "    </tr>\n",
       "    <tr>\n",
       "      <th>4</th>\n",
       "      <td>1</td>\n",
       "      <td>0</td>\n",
       "      <td>Allison, Mrs. Hudson J C (Bessie Waldo Daniels)</td>\n",
       "      <td>female</td>\n",
       "      <td>25.0000</td>\n",
       "      <td>1</td>\n",
       "      <td>2</td>\n",
       "      <td>113781</td>\n",
       "      <td>151.5500</td>\n",
       "      <td>C22 C26</td>\n",
       "      <td>S</td>\n",
       "      <td>NaN</td>\n",
       "      <td>NaN</td>\n",
       "      <td>Montreal, PQ / Chesterville, ON</td>\n",
       "    </tr>\n",
       "  </tbody>\n",
       "</table>\n",
       "</div>"
      ],
      "text/plain": [
       "   pclass  survived                                             name     sex  \\\n",
       "0       1         1                    Allen, Miss. Elisabeth Walton  female   \n",
       "1       1         1                   Allison, Master. Hudson Trevor    male   \n",
       "2       1         0                     Allison, Miss. Helen Loraine  female   \n",
       "3       1         0             Allison, Mr. Hudson Joshua Creighton    male   \n",
       "4       1         0  Allison, Mrs. Hudson J C (Bessie Waldo Daniels)  female   \n",
       "\n",
       "       age  sibsp  parch  ticket      fare    cabin embarked boat   body  \\\n",
       "0  29.0000      0      0   24160  211.3375       B5        S    2    NaN   \n",
       "1   0.9167      1      2  113781  151.5500  C22 C26        S   11    NaN   \n",
       "2   2.0000      1      2  113781  151.5500  C22 C26        S  NaN    NaN   \n",
       "3  30.0000      1      2  113781  151.5500  C22 C26        S  NaN  135.0   \n",
       "4  25.0000      1      2  113781  151.5500  C22 C26        S  NaN    NaN   \n",
       "\n",
       "                         home.dest  \n",
       "0                     St Louis, MO  \n",
       "1  Montreal, PQ / Chesterville, ON  \n",
       "2  Montreal, PQ / Chesterville, ON  \n",
       "3  Montreal, PQ / Chesterville, ON  \n",
       "4  Montreal, PQ / Chesterville, ON  "
      ]
     },
     "execution_count": 15,
     "metadata": {},
     "output_type": "execute_result"
    }
   ],
   "source": [
    "df.head()"
   ]
  },
  {
   "cell_type": "code",
   "execution_count": 16,
   "id": "46364d02-952d-4f5b-9356-19c327f4efd6",
   "metadata": {},
   "outputs": [
    {
     "data": {
      "text/plain": [
       "0      NaN\n",
       "1      NaN\n",
       "2      NaN\n",
       "3    135.0\n",
       "4      NaN\n",
       "Name: body, dtype: float64"
      ]
     },
     "execution_count": 16,
     "metadata": {},
     "output_type": "execute_result"
    }
   ],
   "source": [
    "# Display the 'body' column of the first 5 rows in df that contain any NaN values\n",
    "df[mask].body.head()  "
   ]
  },
  {
   "cell_type": "code",
   "execution_count": 17,
   "id": "d75e8f0c-f862-4102-88d4-8d7d25a5b289",
   "metadata": {},
   "outputs": [
    {
     "data": {
      "text/plain": [
       "sex\n",
       "male      843\n",
       "female    466\n",
       "Name: count, dtype: int64"
      ]
     },
     "execution_count": 17,
     "metadata": {},
     "output_type": "execute_result"
    }
   ],
   "source": [
    "# Count the occurrences of each unique value in the 'sex' column, including NaN values\n",
    "df.sex.value_counts(dropna=False)    # There are Zero NA's values in column 'sex', but there are other columns with NA's."
   ]
  },
  {
   "cell_type": "code",
   "execution_count": 18,
   "id": "0d024bae-609a-4ed5-bf1f-ed3fab9dbd76",
   "metadata": {},
   "outputs": [
    {
     "data": {
      "text/plain": [
       "embarked\n",
       "S      914\n",
       "C      270\n",
       "Q      123\n",
       "NaN      2\n",
       "Name: count, dtype: int64"
      ]
     },
     "execution_count": 18,
     "metadata": {},
     "output_type": "execute_result"
    }
   ],
   "source": [
    "# Count the occurrences of each unique value in the 'embarked' column, including NaN values\n",
    "df.embarked.value_counts(dropna=False)  "
   ]
  },
  {
   "cell_type": "code",
   "execution_count": 19,
   "id": "06dd0edf-d30b-4071-b544-d6ea336c3c0d",
   "metadata": {},
   "outputs": [
    {
     "data": {
      "image/png": "[encoded data removed]",
      "text/plain": [
       "<Figure size 800x550 with 1 Axes>"
      ]
     },
     "metadata": {},
     "output_type": "display_data"
    }
   ],
   "source": [
    "# Style\n",
    "sns.set_style('whitegrid')\n",
    "\n",
    "# Visualize 'Survivals' (0 - Not Survive, 1 - Survive)\n",
    "sns.countplot(x='survived', data=df, hue='survived', palette='RdBu_r', legend=False);"
   ]
  },
  {
   "cell_type": "code",
   "execution_count": 20,
   "id": "0e99ff9f-417a-4f0d-b7c3-d7d0d2ab51b6",
   "metadata": {},
   "outputs": [
    {
     "data": {
      "image/png": "[encoded data removed]",
      "text/plain": [
       "<Figure size 800x550 with 1 Axes>"
      ]
     },
     "metadata": {},
     "output_type": "display_data"
    }
   ],
   "source": [
    "# Style\n",
    "sns.set_style('darkgrid')\n",
    "\n",
    "# Visualize 'Survivals' (0 - Not Survive, 1 - Survive)\n",
    "sns.countplot(x='embarked', data=df, hue='embarked', palette='RdBu_r', legend=False);"
   ]
  },
  {
   "cell_type": "code",
   "execution_count": 21,
   "id": "f5930a5d-8e7f-4987-833a-e5ced4f4e6e3",
   "metadata": {},
   "outputs": [
    {
     "data": {
      "image/png": "[encoded data removed]",
      "text/plain": [
       "<Figure size 800x550 with 1 Axes>"
      ]
     },
     "metadata": {},
     "output_type": "display_data"
    }
   ],
   "source": [
    "# Split Survivals by 'Passenger Class'\n",
    "sns.countplot(x='survived', hue='pclass', data=df, palette='Set2');"
   ]
  },
  {
   "cell_type": "code",
   "execution_count": 22,
   "id": "7360a34c-41ba-499e-b881-d4ae2f6bf782",
   "metadata": {},
   "outputs": [
    {
     "data": {
      "text/plain": [
       "0                      Allen, Miss. Elisabeth Walton\n",
       "1                     Allison, Master. Hudson Trevor\n",
       "2                       Allison, Miss. Helen Loraine\n",
       "3               Allison, Mr. Hudson Joshua Creighton\n",
       "4    Allison, Mrs. Hudson J C (Bessie Waldo Daniels)\n",
       "5                                Anderson, Mr. Harry\n",
       "6                  Andrews, Miss. Kornelia Theodosia\n",
       "7                             Andrews, Mr. Thomas Jr\n",
       "8      Appleton, Mrs. Edward Dale (Charlotte Lamson)\n",
       "9                            Artagaveytia, Mr. Ramon\n",
       "Name: name, dtype: object"
      ]
     },
     "execution_count": 22,
     "metadata": {},
     "output_type": "execute_result"
    }
   ],
   "source": [
    "name = df.name\n",
    "name.head(10)"
   ]
  },
  {
   "cell_type": "code",
   "execution_count": 23,
   "id": "b8d24a5a-01a3-4df1-acaa-7e51ea3b8b90",
   "metadata": {},
   "outputs": [
    {
     "data": {
      "text/html": [
       "<div>\n",
       "<style scoped>\n",
       "    .dataframe tbody tr th:only-of-type {\n",
       "        vertical-align: middle;\n",
       "    }\n",
       "\n",
       "    .dataframe tbody tr th {\n",
       "        vertical-align: top;\n",
       "    }\n",
       "\n",
       "    .dataframe thead th {\n",
       "        text-align: right;\n",
       "    }\n",
       "</style>\n",
       "<table border=\"1\" class=\"dataframe\">\n",
       "  <thead>\n",
       "    <tr style=\"text-align: right;\">\n",
       "      <th></th>\n",
       "      <th>pclass</th>\n",
       "      <th>survived</th>\n",
       "      <th>sex</th>\n",
       "      <th>age</th>\n",
       "      <th>sibsp</th>\n",
       "      <th>parch</th>\n",
       "      <th>fare</th>\n",
       "      <th>embarked</th>\n",
       "    </tr>\n",
       "  </thead>\n",
       "  <tbody>\n",
       "    <tr>\n",
       "      <th>0</th>\n",
       "      <td>1</td>\n",
       "      <td>1</td>\n",
       "      <td>female</td>\n",
       "      <td>29.0000</td>\n",
       "      <td>0</td>\n",
       "      <td>0</td>\n",
       "      <td>211.3375</td>\n",
       "      <td>S</td>\n",
       "    </tr>\n",
       "    <tr>\n",
       "      <th>1</th>\n",
       "      <td>1</td>\n",
       "      <td>1</td>\n",
       "      <td>male</td>\n",
       "      <td>0.9167</td>\n",
       "      <td>1</td>\n",
       "      <td>2</td>\n",
       "      <td>151.5500</td>\n",
       "      <td>S</td>\n",
       "    </tr>\n",
       "    <tr>\n",
       "      <th>2</th>\n",
       "      <td>1</td>\n",
       "      <td>0</td>\n",
       "      <td>female</td>\n",
       "      <td>2.0000</td>\n",
       "      <td>1</td>\n",
       "      <td>2</td>\n",
       "      <td>151.5500</td>\n",
       "      <td>S</td>\n",
       "    </tr>\n",
       "    <tr>\n",
       "      <th>3</th>\n",
       "      <td>1</td>\n",
       "      <td>0</td>\n",
       "      <td>male</td>\n",
       "      <td>30.0000</td>\n",
       "      <td>1</td>\n",
       "      <td>2</td>\n",
       "      <td>151.5500</td>\n",
       "      <td>S</td>\n",
       "    </tr>\n",
       "    <tr>\n",
       "      <th>4</th>\n",
       "      <td>1</td>\n",
       "      <td>0</td>\n",
       "      <td>female</td>\n",
       "      <td>25.0000</td>\n",
       "      <td>1</td>\n",
       "      <td>2</td>\n",
       "      <td>151.5500</td>\n",
       "      <td>S</td>\n",
       "    </tr>\n",
       "  </tbody>\n",
       "</table>\n",
       "</div>"
      ],
      "text/plain": [
       "   pclass  survived     sex      age  sibsp  parch      fare embarked\n",
       "0       1         1  female  29.0000      0      0  211.3375        S\n",
       "1       1         1    male   0.9167      1      2  151.5500        S\n",
       "2       1         0  female   2.0000      1      2  151.5500        S\n",
       "3       1         0    male  30.0000      1      2  151.5500        S\n",
       "4       1         0  female  25.0000      1      2  151.5500        S"
      ]
     },
     "execution_count": 23,
     "metadata": {},
     "output_type": "execute_result"
    }
   ],
   "source": [
    "df2 = df.drop(columns=[\"name\",\"ticket\",\"home.dest\",\"boat\",\"body\",\"cabin\"])\n",
    "df2.head()"
   ]
  },
  {
   "cell_type": "code",
   "execution_count": 24,
   "id": "443ff7bb-045f-4958-a0a7-3570e986d5d9",
   "metadata": {},
   "outputs": [
    {
     "data": {
      "text/html": [
       "<div>\n",
       "<style scoped>\n",
       "    .dataframe tbody tr th:only-of-type {\n",
       "        vertical-align: middle;\n",
       "    }\n",
       "\n",
       "    .dataframe tbody tr th {\n",
       "        vertical-align: top;\n",
       "    }\n",
       "\n",
       "    .dataframe thead th {\n",
       "        text-align: right;\n",
       "    }\n",
       "</style>\n",
       "<table border=\"1\" class=\"dataframe\">\n",
       "  <thead>\n",
       "    <tr style=\"text-align: right;\">\n",
       "      <th></th>\n",
       "      <th>pclass</th>\n",
       "      <th>survived</th>\n",
       "      <th>age</th>\n",
       "      <th>sibsp</th>\n",
       "      <th>parch</th>\n",
       "      <th>fare</th>\n",
       "      <th>sex_female</th>\n",
       "      <th>sex_male</th>\n",
       "      <th>embarked_C</th>\n",
       "      <th>embarked_Q</th>\n",
       "      <th>embarked_S</th>\n",
       "    </tr>\n",
       "  </thead>\n",
       "  <tbody>\n",
       "    <tr>\n",
       "      <th>0</th>\n",
       "      <td>1</td>\n",
       "      <td>1</td>\n",
       "      <td>29.0000</td>\n",
       "      <td>0</td>\n",
       "      <td>0</td>\n",
       "      <td>211.3375</td>\n",
       "      <td>True</td>\n",
       "      <td>False</td>\n",
       "      <td>False</td>\n",
       "      <td>False</td>\n",
       "      <td>True</td>\n",
       "    </tr>\n",
       "    <tr>\n",
       "      <th>1</th>\n",
       "      <td>1</td>\n",
       "      <td>1</td>\n",
       "      <td>0.9167</td>\n",
       "      <td>1</td>\n",
       "      <td>2</td>\n",
       "      <td>151.5500</td>\n",
       "      <td>False</td>\n",
       "      <td>True</td>\n",
       "      <td>False</td>\n",
       "      <td>False</td>\n",
       "      <td>True</td>\n",
       "    </tr>\n",
       "    <tr>\n",
       "      <th>2</th>\n",
       "      <td>1</td>\n",
       "      <td>0</td>\n",
       "      <td>2.0000</td>\n",
       "      <td>1</td>\n",
       "      <td>2</td>\n",
       "      <td>151.5500</td>\n",
       "      <td>True</td>\n",
       "      <td>False</td>\n",
       "      <td>False</td>\n",
       "      <td>False</td>\n",
       "      <td>True</td>\n",
       "    </tr>\n",
       "    <tr>\n",
       "      <th>3</th>\n",
       "      <td>1</td>\n",
       "      <td>0</td>\n",
       "      <td>30.0000</td>\n",
       "      <td>1</td>\n",
       "      <td>2</td>\n",
       "      <td>151.5500</td>\n",
       "      <td>False</td>\n",
       "      <td>True</td>\n",
       "      <td>False</td>\n",
       "      <td>False</td>\n",
       "      <td>True</td>\n",
       "    </tr>\n",
       "    <tr>\n",
       "      <th>4</th>\n",
       "      <td>1</td>\n",
       "      <td>0</td>\n",
       "      <td>25.0000</td>\n",
       "      <td>1</td>\n",
       "      <td>2</td>\n",
       "      <td>151.5500</td>\n",
       "      <td>True</td>\n",
       "      <td>False</td>\n",
       "      <td>False</td>\n",
       "      <td>False</td>\n",
       "      <td>True</td>\n",
       "    </tr>\n",
       "  </tbody>\n",
       "</table>\n",
       "</div>"
      ],
      "text/plain": [
       "   pclass  survived      age  sibsp  parch      fare  sex_female  sex_male  \\\n",
       "0       1         1  29.0000      0      0  211.3375        True     False   \n",
       "1       1         1   0.9167      1      2  151.5500       False      True   \n",
       "2       1         0   2.0000      1      2  151.5500        True     False   \n",
       "3       1         0  30.0000      1      2  151.5500       False      True   \n",
       "4       1         0  25.0000      1      2  151.5500        True     False   \n",
       "\n",
       "   embarked_C  embarked_Q  embarked_S  \n",
       "0       False       False        True  \n",
       "1       False       False        True  \n",
       "2       False       False        True  \n",
       "3       False       False        True  \n",
       "4       False       False        True  "
      ]
     },
     "execution_count": 24,
     "metadata": {},
     "output_type": "execute_result"
    }
   ],
   "source": [
    "# Convert categorical variables in df2 into dummy/indicator variables for each category\n",
    "df2 = pd.get_dummies(df2)\n",
    "df2.head()"
   ]
  },
  {
   "cell_type": "code",
   "execution_count": 25,
   "id": "4246b78f-91a8-4597-a5d3-3269805cca72",
   "metadata": {},
   "outputs": [
    {
     "data": {
      "text/html": [
       "<div>\n",
       "<style scoped>\n",
       "    .dataframe tbody tr th:only-of-type {\n",
       "        vertical-align: middle;\n",
       "    }\n",
       "\n",
       "    .dataframe tbody tr th {\n",
       "        vertical-align: top;\n",
       "    }\n",
       "\n",
       "    .dataframe thead th {\n",
       "        text-align: right;\n",
       "    }\n",
       "</style>\n",
       "<table border=\"1\" class=\"dataframe\">\n",
       "  <thead>\n",
       "    <tr style=\"text-align: right;\">\n",
       "      <th></th>\n",
       "      <th>pclass</th>\n",
       "      <th>survived</th>\n",
       "      <th>age</th>\n",
       "      <th>sibsp</th>\n",
       "      <th>parch</th>\n",
       "      <th>fare</th>\n",
       "      <th>sex_female</th>\n",
       "      <th>embarked_Q</th>\n",
       "      <th>embarked_S</th>\n",
       "    </tr>\n",
       "  </thead>\n",
       "  <tbody>\n",
       "    <tr>\n",
       "      <th>0</th>\n",
       "      <td>1</td>\n",
       "      <td>1</td>\n",
       "      <td>29.0000</td>\n",
       "      <td>0</td>\n",
       "      <td>0</td>\n",
       "      <td>211.3375</td>\n",
       "      <td>True</td>\n",
       "      <td>False</td>\n",
       "      <td>True</td>\n",
       "    </tr>\n",
       "    <tr>\n",
       "      <th>1</th>\n",
       "      <td>1</td>\n",
       "      <td>1</td>\n",
       "      <td>0.9167</td>\n",
       "      <td>1</td>\n",
       "      <td>2</td>\n",
       "      <td>151.5500</td>\n",
       "      <td>False</td>\n",
       "      <td>False</td>\n",
       "      <td>True</td>\n",
       "    </tr>\n",
       "    <tr>\n",
       "      <th>2</th>\n",
       "      <td>1</td>\n",
       "      <td>0</td>\n",
       "      <td>2.0000</td>\n",
       "      <td>1</td>\n",
       "      <td>2</td>\n",
       "      <td>151.5500</td>\n",
       "      <td>True</td>\n",
       "      <td>False</td>\n",
       "      <td>True</td>\n",
       "    </tr>\n",
       "    <tr>\n",
       "      <th>3</th>\n",
       "      <td>1</td>\n",
       "      <td>0</td>\n",
       "      <td>30.0000</td>\n",
       "      <td>1</td>\n",
       "      <td>2</td>\n",
       "      <td>151.5500</td>\n",
       "      <td>False</td>\n",
       "      <td>False</td>\n",
       "      <td>True</td>\n",
       "    </tr>\n",
       "    <tr>\n",
       "      <th>4</th>\n",
       "      <td>1</td>\n",
       "      <td>0</td>\n",
       "      <td>25.0000</td>\n",
       "      <td>1</td>\n",
       "      <td>2</td>\n",
       "      <td>151.5500</td>\n",
       "      <td>True</td>\n",
       "      <td>False</td>\n",
       "      <td>True</td>\n",
       "    </tr>\n",
       "  </tbody>\n",
       "</table>\n",
       "</div>"
      ],
      "text/plain": [
       "   pclass  survived      age  sibsp  parch      fare  sex_female  embarked_Q  \\\n",
       "0       1         1  29.0000      0      0  211.3375        True       False   \n",
       "1       1         1   0.9167      1      2  151.5500       False       False   \n",
       "2       1         0   2.0000      1      2  151.5500        True       False   \n",
       "3       1         0  30.0000      1      2  151.5500       False       False   \n",
       "4       1         0  25.0000      1      2  151.5500        True       False   \n",
       "\n",
       "   embarked_S  \n",
       "0        True  \n",
       "1        True  \n",
       "2        True  \n",
       "3        True  \n",
       "4        True  "
      ]
     },
     "execution_count": 25,
     "metadata": {},
     "output_type": "execute_result"
    }
   ],
   "source": [
    "df2 = df2.drop(columns=[\"sex_male\", \"embarked_C\"])\n",
    "df2.head()"
   ]
  },
  {
   "cell_type": "code",
   "execution_count": 26,
   "id": "9b0a48c0-feab-4ff5-914b-ab8c31f8e3e6",
   "metadata": {},
   "outputs": [
    {
     "data": {
      "text/html": [
       "<div>\n",
       "<style scoped>\n",
       "    .dataframe tbody tr th:only-of-type {\n",
       "        vertical-align: middle;\n",
       "    }\n",
       "\n",
       "    .dataframe tbody tr th {\n",
       "        vertical-align: top;\n",
       "    }\n",
       "\n",
       "    .dataframe thead th {\n",
       "        text-align: right;\n",
       "    }\n",
       "</style>\n",
       "<table border=\"1\" class=\"dataframe\">\n",
       "  <thead>\n",
       "    <tr style=\"text-align: right;\">\n",
       "      <th></th>\n",
       "      <th>pclass</th>\n",
       "      <th>survived</th>\n",
       "      <th>age</th>\n",
       "      <th>sibsp</th>\n",
       "      <th>parch</th>\n",
       "      <th>fare</th>\n",
       "      <th>sex_female</th>\n",
       "      <th>embarked_Q</th>\n",
       "      <th>embarked_S</th>\n",
       "    </tr>\n",
       "  </thead>\n",
       "  <tbody>\n",
       "    <tr>\n",
       "      <th>0</th>\n",
       "      <td>1</td>\n",
       "      <td>1</td>\n",
       "      <td>29.0000</td>\n",
       "      <td>0</td>\n",
       "      <td>0</td>\n",
       "      <td>211.3375</td>\n",
       "      <td>1</td>\n",
       "      <td>0</td>\n",
       "      <td>1</td>\n",
       "    </tr>\n",
       "    <tr>\n",
       "      <th>1</th>\n",
       "      <td>1</td>\n",
       "      <td>1</td>\n",
       "      <td>0.9167</td>\n",
       "      <td>1</td>\n",
       "      <td>2</td>\n",
       "      <td>151.5500</td>\n",
       "      <td>0</td>\n",
       "      <td>0</td>\n",
       "      <td>1</td>\n",
       "    </tr>\n",
       "    <tr>\n",
       "      <th>2</th>\n",
       "      <td>1</td>\n",
       "      <td>0</td>\n",
       "      <td>2.0000</td>\n",
       "      <td>1</td>\n",
       "      <td>2</td>\n",
       "      <td>151.5500</td>\n",
       "      <td>1</td>\n",
       "      <td>0</td>\n",
       "      <td>1</td>\n",
       "    </tr>\n",
       "    <tr>\n",
       "      <th>3</th>\n",
       "      <td>1</td>\n",
       "      <td>0</td>\n",
       "      <td>30.0000</td>\n",
       "      <td>1</td>\n",
       "      <td>2</td>\n",
       "      <td>151.5500</td>\n",
       "      <td>0</td>\n",
       "      <td>0</td>\n",
       "      <td>1</td>\n",
       "    </tr>\n",
       "    <tr>\n",
       "      <th>4</th>\n",
       "      <td>1</td>\n",
       "      <td>0</td>\n",
       "      <td>25.0000</td>\n",
       "      <td>1</td>\n",
       "      <td>2</td>\n",
       "      <td>151.5500</td>\n",
       "      <td>1</td>\n",
       "      <td>0</td>\n",
       "      <td>1</td>\n",
       "    </tr>\n",
       "  </tbody>\n",
       "</table>\n",
       "</div>"
      ],
      "text/plain": [
       "   pclass  survived      age  sibsp  parch      fare  sex_female  embarked_Q  \\\n",
       "0       1         1  29.0000      0      0  211.3375           1           0   \n",
       "1       1         1   0.9167      1      2  151.5500           0           0   \n",
       "2       1         0   2.0000      1      2  151.5500           1           0   \n",
       "3       1         0  30.0000      1      2  151.5500           0           0   \n",
       "4       1         0  25.0000      1      2  151.5500           1           0   \n",
       "\n",
       "   embarked_S  \n",
       "0           1  \n",
       "1           1  \n",
       "2           1  \n",
       "3           1  \n",
       "4           1  "
      ]
     },
     "execution_count": 26,
     "metadata": {},
     "output_type": "execute_result"
    }
   ],
   "source": [
    "# Transform the specified boolean columns into zeros and ones\n",
    "df2[[\"sex_female\", \"embarked_Q\", \"embarked_S\"]] = df2[[\"sex_female\", \n",
    "                                                       \"embarked_Q\", \n",
    "                                                       \"embarked_S\"]].astype(int)  # Convert boolean columns to integers (0s and 1s)\n",
    "df2.head()"
   ]
  },
  {
   "cell_type": "code",
   "execution_count": 27,
   "id": "bef39636-8c43-4204-b914-5f0bd0159298",
   "metadata": {},
   "outputs": [],
   "source": [
    "y = df2.survived\n",
    "X = df2.drop(columns=\"survived\")"
   ]
  },
  {
   "cell_type": "markdown",
   "id": "58bd9945-771c-4b92-acfe-7df1b95190c4",
   "metadata": {},
   "source": [
    "### Sample Data"
   ]
  },
  {
   "cell_type": "code",
   "execution_count": 29,
   "id": "51a71ae0-4be8-4523-ae0a-bbde90d71f27",
   "metadata": {},
   "outputs": [],
   "source": [
    "X_train, X_test, y_train, y_test = model_selection.train_test_split(X, \n",
    "                                                                    y, \n",
    "                                                                    test_size=0.3, \n",
    "                                                                    random_state=42)"
   ]
  },
  {
   "cell_type": "code",
   "execution_count": 30,
   "id": "3ab48d7b-fd5b-4f32-a55a-8967459045d8",
   "metadata": {},
   "outputs": [],
   "source": [
    "# The IterativeImputer class\n",
    "\n",
    "from sklearn.experimental import enable_iterative_imputer\n",
    "from sklearn import impute\n",
    "\n",
    "num_cols = [\"pclass\", \"age\", \"sibsp\", \"parch\", \"fare\", \"sex_female\"]  # List of numeric columns to be imputed\n",
    "\n",
    "imputer = impute.IterativeImputer()                 # Initialize an IterativeImputer for imputing missing values in the dataset\n",
    "\n",
    "imputed = imputer.fit_transform(X_train[num_cols])  # Fit the imputer on the numeric columns of X_train and transform them\n",
    "\n",
    "X_train.loc[:, num_cols] = imputed                  # Replace the original numeric columns in X_train with the imputed values\n",
    "\n",
    "imputed = imputer.transform(X_test[num_cols])       # Apply the same transformation to the numeric columns of X_test\n",
    "\n",
    "X_test.loc[:, num_cols] = imputed                   # Replace the original numeric columns in X_test with the imputed values"
   ]
  },
  {
   "cell_type": "code",
   "execution_count": 31,
   "id": "125c6e86-4cf7-46e2-b003-11bced69435a",
   "metadata": {},
   "outputs": [
    {
     "data": {
      "text/plain": [
       "pclass        0\n",
       "age           0\n",
       "sibsp         0\n",
       "parch         0\n",
       "fare          0\n",
       "sex_female    0\n",
       "embarked_Q    0\n",
       "embarked_S    0\n",
       "dtype: int64"
      ]
     },
     "execution_count": 31,
     "metadata": {},
     "output_type": "execute_result"
    }
   ],
   "source": [
    "X_train.isna().sum()"
   ]
  },
  {
   "cell_type": "markdown",
   "id": "1608ff7b-bace-4983-b498-460a64a7e037",
   "metadata": {
    "jp-MarkdownHeadingCollapsed": true
   },
   "source": [
    "```Python\n",
    "# Traditional form: Fill NA's with median\n",
    "\n",
    "meds = X_train.median()\n",
    "X_train = X_train.fillna(meds)\n",
    "X_test = X_test.fillna(meds)\n",
    "\n",
    "# How many NaN are in each column?\n",
    "X_train.isna().sum()"
   ]
  },
  {
   "cell_type": "markdown",
   "id": "9ad3c5fa-e168-403a-8e26-b70b19cd93a7",
   "metadata": {},
   "source": [
    "### Normalize Data"
   ]
  },
  {
   "cell_type": "code",
   "execution_count": 34,
   "id": "3a4e1228-f62d-4bdc-b8ff-220e160eacbc",
   "metadata": {},
   "outputs": [
    {
     "data": {
      "text/html": [
       "<div>\n",
       "<style scoped>\n",
       "    .dataframe tbody tr th:only-of-type {\n",
       "        vertical-align: middle;\n",
       "    }\n",
       "\n",
       "    .dataframe tbody tr th {\n",
       "        vertical-align: top;\n",
       "    }\n",
       "\n",
       "    .dataframe thead th {\n",
       "        text-align: right;\n",
       "    }\n",
       "</style>\n",
       "<table border=\"1\" class=\"dataframe\">\n",
       "  <thead>\n",
       "    <tr style=\"text-align: right;\">\n",
       "      <th></th>\n",
       "      <th>pclass</th>\n",
       "      <th>age</th>\n",
       "      <th>sibsp</th>\n",
       "      <th>parch</th>\n",
       "      <th>fare</th>\n",
       "      <th>sex_female</th>\n",
       "      <th>embarked_Q</th>\n",
       "      <th>embarked_S</th>\n",
       "    </tr>\n",
       "  </thead>\n",
       "  <tbody>\n",
       "    <tr>\n",
       "      <th>1214</th>\n",
       "      <td>0.825248</td>\n",
       "      <td>-0.128878</td>\n",
       "      <td>-0.498616</td>\n",
       "      <td>0</td>\n",
       "      <td>-0.473599</td>\n",
       "      <td>0</td>\n",
       "      <td>0</td>\n",
       "      <td>1</td>\n",
       "    </tr>\n",
       "    <tr>\n",
       "      <th>677</th>\n",
       "      <td>0.825248</td>\n",
       "      <td>-0.205639</td>\n",
       "      <td>-0.498616</td>\n",
       "      <td>0</td>\n",
       "      <td>-0.488120</td>\n",
       "      <td>0</td>\n",
       "      <td>0</td>\n",
       "      <td>1</td>\n",
       "    </tr>\n",
       "    <tr>\n",
       "      <th>534</th>\n",
       "      <td>-0.363317</td>\n",
       "      <td>-0.751431</td>\n",
       "      <td>-0.498616</td>\n",
       "      <td>0</td>\n",
       "      <td>-0.145224</td>\n",
       "      <td>1</td>\n",
       "      <td>0</td>\n",
       "      <td>1</td>\n",
       "    </tr>\n",
       "    <tr>\n",
       "      <th>1174</th>\n",
       "      <td>0.825248</td>\n",
       "      <td>-2.198733</td>\n",
       "      <td>6.897852</td>\n",
       "      <td>2</td>\n",
       "      <td>0.679618</td>\n",
       "      <td>1</td>\n",
       "      <td>0</td>\n",
       "      <td>1</td>\n",
       "    </tr>\n",
       "    <tr>\n",
       "      <th>864</th>\n",
       "      <td>0.825248</td>\n",
       "      <td>-0.049698</td>\n",
       "      <td>-0.498616</td>\n",
       "      <td>0</td>\n",
       "      <td>-0.490408</td>\n",
       "      <td>1</td>\n",
       "      <td>0</td>\n",
       "      <td>1</td>\n",
       "    </tr>\n",
       "  </tbody>\n",
       "</table>\n",
       "</div>"
      ],
      "text/plain": [
       "        pclass       age     sibsp  parch      fare  sex_female  embarked_Q  \\\n",
       "1214  0.825248 -0.128878 -0.498616      0 -0.473599           0           0   \n",
       "677   0.825248 -0.205639 -0.498616      0 -0.488120           0           0   \n",
       "534  -0.363317 -0.751431 -0.498616      0 -0.145224           1           0   \n",
       "1174  0.825248 -2.198733  6.897852      2  0.679618           1           0   \n",
       "864   0.825248 -0.049698 -0.498616      0 -0.490408           1           0   \n",
       "\n",
       "      embarked_S  \n",
       "1214           1  \n",
       "677            1  \n",
       "534            1  \n",
       "1174           1  \n",
       "864            1  "
      ]
     },
     "execution_count": 34,
     "metadata": {},
     "output_type": "execute_result"
    }
   ],
   "source": [
    "# Manually assign column names to X_train and X_test\n",
    "X_train.columns = ['pclass', 'age', 'sibsp', 'parch', 'fare', 'sex_female', 'embarked_Q', 'embarked_S']\n",
    "X_test.columns = ['pclass', 'age', 'sibsp', 'parch', 'fare', 'sex_female', 'embarked_Q', 'embarked_S']\n",
    "\n",
    "# Select columns to normalize\n",
    "cols = ['pclass', 'age', 'sibsp', 'fare']\n",
    "\n",
    "sca = preprocessing.StandardScaler()\n",
    "\n",
    "# Fit and transform only the specified columns\n",
    "X_train[cols] = sca.fit_transform(X_train[cols])  # Fit and transform the selected columns in X_train\n",
    "X_test[cols] = sca.transform(X_test[cols])        # Transform the selected columns in X_test\n",
    "\n",
    "# Now X_train contain normalized values for the specified columns\n",
    "X_train.head()  # Check the first few rows of X_train"
   ]
  },
  {
   "cell_type": "code",
   "execution_count": 35,
   "id": "976e54c3-1b3b-460f-9ddd-ff419b06d80b",
   "metadata": {},
   "outputs": [],
   "source": [
    "def tweak_titanic(df):\n",
    "    \n",
    "    # Drop unnecessary columns from the DataFrame that are irrelevant for analysis\n",
    "    df = df.drop(\n",
    "        columns=[\n",
    "            \"name\",         # Drop 'name' column as it's not useful for modeling\n",
    "            \"ticket\",       # Drop 'ticket' column as it's a unique identifier and not helpful for prediction\n",
    "            \"home.dest\",    # Drop 'home.dest' column as it's not relevant for prediction\n",
    "            \"boat\",         # Drop 'boat' column as it's only available for survivors\n",
    "            \"body\",         # Drop 'body' column as it's only available for deceased passengers\n",
    "            \"cabin\",        # Drop 'cabin' column due to a large number of missing values\n",
    "        ]\n",
    "    ).pipe(pd.get_dummies,  # Convert categorical variables into dummy variables,\n",
    "           drop_first=True) # Dropping the first category to avoid multicollinearity\n",
    "    \n",
    "    return df               # Return the modified DataFrame"
   ]
  },
  {
   "cell_type": "code",
   "execution_count": 36,
   "id": "c1a37e90-e1b8-402b-a443-df34bf48e041",
   "metadata": {},
   "outputs": [],
   "source": [
    "def get_train_test_X_y(\n",
    "    df, y_col, size=0.3, std_cols=None\n",
    "):\n",
    "    # Separate the target variable (y) and the feature set (X) from the DataFrame\n",
    "    y = df[y_col]               # Extract the target column from the DataFrame\n",
    "    X = df.drop(columns=y_col)  # Drop the target column from the feature set\n",
    "\n",
    "    # Split the data into training and testing sets\n",
    "    X_train, X_test, y_train, y_test = model_selection.train_test_split(\n",
    "        X, y, test_size=size, random_state=42  # Split the dataset with a test size of 'size' and a fixed random state for reproducibility\n",
    "    )\n",
    "\n",
    "    cols = X.columns  # Store all the feature column names\n",
    "\n",
    "    # List of numerical columns that may need imputation or transformation\n",
    "    num_cols = [\n",
    "        \"pclass\",  # Passenger class\n",
    "        \"age\",     # Age of the passenger\n",
    "        \"sibsp\",   # Number of siblings/spouses aboard\n",
    "        \"parch\",   # Number of parents/children aboard\n",
    "        \"fare\",    # Fare paid for the ticket\n",
    "    ]\n",
    "\n",
    "    # Apply imputation on numerical columns using IterativeImputer\n",
    "    fi = impute.IterativeImputer()                                                 # Initialize the iterative imputer\n",
    "    fitted = fi.fit_transform(X_train[num_cols])                                   # Fit the imputer on the training data and transform it\n",
    "    X_train = X_train.assign(**{c: fitted[:, i] for i, c in enumerate(num_cols)})  # Replace missing values in the training data with imputed values\n",
    "\n",
    "    test_fit = fi.transform(X_test[num_cols])                                      # Apply the same transformation to the test data\n",
    "    X_test = X_test.assign(**{c: test_fit[:, i] for i, c in enumerate(num_cols)})  # Replace missing values in the test data with imputed values\n",
    "\n",
    "    # Apply standardization if specified\n",
    "    if std_cols:  # If standardization columns are provided\n",
    "        std = preprocessing.StandardScaler()                                           # Initialize the StandardScaler\n",
    "        fitted = std.fit_transform(X_train[std_cols])                                  # Fit and transform the training data on specified columns\n",
    "        X_train = X_train.assign(**{c: fitted[:, i] for i, c in enumerate(std_cols)})  # Replace the training data with standardized values\n",
    "        test_fit = std.transform(X_test[std_cols])                                     # Apply the same transformation to the test data\n",
    "        X_test = X_test.assign(**{c: test_fit[:, i] for i, c in enumerate(std_cols)})  # Replace the test data with standardized values\n",
    "\n",
    "    # Return the processed training and testing datasets\n",
    "    return X_train, X_test, y_train, y_test  # Return the train/test splits for X and y"
   ]
  },
  {
   "cell_type": "code",
   "execution_count": 37,
   "id": "5ddb6261-21db-4413-a9c1-1af90720caba",
   "metadata": {},
   "outputs": [],
   "source": [
    "# Apply the tweak_titanic function to the original DataFrame to drop unnecessary columns and convert categorical variables into dummy variables\n",
    "ti_df = tweak_titanic(orig_df)  \n",
    "\n",
    "std_cols = ['pclass', 'age', 'sibsp', 'fare']  # Define a list of columns that will be standardized\n",
    "\n",
    "# Split the tweaked DataFrame into training and testing sets\n",
    "X_train, X_test, y_train, y_test = get_train_test_X_y(\n",
    "    ti_df,                  # Use the processed Titanic DataFrame (ti_df) as the feature data\n",
    "    \"survived\",             # Specify 'survived' as the target variable (y) to predict\n",
    "    std_cols=std_cols       # Pass the list of columns (std_cols) that need to be standardized\n",
    ")"
   ]
  },
  {
   "cell_type": "markdown",
   "id": "e4c0bff9-e50d-4f3d-b318-c359f0f20676",
   "metadata": {},
   "source": [
    "### Baseline Model"
   ]
  },
  {
   "cell_type": "code",
   "execution_count": 39,
   "id": "60d31a98-b7bf-4c3a-b5ce-8efb5e3982d2",
   "metadata": {},
   "outputs": [
    {
     "data": {
      "text/plain": [
       "0.5699745547073791"
      ]
     },
     "execution_count": 39,
     "metadata": {},
     "output_type": "execute_result"
    }
   ],
   "source": [
    "from sklearn.dummy import DummyClassifier  # Import DummyClassifier for creating a simple baseline model\n",
    "\n",
    "bm = DummyClassifier()    # Initialize the DummyClassifier (uses simple strategies like predicting the most frequent class)\n",
    "bm.fit(X_train, y_train)  # Fit the DummyClassifier on the training data (X_train and y_train)\n",
    "bm.score(X_test, y_test)  # Evaluate the model on the test data and return the accuracy score"
   ]
  },
  {
   "cell_type": "code",
   "execution_count": 40,
   "id": "1fbcc19c-09d4-463b-a80c-bcd81c572f92",
   "metadata": {},
   "outputs": [
    {
     "data": {
      "text/plain": [
       "survived\n",
       "0    224\n",
       "1    169\n",
       "Name: count, dtype: int64"
      ]
     },
     "execution_count": 40,
     "metadata": {},
     "output_type": "execute_result"
    }
   ],
   "source": [
    "y_test.value_counts()  # Check the distribution of the target in the test set"
   ]
  },
  {
   "cell_type": "markdown",
   "id": "1993be50-da81-4006-b636-c081db9483a3",
   "metadata": {},
   "source": [
    "### Various Families"
   ]
  },
  {
   "cell_type": "code",
   "execution_count": 42,
   "id": "a6e142a4-ea52-47b2-aac4-f5fca6dd6ee4",
   "metadata": {},
   "outputs": [],
   "source": [
    "X = pd.concat([X_train, X_test])  # Concatenate the training and testing features into a single dataset\n",
    "y = pd.concat([y_train, y_test])  # Concatenate the training and testing labels into a single target set"
   ]
  },
  {
   "cell_type": "code",
   "execution_count": 43,
   "id": "c6c306c2-b3a5-44ba-8647-10e3e7d913a2",
   "metadata": {},
   "outputs": [
    {
     "name": "stdout",
     "output_type": "stream",
     "text": [
      "DummyClassifier         AUC: 0.500 STD: 0.00\n",
      "LogisticRegression      AUC: 0.840 STD: 0.04\n",
      "DecisionTreeClassifier  AUC: 0.759 STD: 0.03\n",
      "KNeighborsClassifier    AUC: 0.829 STD: 0.02\n",
      "GaussianNB              AUC: 0.811 STD: 0.05\n",
      "SVC                     AUC: 0.838 STD: 0.03\n",
      "RandomForestClassifier  AUC: 0.845 STD: 0.02\n",
      "XGBClassifier           AUC: 0.853 STD: 0.02\n"
     ]
    }
   ],
   "source": [
    "from sklearn import model_selection \n",
    "from sklearn.dummy import DummyClassifier \n",
    "from sklearn.linear_model import LogisticRegression\n",
    "from sklearn.tree import DecisionTreeClassifier \n",
    "from sklearn.neighbors import KNeighborsClassifier \n",
    "from sklearn.naive_bayes import GaussianNB \n",
    "from sklearn.svm import SVC \n",
    "from sklearn.ensemble import RandomForestClassifier  \n",
    "import xgboost  \n",
    "\n",
    "# Iterate over multiple classification models to evaluate them using cross-validation\n",
    "for model in [\n",
    "    DummyClassifier,         # Baseline model\n",
    "    LogisticRegression,      # Logistic Regression\n",
    "    DecisionTreeClassifier,  # Decision Tree Classifier\n",
    "    KNeighborsClassifier,    # K-Nearest Neighbors\n",
    "    GaussianNB,              # Naive Bayes\n",
    "    SVC,                     # Support Vector Classifier\n",
    "    RandomForestClassifier,  # Random Forest\n",
    "    xgboost.XGBClassifier,   # XGBoost Classifier\n",
    "]:\n",
    "    cls = model()                                   # Initialize the model instance\n",
    "    kfold = model_selection.KFold(                  # Set up 10-fold cross-validation\n",
    "        n_splits=10, shuffle=True, random_state=42  # Enable shuffling with a fixed random state\n",
    "    )\n",
    "    # Perform cross-validation and compute the ROC AUC score for each fold\n",
    "    s = model_selection.cross_val_score(\n",
    "        cls, X, y, scoring=\"roc_auc\", cv=kfold      # Use ROC AUC as the evaluation metric\n",
    "    )\n",
    "    # Print the average AUC score and standard deviation for the current model\n",
    "    print(\n",
    "        f\"{model.__name__:22}  AUC: \"\n",
    "        f\"{s.mean():.3f} STD: {s.std():.2f}\"\n",
    "    )"
   ]
  },
  {
   "cell_type": "markdown",
   "id": "130d145d-ee54-4b41-9315-b97c44afac8b",
   "metadata": {},
   "source": [
    "### Stacking"
   ]
  },
  {
   "cell_type": "code",
   "execution_count": null,
   "id": "fab95479-d558-43e4-8427-40296037ce2d",
   "metadata": {},
   "outputs": [],
   "source": [
    "from sklearn.ensemble import StackingClassifier  # Import StackingClassifier from scikit-learn\n",
    "\n",
    "# Create a list of classifiers for stacking\n",
    "clfs = [\n",
    "    LogisticRegression(),         # Logistic Regression\n",
    "    DecisionTreeClassifier(),     # Decision Tree Classifier\n",
    "    KNeighborsClassifier(),       # K-Nearest Neighbors\n",
    "    GaussianNB(),                 # Naive Bayes\n",
    "    SVC(probability=True),        # Support Vector Classifier (ensure probability=True for AUC calculation)\n",
    "    RandomForestClassifier(),     # Random Forest Classifier\n",
    "]\n",
    "\n",
    "# Set up the StackingClassifier with base classifiers and a meta-classifier\n",
    "stack = StackingClassifier(\n",
    "    estimators=[('lr', clfs[0]), ('dt', clfs[1]), ('knn', clfs[2]), \n",
    "                ('nb', clfs[3]), ('svc', clfs[4]), ('rf', clfs[5])],  # Base classifiers\n",
    "    final_estimator=LogisticRegression(),  # Logistic Regression as the meta-classifier\n",
    "    cv=5  # Use cross-validation within the stacking model itself\n",
    ")\n",
    "\n",
    "# Set up 10-fold cross-validation with shuffle enabled\n",
    "kfold = model_selection.KFold(\n",
    "    n_splits=10, shuffle=True, random_state=42  # Enable shuffle with a fixed random state for reproducibility\n",
    ")\n",
    "\n",
    "# Perform cross-validation and calculate ROC AUC score\n",
    "s = model_selection.cross_val_score(\n",
    "    stack, X, y, scoring=\"roc_auc\", cv=kfold  # Use ROC AUC as the evaluation metric for the stacked model\n",
    ")\n",
    "\n",
    "# Print the mean AUC score and standard deviation\n",
    "print(\n",
    "    f\"{stack.__class__.__name__}  AUC: {s.mean():.3f}  STD: {s.std():.2f}\"\n",
    ")"
   ]
  },
  {
   "cell_type": "markdown",
   "id": "187cada3-731b-4ae6-96e5-fde3b079f262",
   "metadata": {},
   "source": [
    "The StackingClassifier achieved an AUC score of 0.863, which shows strong performance in distinguishing between the two classes, and a standard deviation of 0.02, indicating stable and reliable results across the cross-validation folds."
   ]
  },
  {
   "cell_type": "markdown",
   "id": "851f71d6-4745-47dd-be5b-42a80a4b4020",
   "metadata": {},
   "source": [
    "### Create Model"
   ]
  },
  {
   "cell_type": "code",
   "execution_count": null,
   "id": "c9969a20-e9ae-42e4-b2f5-ef753a6aab0a",
   "metadata": {},
   "outputs": [],
   "source": [
    "rf = ensemble.RandomForestClassifier(  # Initialize a Random Forest Classifier\n",
    "    n_estimators=100,                  # Use 100 trees in the forest\n",
    "    random_state=42                    # Set a fixed random state for reproducibility\n",
    ")\n",
    "\n",
    "rf.fit(X_train, y_train)  # Fit the Random Forest model to the training data (X_train, y_train)"
   ]
  },
  {
   "cell_type": "markdown",
   "id": "c75fd636-4141-49a0-8217-b91a635dbd66",
   "metadata": {},
   "source": [
    "### Evaluate Model"
   ]
  },
  {
   "cell_type": "code",
   "execution_count": null,
   "id": "cdcd10c9-f1e4-4add-af2d-7ce6a8a441d8",
   "metadata": {},
   "outputs": [],
   "source": [
    "# Calculate the accuracy of the Random Forest model on the test set (X_test, y_test)\n",
    "acc = rf.score(X_test, y_test)  \n",
    "\n",
    "print(\"Accuracy:\", round(acc,4))"
   ]
  },
  {
   "cell_type": "code",
   "execution_count": null,
   "id": "0c94e0db-0f46-4c12-9625-1464f2445210",
   "metadata": {},
   "outputs": [],
   "source": [
    "from sklearn import metrics\n",
    "\n",
    "# Calculate the precision score\n",
    "precision = metrics.precision_score(  \n",
    "    y_test,               # Actual target values from the test set\n",
    "    rf.predict(X_test)    # Predicted target values from the Random Forest model\n",
    ")\n",
    "\n",
    "# Print the precision score rounded to 4 decimal places\n",
    "print(\"Precision:\", round(precision, 4))"
   ]
  },
  {
   "cell_type": "markdown",
   "id": "c5c238f9-4282-4b85-817a-050263e83684",
   "metadata": {},
   "source": [
    "A nice benefit of tree-based models is that you can inspect the feature importance. The feature importance tells you how\n",
    "much a feature contributes to the model. Note that removing a feature doesn’t mean that the score will go down accordingly, as\n",
    "other features might be colinear (in this case we could remove either the sex_male or sex_female column as they have a perfect negative correlation):"
   ]
  },
  {
   "cell_type": "code",
   "execution_count": null,
   "id": "f15d8257-22ff-45e0-9f67-94671a7b3546",
   "metadata": {},
   "outputs": [],
   "source": [
    "# The feature importance\n",
    "\n",
    "for col, val in sorted(            # Iterate over the top 5 features sorted by their importance\n",
    "    zip(                           # Combine feature names (columns) with their corresponding importance values\n",
    "        X_train.columns,           # Feature names from the training set\n",
    "        rf.feature_importances_,   # Feature importance scores from the trained Random Forest model\n",
    "    ),\n",
    "    key=lambda x: x[1],            # Sort the features by their importance scores (x[1] represents the importance value)\n",
    "    reverse=True,                  # Sort in descending order so that the most important features come first\n",
    ")[:5]:                             # Limit the output to the top 5 most important features\n",
    "    print(f\"{col:10}{val:10.3f}\")  # Print the feature name and its importance score, formatted to 3 decimal places"
   ]
  },
  {
   "cell_type": "markdown",
   "id": "18e67d71-4ab0-49e9-a723-0f9eef3f2321",
   "metadata": {},
   "source": [
    "The feature importance is calculated by looking at the error\n",
    "increase. If removing a feature increases the error in the model,\n",
    "the feature is more important."
   ]
  },
  {
   "cell_type": "markdown",
   "id": "8379b8c0-5c37-47c9-aecc-fdf00b90f61f",
   "metadata": {},
   "source": [
    "### Optimize Model"
   ]
  },
  {
   "cell_type": "code",
   "execution_count": null,
   "id": "98095bfd-013f-40a8-86af-914caed1e2e3",
   "metadata": {},
   "outputs": [],
   "source": [
    "rf4 = ensemble.RandomForestClassifier()  # Initialize a new Random Forest Classifier\n",
    "\n",
    "# Correct the parameter grid\n",
    "params = {\n",
    "    \"max_features\": [0.4, \"sqrt\"],  # Use a valid float (0.4) and \"sqrt\" instead of \"auto\"\n",
    "    \"n_estimators\": [15, 200],      # Vary the number of trees in the forest\n",
    "    \"min_samples_leaf\": [1, 0.1],   # Use 1 for an integer value, and 0.1 for a fraction of samples\n",
    "    \"random_state\": [42],           # Keep the random state fixed for reproducibility\n",
    "}\n",
    "\n",
    "# Perform grid search with cross-validation\n",
    "cv = model_selection.GridSearchCV(\n",
    "    rf4, params, n_jobs=-1          # Use all available processors\n",
    ").fit(X_train, y_train)\n",
    "\n",
    "# Print the best parameters found during the grid search\n",
    "print(cv.best_params_)"
   ]
  },
  {
   "cell_type": "code",
   "execution_count": null,
   "id": "efeb57c3-e1ac-4571-ae6b-54980aef9f84",
   "metadata": {},
   "outputs": [],
   "source": [
    "# Testing not the optimal parameters\n",
    "\n",
    "rft = ensemble.RandomForestClassifier(\n",
    "    **{\n",
    "        \"max_features\": \"sqrt\",   # Use \"sqrt\" instead of \"auto\" (valid value for RandomForestClassifier)\n",
    "        \"min_samples_leaf\": 0.1,  # Use 1 for the minimum fraction of samples required to be a leaf node\n",
    "        \"n_estimators\": 15,       # Use 200 trees in the forest\n",
    "        \"random_state\": 42,       # Set random state for reproducibility\n",
    "    }\n",
    ")\n",
    "\n",
    "# Fit the model on the training data\n",
    "rft.fit(X_train, y_train)\n",
    "\n",
    "# Evaluate the model's performance on the test data\n",
    "rft.score(X_test, y_test)  # Return the accuracy score"
   ]
  },
  {
   "cell_type": "code",
   "execution_count": null,
   "id": "71b110ca-39af-46e9-b14e-9040f004eefe",
   "metadata": {},
   "outputs": [],
   "source": [
    "# using optimal parameters\n",
    "\n",
    "rf5 = ensemble.RandomForestClassifier(\n",
    "    **{\n",
    "        \"max_features\": 0.4,      # Use \"sqrt\" instead of \"auto\" (valid value for RandomForestClassifier)\n",
    "        \"min_samples_leaf\": 1,    # Use 1 for the minimum fraction of samples required to be a leaf node\n",
    "        \"n_estimators\": 200,      # Use 200 trees in the forest\n",
    "        \"random_state\": 42,       # Set random state for reproducibility\n",
    "    }\n",
    ")\n",
    "\n",
    "# Fit the model on the training data\n",
    "rf5.fit(X_train, y_train)\n",
    "\n",
    "# Evaluate the model's performance on the test data\n",
    "rf5.score(X_test, y_test)  # Return the accuracy score"
   ]
  },
  {
   "cell_type": "markdown",
   "id": "8cb84373-d954-44e6-b8e0-1770a15b3955",
   "metadata": {},
   "source": [
    "### Confusion Matrix"
   ]
  },
  {
   "cell_type": "code",
   "execution_count": null,
   "id": "510c826b-633d-4e58-b3d5-002a46cb9c74",
   "metadata": {},
   "outputs": [],
   "source": [
    "from sklearn.metrics import confusion_matrix  \n",
    "\n",
    "y_pred = rf5.predict(X_test)      # Use the trained Random Forest model (rf5) to make predictions on the test data (X_test)\n",
    "confusion_matrix(y_test, y_pred)  # Generate a confusion matrix comparing the true labels (y_test) with the predicted labels (y_pred)"
   ]
  },
  {
   "cell_type": "code",
   "execution_count": null,
   "id": "c2d63757-5caf-4a34-a660-cdef3a15db92",
   "metadata": {},
   "outputs": [],
   "source": [
    "# Generate the confusion matrix\n",
    "cm = confusion_matrix(y_test, y_pred)\n",
    "\n",
    "# Plotting the confusion matrix\n",
    "plt.figure(figsize=(6, 4))\n",
    "sns.heatmap(cm, annot=True, fmt='d', cmap='viridis', xticklabels=['died', 'survived'], yticklabels=['died', 'survived'])\n",
    "plt.xlabel('Predicted')\n",
    "plt.ylabel('Actual')\n",
    "plt.title('Confusion Matrix')\n",
    "plt.show()"
   ]
  },
  {
   "cell_type": "code",
   "execution_count": null,
   "id": "8b6d00ff-eaab-4846-9706-175ef179c311",
   "metadata": {},
   "outputs": [],
   "source": [
    "from yellowbrick.classifier import ConfusionMatrix\n",
    "\n",
    "# Create a new ConfusionMatrix visualizer and refit the model inside it\n",
    "cm_viz = ConfusionMatrix(\n",
    "    RandomForestClassifier(max_features= 0.4,    # Use \"sqrt\" instead of \"auto\" (valid value for RandomForestClassifier)\n",
    "                           min_samples_leaf= 1,  # Use 1 for the minimum fraction of samples required to be a leaf node\n",
    "                           n_estimators= 200,    # Use 200 trees in the forest\n",
    "                           random_state= 42),    # Initialize a new Random Forest classifier\n",
    "    classes=[\"died\", \"survived\"],                # Specify class labels\n",
    ")\n",
    "\n",
    "cm_viz.fit(X_train, y_train)  # Fit the model on the training data\n",
    "cm_viz.score(X_test, y_test)  # Score on the test data and generate the confusion matrix\n",
    "cm_viz.poof();                # Display the confusion matrix visualization"
   ]
  },
  {
   "cell_type": "markdown",
   "id": "03c4f274-e23e-4259-980c-6a676a0ed99e",
   "metadata": {},
   "source": [
    "### ROC Curve"
   ]
  },
  {
   "cell_type": "code",
   "execution_count": null,
   "id": "41bb3f6b-5913-47e7-a706-c0e601873abc",
   "metadata": {},
   "outputs": [],
   "source": [
    "y_pred = rf5.predict(X_test)   # Use the trained Random Forest model (rf5) to make predictions on the test set (X_test)\n",
    "roc_auc_score(y_test, y_pred)  # Calculate the ROC AUC score by comparing the true labels (y_test) with the predicted labels (y_pred)"
   ]
  },
  {
   "cell_type": "code",
   "execution_count": null,
   "id": "9afcdb39-7709-4a60-8b3a-3d0a70ce28e7",
   "metadata": {},
   "outputs": [],
   "source": [
    "from sklearn.metrics import roc_curve, roc_auc_score\n",
    "\n",
    "# Get predicted probabilities for the positive class (class 1)\n",
    "y_pred_proba = rf5.predict_proba(X_test)[:, 1]  # Extract probabilities for the positive class\n",
    "\n",
    "# Calculate the false positive rate (fpr), true positive rate (tpr), and thresholds\n",
    "fpr, tpr, thresholds = roc_curve(y_test, y_pred_proba)\n",
    "\n",
    "# Calculate the AUC score\n",
    "auc_score = roc_auc_score(y_test, y_pred_proba)\n",
    "\n",
    "# Plot the ROC curve\n",
    "plt.figure(figsize=(8, 6))\n",
    "plt.plot(fpr, tpr, label=f'ROC Curve (AUC = {auc_score:.3f})', color='blue')\n",
    "\n",
    "# Plot a diagonal line for reference (representing random guessing)\n",
    "plt.plot([0, 1], [0, 1], linestyle='--', color='gray', label='Random Guess')\n",
    "\n",
    "# Set plot labels and title\n",
    "plt.xlabel('False Positive Rate')\n",
    "plt.ylabel('True Positive Rate')\n",
    "plt.title('Receiver Operating Characteristic (ROC) Curve')\n",
    "plt.legend(loc='lower right')\n",
    "\n",
    "# Display the plot\n",
    "plt.show()"
   ]
  },
  {
   "cell_type": "markdown",
   "id": "14ba19f4-aecc-415b-945c-42dca180ae0e",
   "metadata": {},
   "source": [
    "### Learning Curve"
   ]
  },
  {
   "cell_type": "markdown",
   "id": "1b51488f-ec33-4d46-9544-99bbe27bda00",
   "metadata": {},
   "source": [
    "A learning curve is used to tell us if we have enough training\n",
    "data. It trains the model with increasing portions of the data\n",
    "and measures the score. If the cross-validation\n",
    "score continues to climb, then we might need to invest in gathering more data. "
   ]
  },
  {
   "cell_type": "code",
   "execution_count": null,
   "id": "403c1e1b-f525-49c3-be7d-9ab0f9ca029b",
   "metadata": {},
   "outputs": [],
   "source": [
    "import numpy as np\n",
    "\n",
    "fig, ax = plt.subplots(figsize=(8, 6)) # Create a figure and axes for the plot with a size of 6x4 inches\n",
    "cv = StratifiedKFold(12)               # Set up StratifiedKFold cross-validation with 12 folds to preserve class proportions\n",
    "sizes = np.linspace(0.3, 1.0, 10)      # Generate 10 evenly spaced training sizes from 30% to 100% of the data\n",
    "\n",
    "# Create a LearningCurve visualizer with the Random Forest model (rf5)\n",
    "lc_viz = LearningCurve(\n",
    "    rf5,                   # The model to be evaluated\n",
    "    cv=cv,                 # Use StratifiedKFold cross-validation\n",
    "    train_sizes=sizes,     # Training set sizes to use for plotting the learning curve\n",
    "    scoring=\"f1_weighted\", # Use weighted F1 score as the evaluation metric\n",
    "    n_jobs=4,              # Use 4 parallel jobs for computation\n",
    "    ax=ax,                 # Plot the learning curve on the previously created axes\n",
    ")\n",
    "\n",
    "lc_viz.fit(X, y) # Fit the learning curve visualizer with the entire dataset (X, y)\n",
    "lc_viz.poof();   # Display the learning curve plot"
   ]
  },
  {
   "cell_type": "markdown",
   "id": "83494aa0-fb69-4080-b863-73f1ab7b41a5",
   "metadata": {},
   "source": [
    "#### The learning curve you provided offers the following insights:\n",
    "\n",
    "1. Training Score (Blue Line):\n",
    "\n",
    "The training score is consistently high (around 0.98-1.00), indicating that the model fits the training data very well.\n",
    "This near-perfect performance suggests that the model may be overfitting to the training data because it performs extremely well on the training set, but this doesn't necessarily reflect the model's ability to generalize to new data.\n",
    "\n",
    "2. Cross-Validation Score (Green Line):\n",
    "\n",
    "The cross-validation score is significantly lower than the training score, hovering around 0.75-0.80.\n",
    "This gap between the training score and cross-validation score indicates that the model is struggling to generalize to unseen data. This is a common sign of overfitting.\n",
    "\n",
    "3. Trend Analysis:\n",
    "\n",
    "The training score remains high regardless of the number of training instances, which suggests that adding more data has little impact on improving training performance.\n",
    "The cross-validation score increases slightly with more training data but shows limited improvement overall. This means that while the model benefits from more data, it may not solve the overfitting issue entirely.\n",
    "\n",
    "#### Conclusion:\n",
    "**Overfitting**: The large gap between the training score and cross-validation score strongly indicates that the model is overfitting to the training data. It performs very well on the training set but struggles on the cross-validation (test) set.\n",
    "\n",
    "**Limited Improvement with More Data**: While adding more data improves the cross-validation score slightly, the model's generalization remains suboptimal. You may need to consider tuning hyperparameters, reducing the model's complexity (e.g., limiting the depth of trees in the Random Forest), or trying other techniques like regularization.\n",
    "\n",
    "**In summary**, the model is fitting the training data too closely and not generalizing well to new data, as shown by the performance gap between the training and validation sets."
   ]
  },
  {
   "cell_type": "markdown",
   "id": "bcc61704-1689-436d-ab35-fc639edf1176",
   "metadata": {},
   "source": [
    "### Deploy Model"
   ]
  },
  {
   "cell_type": "markdown",
   "id": "966996a0-6f80-4fc3-aad7-f17bd1b8e8f2",
   "metadata": {},
   "source": [
    "Using Python’s pickle module, we can persist models and load\n",
    "them. Once we have a model, we call the .predict method to\n",
    "get a classification or regression result:"
   ]
  },
  {
   "cell_type": "code",
   "execution_count": null,
   "id": "4a7f96e7-4dc6-4e54-98c2-2bd348656632",
   "metadata": {},
   "outputs": [],
   "source": [
    "import pickle \n",
    "\n",
    "pic = pickle.dumps(rf5)       # Serialize (pickle) the trained Random Forest model (rf5) into a byte stream\n",
    "rf6 = pickle.loads(pic)       # Deserialize (unpickle) the byte stream back into a Random Forest model object (rf6)\n",
    "y_pred = rf6.predict(X_test)  # Use the deserialized model (rf6) to make predictions on the test data (X_test)\n",
    "roc_auc_score(y_test, y_pred) # Calculate the ROC AUC score using the true labels (y_test) and predicted labels (y_pred)"
   ]
  },
  {
   "cell_type": "markdown",
   "id": "02e32647-a302-44b7-b0fb-54557e80f1f5",
   "metadata": {},
   "source": [
    "Using Flask to deploy a web service for prediction is very com‐\n",
    "mon. There are now other commercial and open source prod‐\n",
    "ucts coming out that support deployment. Among them are\n",
    "Clipper, Pipeline, and Google’s Cloud Machine Learning\n",
    "Engine."
   ]
  }
 ],
 "metadata": {
  "kernelspec": {
   "display_name": "Python 3 (ipykernel)",
   "language": "python",
   "name": "python3"
  },
  "language_info": {
   "codemirror_mode": {
    "name": "ipython",
    "version": 3
   },
   "file_extension": ".py",
   "mimetype": "text/x-python",
   "name": "python",
   "nbconvert_exporter": "python",
   "pygments_lexer": "ipython3",
   "version": "3.11.7"
  }
 },
 "nbformat": 4,
 "nbformat_minor": 5
}
