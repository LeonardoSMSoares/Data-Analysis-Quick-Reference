{
 "cells": [
  {
   "cell_type": "markdown",
   "id": "4626992e-fd06-433c-a99a-3148a9a3817c",
   "metadata": {},
   "source": [
    "# Chapter 7 - Preprocess Data"
   ]
  },
  {
   "cell_type": "code",
   "execution_count": 2,
   "id": "5c75b12a-7291-4976-8d99-8a5cd51d48d6",
   "metadata": {},
   "outputs": [],
   "source": [
    "# Basic Libraries\n",
    "\n",
    "import matplotlib.pyplot as plt\n",
    "%matplotlib inline\n",
    "import seaborn as sns; sns.set()\n",
    "\n",
    "import pandas as pd\n",
    "import numpy as np"
   ]
  },
  {
   "cell_type": "code",
   "execution_count": 3,
   "id": "4ad72c62-040b-42e9-887d-346458594f56",
   "metadata": {},
   "outputs": [],
   "source": [
    "# Specific Libraries\n",
    "\n",
    "from sklearn.experimental import (\n",
    "    enable_iterative_imputer,\n",
    ")\n",
    "from sklearn import (\n",
    "    ensemble,\n",
    "    impute,\n",
    "    model_selection,    \n",
    "    preprocessing,\n",
    "    tree,\n",
    ")"
   ]
  },
  {
   "cell_type": "markdown",
   "id": "040f48fd-47b8-41fd-b086-77957bffe76e",
   "metadata": {},
   "source": [
    "### New Dataset: X2"
   ]
  },
  {
   "cell_type": "code",
   "execution_count": 5,
   "id": "ab02d544-fbde-4fee-b030-666b66ac3274",
   "metadata": {},
   "outputs": [
    {
     "data": {
      "text/html": [
       "<div>\n",
       "<style scoped>\n",
       "    .dataframe tbody tr th:only-of-type {\n",
       "        vertical-align: middle;\n",
       "    }\n",
       "\n",
       "    .dataframe tbody tr th {\n",
       "        vertical-align: top;\n",
       "    }\n",
       "\n",
       "    .dataframe thead th {\n",
       "        text-align: right;\n",
       "    }\n",
       "</style>\n",
       "<table border=\"1\" class=\"dataframe\">\n",
       "  <thead>\n",
       "    <tr style=\"text-align: right;\">\n",
       "      <th></th>\n",
       "      <th>a</th>\n",
       "      <th>b</th>\n",
       "    </tr>\n",
       "  </thead>\n",
       "  <tbody>\n",
       "    <tr>\n",
       "      <th>0</th>\n",
       "      <td>0</td>\n",
       "      <td>-100</td>\n",
       "    </tr>\n",
       "    <tr>\n",
       "      <th>1</th>\n",
       "      <td>1</td>\n",
       "      <td>-50</td>\n",
       "    </tr>\n",
       "    <tr>\n",
       "      <th>2</th>\n",
       "      <td>2</td>\n",
       "      <td>0</td>\n",
       "    </tr>\n",
       "    <tr>\n",
       "      <th>3</th>\n",
       "      <td>3</td>\n",
       "      <td>200</td>\n",
       "    </tr>\n",
       "    <tr>\n",
       "      <th>4</th>\n",
       "      <td>4</td>\n",
       "      <td>1000</td>\n",
       "    </tr>\n",
       "  </tbody>\n",
       "</table>\n",
       "</div>"
      ],
      "text/plain": [
       "   a     b\n",
       "0  0  -100\n",
       "1  1   -50\n",
       "2  2     0\n",
       "3  3   200\n",
       "4  4  1000"
      ]
     },
     "execution_count": 5,
     "metadata": {},
     "output_type": "execute_result"
    }
   ],
   "source": [
    "X2 = pd.DataFrame(\n",
    "    {\n",
    "        \"a\": range(5),\n",
    "        \"b\": [-100, -50, 0, 200, 1000],\n",
    "    }\n",
    ")\n",
    "\n",
    "X2"
   ]
  },
  {
   "cell_type": "markdown",
   "id": "09aa6b3f-4ba4-4fc2-bb6f-8cbe5032e5be",
   "metadata": {},
   "source": [
    "### Standardize\n",
    "\n",
    "Some algorithms, such as SVM, perform better when the data is standardized. Each column should have a mean value of 0 and standard deviation of 1."
   ]
  },
  {
   "cell_type": "code",
   "execution_count": 7,
   "id": "01340ee8-6f54-4b9c-ad68-214b3651673e",
   "metadata": {},
   "outputs": [
    {
     "data": {
      "text/plain": [
       "array([[-1.41421356, -0.75995002],\n",
       "       [-0.70710678, -0.63737744],\n",
       "       [ 0.        , -0.51480485],\n",
       "       [ 0.70710678, -0.02451452],\n",
       "       [ 1.41421356,  1.93664683]])"
      ]
     },
     "execution_count": 7,
     "metadata": {},
     "output_type": "execute_result"
    }
   ],
   "source": [
    "from sklearn import preprocessing   \n",
    "\n",
    "std = preprocessing.StandardScaler()  # Initialize a StandardScaler object, which standardizes features by removing the mean and \n",
    "                                      # scaling to unit variance\n",
    "std.fit_transform(X2)                 # Fit the scaler to the data in 'X2' and apply the transformation to standardize the features"
   ]
  },
  {
   "cell_type": "code",
   "execution_count": 8,
   "id": "70fdbb29-6d23-4cd8-868b-27644f40400a",
   "metadata": {},
   "outputs": [
    {
     "data": {
      "text/plain": [
       "array([  1.41421356, 407.92156109])"
      ]
     },
     "execution_count": 8,
     "metadata": {},
     "output_type": "execute_result"
    }
   ],
   "source": [
    "# Standard Deviations before scaling\n",
    "std.scale_"
   ]
  },
  {
   "cell_type": "code",
   "execution_count": 9,
   "id": "5ee907a1-7bf7-46dd-a0ec-fcdacbe308f2",
   "metadata": {},
   "outputs": [
    {
     "data": {
      "text/plain": [
       "array([  2., 210.])"
      ]
     },
     "execution_count": 9,
     "metadata": {},
     "output_type": "execute_result"
    }
   ],
   "source": [
    "# Mean before scaling\n",
    "std.mean_"
   ]
  },
  {
   "cell_type": "code",
   "execution_count": 10,
   "id": "34b98ed1-0a20-4a3f-9134-98d92ac9cdc2",
   "metadata": {},
   "outputs": [
    {
     "data": {
      "text/plain": [
       "array([2.000e+00, 1.664e+05])"
      ]
     },
     "execution_count": 10,
     "metadata": {},
     "output_type": "execute_result"
    }
   ],
   "source": [
    "# Variance before scaling\n",
    "std.var_"
   ]
  },
  {
   "cell_type": "code",
   "execution_count": 11,
   "id": "cce92188-3004-4fad-95e3-384fa8e760e2",
   "metadata": {},
   "outputs": [
    {
     "data": {
      "text/plain": [
       "array([2.000e+00, 1.664e+05])"
      ]
     },
     "execution_count": 11,
     "metadata": {},
     "output_type": "execute_result"
    }
   ],
   "source": [
    "# Check : 'std.scale_' are the square roots of the values in 'std.var_'.\n",
    "std.scale_**2"
   ]
  },
  {
   "cell_type": "code",
   "execution_count": 12,
   "id": "c840fa0f-4498-4973-ba2f-e0f129f652c0",
   "metadata": {},
   "outputs": [
    {
     "data": {
      "text/html": [
       "<div>\n",
       "<style scoped>\n",
       "    .dataframe tbody tr th:only-of-type {\n",
       "        vertical-align: middle;\n",
       "    }\n",
       "\n",
       "    .dataframe tbody tr th {\n",
       "        vertical-align: top;\n",
       "    }\n",
       "\n",
       "    .dataframe thead th {\n",
       "        text-align: right;\n",
       "    }\n",
       "</style>\n",
       "<table border=\"1\" class=\"dataframe\">\n",
       "  <thead>\n",
       "    <tr style=\"text-align: right;\">\n",
       "      <th></th>\n",
       "      <th>a</th>\n",
       "      <th>b</th>\n",
       "    </tr>\n",
       "  </thead>\n",
       "  <tbody>\n",
       "    <tr>\n",
       "      <th>0</th>\n",
       "      <td>0</td>\n",
       "      <td>-100</td>\n",
       "    </tr>\n",
       "    <tr>\n",
       "      <th>1</th>\n",
       "      <td>1</td>\n",
       "      <td>-50</td>\n",
       "    </tr>\n",
       "    <tr>\n",
       "      <th>2</th>\n",
       "      <td>2</td>\n",
       "      <td>0</td>\n",
       "    </tr>\n",
       "    <tr>\n",
       "      <th>3</th>\n",
       "      <td>3</td>\n",
       "      <td>200</td>\n",
       "    </tr>\n",
       "    <tr>\n",
       "      <th>4</th>\n",
       "      <td>4</td>\n",
       "      <td>1000</td>\n",
       "    </tr>\n",
       "  </tbody>\n",
       "</table>\n",
       "</div>"
      ],
      "text/plain": [
       "   a     b\n",
       "0  0  -100\n",
       "1  1   -50\n",
       "2  2     0\n",
       "3  3   200\n",
       "4  4  1000"
      ]
     },
     "execution_count": 12,
     "metadata": {},
     "output_type": "execute_result"
    }
   ],
   "source": [
    "X2"
   ]
  },
  {
   "cell_type": "code",
   "execution_count": 13,
   "id": "99c9beb0-9dfe-4b3a-910d-c947cac603f9",
   "metadata": {},
   "outputs": [
    {
     "data": {
      "text/html": [
       "<div>\n",
       "<style scoped>\n",
       "    .dataframe tbody tr th:only-of-type {\n",
       "        vertical-align: middle;\n",
       "    }\n",
       "\n",
       "    .dataframe tbody tr th {\n",
       "        vertical-align: top;\n",
       "    }\n",
       "\n",
       "    .dataframe thead th {\n",
       "        text-align: right;\n",
       "    }\n",
       "</style>\n",
       "<table border=\"1\" class=\"dataframe\">\n",
       "  <thead>\n",
       "    <tr style=\"text-align: right;\">\n",
       "      <th></th>\n",
       "      <th>a</th>\n",
       "      <th>b</th>\n",
       "    </tr>\n",
       "  </thead>\n",
       "  <tbody>\n",
       "    <tr>\n",
       "      <th>0</th>\n",
       "      <td>-1.264911</td>\n",
       "      <td>-0.679720</td>\n",
       "    </tr>\n",
       "    <tr>\n",
       "      <th>1</th>\n",
       "      <td>-0.632456</td>\n",
       "      <td>-0.570088</td>\n",
       "    </tr>\n",
       "    <tr>\n",
       "      <th>2</th>\n",
       "      <td>0.000000</td>\n",
       "      <td>-0.460455</td>\n",
       "    </tr>\n",
       "    <tr>\n",
       "      <th>3</th>\n",
       "      <td>0.632456</td>\n",
       "      <td>-0.021926</td>\n",
       "    </tr>\n",
       "    <tr>\n",
       "      <th>4</th>\n",
       "      <td>1.264911</td>\n",
       "      <td>1.732190</td>\n",
       "    </tr>\n",
       "  </tbody>\n",
       "</table>\n",
       "</div>"
      ],
      "text/plain": [
       "          a         b\n",
       "0 -1.264911 -0.679720\n",
       "1 -0.632456 -0.570088\n",
       "2  0.000000 -0.460455\n",
       "3  0.632456 -0.021926\n",
       "4  1.264911  1.732190"
      ]
     },
     "execution_count": 13,
     "metadata": {},
     "output_type": "execute_result"
    }
   ],
   "source": [
    "# Pandas version\n",
    "X_std = (X2 - X2.mean()) / X2.std()\n",
    "X_std"
   ]
  },
  {
   "cell_type": "code",
   "execution_count": 14,
   "id": "d239fc31-5fc2-42ea-9c65-006e64f580c9",
   "metadata": {},
   "outputs": [
    {
     "data": {
      "text/plain": [
       "a    4.440892e-17\n",
       "b    0.000000e+00\n",
       "dtype: float64"
      ]
     },
     "execution_count": 14,
     "metadata": {},
     "output_type": "execute_result"
    }
   ],
   "source": [
    "X_std.mean()"
   ]
  },
  {
   "cell_type": "code",
   "execution_count": 15,
   "id": "0f6e43c1-771d-41ac-9705-bb1e3d2716b4",
   "metadata": {},
   "outputs": [
    {
     "data": {
      "text/plain": [
       "a    1.0\n",
       "b    1.0\n",
       "dtype: float64"
      ]
     },
     "execution_count": 15,
     "metadata": {},
     "output_type": "execute_result"
    }
   ],
   "source": [
    "X_std.std()"
   ]
  },
  {
   "cell_type": "code",
   "execution_count": 16,
   "id": "20755f53-1935-430e-8bd9-4c53d4dafa00",
   "metadata": {},
   "outputs": [
    {
     "name": "stdout",
     "output_type": "stream",
     "text": [
      "Original Means:\n",
      "a      2.0\n",
      "b    210.0\n",
      "dtype: float64\n",
      "\n",
      "Original Standard Deviations:\n",
      "a      1.581139\n",
      "b    456.070170\n",
      "dtype: float64\n"
     ]
    }
   ],
   "source": [
    "from sklearn.preprocessing import StandardScaler\n",
    "\n",
    "scaler = StandardScaler()\n",
    "X_scaled = scaler.fit_transform(X2)\n",
    "\n",
    "# Calculate the mean of each column in the original DataFrame\n",
    "print(\"Original Means:\")\n",
    "print(X2.mean())\n",
    "print()\n",
    "\n",
    "# Calculate the standard deviation of each column in the original DataFrame\n",
    "print(\"Original Standard Deviations:\")\n",
    "print(X2.std())"
   ]
  },
  {
   "cell_type": "code",
   "execution_count": 17,
   "id": "4c9d9411-7df6-486a-a8b9-fcb98a26773c",
   "metadata": {},
   "outputs": [
    {
     "data": {
      "text/html": [
       "<div>\n",
       "<style scoped>\n",
       "    .dataframe tbody tr th:only-of-type {\n",
       "        vertical-align: middle;\n",
       "    }\n",
       "\n",
       "    .dataframe tbody tr th {\n",
       "        vertical-align: top;\n",
       "    }\n",
       "\n",
       "    .dataframe thead th {\n",
       "        text-align: right;\n",
       "    }\n",
       "</style>\n",
       "<table border=\"1\" class=\"dataframe\">\n",
       "  <thead>\n",
       "    <tr style=\"text-align: right;\">\n",
       "      <th></th>\n",
       "      <th>a</th>\n",
       "      <th>b</th>\n",
       "    </tr>\n",
       "  </thead>\n",
       "  <tbody>\n",
       "    <tr>\n",
       "      <th>count</th>\n",
       "      <td>5.000000</td>\n",
       "      <td>5.00000</td>\n",
       "    </tr>\n",
       "    <tr>\n",
       "      <th>mean</th>\n",
       "      <td>2.000000</td>\n",
       "      <td>210.00000</td>\n",
       "    </tr>\n",
       "    <tr>\n",
       "      <th>std</th>\n",
       "      <td>1.581139</td>\n",
       "      <td>456.07017</td>\n",
       "    </tr>\n",
       "    <tr>\n",
       "      <th>min</th>\n",
       "      <td>0.000000</td>\n",
       "      <td>-100.00000</td>\n",
       "    </tr>\n",
       "    <tr>\n",
       "      <th>25%</th>\n",
       "      <td>1.000000</td>\n",
       "      <td>-50.00000</td>\n",
       "    </tr>\n",
       "    <tr>\n",
       "      <th>50%</th>\n",
       "      <td>2.000000</td>\n",
       "      <td>0.00000</td>\n",
       "    </tr>\n",
       "    <tr>\n",
       "      <th>75%</th>\n",
       "      <td>3.000000</td>\n",
       "      <td>200.00000</td>\n",
       "    </tr>\n",
       "    <tr>\n",
       "      <th>max</th>\n",
       "      <td>4.000000</td>\n",
       "      <td>1000.00000</td>\n",
       "    </tr>\n",
       "  </tbody>\n",
       "</table>\n",
       "</div>"
      ],
      "text/plain": [
       "              a           b\n",
       "count  5.000000     5.00000\n",
       "mean   2.000000   210.00000\n",
       "std    1.581139   456.07017\n",
       "min    0.000000  -100.00000\n",
       "25%    1.000000   -50.00000\n",
       "50%    2.000000     0.00000\n",
       "75%    3.000000   200.00000\n",
       "max    4.000000  1000.00000"
      ]
     },
     "execution_count": 17,
     "metadata": {},
     "output_type": "execute_result"
    }
   ],
   "source": [
    "X2.describe()"
   ]
  },
  {
   "cell_type": "code",
   "execution_count": 18,
   "id": "a046ac30-e468-438f-92da-14f3314619a6",
   "metadata": {},
   "outputs": [
    {
     "data": {
      "text/plain": [
       "a    5\n",
       "b    5\n",
       "dtype: int64"
      ]
     },
     "execution_count": 18,
     "metadata": {},
     "output_type": "execute_result"
    }
   ],
   "source": [
    "X2.count()"
   ]
  },
  {
   "cell_type": "markdown",
   "id": "1f856e8d-3650-4e15-8eb0-a6dc0937f2a5",
   "metadata": {},
   "source": [
    "### Scale to Range"
   ]
  },
  {
   "cell_type": "markdown",
   "id": "9dc80e79-eefe-414f-8d26-17e0f55380c4",
   "metadata": {},
   "source": [
    "Scaling to range is translating data so it is between 0 and 1, inclusive. Having the data bounded may be useful. However, if\n",
    "you have outliers, you probably want to be careful using this:"
   ]
  },
  {
   "cell_type": "code",
   "execution_count": 21,
   "id": "1d40ee26-1025-4122-a326-d1d27b355950",
   "metadata": {},
   "outputs": [
    {
     "data": {
      "text/plain": [
       "array([[0.        , 0.        ],\n",
       "       [0.25      , 0.04545455],\n",
       "       [0.5       , 0.09090909],\n",
       "       [0.75      , 0.27272727],\n",
       "       [1.        , 1.        ]])"
      ]
     },
     "execution_count": 21,
     "metadata": {},
     "output_type": "execute_result"
    }
   ],
   "source": [
    "from sklearn import preprocessing\n",
    "\n",
    "mms = preprocessing.MinMaxScaler()  # Initialize the MinMaxScaler, which scales data to a specified range (default is [0, 1])\n",
    "mms.fit(X2)                         # Compute the minimum and maximum values from X2 to fit the scaler\n",
    "mms.transform(X2)                   # Transform X2 by scaling it to the specified range using the fitted scaler"
   ]
  },
  {
   "cell_type": "code",
   "execution_count": 22,
   "id": "80e6df49-69a4-4264-8397-5504c0c9f3eb",
   "metadata": {},
   "outputs": [
    {
     "data": {
      "text/html": [
       "<div>\n",
       "<style scoped>\n",
       "    .dataframe tbody tr th:only-of-type {\n",
       "        vertical-align: middle;\n",
       "    }\n",
       "\n",
       "    .dataframe tbody tr th {\n",
       "        vertical-align: top;\n",
       "    }\n",
       "\n",
       "    .dataframe thead th {\n",
       "        text-align: right;\n",
       "    }\n",
       "</style>\n",
       "<table border=\"1\" class=\"dataframe\">\n",
       "  <thead>\n",
       "    <tr style=\"text-align: right;\">\n",
       "      <th></th>\n",
       "      <th>a</th>\n",
       "      <th>b</th>\n",
       "    </tr>\n",
       "  </thead>\n",
       "  <tbody>\n",
       "    <tr>\n",
       "      <th>0</th>\n",
       "      <td>0.00</td>\n",
       "      <td>0.000000</td>\n",
       "    </tr>\n",
       "    <tr>\n",
       "      <th>1</th>\n",
       "      <td>0.25</td>\n",
       "      <td>0.045455</td>\n",
       "    </tr>\n",
       "    <tr>\n",
       "      <th>2</th>\n",
       "      <td>0.50</td>\n",
       "      <td>0.090909</td>\n",
       "    </tr>\n",
       "    <tr>\n",
       "      <th>3</th>\n",
       "      <td>0.75</td>\n",
       "      <td>0.272727</td>\n",
       "    </tr>\n",
       "    <tr>\n",
       "      <th>4</th>\n",
       "      <td>1.00</td>\n",
       "      <td>1.000000</td>\n",
       "    </tr>\n",
       "  </tbody>\n",
       "</table>\n",
       "</div>"
      ],
      "text/plain": [
       "      a         b\n",
       "0  0.00  0.000000\n",
       "1  0.25  0.045455\n",
       "2  0.50  0.090909\n",
       "3  0.75  0.272727\n",
       "4  1.00  1.000000"
      ]
     },
     "execution_count": 22,
     "metadata": {},
     "output_type": "execute_result"
    }
   ],
   "source": [
    "# Pandas Version:\n",
    "\n",
    "(X2 - X2.min()) / (X2.max() - X2.min())"
   ]
  },
  {
   "cell_type": "markdown",
   "id": "d907564b-54cd-49d6-b8f7-e4bd00680c1f",
   "metadata": {},
   "source": [
    "### Dummy Variables"
   ]
  },
  {
   "cell_type": "markdown",
   "id": "49f47ff8-7b7b-46d9-b6df-7d2dcf9828af",
   "metadata": {},
   "source": [
    "We can use pandas to create dummy variables from categorical data. This is also referred to as one-hot encoding, or indicator\n",
    "encoding. Dummy variables are especially useful if the data is nominal (unordered). The get_dummies function in pandas cre‐\n",
    "ates multiple columns for a categorical column, each with a 1 or 0 if the original column had that value:"
   ]
  },
  {
   "cell_type": "code",
   "execution_count": 25,
   "id": "966ea020-b5db-425a-84ef-f110c9ab0976",
   "metadata": {},
   "outputs": [
    {
     "data": {
      "text/html": [
       "<div>\n",
       "<style scoped>\n",
       "    .dataframe tbody tr th:only-of-type {\n",
       "        vertical-align: middle;\n",
       "    }\n",
       "\n",
       "    .dataframe tbody tr th {\n",
       "        vertical-align: top;\n",
       "    }\n",
       "\n",
       "    .dataframe thead th {\n",
       "        text-align: right;\n",
       "    }\n",
       "</style>\n",
       "<table border=\"1\" class=\"dataframe\">\n",
       "  <thead>\n",
       "    <tr style=\"text-align: right;\">\n",
       "      <th></th>\n",
       "      <th>name</th>\n",
       "      <th>inst</th>\n",
       "    </tr>\n",
       "  </thead>\n",
       "  <tbody>\n",
       "    <tr>\n",
       "      <th>0</th>\n",
       "      <td>George</td>\n",
       "      <td>Bass</td>\n",
       "    </tr>\n",
       "    <tr>\n",
       "      <th>1</th>\n",
       "      <td>Paul</td>\n",
       "      <td>Guitar</td>\n",
       "    </tr>\n",
       "  </tbody>\n",
       "</table>\n",
       "</div>"
      ],
      "text/plain": [
       "     name    inst\n",
       "0  George    Bass\n",
       "1    Paul  Guitar"
      ]
     },
     "execution_count": 25,
     "metadata": {},
     "output_type": "execute_result"
    }
   ],
   "source": [
    "X_cat = pd.DataFrame(\n",
    "    {\n",
    "        \"name\": [\"George\", \"Paul\"],\n",
    "        \"inst\": [\"Bass\", \"Guitar\"],\n",
    "    }\n",
    ")\n",
    "\n",
    "X_cat"
   ]
  },
  {
   "cell_type": "markdown",
   "id": "45bdf02e-8e18-49ad-a2f6-83dc028a083b",
   "metadata": {},
   "source": [
    "Here is the pandas version. Note the `drop_first` option can be\n",
    "used to eliminate a column (one of the dummy columns is a\n",
    "linear combination of the other columns):"
   ]
  },
  {
   "cell_type": "code",
   "execution_count": 27,
   "id": "acf44f76-0f6b-48dd-9573-5ec7682214e9",
   "metadata": {},
   "outputs": [
    {
     "data": {
      "text/html": [
       "<div>\n",
       "<style scoped>\n",
       "    .dataframe tbody tr th:only-of-type {\n",
       "        vertical-align: middle;\n",
       "    }\n",
       "\n",
       "    .dataframe tbody tr th {\n",
       "        vertical-align: top;\n",
       "    }\n",
       "\n",
       "    .dataframe thead th {\n",
       "        text-align: right;\n",
       "    }\n",
       "</style>\n",
       "<table border=\"1\" class=\"dataframe\">\n",
       "  <thead>\n",
       "    <tr style=\"text-align: right;\">\n",
       "      <th></th>\n",
       "      <th>name_Paul</th>\n",
       "      <th>inst_Guitar</th>\n",
       "    </tr>\n",
       "  </thead>\n",
       "  <tbody>\n",
       "    <tr>\n",
       "      <th>0</th>\n",
       "      <td>0</td>\n",
       "      <td>0</td>\n",
       "    </tr>\n",
       "    <tr>\n",
       "      <th>1</th>\n",
       "      <td>1</td>\n",
       "      <td>1</td>\n",
       "    </tr>\n",
       "  </tbody>\n",
       "</table>\n",
       "</div>"
      ],
      "text/plain": [
       "   name_Paul  inst_Guitar\n",
       "0          0            0\n",
       "1          1            1"
      ]
     },
     "execution_count": 27,
     "metadata": {},
     "output_type": "execute_result"
    }
   ],
   "source": [
    "pd.get_dummies(X_cat, drop_first=True).astype(int)"
   ]
  },
  {
   "cell_type": "code",
   "execution_count": 28,
   "id": "2dfbe01f-3265-42c8-966f-fc41368ea0c5",
   "metadata": {},
   "outputs": [
    {
     "data": {
      "text/html": [
       "<div>\n",
       "<style scoped>\n",
       "    .dataframe tbody tr th:only-of-type {\n",
       "        vertical-align: middle;\n",
       "    }\n",
       "\n",
       "    .dataframe tbody tr th {\n",
       "        vertical-align: top;\n",
       "    }\n",
       "\n",
       "    .dataframe thead th {\n",
       "        text-align: right;\n",
       "    }\n",
       "</style>\n",
       "<table border=\"1\" class=\"dataframe\">\n",
       "  <thead>\n",
       "    <tr style=\"text-align: right;\">\n",
       "      <th></th>\n",
       "      <th>A</th>\n",
       "      <th>names</th>\n",
       "      <th>Fred</th>\n",
       "      <th>George</th>\n",
       "      <th>John</th>\n",
       "      <th>Paul</th>\n",
       "    </tr>\n",
       "  </thead>\n",
       "  <tbody>\n",
       "    <tr>\n",
       "      <th>0</th>\n",
       "      <td>1.0</td>\n",
       "      <td>Fred,George</td>\n",
       "      <td>1</td>\n",
       "      <td>1</td>\n",
       "      <td>0</td>\n",
       "      <td>0</td>\n",
       "    </tr>\n",
       "    <tr>\n",
       "      <th>1</th>\n",
       "      <td>NaN</td>\n",
       "      <td>George</td>\n",
       "      <td>0</td>\n",
       "      <td>1</td>\n",
       "      <td>0</td>\n",
       "      <td>0</td>\n",
       "    </tr>\n",
       "    <tr>\n",
       "      <th>2</th>\n",
       "      <td>3.0</td>\n",
       "      <td>John,Paul</td>\n",
       "      <td>0</td>\n",
       "      <td>0</td>\n",
       "      <td>1</td>\n",
       "      <td>1</td>\n",
       "    </tr>\n",
       "  </tbody>\n",
       "</table>\n",
       "</div>"
      ],
      "text/plain": [
       "     A        names  Fred  George  John  Paul\n",
       "0  1.0  Fred,George     1       1     0     0\n",
       "1  NaN       George     0       1     0     0\n",
       "2  3.0    John,Paul     0       0     1     1"
      ]
     },
     "execution_count": 28,
     "metadata": {},
     "output_type": "execute_result"
    }
   ],
   "source": [
    "import janitor as jn\n",
    "\n",
    "X_cat2 = pd.DataFrame(      # Create a DataFrame named 'X_cat2'\n",
    "    {                       # Define columns for the DataFrame\n",
    "        \"A\": [1, None, 3],  # Column 'A' with values [1, None, 3]\n",
    "        \"names\": [          # Column 'names' with comma-separated values\n",
    "            \"Fred,George\",  # First row with \"Fred,George\"\n",
    "            \"George\",       # Second row with \"George\"\n",
    "            \"John,Paul\",    # Third row with \"John,Paul\"\n",
    "        ],\n",
    "    }\n",
    ")\n",
    "\n",
    "# Use janitor's expand_column to split 'names' column\n",
    "jn.expand_column(X_cat2, \"names\", sep=\",\")   # Split values in 'names' by comma, creating separate columns for each"
   ]
  },
  {
   "cell_type": "markdown",
   "id": "28f6e5a5-9683-4f1e-a0d2-339539651c8e",
   "metadata": {},
   "source": [
    "### Label Encoder"
   ]
  },
  {
   "cell_type": "markdown",
   "id": "3f7876eb-5da5-45f7-9596-0bd0cbef9308",
   "metadata": {},
   "source": [
    "An alternative to dummy variable encoding is label encoding.\n",
    "This will take categorical data and assign each value a number.\n",
    "It is useful for high cardinality data. This encoder imposes ordinality, which may or may not be desired. It can take up less\n",
    "space than one-hot encoding, and some (tree) algorithms can\n",
    "deal with this encoding.\n",
    "    \n",
    "The label encoder can only deal with one column at a time:"
   ]
  },
  {
   "cell_type": "code",
   "execution_count": 31,
   "id": "8074e35d-7cdd-4817-9b36-3da9ecb36e4e",
   "metadata": {},
   "outputs": [
    {
     "data": {
      "text/plain": [
       "array([0, 1])"
      ]
     },
     "execution_count": 31,
     "metadata": {},
     "output_type": "execute_result"
    }
   ],
   "source": [
    "from sklearn import preprocessing  \n",
    "\n",
    "lab = preprocessing.LabelEncoder() # Create an instance of LabelEncoder\n",
    "lab.fit_transform(X_cat.name)      # Fit and transform the 'name' column in X_cat"
   ]
  },
  {
   "cell_type": "code",
   "execution_count": 32,
   "id": "6b6fce43-4c8c-4dbb-ac6b-6e8c8927cf57",
   "metadata": {},
   "outputs": [
    {
     "data": {
      "text/plain": [
       "array(['George', 'Paul'], dtype=object)"
      ]
     },
     "execution_count": 32,
     "metadata": {},
     "output_type": "execute_result"
    }
   ],
   "source": [
    "# See original labels\n",
    "lab.classes_"
   ]
  },
  {
   "cell_type": "code",
   "execution_count": 33,
   "id": "fa33277b-6b2d-4d2e-9abb-374e8d389985",
   "metadata": {},
   "outputs": [
    {
     "data": {
      "text/html": [
       "<div>\n",
       "<style scoped>\n",
       "    .dataframe tbody tr th:only-of-type {\n",
       "        vertical-align: middle;\n",
       "    }\n",
       "\n",
       "    .dataframe tbody tr th {\n",
       "        vertical-align: top;\n",
       "    }\n",
       "\n",
       "    .dataframe thead th {\n",
       "        text-align: right;\n",
       "    }\n",
       "</style>\n",
       "<table border=\"1\" class=\"dataframe\">\n",
       "  <thead>\n",
       "    <tr style=\"text-align: right;\">\n",
       "      <th></th>\n",
       "      <th>name</th>\n",
       "      <th>inst</th>\n",
       "    </tr>\n",
       "  </thead>\n",
       "  <tbody>\n",
       "    <tr>\n",
       "      <th>0</th>\n",
       "      <td>George</td>\n",
       "      <td>Bass</td>\n",
       "    </tr>\n",
       "    <tr>\n",
       "      <th>1</th>\n",
       "      <td>Paul</td>\n",
       "      <td>Guitar</td>\n",
       "    </tr>\n",
       "  </tbody>\n",
       "</table>\n",
       "</div>"
      ],
      "text/plain": [
       "     name    inst\n",
       "0  George    Bass\n",
       "1    Paul  Guitar"
      ]
     },
     "execution_count": 33,
     "metadata": {},
     "output_type": "execute_result"
    }
   ],
   "source": [
    "X_cat"
   ]
  },
  {
   "cell_type": "code",
   "execution_count": 34,
   "id": "65c6899d-9e62-413d-b29d-a0f5346dba64",
   "metadata": {},
   "outputs": [
    {
     "data": {
      "text/plain": [
       "array(['Paul', 'Paul', 'George'], dtype=object)"
      ]
     },
     "execution_count": 34,
     "metadata": {},
     "output_type": "execute_result"
    }
   ],
   "source": [
    "lab.inverse_transform([1, 1, 0])"
   ]
  },
  {
   "cell_type": "code",
   "execution_count": 35,
   "id": "57895f25-0983-43fd-bef4-98d5e686e599",
   "metadata": {},
   "outputs": [
    {
     "data": {
      "text/plain": [
       "0    1\n",
       "1    2\n",
       "dtype: int8"
      ]
     },
     "execution_count": 35,
     "metadata": {},
     "output_type": "execute_result"
    }
   ],
   "source": [
    "# Using Pandas\n",
    "\n",
    "X_cat.name.astype(\n",
    "    \"category\"\n",
    ").cat.as_ordered().cat.codes + 1"
   ]
  },
  {
   "cell_type": "markdown",
   "id": "5cb93f95-a50c-4b3c-914f-4f1310a259ef",
   "metadata": {},
   "source": [
    "### Frequency Encoding"
   ]
  },
  {
   "cell_type": "markdown",
   "id": "54454e82-0fd1-40a0-a56f-04a98747d5e4",
   "metadata": {},
   "source": [
    "Another option for handling high cardinality categorical data is\n",
    "to *frequency encode* it. This means replacing the name of the\n",
    "category with the count it had in the training data. We will use\n",
    "pandas to do this. First, we will use the pandas `.value_counts`\n",
    "method to make a mapping (a pandas series that maps strings\n",
    "to counts). With the mapping we can use the `.map` method to\n",
    "do the encoding:"
   ]
  },
  {
   "cell_type": "code",
   "execution_count": 38,
   "id": "6229b5d5-a50f-4321-9863-b5d15ed3d5ee",
   "metadata": {},
   "outputs": [
    {
     "data": {
      "text/plain": [
       "0    1\n",
       "1    1\n",
       "Name: name, dtype: int64"
      ]
     },
     "execution_count": 38,
     "metadata": {},
     "output_type": "execute_result"
    }
   ],
   "source": [
    "mapping = X_cat.name.value_counts()\n",
    "X_cat.name.map(mapping)"
   ]
  },
  {
   "cell_type": "markdown",
   "id": "75de60df-5b2c-465b-ac6f-8ae1cc624709",
   "metadata": {},
   "source": [
    "Each name shows up one time. (Make sure you store the training mapping so you can encode future data with the same data.)"
   ]
  },
  {
   "cell_type": "markdown",
   "id": "d56b7f51-9ab6-42dd-a74d-d47702601caf",
   "metadata": {},
   "source": [
    "### Pulling Categories from Strings"
   ]
  },
  {
   "cell_type": "markdown",
   "id": "fd0dcf4d-2074-42e8-aca7-2788e7e8ca09",
   "metadata": {},
   "source": [
    "One way to increase the accuracy of the Titanic model is to pull\n",
    "out titles from the names. A quick hack to find the most com‐\n",
    "mon triples is to use the Counter class:"
   ]
  },
  {
   "cell_type": "code",
   "execution_count": 42,
   "id": "9cd81be1-e103-408a-a49c-5225926a8f31",
   "metadata": {},
   "outputs": [],
   "source": [
    "# Titanic Dataframe\n",
    "\n",
    "url = (\"https://raw.githubusercontent.com/joanby/python-ml-course/refs/heads/master/datasets/titanic/titanic3.csv\")\n",
    "df = pd.read_csv(url)"
   ]
  },
  {
   "cell_type": "code",
   "execution_count": 43,
   "id": "035e19c5-0b4c-4e79-84e3-9ba2078fbc93",
   "metadata": {},
   "outputs": [
    {
     "data": {
      "text/plain": [
       "[(', M', 1282),\n",
       " (' Mr', 954),\n",
       " ('r. ', 830),\n",
       " ('Mr.', 757),\n",
       " ('s. ', 460),\n",
       " ('n, ', 320),\n",
       " (' Mi', 283),\n",
       " ('iss', 261),\n",
       " ('ss.', 261),\n",
       " ('Mis', 260)]"
      ]
     },
     "execution_count": 43,
     "metadata": {},
     "output_type": "execute_result"
    }
   ],
   "source": [
    "from collections import Counter\n",
    "\n",
    "c = Counter()                       # Initialize a Counter to store occurrences of each 3-character sequence\n",
    "\n",
    "def triples(val):                   # Define a function to find and count 3-character sequences\n",
    "    for i in range(len(val)):       # Loop through the string based on its length\n",
    "        c[val[i : i + 3]] += 1      # Increment count in Counter for each 3-character slice\n",
    "\n",
    "df.name.apply(triples)              # Apply the triples function to each value in the 'name' column of DataFrame 'df'\n",
    "c.most_common(10)                   # Retrieve the 10 most common 3-character sequences with their counts"
   ]
  },
  {
   "cell_type": "markdown",
   "id": "be513568-8182-422f-b299-6556591dedc8",
   "metadata": {},
   "source": [
    "Another option is to use a regular expression to pull out the capital letter followed by lowercase letters and a period:"
   ]
  },
  {
   "cell_type": "code",
   "execution_count": 45,
   "id": "d5ae1cfc-129a-4875-95d2-2128c44bc655",
   "metadata": {},
   "outputs": [
    {
     "data": {
      "text/plain": [
       "0      Miss\n",
       "1    Master\n",
       "2      Miss\n",
       "3        Mr\n",
       "4       Mrs\n",
       "Name: name, dtype: object"
      ]
     },
     "execution_count": 45,
     "metadata": {},
     "output_type": "execute_result"
    }
   ],
   "source": [
    "df.name.str.extract(                # Use 'str.extract' to search for a specific pattern in the 'name' column\n",
    "    r\"([A-Za-z]+)\\.\", expand=False  # Raw string regex pattern: captures one or more alphabetic characters followed by a period\n",
    ").head()                            # Display the first few results using .head()"
   ]
  },
  {
   "cell_type": "code",
   "execution_count": 46,
   "id": "ac60825e",
   "metadata": {},
   "outputs": [
    {
     "data": {
      "text/plain": [
       "name\n",
       "Mr          757\n",
       "Miss        260\n",
       "Mrs         197\n",
       "Master       61\n",
       "Rev           8\n",
       "Dr            8\n",
       "Col           4\n",
       "Mlle          2\n",
       "Ms            2\n",
       "Major         2\n",
       "Capt          1\n",
       "Sir           1\n",
       "Dona          1\n",
       "Jonkheer      1\n",
       "Countess      1\n",
       "Don           1\n",
       "Mme           1\n",
       "Lady          1\n",
       "Name: count, dtype: int64"
      ]
     },
     "execution_count": 46,
     "metadata": {},
     "output_type": "execute_result"
    }
   ],
   "source": [
    "df.name.str.extract(                # Use 'str.extract' to search for a specific pattern in the 'name' column\n",
    "    r\"([A-Za-z]+)\\.\", expand=False  # Raw string regex pattern: captures one or more alphabetic characters followed by a period\n",
    ").value_counts()                    # Display the frenquency"
   ]
  },
  {
   "cell_type": "markdown",
   "id": "0136d2f2-e2b5-43b4-b9b1-e31c3b8010fd",
   "metadata": {},
   "source": [
    "### Other Categorical Encoding"
   ]
  },
  {
   "cell_type": "markdown",
   "id": "d891a46c-7810-46e8-8fe5-b245511de8ce",
   "metadata": {},
   "source": [
    "Hash encoder is useful if you don’t know how many categories you have ahead of time or if you are using a bag of words to represent\n",
    "text. This will hash the categorical columns into n_components. If you are using online learning (models that can be updated), this can be very useful:"
   ]
  },
  {
   "cell_type": "code",
   "execution_count": 49,
   "id": "34a233fd-fb2c-4bd3-944a-bd08639d60e2",
   "metadata": {},
   "outputs": [
    {
     "data": {
      "text/html": [
       "<div>\n",
       "<style scoped>\n",
       "    .dataframe tbody tr th:only-of-type {\n",
       "        vertical-align: middle;\n",
       "    }\n",
       "\n",
       "    .dataframe tbody tr th {\n",
       "        vertical-align: top;\n",
       "    }\n",
       "\n",
       "    .dataframe thead th {\n",
       "        text-align: right;\n",
       "    }\n",
       "</style>\n",
       "<table border=\"1\" class=\"dataframe\">\n",
       "  <thead>\n",
       "    <tr style=\"text-align: right;\">\n",
       "      <th></th>\n",
       "      <th>name</th>\n",
       "      <th>inst</th>\n",
       "    </tr>\n",
       "  </thead>\n",
       "  <tbody>\n",
       "    <tr>\n",
       "      <th>0</th>\n",
       "      <td>George</td>\n",
       "      <td>Bass</td>\n",
       "    </tr>\n",
       "    <tr>\n",
       "      <th>1</th>\n",
       "      <td>Paul</td>\n",
       "      <td>Guitar</td>\n",
       "    </tr>\n",
       "  </tbody>\n",
       "</table>\n",
       "</div>"
      ],
      "text/plain": [
       "     name    inst\n",
       "0  George    Bass\n",
       "1    Paul  Guitar"
      ]
     },
     "execution_count": 49,
     "metadata": {},
     "output_type": "execute_result"
    }
   ],
   "source": [
    "X_cat"
   ]
  },
  {
   "cell_type": "code",
   "execution_count": 50,
   "id": "5ea01c55-a2be-4577-94d1-ecc77a7f2ecb",
   "metadata": {},
   "outputs": [
    {
     "data": {
      "text/html": [
       "<div>\n",
       "<style scoped>\n",
       "    .dataframe tbody tr th:only-of-type {\n",
       "        vertical-align: middle;\n",
       "    }\n",
       "\n",
       "    .dataframe tbody tr th {\n",
       "        vertical-align: top;\n",
       "    }\n",
       "\n",
       "    .dataframe thead th {\n",
       "        text-align: right;\n",
       "    }\n",
       "</style>\n",
       "<table border=\"1\" class=\"dataframe\">\n",
       "  <thead>\n",
       "    <tr style=\"text-align: right;\">\n",
       "      <th></th>\n",
       "      <th>col_0</th>\n",
       "      <th>col_1</th>\n",
       "      <th>col_2</th>\n",
       "      <th>col_3</th>\n",
       "      <th>col_4</th>\n",
       "      <th>col_5</th>\n",
       "      <th>col_6</th>\n",
       "      <th>col_7</th>\n",
       "    </tr>\n",
       "  </thead>\n",
       "  <tbody>\n",
       "    <tr>\n",
       "      <th>0</th>\n",
       "      <td>0</td>\n",
       "      <td>0</td>\n",
       "      <td>0</td>\n",
       "      <td>1</td>\n",
       "      <td>0</td>\n",
       "      <td>1</td>\n",
       "      <td>0</td>\n",
       "      <td>0</td>\n",
       "    </tr>\n",
       "    <tr>\n",
       "      <th>1</th>\n",
       "      <td>0</td>\n",
       "      <td>2</td>\n",
       "      <td>0</td>\n",
       "      <td>0</td>\n",
       "      <td>0</td>\n",
       "      <td>0</td>\n",
       "      <td>0</td>\n",
       "      <td>0</td>\n",
       "    </tr>\n",
       "  </tbody>\n",
       "</table>\n",
       "</div>"
      ],
      "text/plain": [
       "   col_0  col_1  col_2  col_3  col_4  col_5  col_6  col_7\n",
       "0      0      0      0      1      0      1      0      0\n",
       "1      0      2      0      0      0      0      0      0"
      ]
     },
     "execution_count": 50,
     "metadata": {},
     "output_type": "execute_result"
    }
   ],
   "source": [
    "import category_encoders as ce\n",
    "\n",
    "he = ce.HashingEncoder(verbose=1)  # Initialize HashingEncoder with verbose=1 to display transformation progress\n",
    "he.fit_transform(X_cat)            # Fit the encoder to 'X_cat' and transform it, producing hashed encodings for categorical data"
   ]
  },
  {
   "cell_type": "code",
   "execution_count": 51,
   "id": "9cf8cb4d-02da-446d-9c6a-45c9d45a15f5",
   "metadata": {},
   "outputs": [
    {
     "data": {
      "text/html": [
       "<div>\n",
       "<style scoped>\n",
       "    .dataframe tbody tr th:only-of-type {\n",
       "        vertical-align: middle;\n",
       "    }\n",
       "\n",
       "    .dataframe tbody tr th {\n",
       "        vertical-align: top;\n",
       "    }\n",
       "\n",
       "    .dataframe thead th {\n",
       "        text-align: right;\n",
       "    }\n",
       "</style>\n",
       "<table border=\"1\" class=\"dataframe\">\n",
       "  <thead>\n",
       "    <tr style=\"text-align: right;\">\n",
       "      <th></th>\n",
       "      <th>name</th>\n",
       "      <th>size</th>\n",
       "    </tr>\n",
       "  </thead>\n",
       "  <tbody>\n",
       "    <tr>\n",
       "      <th>0</th>\n",
       "      <td>Fred</td>\n",
       "      <td>small</td>\n",
       "    </tr>\n",
       "    <tr>\n",
       "      <th>1</th>\n",
       "      <td>John</td>\n",
       "      <td>med</td>\n",
       "    </tr>\n",
       "    <tr>\n",
       "      <th>2</th>\n",
       "      <td>Matt</td>\n",
       "      <td>xxl</td>\n",
       "    </tr>\n",
       "  </tbody>\n",
       "</table>\n",
       "</div>"
      ],
      "text/plain": [
       "   name   size\n",
       "0  Fred  small\n",
       "1  John    med\n",
       "2  Matt    xxl"
      ]
     },
     "execution_count": 51,
     "metadata": {},
     "output_type": "execute_result"
    }
   ],
   "source": [
    "size_df = pd.DataFrame(                     # Create a DataFrame 'size_df' with sample data\n",
    "    {                                       # Define columns and their values\n",
    "        \"name\": [\"Fred\", \"John\", \"Matt\"],   # 'name' column with individual names\n",
    "        \"size\": [\"small\", \"med\", \"xxl\"],    # 'size' column with size categories (e.g., small, med, xxl)\n",
    "    }\n",
    ")\n",
    "\n",
    "size_df"
   ]
  },
  {
   "cell_type": "code",
   "execution_count": 52,
   "id": "9eb8ffe6-27f4-43e5-a019-84c403345a39",
   "metadata": {},
   "outputs": [
    {
     "data": {
      "text/html": [
       "<div>\n",
       "<style scoped>\n",
       "    .dataframe tbody tr th:only-of-type {\n",
       "        vertical-align: middle;\n",
       "    }\n",
       "\n",
       "    .dataframe tbody tr th {\n",
       "        vertical-align: top;\n",
       "    }\n",
       "\n",
       "    .dataframe thead th {\n",
       "        text-align: right;\n",
       "    }\n",
       "</style>\n",
       "<table border=\"1\" class=\"dataframe\">\n",
       "  <thead>\n",
       "    <tr style=\"text-align: right;\">\n",
       "      <th></th>\n",
       "      <th>name</th>\n",
       "      <th>size</th>\n",
       "    </tr>\n",
       "  </thead>\n",
       "  <tbody>\n",
       "    <tr>\n",
       "      <th>0</th>\n",
       "      <td>Fred</td>\n",
       "      <td>1.0</td>\n",
       "    </tr>\n",
       "    <tr>\n",
       "      <th>1</th>\n",
       "      <td>John</td>\n",
       "      <td>2.0</td>\n",
       "    </tr>\n",
       "    <tr>\n",
       "      <th>2</th>\n",
       "      <td>Matt</td>\n",
       "      <td>-1.0</td>\n",
       "    </tr>\n",
       "  </tbody>\n",
       "</table>\n",
       "</div>"
      ],
      "text/plain": [
       "   name  size\n",
       "0  Fred   1.0\n",
       "1  John   2.0\n",
       "2  Matt  -1.0"
      ]
     },
     "execution_count": 52,
     "metadata": {},
     "output_type": "execute_result"
    }
   ],
   "source": [
    "ore = ce.OrdinalEncoder(                    # Initialize an OrdinalEncoder from category_encoders\n",
    "    mapping=[                               # Provide a custom mapping for encoding\n",
    "        {                                   # Specify the mapping as a dictionary\n",
    "            \"col\": \"size\",                  # Column to encode is 'size'\n",
    "            \"mapping\": {                    # Define the mapping for each size category\n",
    "                \"small\": 1,                 # Map \"small\" to 1\n",
    "                \"med\": 2,                   # Map \"med\" to 2\n",
    "                \"lg\": 3,                    # Map \"lg\" to 3; values not in the mapping (e.g., \"xxl\") will be set to NaN or handled accordingly\n",
    "            },\n",
    "        }\n",
    "    ]\n",
    ")\n",
    "\n",
    "ore.fit_transform(size_df)                  # Fit the encoder on 'size_df' and transform 'size' column, replacing categories with mapped values"
   ]
  },
  {
   "cell_type": "markdown",
   "id": "f9b1b504-5303-4751-9c05-0bf77df28e2a",
   "metadata": {},
   "source": [
    "To convert the Titanic survival column to a blend of posterior probability of the target and the prior probability given the title (categorical) information, use the following code:"
   ]
  },
  {
   "cell_type": "code",
   "execution_count": 54,
   "id": "c92fe349-2956-410a-b0c0-17cbbd3e64a1",
   "metadata": {},
   "outputs": [
    {
     "data": {
      "text/plain": [
       "0    0.676923\n",
       "1    0.506139\n",
       "2    0.676923\n",
       "3    0.162483\n",
       "4    0.786802\n",
       "Name: Title, dtype: float64"
      ]
     },
     "execution_count": 54,
     "metadata": {},
     "output_type": "execute_result"
    }
   ],
   "source": [
    "def get_title(df):                        # Define a function to extract titles from names\n",
    "    return df.name.str.extract(           # Use regular expression to extract titles from the 'name' column\n",
    "        r\"([A-Za-z]+)\\.\", expand=False    # Regex pattern: matches alphabetic characters followed by a period\n",
    "    )\n",
    "\n",
    "te = ce.TargetEncoder(cols=\"Title\")       # Initialize a TargetEncoder from category_encoders for the 'Title' column\n",
    "\n",
    "te.fit_transform(                         # Fit and transform the encoder with the DataFrame\n",
    "    df.assign(Title=get_title),           # Temporarily add the extracted 'Title' column to the DataFrame\n",
    "    df.survived                           # Target variable: 'survived', used to calculate mean encodings for titles\n",
    ")[\"Title\"].head()                         # Return the first five entries of the transformed 'Title' column"
   ]
  },
  {
   "cell_type": "markdown",
   "id": "8e261926-32f2-40df-ab94-e08f058faea0",
   "metadata": {},
   "source": [
    "* Function Definition (`get_title`): Extracts titles (e.g., \"Mr\", \"Mrs\") from names in the 'name' column using a regular expression.\n",
    "\n",
    "* Target Encoding: The `TargetEncoder` calculates the average survival rate per title category and encodes the 'Title' column based on these averages.\n",
    "\n",
    "* `fit_transform` Execution: Temporarily adds the 'Title' column to df and applies the target encoding to produce mean survival probabilities for each title."
   ]
  },
  {
   "cell_type": "code",
   "execution_count": 56,
   "id": "66f3b3f4-dd55-4917-903e-f19535769307",
   "metadata": {},
   "outputs": [
    {
     "data": {
      "text/html": [
       "<div>\n",
       "<style scoped>\n",
       "    .dataframe tbody tr th:only-of-type {\n",
       "        vertical-align: middle;\n",
       "    }\n",
       "\n",
       "    .dataframe tbody tr th {\n",
       "        vertical-align: top;\n",
       "    }\n",
       "\n",
       "    .dataframe thead th {\n",
       "        text-align: right;\n",
       "    }\n",
       "</style>\n",
       "<table border=\"1\" class=\"dataframe\">\n",
       "  <thead>\n",
       "    <tr style=\"text-align: right;\">\n",
       "      <th></th>\n",
       "      <th>A</th>\n",
       "      <th>A_na</th>\n",
       "    </tr>\n",
       "  </thead>\n",
       "  <tbody>\n",
       "    <tr>\n",
       "      <th>0</th>\n",
       "      <td>0.0</td>\n",
       "      <td>False</td>\n",
       "    </tr>\n",
       "    <tr>\n",
       "      <th>1</th>\n",
       "      <td>5.0</td>\n",
       "      <td>True</td>\n",
       "    </tr>\n",
       "    <tr>\n",
       "      <th>2</th>\n",
       "      <td>5.0</td>\n",
       "      <td>False</td>\n",
       "    </tr>\n",
       "    <tr>\n",
       "      <th>3</th>\n",
       "      <td>100.0</td>\n",
       "      <td>False</td>\n",
       "    </tr>\n",
       "  </tbody>\n",
       "</table>\n",
       "</div>"
      ],
      "text/plain": [
       "       A   A_na\n",
       "0    0.0  False\n",
       "1    5.0   True\n",
       "2    5.0  False\n",
       "3  100.0  False"
      ]
     },
     "execution_count": 56,
     "metadata": {},
     "output_type": "execute_result"
    }
   ],
   "source": [
    "from pandas.api.types import is_numeric_dtype  # Import a function to check if a column is numeric\n",
    "\n",
    "def fix_missing(df, col, name, na_dict):              # Define a function to handle missing values\n",
    "    if is_numeric_dtype(col):                         # Check if the column is of numeric data type\n",
    "        if pd.isnull(col).sum() or (name in na_dict): # If there are missing values or column is in 'na_dict'\n",
    "            df[name + \"_na\"] = pd.isnull(col)         # Create a new column to indicate where NaNs were present\n",
    "            filler = (                                # Determine the value to replace NaNs with\n",
    "                na_dict[name]                         # If 'name' exists in 'na_dict', use its value\n",
    "                if name in na_dict                    # Otherwise, calculate the median of the column\n",
    "                else col.median()\n",
    "            )\n",
    "            df[name] = col.fillna(filler)             # Fill NaN values in the column with the filler value\n",
    "            na_dict[name] = filler                    # Update 'na_dict' with the filler used for this column\n",
    "    return na_dict                                    # Return the updated 'na_dict'\n",
    "\n",
    "data = pd.DataFrame({\"A\": [0, None, 5, 100]})         # Create a DataFrame with some NaN values\n",
    "\n",
    "fix_missing(data, data.A, \"A\", {})                    # Call 'fix_missing' to handle NaNs in column 'A'\n",
    "\n",
    "data                                                  # Display the updated DataFrame"
   ]
  },
  {
   "cell_type": "code",
   "execution_count": 57,
   "id": "ff1a767f-50d7-4017-a284-b2eaac49c3b1",
   "metadata": {},
   "outputs": [
    {
     "data": {
      "text/html": [
       "<div>\n",
       "<style scoped>\n",
       "    .dataframe tbody tr th:only-of-type {\n",
       "        vertical-align: middle;\n",
       "    }\n",
       "\n",
       "    .dataframe tbody tr th {\n",
       "        vertical-align: top;\n",
       "    }\n",
       "\n",
       "    .dataframe thead th {\n",
       "        text-align: right;\n",
       "    }\n",
       "</style>\n",
       "<table border=\"1\" class=\"dataframe\">\n",
       "  <thead>\n",
       "    <tr style=\"text-align: right;\">\n",
       "      <th></th>\n",
       "      <th>A</th>\n",
       "      <th>A_na</th>\n",
       "    </tr>\n",
       "  </thead>\n",
       "  <tbody>\n",
       "    <tr>\n",
       "      <th>0</th>\n",
       "      <td>0.0</td>\n",
       "      <td>False</td>\n",
       "    </tr>\n",
       "    <tr>\n",
       "      <th>1</th>\n",
       "      <td>5.0</td>\n",
       "      <td>True</td>\n",
       "    </tr>\n",
       "    <tr>\n",
       "      <th>2</th>\n",
       "      <td>5.0</td>\n",
       "      <td>False</td>\n",
       "    </tr>\n",
       "    <tr>\n",
       "      <th>3</th>\n",
       "      <td>100.0</td>\n",
       "      <td>False</td>\n",
       "    </tr>\n",
       "  </tbody>\n",
       "</table>\n",
       "</div>"
      ],
      "text/plain": [
       "       A   A_na\n",
       "0    0.0  False\n",
       "1    5.0   True\n",
       "2    5.0  False\n",
       "3  100.0  False"
      ]
     },
     "execution_count": 57,
     "metadata": {},
     "output_type": "execute_result"
    }
   ],
   "source": [
    "# Pandas Version\n",
    "\n",
    "data = pd.DataFrame({\"A\": [0, None, 5, 100]})  # Create a DataFrame with some NaN values\n",
    "\n",
    "data[\"A_na\"] = data.A.isnull()                 # Create a new column 'A_na' indicating where NaN values are present in column 'A'\n",
    "data[\"A\"] = data.A.fillna(data.A.median())     # Fill NaN values in column 'A' with the median value of column 'A'\n",
    "\n",
    "data                                           # Display the updated DataFrame"
   ]
  },
  {
   "cell_type": "markdown",
   "id": "db644c38-6731-4222-bb49-4482c22460d1",
   "metadata": {},
   "source": [
    "### Manual Feature Engineering"
   ]
  },
  {
   "cell_type": "code",
   "execution_count": 59,
   "id": "f9ff9e96-a41b-4a17-8771-b70d81b3825f",
   "metadata": {},
   "outputs": [
    {
     "data": {
      "text/html": [
       "<div>\n",
       "<style scoped>\n",
       "    .dataframe tbody tr th:only-of-type {\n",
       "        vertical-align: middle;\n",
       "    }\n",
       "\n",
       "    .dataframe tbody tr th {\n",
       "        vertical-align: top;\n",
       "    }\n",
       "\n",
       "    .dataframe thead th {\n",
       "        text-align: right;\n",
       "    }\n",
       "</style>\n",
       "<table border=\"1\" class=\"dataframe\">\n",
       "  <thead>\n",
       "    <tr style=\"text-align: right;\">\n",
       "      <th></th>\n",
       "      <th>pclass</th>\n",
       "      <th>survived</th>\n",
       "      <th>name</th>\n",
       "      <th>sex</th>\n",
       "      <th>age</th>\n",
       "      <th>sibsp</th>\n",
       "      <th>parch</th>\n",
       "      <th>ticket</th>\n",
       "      <th>fare</th>\n",
       "      <th>cabin</th>\n",
       "      <th>...</th>\n",
       "      <th>parch_mean</th>\n",
       "      <th>parch_sum</th>\n",
       "      <th>fare_min</th>\n",
       "      <th>fare_max</th>\n",
       "      <th>fare_mean</th>\n",
       "      <th>fare_sum</th>\n",
       "      <th>body_min</th>\n",
       "      <th>body_max</th>\n",
       "      <th>body_mean</th>\n",
       "      <th>body_sum</th>\n",
       "    </tr>\n",
       "  </thead>\n",
       "  <tbody>\n",
       "    <tr>\n",
       "      <th>0</th>\n",
       "      <td>1</td>\n",
       "      <td>1</td>\n",
       "      <td>Allen, Miss. Elisabeth Walton</td>\n",
       "      <td>female</td>\n",
       "      <td>29.0000</td>\n",
       "      <td>0</td>\n",
       "      <td>0</td>\n",
       "      <td>24160</td>\n",
       "      <td>211.3375</td>\n",
       "      <td>B5</td>\n",
       "      <td>...</td>\n",
       "      <td>0.5</td>\n",
       "      <td>1</td>\n",
       "      <td>211.3375</td>\n",
       "      <td>211.3375</td>\n",
       "      <td>211.3375</td>\n",
       "      <td>422.675</td>\n",
       "      <td>NaN</td>\n",
       "      <td>NaN</td>\n",
       "      <td>NaN</td>\n",
       "      <td>0.0</td>\n",
       "    </tr>\n",
       "    <tr>\n",
       "      <th>1</th>\n",
       "      <td>1</td>\n",
       "      <td>1</td>\n",
       "      <td>Allison, Master. Hudson Trevor</td>\n",
       "      <td>male</td>\n",
       "      <td>0.9167</td>\n",
       "      <td>1</td>\n",
       "      <td>2</td>\n",
       "      <td>113781</td>\n",
       "      <td>151.5500</td>\n",
       "      <td>C22 C26</td>\n",
       "      <td>...</td>\n",
       "      <td>2.0</td>\n",
       "      <td>8</td>\n",
       "      <td>151.5500</td>\n",
       "      <td>151.5500</td>\n",
       "      <td>151.5500</td>\n",
       "      <td>606.200</td>\n",
       "      <td>135.0</td>\n",
       "      <td>135.0</td>\n",
       "      <td>135.0</td>\n",
       "      <td>135.0</td>\n",
       "    </tr>\n",
       "    <tr>\n",
       "      <th>2</th>\n",
       "      <td>1</td>\n",
       "      <td>0</td>\n",
       "      <td>Allison, Miss. Helen Loraine</td>\n",
       "      <td>female</td>\n",
       "      <td>2.0000</td>\n",
       "      <td>1</td>\n",
       "      <td>2</td>\n",
       "      <td>113781</td>\n",
       "      <td>151.5500</td>\n",
       "      <td>C22 C26</td>\n",
       "      <td>...</td>\n",
       "      <td>2.0</td>\n",
       "      <td>8</td>\n",
       "      <td>151.5500</td>\n",
       "      <td>151.5500</td>\n",
       "      <td>151.5500</td>\n",
       "      <td>606.200</td>\n",
       "      <td>135.0</td>\n",
       "      <td>135.0</td>\n",
       "      <td>135.0</td>\n",
       "      <td>135.0</td>\n",
       "    </tr>\n",
       "    <tr>\n",
       "      <th>3</th>\n",
       "      <td>1</td>\n",
       "      <td>0</td>\n",
       "      <td>Allison, Mr. Hudson Joshua Creighton</td>\n",
       "      <td>male</td>\n",
       "      <td>30.0000</td>\n",
       "      <td>1</td>\n",
       "      <td>2</td>\n",
       "      <td>113781</td>\n",
       "      <td>151.5500</td>\n",
       "      <td>C22 C26</td>\n",
       "      <td>...</td>\n",
       "      <td>2.0</td>\n",
       "      <td>8</td>\n",
       "      <td>151.5500</td>\n",
       "      <td>151.5500</td>\n",
       "      <td>151.5500</td>\n",
       "      <td>606.200</td>\n",
       "      <td>135.0</td>\n",
       "      <td>135.0</td>\n",
       "      <td>135.0</td>\n",
       "      <td>135.0</td>\n",
       "    </tr>\n",
       "    <tr>\n",
       "      <th>4</th>\n",
       "      <td>1</td>\n",
       "      <td>0</td>\n",
       "      <td>Allison, Mrs. Hudson J C (Bessie Waldo Daniels)</td>\n",
       "      <td>female</td>\n",
       "      <td>25.0000</td>\n",
       "      <td>1</td>\n",
       "      <td>2</td>\n",
       "      <td>113781</td>\n",
       "      <td>151.5500</td>\n",
       "      <td>C22 C26</td>\n",
       "      <td>...</td>\n",
       "      <td>2.0</td>\n",
       "      <td>8</td>\n",
       "      <td>151.5500</td>\n",
       "      <td>151.5500</td>\n",
       "      <td>151.5500</td>\n",
       "      <td>606.200</td>\n",
       "      <td>135.0</td>\n",
       "      <td>135.0</td>\n",
       "      <td>135.0</td>\n",
       "      <td>135.0</td>\n",
       "    </tr>\n",
       "  </tbody>\n",
       "</table>\n",
       "<p>5 rows × 42 columns</p>\n",
       "</div>"
      ],
      "text/plain": [
       "   pclass  survived                                             name     sex  \\\n",
       "0       1         1                    Allen, Miss. Elisabeth Walton  female   \n",
       "1       1         1                   Allison, Master. Hudson Trevor    male   \n",
       "2       1         0                     Allison, Miss. Helen Loraine  female   \n",
       "3       1         0             Allison, Mr. Hudson Joshua Creighton    male   \n",
       "4       1         0  Allison, Mrs. Hudson J C (Bessie Waldo Daniels)  female   \n",
       "\n",
       "       age  sibsp  parch  ticket      fare    cabin  ... parch_mean parch_sum  \\\n",
       "0  29.0000      0      0   24160  211.3375       B5  ...        0.5         1   \n",
       "1   0.9167      1      2  113781  151.5500  C22 C26  ...        2.0         8   \n",
       "2   2.0000      1      2  113781  151.5500  C22 C26  ...        2.0         8   \n",
       "3  30.0000      1      2  113781  151.5500  C22 C26  ...        2.0         8   \n",
       "4  25.0000      1      2  113781  151.5500  C22 C26  ...        2.0         8   \n",
       "\n",
       "   fare_min  fare_max  fare_mean  fare_sum  body_min  body_max  body_mean  \\\n",
       "0  211.3375  211.3375   211.3375   422.675       NaN       NaN        NaN   \n",
       "1  151.5500  151.5500   151.5500   606.200     135.0     135.0      135.0   \n",
       "2  151.5500  151.5500   151.5500   606.200     135.0     135.0      135.0   \n",
       "3  151.5500  151.5500   151.5500   606.200     135.0     135.0      135.0   \n",
       "4  151.5500  151.5500   151.5500   606.200     135.0     135.0      135.0   \n",
       "\n",
       "   body_sum  \n",
       "0       0.0  \n",
       "1     135.0  \n",
       "2     135.0  \n",
       "3     135.0  \n",
       "4     135.0  \n",
       "\n",
       "[5 rows x 42 columns]"
      ]
     },
     "execution_count": 59,
     "metadata": {},
     "output_type": "execute_result"
    }
   ],
   "source": [
    "# Begin creating an aggregated DataFrame from 'df'\n",
    "agg = (\n",
    "    df.groupby(\"cabin\")     # Group the original DataFrame 'df' by the 'cabin' column\n",
    "    .agg({col: [\"min\", \"max\", \"mean\", \"sum\"] for col in df.select_dtypes(include=\"number\").columns}) # Aggregate using min, ... for numeric columns only\n",
    "    .reset_index()          # Reset the index to flatten the DataFrame structure after grouping\n",
    ")\n",
    "\n",
    "agg.columns = [  # Rename columns in 'agg' to clearly indicate the aggregation type (min, max, mean, sum) for each column\n",
    "    \"_\".join(c).strip(\"_\")  # Combine multi-level column names into a single string with '_', removing any leading/trailing underscores\n",
    "    for c in agg.columns.values\n",
    "]\n",
    "\n",
    "# Merge the aggregated DataFrame back to the original DataFrame on 'cabin'\n",
    "agg_df = df.merge(agg, on=\"cabin\")\n",
    "\n",
    "agg_df.head() # Display this new Dataframe"
   ]
  }
 ],
 "metadata": {
  "kernelspec": {
   "display_name": "Python 3 (ipykernel)",
   "language": "python",
   "name": "python3"
  },
  "language_info": {
   "codemirror_mode": {
    "name": "ipython",
    "version": 3
   },
   "file_extension": ".py",
   "mimetype": "text/x-python",
   "name": "python",
   "nbconvert_exporter": "python",
   "pygments_lexer": "ipython3",
   "version": "3.11.7"
  }
 },
 "nbformat": 4,
 "nbformat_minor": 5
}
